{
 "cells": [
  {
   "cell_type": "code",
   "execution_count": 29,
   "metadata": {},
   "outputs": [],
   "source": [
    "import gym\n",
    "import numpy as np \n",
    "import matplotlib.pyplot as plt\n",
    "import time\n",
    "import random\n",
    "from collections import deque\n",
    "import tensorflow as tf\n",
    "from tqdm import tqdm \n",
    "from tensorflow.keras import Sequential \n",
    "from tensorflow.keras.activations import relu, linear\n",
    "from tensorflow.keras.layers import Dense\n",
    "from tensorflow.keras.optimizers import RMSprop\n",
    "import math\n",
    "from tensorflow.keras.optimizers import Adam\n",
    "from tqdm import trange"
   ]
  },
  {
   "cell_type": "code",
   "execution_count": 30,
   "metadata": {},
   "outputs": [],
   "source": [
    "env = gym.make('LunarLander-v2',\n",
    "    continuous= False,\n",
    "    gravity = -10.0,\n",
    "    enable_wind = True,\n",
    "    wind_power = 5.0,\n",
    "    turbulence_power= 0.5,)\n"
   ]
  },
  {
   "cell_type": "code",
   "execution_count": 31,
   "metadata": {},
   "outputs": [
    {
     "data": {
      "text/plain": [
       "(8,)"
      ]
     },
     "execution_count": 31,
     "metadata": {},
     "output_type": "execute_result"
    }
   ],
   "source": [
    "env.action_space.n\n",
    "env.observation_space.shape"
   ]
  },
  {
   "cell_type": "code",
   "execution_count": 32,
   "metadata": {},
   "outputs": [],
   "source": [
    "\n",
    "GAMMA = 0.99\n",
    "LEARNING_RATE = 2.5e-4\n",
    "\n",
    "MEMORY_SIZE = 1000000\n",
    "BATCH_SIZE = 64\n",
    "\n",
    "EPSILON_MAX = 1.0\n",
    "EPSILON_MIN = 0.01\n",
    "EXPLORATION_DECAY = 0.995"
   ]
  },
  {
   "cell_type": "code",
   "execution_count": 33,
   "metadata": {},
   "outputs": [],
   "source": [
    "state_space=8\n",
    "obs_space=5\n",
    "action_space=4\n",
    "intermediate_dim=16"
   ]
  },
  {
   "cell_type": "code",
   "execution_count": 34,
   "metadata": {},
   "outputs": [],
   "source": [
    "class QModel:\n",
    "    def __init__(self, input_dim, output_dim, lr):\n",
    "        self.input_dim = input_dim\n",
    "        self.output_dim = output_dim\n",
    "        self.lr = lr\n",
    "        self.Qpolicy = self.create()\n",
    "        self.Qtarget = self.create() \n",
    "        self.Qtarget.set_weights(self.Qpolicy.get_weights())\n",
    "        \n",
    "    def create(self):\n",
    "        model = Sequential()\n",
    "        model.add(Dense(512, input_dim = self.input_dim, activation = 'relu'))\n",
    "        model.add(Dense(256, activation = 'relu'))\n",
    "        model.add(Dense(128, activation = 'relu'))\n",
    "        model.add(Dense(self.output_dim, activation = 'linear'))\n",
    "        model.compile(optimizer = RMSprop(lr = self.lr, rho = 0.95, epsilon = 0.01), loss = \"mse\", metrics = ['accuracy'])\n",
    "        return model"
   ]
  },
  {
   "cell_type": "code",
   "execution_count": 35,
   "metadata": {},
   "outputs": [],
   "source": [
    "class DQNSolver:\n",
    "    def __init__(self, state_space,action_space, decay_coe = 0.99975, \n",
    "                  memory_size = 10_000,  C = 5):\n",
    "        \n",
    "        #self.env = gym.make('CartPole-v0')\n",
    "\n",
    "        self.states = state_space\n",
    "        self.n_actions = action_space\n",
    "        \n",
    "        self.actions = [i for i in range(self.n_actions)]\n",
    "        \n",
    "        self.lr = LEARNING_RATE\n",
    "        self.gamma = GAMMA\n",
    "        self.epsilon = EPSILON_MAX\n",
    "        self.decay_coe = decay_coe\n",
    "        self.min_eps = EPSILON_MIN\n",
    "        #self.episodes = episodes\n",
    "        self.batch_size = BATCH_SIZE\n",
    "        self.memory = deque(maxlen = memory_size) # replay memory \n",
    "        \n",
    "        self.terminal_state = False # end of the episode\n",
    "        self.target_counter = 0 \n",
    "        \n",
    "        # Plot data\n",
    "        #self.timestep = self.episodes / 10\n",
    "\n",
    "        \n",
    "        \n",
    "        \n",
    "        self.model = QModel(self.states, self.n_actions, self.lr)\n",
    "        # Smooth epsilon \n",
    "        # self.a = 0.35\n",
    "        # self.b = 0.1\n",
    "        # self.c = 0.01\n",
    "        \n",
    "    def state_shape(self,states):\n",
    "        states = np.array(states)\n",
    "        \n",
    "        return states.reshape(-1,*states.shape)\n",
    "    def update_target_model(self):\n",
    "        \"\"\"\n",
    "        Updates the current target_q_net with the q_net which brings all the\n",
    "        training in the q_net to the target_q_net.\n",
    "        :return: None\n",
    "        \"\"\"\n",
    "        self.model.Qtarget.set_weights(self.model.Qpolicy.get_weights())\n",
    "    def decrement_epsilon(self):\n",
    "        '''\n",
    "        if self.epsilon > self.min_eps:\n",
    "            self.epsilon *= self.decay_coe\n",
    "        else:\n",
    "            self.epsilon = self.min_eps\n",
    "        '''\n",
    "        # s_time = (time - self.a*self.episodes) / (self.b*self.episodes) \n",
    "        # cosh = np.cosh(math.exp(-s_time))\n",
    "        # self.epsilon = 1 - (1/cosh + (time*self.c/self.episodes))\n",
    "        if self.epsilon>self.min_eps:\n",
    "            self.epsilon*=0.98\n",
    "        else:\n",
    "            self.epsilon=self.min_eps\n",
    "    def forget(self):\n",
    "        self.memory.clear()\n",
    "\n",
    "    def remember(self, s, a, r, s_, done):\n",
    "        self.memory.append([self.state_shape(s), a, r, self.state_shape(s_), done])\n",
    "        \n",
    "    def act(self, states):\n",
    "        if np.random.random() > (1 - self.epsilon):\n",
    "            action = np.random.choice(self.actions)\n",
    "        else:\n",
    "            states = self.state_shape(states)\n",
    "            action = np.argmax(self.model.Qpolicy.predict(states))\n",
    "            \n",
    "        return action\n",
    "            \n",
    "    def minibatch(self):\n",
    "        return random.sample(self.memory, self.batch_size)\n",
    "    \n",
    "\n",
    "        #plt.savefig(r'RL/loss - e{}v2.png'.format(episode), dpi = 500)\n",
    "        \n",
    "    def train(self):\n",
    "        # X - states passed to the NN, y - target\n",
    "        \n",
    "        X, y = [], []\n",
    "        \n",
    "        if len(self.memory) >= self.batch_size: \n",
    "            SARS = self.minibatch()\n",
    "        \n",
    "            s = self.state_shape([row[0] for row in SARS])\n",
    "            qvalue = self.model.Qpolicy.predict(s)[0]\n",
    "            #print(qvalue)\n",
    "\n",
    "            s_ = self.state_shape([row[3] for row in SARS])\n",
    "            future_qvalue = self.model.Qtarget.predict(s_)[0]\n",
    "\n",
    "            for index, (state, action, reward, state_, done) in enumerate(SARS):\n",
    "                if done == True:\n",
    "                    Qtarget = reward\n",
    "                else:\n",
    "                    Qtarget = reward + self.gamma * np.max(future_qvalue[index])\n",
    "            \n",
    "                qcurr = qvalue[index][0]\n",
    "                #print(qcurr)\n",
    "                qcurr[int(action)] = Qtarget                \n",
    "                X.append(state)\n",
    "                y.append(qcurr)\n",
    "                \n",
    "            X, y = np.array(X).reshape(1,self.batch_size,1,self.states), np.array(y).reshape(1,self.batch_size, 1, self.n_actions)\n",
    "                                        \n",
    "            loss = self.model.Qpolicy.fit(X, y, batch_size = self.batch_size, shuffle = False, verbose = 0)\n",
    "            #self.history.append(loss.history['loss'][0])\n",
    "            \n",
    "                \n",
    "            # if self.terminal_state:\n",
    "            #     self.target_counter+=1\n",
    "\n",
    "            # # C -> target network update frequency\n",
    "            # if self.target_counter > self.C: \n",
    "            #     self.model.Qtarget.set_weights(self.model.Qpolicy.get_weights())\n",
    "            #     self.target_counter = 0 \n",
    "\n",
    "                \n",
    "  "
   ]
  },
  {
   "cell_type": "code",
   "execution_count": 36,
   "metadata": {},
   "outputs": [
    {
     "name": "stderr",
     "output_type": "stream",
     "text": [
      "c:\\Users\\prati\\AppData\\Local\\Programs\\Python\\Python39\\lib\\site-packages\\tensorflow\\python\\keras\\optimizer_v2\\optimizer_v2.py:374: UserWarning: The `lr` argument is deprecated, use `learning_rate` instead.\n",
      "  warnings.warn(\n"
     ]
    }
   ],
   "source": [
    "dqn_solver=DQNSolver(state_space=state_space,action_space=action_space)\n"
   ]
  },
  {
   "cell_type": "code",
   "execution_count": 37,
   "metadata": {},
   "outputs": [],
   "source": [
    "scores=[]\n",
    "no_train=[]\n"
   ]
  },
  {
   "cell_type": "code",
   "execution_count": 54,
   "metadata": {},
   "outputs": [
    {
     "name": "stdout",
     "output_type": "stream",
     "text": [
      "[ 5.7125092e-04  1.4035593e+00  5.7806902e-02 -3.2714674e-01\n",
      " -6.2538241e-04 -1.2513550e-02  0.0000000e+00  0.0000000e+00]\n"
     ]
    }
   ],
   "source": [
    "s=env.reset()\n",
    "s=s[0]\n",
    "print(s)"
   ]
  },
  {
   "cell_type": "code",
   "execution_count": 55,
   "metadata": {},
   "outputs": [
    {
     "name": "stdout",
     "output_type": "stream",
     "text": [
      "[0.0005712509, 1.4035593, -0.0006253824, 0.0, 0.0]\n"
     ]
    }
   ],
   "source": [
    "s=[s[0],s[1],s[4],s[6],s[7]]\n",
    "print(s)"
   ]
  },
  {
   "cell_type": "code",
   "execution_count": 39,
   "metadata": {},
   "outputs": [],
   "source": [
    "#dqn_solver.memory[0]"
   ]
  },
  {
   "cell_type": "code",
   "execution_count": 40,
   "metadata": {},
   "outputs": [],
   "source": [
    "#qn_solver.state_shape(dqn_solver.memory[0][0])"
   ]
  },
  {
   "cell_type": "code",
   "execution_count": 41,
   "metadata": {},
   "outputs": [],
   "source": [
    "def training(dqn_solver,n_episodes=500,maxt=1000):\n",
    "    \"\"\"Deep Q-Learning.\n",
    "    \n",
    "    Params\n",
    "    ======\n",
    "        n_episodes (int): maximum number of training episodes\n",
    "        max_t (int): maximum number of timesteps per episode\n",
    "        eps_start (float): starting value of epsilon, for epsilon-greedy action selection\n",
    "        eps_end (float): minimum value of epsilon\n",
    "        eps_decay (float): multiplicative factor (per episode) for decreasing epsilon\n",
    "    \"\"\"\n",
    "     # last 100 scores\n",
    "    trains=0\n",
    "    for i_episode in range(1, n_episodes+1):\n",
    "        state = env.reset()\n",
    "        state=state[0]\n",
    "        score = 0\n",
    "\n",
    "        done=False\n",
    "\n",
    "        for t in tqdm(range(maxt),leave=False,desc=str(i_episode)):\n",
    "            action = dqn_solver.act(state)\n",
    "            next_state, reward, done, _,_ = env.step(action)\n",
    "            \n",
    "            dqn_solver.remember(state,action,reward,next_state,done)\n",
    "\n",
    "            dqn_solver.train()\n",
    "            trains+=1\n",
    "            state = next_state\n",
    "            score += reward\n",
    "            if done:\n",
    "                break\n",
    "            \n",
    "        dqn_solver.decrement_epsilon()\n",
    "        scores.append(score)\n",
    "        no_train.append(trains)             # save most recent score\n",
    "        if(i_episode%5==0):\n",
    "            dqn_solver.update_target_model()\n",
    "        if(i_episode%20==0):\n",
    "            print('\\rEpisode {}\\tScore: {:.2f}'.format(i_episode, score, end=\"\"))\n",
    "\n",
    "\n"
   ]
  },
  {
   "cell_type": "code",
   "execution_count": 42,
   "metadata": {},
   "outputs": [
    {
     "name": "stderr",
     "output_type": "stream",
     "text": [
      "1:   0%|          | 0/1000 [00:00<?, ?it/s]"
     ]
    },
    {
     "name": "stdout",
     "output_type": "stream",
     "text": [
      "WARNING:tensorflow:Model was constructed with shape (None, 8) for input KerasTensor(type_spec=TensorSpec(shape=(None, 8), dtype=tf.float32, name='dense_16_input'), name='dense_16_input', description=\"created by layer 'dense_16_input'\"), but it was called on an input with incompatible shape (None, 64, 1, 8).\n",
      "WARNING:tensorflow:Model was constructed with shape (None, 8) for input KerasTensor(type_spec=TensorSpec(shape=(None, 8), dtype=tf.float32, name='dense_20_input'), name='dense_20_input', description=\"created by layer 'dense_20_input'\"), but it was called on an input with incompatible shape (None, 64, 1, 8).\n",
      "WARNING:tensorflow:Model was constructed with shape (None, 8) for input KerasTensor(type_spec=TensorSpec(shape=(None, 8), dtype=tf.float32, name='dense_16_input'), name='dense_16_input', description=\"created by layer 'dense_16_input'\"), but it was called on an input with incompatible shape (None, 64, 1, 8).\n",
      "WARNING:tensorflow:Model was constructed with shape (None, 8) for input KerasTensor(type_spec=TensorSpec(shape=(None, 8), dtype=tf.float32, name='dense_16_input'), name='dense_16_input', description=\"created by layer 'dense_16_input'\"), but it was called on an input with incompatible shape (None, 64, 1, 8).\n"
     ]
    },
    {
     "name": "stderr",
     "output_type": "stream",
     "text": [
      "                                                      \r"
     ]
    },
    {
     "name": "stdout",
     "output_type": "stream",
     "text": [
      "Episode 20\tScore: -43.58\n"
     ]
    },
    {
     "name": "stderr",
     "output_type": "stream",
     "text": [
      "                                                      \r"
     ]
    },
    {
     "name": "stdout",
     "output_type": "stream",
     "text": [
      "Episode 40\tScore: -64.26\n"
     ]
    },
    {
     "name": "stderr",
     "output_type": "stream",
     "text": [
      "                                                      \r"
     ]
    },
    {
     "name": "stdout",
     "output_type": "stream",
     "text": [
      "Episode 60\tScore: -71.43\n"
     ]
    },
    {
     "name": "stderr",
     "output_type": "stream",
     "text": [
      "                                                       \r"
     ]
    },
    {
     "name": "stdout",
     "output_type": "stream",
     "text": [
      "Episode 80\tScore: -83.60\n"
     ]
    },
    {
     "name": "stderr",
     "output_type": "stream",
     "text": [
      "                                                        \r"
     ]
    },
    {
     "name": "stdout",
     "output_type": "stream",
     "text": [
      "Episode 100\tScore: -141.53\n"
     ]
    },
    {
     "name": "stderr",
     "output_type": "stream",
     "text": [
      "                                                        \r"
     ]
    },
    {
     "name": "stdout",
     "output_type": "stream",
     "text": [
      "Episode 120\tScore: -93.60\n"
     ]
    },
    {
     "name": "stderr",
     "output_type": "stream",
     "text": [
      "                                                        \r"
     ]
    },
    {
     "name": "stdout",
     "output_type": "stream",
     "text": [
      "Episode 140\tScore: -54.42\n"
     ]
    },
    {
     "name": "stderr",
     "output_type": "stream",
     "text": [
      "                                                        \r"
     ]
    },
    {
     "name": "stdout",
     "output_type": "stream",
     "text": [
      "Episode 160\tScore: -16.41\n"
     ]
    },
    {
     "name": "stderr",
     "output_type": "stream",
     "text": [
      "                                                        \r"
     ]
    },
    {
     "name": "stdout",
     "output_type": "stream",
     "text": [
      "Episode 180\tScore: -182.84\n"
     ]
    },
    {
     "name": "stderr",
     "output_type": "stream",
     "text": [
      "                                                        \r"
     ]
    },
    {
     "name": "stdout",
     "output_type": "stream",
     "text": [
      "Episode 200\tScore: 39.63\n"
     ]
    },
    {
     "name": "stderr",
     "output_type": "stream",
     "text": [
      "                                                        \r"
     ]
    },
    {
     "name": "stdout",
     "output_type": "stream",
     "text": [
      "Episode 220\tScore: -49.28\n"
     ]
    },
    {
     "name": "stderr",
     "output_type": "stream",
     "text": [
      "                                                        \r"
     ]
    },
    {
     "name": "stdout",
     "output_type": "stream",
     "text": [
      "Episode 240\tScore: -48.25\n"
     ]
    },
    {
     "name": "stderr",
     "output_type": "stream",
     "text": [
      "                                                        \r"
     ]
    },
    {
     "name": "stdout",
     "output_type": "stream",
     "text": [
      "Episode 260\tScore: -17.44\n"
     ]
    },
    {
     "name": "stderr",
     "output_type": "stream",
     "text": [
      "                                                        \r"
     ]
    },
    {
     "name": "stdout",
     "output_type": "stream",
     "text": [
      "Episode 280\tScore: 11.43\n"
     ]
    },
    {
     "name": "stderr",
     "output_type": "stream",
     "text": [
      "                                                        \r"
     ]
    },
    {
     "name": "stdout",
     "output_type": "stream",
     "text": [
      "Episode 300\tScore: -37.98\n"
     ]
    },
    {
     "name": "stderr",
     "output_type": "stream",
     "text": [
      "                                                        \r"
     ]
    },
    {
     "name": "stdout",
     "output_type": "stream",
     "text": [
      "Episode 320\tScore: -76.61\n"
     ]
    },
    {
     "name": "stderr",
     "output_type": "stream",
     "text": [
      "                                                         \r"
     ]
    },
    {
     "name": "stdout",
     "output_type": "stream",
     "text": [
      "Episode 340\tScore: -67.18\n"
     ]
    },
    {
     "name": "stderr",
     "output_type": "stream",
     "text": [
      "                                                        \r"
     ]
    },
    {
     "name": "stdout",
     "output_type": "stream",
     "text": [
      "Episode 360\tScore: -23.08\n"
     ]
    },
    {
     "name": "stderr",
     "output_type": "stream",
     "text": [
      "                                                        \r"
     ]
    },
    {
     "name": "stdout",
     "output_type": "stream",
     "text": [
      "Episode 380\tScore: -440.39\n"
     ]
    },
    {
     "name": "stderr",
     "output_type": "stream",
     "text": [
      "                                                        \r"
     ]
    },
    {
     "name": "stdout",
     "output_type": "stream",
     "text": [
      "Episode 400\tScore: -205.83\n"
     ]
    },
    {
     "name": "stderr",
     "output_type": "stream",
     "text": [
      "                                                        \r"
     ]
    },
    {
     "name": "stdout",
     "output_type": "stream",
     "text": [
      "Episode 420\tScore: 49.17\n"
     ]
    },
    {
     "name": "stderr",
     "output_type": "stream",
     "text": [
      "                                                        \r"
     ]
    },
    {
     "name": "stdout",
     "output_type": "stream",
     "text": [
      "Episode 440\tScore: -154.25\n"
     ]
    },
    {
     "name": "stderr",
     "output_type": "stream",
     "text": [
      "                                                        \r"
     ]
    },
    {
     "name": "stdout",
     "output_type": "stream",
     "text": [
      "Episode 460\tScore: 222.60\n"
     ]
    },
    {
     "name": "stderr",
     "output_type": "stream",
     "text": [
      "                                                        \r"
     ]
    },
    {
     "name": "stdout",
     "output_type": "stream",
     "text": [
      "Episode 480\tScore: -113.19\n"
     ]
    },
    {
     "name": "stderr",
     "output_type": "stream",
     "text": [
      "                                                        \r"
     ]
    },
    {
     "name": "stdout",
     "output_type": "stream",
     "text": [
      "Episode 500\tScore: -59.69\n"
     ]
    }
   ],
   "source": [
    "training(dqn_solver)"
   ]
  },
  {
   "cell_type": "code",
   "execution_count": 43,
   "metadata": {},
   "outputs": [
    {
     "data": {
      "text/plain": [
       "[-117.16491758107878,\n",
       " -94.00792156961505,\n",
       " -349.8875928427799,\n",
       " -105.79953325319104,\n",
       " -37.8150446188593,\n",
       " -83.22943970863122,\n",
       " -183.5430474958121,\n",
       " -487.99632842129313,\n",
       " -276.13218108617906,\n",
       " -149.82144139757162,\n",
       " -103.85356071826979,\n",
       " -118.07914674875434,\n",
       " -53.4779237955767,\n",
       " -174.7710340314282,\n",
       " -163.9956147847547,\n",
       " -94.31152816323022,\n",
       " -164.96325779348223,\n",
       " -131.74632548243855,\n",
       " -296.99635094122254,\n",
       " -43.58019547263649,\n",
       " -81.39730139103966,\n",
       " -355.6603849210881,\n",
       " -115.28216724629918,\n",
       " -91.88202507403753,\n",
       " -99.74617548277374,\n",
       " -53.95493239542719,\n",
       " -235.2876977567688,\n",
       " -67.42851912042364,\n",
       " -120.58964128287963,\n",
       " -45.46284412699568,\n",
       " -148.5418681364656,\n",
       " -207.3200687985068,\n",
       " -235.4985886005959,\n",
       " -103.1694830785535,\n",
       " -100.58188522477364,\n",
       " -80.08740782921659,\n",
       " -27.4440087762988,\n",
       " -117.52550264441143,\n",
       " -129.63365594329397,\n",
       " -64.26003463361411,\n",
       " -215.82688640939182,\n",
       " -75.54748857387484,\n",
       " -91.87525862228586,\n",
       " -245.05465690491744,\n",
       " -132.72028901842629,\n",
       " -122.50390417770349,\n",
       " -91.3060038207044,\n",
       " -86.03896301863519,\n",
       " 35.14742486983275,\n",
       " -16.377966324256235,\n",
       " -130.36909545100605,\n",
       " -132.8612048150148,\n",
       " -3.2797271688267244,\n",
       " -29.337700837239325,\n",
       " -70.76617385066407,\n",
       " -191.0214017981441,\n",
       " -119.57989103758815,\n",
       " -339.34309790003107,\n",
       " -208.01337415467077,\n",
       " -71.42923123248244,\n",
       " -120.85222758077224,\n",
       " -373.186141342515,\n",
       " -204.22260108634913,\n",
       " -5.288948714292104,\n",
       " -172.9002578414898,\n",
       " -123.88029641319855,\n",
       " -97.6015903805401,\n",
       " -172.58482349399017,\n",
       " -272.63257685606493,\n",
       " -83.29012977039099,\n",
       " -196.9843187414567,\n",
       " -154.4556354358223,\n",
       " -173.87476736507423,\n",
       " -15.05189708742722,\n",
       " -18.836222029815445,\n",
       " -33.16594119564372,\n",
       " 52.78824363676637,\n",
       " -84.65448798999215,\n",
       " -39.08785708580614,\n",
       " -83.5969312185165,\n",
       " -140.27106436336908,\n",
       " -152.8501441255124,\n",
       " -6.425463254996074,\n",
       " -62.425665931807615,\n",
       " -115.3990641327846,\n",
       " -102.52105806873193,\n",
       " -34.45924271015867,\n",
       " -71.51860372682155,\n",
       " -96.7689181986704,\n",
       " -129.12406409206605,\n",
       " -149.6974828416834,\n",
       " -131.81663614920086,\n",
       " 34.39794844420054,\n",
       " -73.50393203364136,\n",
       " -16.332278150855444,\n",
       " -64.3265054026286,\n",
       " -125.10528714595891,\n",
       " 16.5111257279692,\n",
       " -218.73767318344989,\n",
       " -141.53037074231617,\n",
       " 183.2264288321324,\n",
       " -80.98352089358862,\n",
       " -109.46631364768585,\n",
       " -136.50143529558315,\n",
       " -107.27443279622352,\n",
       " -81.13544262524371,\n",
       " -73.4181101152702,\n",
       " -141.19633846511067,\n",
       " -152.5943797990451,\n",
       " -83.12893280222579,\n",
       " -136.0568260427086,\n",
       " -253.38661603341436,\n",
       " -92.23123771885594,\n",
       " -196.2661976122145,\n",
       " -21.81132483686547,\n",
       " -175.23908252177142,\n",
       " -178.7343954783706,\n",
       " -85.88500111014162,\n",
       " -121.52040531681482,\n",
       " -93.59844156787669,\n",
       " -113.05492116555132,\n",
       " -140.99606702039043,\n",
       " -5.119192082257367,\n",
       " -3.2771719072094436,\n",
       " -23.111985993981996,\n",
       " -109.09222383144107,\n",
       " -95.6252621408992,\n",
       " -76.69631077398843,\n",
       " -186.99093863078406,\n",
       " -48.24386554027779,\n",
       " -76.70783086689717,\n",
       " -63.719573037868415,\n",
       " -50.85564382690223,\n",
       " -17.815462210664393,\n",
       " -87.51452981417482,\n",
       " -159.07896530849578,\n",
       " -45.831079675368,\n",
       " -165.79302208487877,\n",
       " -144.49658730337947,\n",
       " -54.42209410687955,\n",
       " 5.343680093534178,\n",
       " -62.069550392083144,\n",
       " -90.03596323088142,\n",
       " -122.37983260788337,\n",
       " -120.05395534790674,\n",
       " -48.40684026519685,\n",
       " -123.18571785097873,\n",
       " -94.01916693266287,\n",
       " -108.69077199522667,\n",
       " -101.13261809450624,\n",
       " -105.87639039753226,\n",
       " -115.74550726896584,\n",
       " -292.0550487046622,\n",
       " -346.1191290980116,\n",
       " -30.175604360985204,\n",
       " -291.8333542105006,\n",
       " -113.05126508026696,\n",
       " -67.49124145692763,\n",
       " -97.85421750678,\n",
       " -16.41379147796367,\n",
       " -41.19646835907174,\n",
       " -110.88659729066023,\n",
       " -165.72687351994915,\n",
       " -5.506466788183676,\n",
       " -3.3682340588739406,\n",
       " -30.471823185832886,\n",
       " -87.60543691970274,\n",
       " -69.3168547403063,\n",
       " -95.08477018628484,\n",
       " -48.40814940065856,\n",
       " -211.1083115521817,\n",
       " -58.20853710291983,\n",
       " -25.546115727801634,\n",
       " 1.143704751731115,\n",
       " -57.07510282414374,\n",
       " -79.53309615751245,\n",
       " -104.34362095917908,\n",
       " -35.791563538783734,\n",
       " -19.698914783752674,\n",
       " -182.8444169738698,\n",
       " 25.89434822459612,\n",
       " -68.21879795732018,\n",
       " 15.06982883596258,\n",
       " -64.21589711440517,\n",
       " -73.54564744496224,\n",
       " -70.405788639828,\n",
       " -35.23119770779333,\n",
       " -83.31667134977278,\n",
       " -40.46313642659587,\n",
       " -42.06856710321266,\n",
       " -127.02116460839487,\n",
       " -47.131340646106956,\n",
       " -70.1241782274134,\n",
       " -88.82667008679425,\n",
       " -21.62875240400288,\n",
       " -6.753234542735029,\n",
       " -502.5877228566717,\n",
       " -67.67101272417193,\n",
       " 98.26024004303044,\n",
       " 39.62711941454958,\n",
       " -101.39268331504461,\n",
       " -88.63576562707397,\n",
       " -35.59869673915169,\n",
       " -70.34686322930033,\n",
       " -83.90807590393499,\n",
       " -88.1843838956846,\n",
       " 84.09041719260232,\n",
       " -57.34742654286289,\n",
       " -84.55308848066878,\n",
       " -85.30592583715033,\n",
       " -72.20417009953775,\n",
       " -347.86816985917017,\n",
       " -38.130777321264034,\n",
       " 90.11251895583231,\n",
       " -77.8035458477224,\n",
       " -97.62825238725904,\n",
       " -94.5774843832913,\n",
       " -44.216103373786204,\n",
       " -68.01124994936431,\n",
       " -49.278025775901284,\n",
       " -69.68086213001281,\n",
       " -62.39123923788064,\n",
       " -76.72788171046822,\n",
       " -67.47948178627627,\n",
       " -38.02112956342863,\n",
       " -93.89199472623808,\n",
       " -108.93252646284951,\n",
       " -46.424266670765405,\n",
       " -109.68270567156783,\n",
       " -51.60909588521469,\n",
       " -18.065863316215324,\n",
       " -83.96520231421259,\n",
       " -0.007354284789636623,\n",
       " -22.735518217985966,\n",
       " -72.87592047992571,\n",
       " -56.20015070350665,\n",
       " -6.916063472948351,\n",
       " -81.5723758152146,\n",
       " -105.290941615442,\n",
       " -48.25359644467212,\n",
       " -34.582113616936475,\n",
       " -260.2739731220313,\n",
       " -95.39662407905531,\n",
       " -116.74747011777383,\n",
       " -85.56717290362168,\n",
       " -30.62713889872367,\n",
       " -97.69406589704658,\n",
       " -37.18451294429491,\n",
       " -73.86005303753569,\n",
       " -15.61663035669775,\n",
       " -164.7096375328531,\n",
       " -24.279846792276093,\n",
       " -132.98892095253524,\n",
       " -19.099258962150863,\n",
       " -28.495067823958703,\n",
       " -66.32876601520297,\n",
       " 12.471193093217732,\n",
       " -16.068063661278508,\n",
       " -10.81861626827976,\n",
       " -17.43993488387843,\n",
       " -34.80816167205562,\n",
       " -47.52766297406349,\n",
       " -64.82817365626349,\n",
       " -124.48444351680129,\n",
       " -55.62316073244534,\n",
       " -22.603076540560924,\n",
       " -48.82025996450388,\n",
       " 9.242938202879124,\n",
       " 45.18866526363428,\n",
       " -18.03192099763579,\n",
       " -44.166213951731535,\n",
       " 6.321166827926852,\n",
       " -65.37679829406376,\n",
       " 3.0759642731144607,\n",
       " 12.319474147587048,\n",
       " -122.25841932733617,\n",
       " 22.520291809486892,\n",
       " 23.917561815068957,\n",
       " -35.97952137187292,\n",
       " 11.431532715396266,\n",
       " -59.54596948778047,\n",
       " -92.61955715059614,\n",
       " -105.17938321354043,\n",
       " -153.14649079205267,\n",
       " 10.123077094375972,\n",
       " -67.45159765686454,\n",
       " 10.266010883065434,\n",
       " -113.72781954190368,\n",
       " -10.368511983952345,\n",
       " -26.71361490236501,\n",
       " -80.39525183694415,\n",
       " -137.18413174147034,\n",
       " -4.795735069479036,\n",
       " -106.79616318760701,\n",
       " -144.0802957270285,\n",
       " -40.865953221694035,\n",
       " -45.78414127642546,\n",
       " -121.9423569095938,\n",
       " -85.16649698599562,\n",
       " -37.977095306860214,\n",
       " 15.666019149558242,\n",
       " -106.40472705460654,\n",
       " -12.022216512909969,\n",
       " 28.3887070681331,\n",
       " -208.86150421493744,\n",
       " -50.302279669083646,\n",
       " 9.657360057753579,\n",
       " -61.43038766900301,\n",
       " -288.0511193286758,\n",
       " 31.907707037972113,\n",
       " 19.704910123394697,\n",
       " -7.3163498964822935,\n",
       " 25.599805347765084,\n",
       " -55.41161373491023,\n",
       " -6.386441503594156,\n",
       " -5.076643997928098,\n",
       " -23.041143575445897,\n",
       " 1.1517552380851626,\n",
       " -78.16284963444188,\n",
       " -76.60977295807554,\n",
       " 52.99341274187606,\n",
       " -11.876751494812792,\n",
       " -61.98890227530241,\n",
       " -59.72193322223838,\n",
       " 7.890925505264136,\n",
       " -4.338361398233204,\n",
       " -50.930479058000756,\n",
       " -24.74916787787592,\n",
       " -34.88668354813586,\n",
       " -15.109539828663372,\n",
       " -46.270458089769434,\n",
       " 18.56150502153482,\n",
       " 220.11844028070075,\n",
       " -26.819302624721857,\n",
       " -55.58184888116071,\n",
       " 11.403656388702643,\n",
       " 227.24415129035444,\n",
       " -86.86729252514577,\n",
       " -43.2169686151353,\n",
       " -67.17973129510834,\n",
       " 201.4178396414594,\n",
       " 16.844091258553092,\n",
       " -2.5713789224355112,\n",
       " 183.80421089755683,\n",
       " 42.53628362802266,\n",
       " -0.7673199508346329,\n",
       " -19.3688007182124,\n",
       " -17.120218138903127,\n",
       " -44.73559147789555,\n",
       " 221.54727973379633,\n",
       " 258.83417054266204,\n",
       " 187.7698157371406,\n",
       " -9.584537527748457,\n",
       " -197.9501947411024,\n",
       " -48.104034333868704,\n",
       " -41.38814185275804,\n",
       " 78.79374666583716,\n",
       " -42.358050714173764,\n",
       " -31.04301809315883,\n",
       " -23.078301377079725,\n",
       " 47.36959684782619,\n",
       " 263.8313860690533,\n",
       " 17.195735074106295,\n",
       " -13.152481730461457,\n",
       " -7.849855891990913,\n",
       " -6.918734191060618,\n",
       " -26.433787343704523,\n",
       " 235.86109352001588,\n",
       " 42.97787569207546,\n",
       " -13.485475581084966,\n",
       " -20.66249539204231,\n",
       " -3.1707008977907227,\n",
       " -40.53118407567422,\n",
       " 9.650635092054486,\n",
       " -11.169858475916142,\n",
       " 31.828464240876748,\n",
       " -27.567103418197647,\n",
       " 205.56865667377886,\n",
       " -254.01522639417948,\n",
       " -440.3930891498446,\n",
       " -7.854367969363906,\n",
       " 20.565687628385717,\n",
       " 28.71226393766605,\n",
       " -35.67536262883194,\n",
       " -16.149286945789896,\n",
       " 0.04829556209409702,\n",
       " -9.043596885352699,\n",
       " 12.95985038053017,\n",
       " 145.1028291278372,\n",
       " 142.26970484499648,\n",
       " -70.35115378022797,\n",
       " -32.93656173050871,\n",
       " -66.10918412909399,\n",
       " -46.1064394191199,\n",
       " 220.06370117502703,\n",
       " -54.77412284010061,\n",
       " -227.53551085841377,\n",
       " 29.760520096378627,\n",
       " 186.57373740322078,\n",
       " -205.8328775247586,\n",
       " 250.1614912943819,\n",
       " 214.01610019349056,\n",
       " 186.90817549911657,\n",
       " -6.793884413190051,\n",
       " 221.91015303808757,\n",
       " -43.875021834370855,\n",
       " 148.97173252622508,\n",
       " 6.200690936657743,\n",
       " 154.23215926382426,\n",
       " 153.7997494556607,\n",
       " -18.76580954093787,\n",
       " 171.26110520587477,\n",
       " 205.02865116982565,\n",
       " 214.08629425538294,\n",
       " -48.82471224416801,\n",
       " 74.05415645571986,\n",
       " -35.88564906169232,\n",
       " 177.02728198368538,\n",
       " 211.77741348701088,\n",
       " 49.16715876590815,\n",
       " 187.60284960428942,\n",
       " 231.3812369842222,\n",
       " 201.5205572235738,\n",
       " 131.72803830305693,\n",
       " 247.63672938639942,\n",
       " 284.4568850635514,\n",
       " -8.698953448076878,\n",
       " 16.340001307842996,\n",
       " 201.2757062013422,\n",
       " 237.16749106538694,\n",
       " 254.56342033368625,\n",
       " 284.6694392833788,\n",
       " -3.614074588836293,\n",
       " 27.526171875729688,\n",
       " 154.21837500326438,\n",
       " 200.02165569306118,\n",
       " 221.2797274656259,\n",
       " 6.464524255900699,\n",
       " -11.545995554914029,\n",
       " -154.25265017966925,\n",
       " 255.5205382990404,\n",
       " 178.94450807414137,\n",
       " 12.872728471611794,\n",
       " -15.127597577482915,\n",
       " 189.63879654386977,\n",
       " -46.43105173134572,\n",
       " -49.1152821116981,\n",
       " 216.461811648859,\n",
       " 153.26704783992128,\n",
       " 162.5927456353886,\n",
       " 98.97288744727267,\n",
       " 54.27033529615409,\n",
       " -19.880875378487595,\n",
       " 252.2118571495462,\n",
       " 243.38023569761833,\n",
       " -110.58489269843363,\n",
       " 252.62935828094777,\n",
       " -108.74581816352722,\n",
       " 258.36958157908725,\n",
       " 222.59523781125313,\n",
       " -44.59376631956336,\n",
       " -65.24061421685919,\n",
       " 172.6939487712184,\n",
       " 175.60802946111954,\n",
       " 193.95913954021688,\n",
       " 193.004212112169,\n",
       " -153.1249885109852,\n",
       " 256.1317906197929,\n",
       " 256.28041059637854,\n",
       " 181.50553322226725,\n",
       " 164.02402410622602,\n",
       " 222.10912132089092,\n",
       " 301.7015898518885,\n",
       " 193.97106498005525,\n",
       " 223.9822181894795,\n",
       " 271.06163757209754,\n",
       " 78.74213175528385,\n",
       " -64.66432326440462,\n",
       " 86.1348967510057,\n",
       " -113.19304006432625,\n",
       " 258.33318681178037,\n",
       " 237.7903102845004,\n",
       " 164.08292618776645,\n",
       " 238.09744869719322,\n",
       " 261.42001529468985,\n",
       " 121.05753590518492,\n",
       " 282.4665226065295,\n",
       " 95.50489916457916,\n",
       " 269.3039122440013,\n",
       " -295.23976001116364,\n",
       " 237.94747179350674,\n",
       " 254.18894838650274,\n",
       " 93.05182545620652,\n",
       " -104.42883012276297,\n",
       " -114.6674908166624,\n",
       " 237.2242288682354,\n",
       " 208.1210045865885,\n",
       " 257.5324098694108,\n",
       " 132.30343910320806,\n",
       " -59.68777782353605]"
      ]
     },
     "execution_count": 43,
     "metadata": {},
     "output_type": "execute_result"
    }
   ],
   "source": [
    "scores"
   ]
  },
  {
   "cell_type": "code",
   "execution_count": 44,
   "metadata": {},
   "outputs": [],
   "source": [
    "import pandas as pd\n",
    "df=pd.DataFrame(scores)\n",
    "df.columns=['scores']\n",
    "df.to_csv('rewards_only_dqn_normal_lunar_2.csv')"
   ]
  },
  {
   "cell_type": "code",
   "execution_count": 45,
   "metadata": {},
   "outputs": [
    {
     "data": {
      "text/html": [
       "<div>\n",
       "<style scoped>\n",
       "    .dataframe tbody tr th:only-of-type {\n",
       "        vertical-align: middle;\n",
       "    }\n",
       "\n",
       "    .dataframe tbody tr th {\n",
       "        vertical-align: top;\n",
       "    }\n",
       "\n",
       "    .dataframe thead th {\n",
       "        text-align: right;\n",
       "    }\n",
       "</style>\n",
       "<table border=\"1\" class=\"dataframe\">\n",
       "  <thead>\n",
       "    <tr style=\"text-align: right;\">\n",
       "      <th></th>\n",
       "      <th>scores</th>\n",
       "    </tr>\n",
       "  </thead>\n",
       "  <tbody>\n",
       "    <tr>\n",
       "      <th>0</th>\n",
       "      <td>-117.164918</td>\n",
       "    </tr>\n",
       "    <tr>\n",
       "      <th>1</th>\n",
       "      <td>-94.007922</td>\n",
       "    </tr>\n",
       "    <tr>\n",
       "      <th>2</th>\n",
       "      <td>-349.887593</td>\n",
       "    </tr>\n",
       "    <tr>\n",
       "      <th>3</th>\n",
       "      <td>-105.799533</td>\n",
       "    </tr>\n",
       "    <tr>\n",
       "      <th>4</th>\n",
       "      <td>-37.815045</td>\n",
       "    </tr>\n",
       "    <tr>\n",
       "      <th>...</th>\n",
       "      <td>...</td>\n",
       "    </tr>\n",
       "    <tr>\n",
       "      <th>495</th>\n",
       "      <td>237.224229</td>\n",
       "    </tr>\n",
       "    <tr>\n",
       "      <th>496</th>\n",
       "      <td>208.121005</td>\n",
       "    </tr>\n",
       "    <tr>\n",
       "      <th>497</th>\n",
       "      <td>257.532410</td>\n",
       "    </tr>\n",
       "    <tr>\n",
       "      <th>498</th>\n",
       "      <td>132.303439</td>\n",
       "    </tr>\n",
       "    <tr>\n",
       "      <th>499</th>\n",
       "      <td>-59.687778</td>\n",
       "    </tr>\n",
       "  </tbody>\n",
       "</table>\n",
       "<p>500 rows × 1 columns</p>\n",
       "</div>"
      ],
      "text/plain": [
       "         scores\n",
       "0   -117.164918\n",
       "1    -94.007922\n",
       "2   -349.887593\n",
       "3   -105.799533\n",
       "4    -37.815045\n",
       "..          ...\n",
       "495  237.224229\n",
       "496  208.121005\n",
       "497  257.532410\n",
       "498  132.303439\n",
       "499  -59.687778\n",
       "\n",
       "[500 rows x 1 columns]"
      ]
     },
     "execution_count": 45,
     "metadata": {},
     "output_type": "execute_result"
    }
   ],
   "source": [
    "df"
   ]
  },
  {
   "cell_type": "code",
   "execution_count": 46,
   "metadata": {},
   "outputs": [
    {
     "data": {
      "text/plain": [
       "[<matplotlib.lines.Line2D at 0x2040d1019a0>]"
      ]
     },
     "execution_count": 46,
     "metadata": {},
     "output_type": "execute_result"
    },
    {
     "data": {
      "image/png": "[encoded data removed]",
      "text/plain": [
       "<Figure size 432x288 with 1 Axes>"
      ]
     },
     "metadata": {
      "needs_background": "light"
     },
     "output_type": "display_data"
    }
   ],
   "source": [
    "import matplotlib.pyplot as plt\n",
    "plt.plot(no_train,scores)"
   ]
  },
  {
   "cell_type": "code",
   "execution_count": 47,
   "metadata": {},
   "outputs": [
    {
     "data": {
      "text/plain": [
       "[<matplotlib.lines.Line2D at 0x20379e10bb0>]"
      ]
     },
     "execution_count": 47,
     "metadata": {},
     "output_type": "execute_result"
    },
    {
     "data": {
      "image/png": "[encoded data removed]",
      "text/plain": [
       "<Figure size 432x288 with 1 Axes>"
      ]
     },
     "metadata": {
      "needs_background": "light"
     },
     "output_type": "display_data"
    }
   ],
   "source": [
    "plt.plot(no_train[0:40])"
   ]
  },
  {
   "cell_type": "code",
   "execution_count": 48,
   "metadata": {},
   "outputs": [],
   "source": [
    "ls=[]\n",
    "for x in scores:\n",
    "    if x>0:\n",
    "        ls.append(x)\n",
    "    else:\n",
    "        ls.append(0.0)"
   ]
  },
  {
   "cell_type": "code",
   "execution_count": 49,
   "metadata": {},
   "outputs": [],
   "source": [
    "df['positive']=ls\n",
    "df['moving_avg']=df.scores.rolling(100,min_periods=1).mean()"
   ]
  },
  {
   "cell_type": "code",
   "execution_count": 50,
   "metadata": {},
   "outputs": [
    {
     "data": {
      "text/plain": [
       "[<matplotlib.lines.Line2D at 0x2040dc26370>]"
      ]
     },
     "execution_count": 50,
     "metadata": {},
     "output_type": "execute_result"
    },
    {
     "data": {
      "image/png": "[encoded data removed]",
      "text/plain": [
       "<Figure size 1440x720 with 1 Axes>"
      ]
     },
     "metadata": {
      "needs_background": "light"
     },
     "output_type": "display_data"
    }
   ],
   "source": [
    "plt.rcParams['figure.figsize']=[20,10]\n",
    "\n",
    "plt.plot(df['moving_avg'])"
   ]
  },
  {
   "cell_type": "code",
   "execution_count": 52,
   "metadata": {},
   "outputs": [
    {
     "data": {
      "text/plain": [
       "[<matplotlib.lines.Line2D at 0x20377deb9a0>]"
      ]
     },
     "execution_count": 52,
     "metadata": {},
     "output_type": "execute_result"
    },
    {
     "data": {
      "image/png": "[encoded data removed]",
      "text/plain": [
       "<Figure size 1440x720 with 1 Axes>"
      ]
     },
     "metadata": {
      "needs_background": "light"
     },
     "output_type": "display_data"
    }
   ],
   "source": [
    "plt.plot(no_train,df['moving_avg'])"
   ]
  },
  {
   "cell_type": "code",
   "execution_count": null,
   "metadata": {},
   "outputs": [],
   "source": []
  }
 ],
 "metadata": {
  "kernelspec": {
   "display_name": "Python 3",
   "language": "python",
   "name": "python3"
  },
  "language_info": {
   "codemirror_mode": {
    "name": "ipython",
    "version": 3
   },
   "file_extension": ".py",
   "mimetype": "text/x-python",
   "name": "python",
   "nbconvert_exporter": "python",
   "pygments_lexer": "ipython3",
   "version": "3.9.6"
  },
  "orig_nbformat": 4,
  "vscode": {
   "interpreter": {
    "hash": "0ef4eba0bef179de2f7a9543a17afda401074cec081dd552282a874e9ff31d3f"
   }
  }
 },
 "nbformat": 4,
 "nbformat_minor": 2
}
