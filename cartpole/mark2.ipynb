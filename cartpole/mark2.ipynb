{
 "cells": [
  {
   "cell_type": "code",
   "execution_count": 3,
   "metadata": {},
   "outputs": [
    {
     "name": "stderr",
     "output_type": "stream",
     "text": [
      "c:\\Users\\prati\\AppData\\Local\\Programs\\Python\\Python39\\lib\\site-packages\\tensorflow\\python\\framework\\dtypes.py:221: DeprecationWarning: `np.bool8` is a deprecated alias for `np.bool_`.  (Deprecated NumPy 1.24)\n",
      "  np.bool8: (False, True),\n",
      "c:\\Users\\prati\\AppData\\Local\\Programs\\Python\\Python39\\lib\\site-packages\\tensorflow\\python\\framework\\dtypes.py:511: FutureWarning: In the future `np.object` will be defined as the corresponding NumPy scalar.  (This may have returned Python scalars in past versions.\n",
      "  np.object,\n"
     ]
    },
    {
     "ename": "AttributeError",
     "evalue": "module 'numpy' has no attribute 'object'",
     "output_type": "error",
     "traceback": [
      "\u001b[1;31m---------------------------------------------------------------------------\u001b[0m",
      "\u001b[1;31mAttributeError\u001b[0m                            Traceback (most recent call last)",
      "\u001b[1;32m~\\AppData\\Local\\Temp/ipykernel_1724/109303324.py\u001b[0m in \u001b[0;36m<module>\u001b[1;34m\u001b[0m\n\u001b[0;32m      4\u001b[0m \u001b[1;32mfrom\u001b[0m \u001b[0mpopgym\u001b[0m\u001b[1;33m.\u001b[0m\u001b[0menvs\u001b[0m\u001b[1;33m.\u001b[0m\u001b[0mstateless_cartpole\u001b[0m \u001b[1;32mimport\u001b[0m \u001b[0mStatelessCartPole\u001b[0m\u001b[1;33m\u001b[0m\u001b[1;33m\u001b[0m\u001b[0m\n\u001b[0;32m      5\u001b[0m \u001b[1;32mfrom\u001b[0m \u001b[0mcollections\u001b[0m \u001b[1;32mimport\u001b[0m \u001b[0mdeque\u001b[0m\u001b[1;33m\u001b[0m\u001b[1;33m\u001b[0m\u001b[0m\n\u001b[1;32m----> 6\u001b[1;33m \u001b[1;32mfrom\u001b[0m \u001b[0mtensorflow\u001b[0m\u001b[1;33m.\u001b[0m\u001b[0mkeras\u001b[0m\u001b[1;33m.\u001b[0m\u001b[0mmodels\u001b[0m \u001b[1;32mimport\u001b[0m \u001b[0mSequential\u001b[0m\u001b[1;33m\u001b[0m\u001b[1;33m\u001b[0m\u001b[0m\n\u001b[0m\u001b[0;32m      7\u001b[0m \u001b[1;32mfrom\u001b[0m \u001b[0mtensorflow\u001b[0m\u001b[1;33m.\u001b[0m\u001b[0mkeras\u001b[0m\u001b[1;33m.\u001b[0m\u001b[0mlayers\u001b[0m \u001b[1;32mimport\u001b[0m \u001b[0mDense\u001b[0m\u001b[1;33m\u001b[0m\u001b[1;33m\u001b[0m\u001b[0m\n\u001b[0;32m      8\u001b[0m \u001b[1;32mfrom\u001b[0m \u001b[0mtensorflow\u001b[0m\u001b[1;33m.\u001b[0m\u001b[0mkeras\u001b[0m\u001b[1;33m.\u001b[0m\u001b[0moptimizers\u001b[0m \u001b[1;32mimport\u001b[0m \u001b[0mAdam\u001b[0m\u001b[1;33m\u001b[0m\u001b[1;33m\u001b[0m\u001b[0m\n",
      "\u001b[1;32mc:\\Users\\prati\\AppData\\Local\\Programs\\Python\\Python39\\lib\\site-packages\\tensorflow\\__init__.py\u001b[0m in \u001b[0;36m<module>\u001b[1;34m\u001b[0m\n\u001b[0;32m     39\u001b[0m \u001b[1;32mimport\u001b[0m \u001b[0msys\u001b[0m \u001b[1;32mas\u001b[0m \u001b[0m_sys\u001b[0m\u001b[1;33m\u001b[0m\u001b[1;33m\u001b[0m\u001b[0m\n\u001b[0;32m     40\u001b[0m \u001b[1;33m\u001b[0m\u001b[0m\n\u001b[1;32m---> 41\u001b[1;33m \u001b[1;32mfrom\u001b[0m \u001b[0mtensorflow\u001b[0m\u001b[1;33m.\u001b[0m\u001b[0mpython\u001b[0m\u001b[1;33m.\u001b[0m\u001b[0mtools\u001b[0m \u001b[1;32mimport\u001b[0m \u001b[0mmodule_util\u001b[0m \u001b[1;32mas\u001b[0m \u001b[0m_module_util\u001b[0m\u001b[1;33m\u001b[0m\u001b[1;33m\u001b[0m\u001b[0m\n\u001b[0m\u001b[0;32m     42\u001b[0m \u001b[1;32mfrom\u001b[0m \u001b[0mtensorflow\u001b[0m\u001b[1;33m.\u001b[0m\u001b[0mpython\u001b[0m\u001b[1;33m.\u001b[0m\u001b[0mutil\u001b[0m\u001b[1;33m.\u001b[0m\u001b[0mlazy_loader\u001b[0m \u001b[1;32mimport\u001b[0m \u001b[0mLazyLoader\u001b[0m \u001b[1;32mas\u001b[0m \u001b[0m_LazyLoader\u001b[0m\u001b[1;33m\u001b[0m\u001b[1;33m\u001b[0m\u001b[0m\n\u001b[0;32m     43\u001b[0m \u001b[1;33m\u001b[0m\u001b[0m\n",
      "\u001b[1;32mc:\\Users\\prati\\AppData\\Local\\Programs\\Python\\Python39\\lib\\site-packages\\tensorflow\\python\\__init__.py\u001b[0m in \u001b[0;36m<module>\u001b[1;34m\u001b[0m\n\u001b[0;32m     44\u001b[0m \u001b[1;33m\u001b[0m\u001b[0m\n\u001b[0;32m     45\u001b[0m \u001b[1;31m# Bring in subpackages.\u001b[0m\u001b[1;33m\u001b[0m\u001b[1;33m\u001b[0m\u001b[1;33m\u001b[0m\u001b[0m\n\u001b[1;32m---> 46\u001b[1;33m \u001b[1;32mfrom\u001b[0m \u001b[0mtensorflow\u001b[0m\u001b[1;33m.\u001b[0m\u001b[0mpython\u001b[0m \u001b[1;32mimport\u001b[0m \u001b[0mdata\u001b[0m\u001b[1;33m\u001b[0m\u001b[1;33m\u001b[0m\u001b[0m\n\u001b[0m\u001b[0;32m     47\u001b[0m \u001b[1;32mfrom\u001b[0m \u001b[0mtensorflow\u001b[0m\u001b[1;33m.\u001b[0m\u001b[0mpython\u001b[0m \u001b[1;32mimport\u001b[0m \u001b[0mdistribute\u001b[0m\u001b[1;33m\u001b[0m\u001b[1;33m\u001b[0m\u001b[0m\n\u001b[0;32m     48\u001b[0m \u001b[1;32mfrom\u001b[0m \u001b[0mtensorflow\u001b[0m\u001b[1;33m.\u001b[0m\u001b[0mpython\u001b[0m \u001b[1;32mimport\u001b[0m \u001b[0mkeras\u001b[0m\u001b[1;33m\u001b[0m\u001b[1;33m\u001b[0m\u001b[0m\n",
      "\u001b[1;32mc:\\Users\\prati\\AppData\\Local\\Programs\\Python\\Python39\\lib\\site-packages\\tensorflow\\python\\data\\__init__.py\u001b[0m in \u001b[0;36m<module>\u001b[1;34m\u001b[0m\n\u001b[0;32m     23\u001b[0m \u001b[1;33m\u001b[0m\u001b[0m\n\u001b[0;32m     24\u001b[0m \u001b[1;31m# pylint: disable=unused-import\u001b[0m\u001b[1;33m\u001b[0m\u001b[1;33m\u001b[0m\u001b[1;33m\u001b[0m\u001b[0m\n\u001b[1;32m---> 25\u001b[1;33m \u001b[1;32mfrom\u001b[0m \u001b[0mtensorflow\u001b[0m\u001b[1;33m.\u001b[0m\u001b[0mpython\u001b[0m\u001b[1;33m.\u001b[0m\u001b[0mdata\u001b[0m \u001b[1;32mimport\u001b[0m \u001b[0mexperimental\u001b[0m\u001b[1;33m\u001b[0m\u001b[1;33m\u001b[0m\u001b[0m\n\u001b[0m\u001b[0;32m     26\u001b[0m \u001b[1;32mfrom\u001b[0m \u001b[0mtensorflow\u001b[0m\u001b[1;33m.\u001b[0m\u001b[0mpython\u001b[0m\u001b[1;33m.\u001b[0m\u001b[0mdata\u001b[0m\u001b[1;33m.\u001b[0m\u001b[0mops\u001b[0m\u001b[1;33m.\u001b[0m\u001b[0mdataset_ops\u001b[0m \u001b[1;32mimport\u001b[0m \u001b[0mAUTOTUNE\u001b[0m\u001b[1;33m\u001b[0m\u001b[1;33m\u001b[0m\u001b[0m\n\u001b[0;32m     27\u001b[0m \u001b[1;32mfrom\u001b[0m \u001b[0mtensorflow\u001b[0m\u001b[1;33m.\u001b[0m\u001b[0mpython\u001b[0m\u001b[1;33m.\u001b[0m\u001b[0mdata\u001b[0m\u001b[1;33m.\u001b[0m\u001b[0mops\u001b[0m\u001b[1;33m.\u001b[0m\u001b[0mdataset_ops\u001b[0m \u001b[1;32mimport\u001b[0m \u001b[0mDataset\u001b[0m\u001b[1;33m\u001b[0m\u001b[1;33m\u001b[0m\u001b[0m\n",
      "\u001b[1;32mc:\\Users\\prati\\AppData\\Local\\Programs\\Python\\Python39\\lib\\site-packages\\tensorflow\\python\\data\\experimental\\__init__.py\u001b[0m in \u001b[0;36m<module>\u001b[1;34m\u001b[0m\n\u001b[0;32m     97\u001b[0m \u001b[1;33m\u001b[0m\u001b[0m\n\u001b[0;32m     98\u001b[0m \u001b[1;31m# pylint: disable=unused-import\u001b[0m\u001b[1;33m\u001b[0m\u001b[1;33m\u001b[0m\u001b[1;33m\u001b[0m\u001b[0m\n\u001b[1;32m---> 99\u001b[1;33m \u001b[1;32mfrom\u001b[0m \u001b[0mtensorflow\u001b[0m\u001b[1;33m.\u001b[0m\u001b[0mpython\u001b[0m\u001b[1;33m.\u001b[0m\u001b[0mdata\u001b[0m\u001b[1;33m.\u001b[0m\u001b[0mexperimental\u001b[0m \u001b[1;32mimport\u001b[0m \u001b[0mservice\u001b[0m\u001b[1;33m\u001b[0m\u001b[1;33m\u001b[0m\u001b[0m\n\u001b[0m\u001b[0;32m    100\u001b[0m \u001b[1;32mfrom\u001b[0m \u001b[0mtensorflow\u001b[0m\u001b[1;33m.\u001b[0m\u001b[0mpython\u001b[0m\u001b[1;33m.\u001b[0m\u001b[0mdata\u001b[0m\u001b[1;33m.\u001b[0m\u001b[0mexperimental\u001b[0m\u001b[1;33m.\u001b[0m\u001b[0mops\u001b[0m\u001b[1;33m.\u001b[0m\u001b[0mbatching\u001b[0m \u001b[1;32mimport\u001b[0m \u001b[0mdense_to_ragged_batch\u001b[0m\u001b[1;33m\u001b[0m\u001b[1;33m\u001b[0m\u001b[0m\n\u001b[0;32m    101\u001b[0m \u001b[1;32mfrom\u001b[0m \u001b[0mtensorflow\u001b[0m\u001b[1;33m.\u001b[0m\u001b[0mpython\u001b[0m\u001b[1;33m.\u001b[0m\u001b[0mdata\u001b[0m\u001b[1;33m.\u001b[0m\u001b[0mexperimental\u001b[0m\u001b[1;33m.\u001b[0m\u001b[0mops\u001b[0m\u001b[1;33m.\u001b[0m\u001b[0mbatching\u001b[0m \u001b[1;32mimport\u001b[0m \u001b[0mdense_to_sparse_batch\u001b[0m\u001b[1;33m\u001b[0m\u001b[1;33m\u001b[0m\u001b[0m\n",
      "\u001b[1;32mc:\\Users\\prati\\AppData\\Local\\Programs\\Python\\Python39\\lib\\site-packages\\tensorflow\\python\\data\\experimental\\service\\__init__.py\u001b[0m in \u001b[0;36m<module>\u001b[1;34m\u001b[0m\n\u001b[0;32m    138\u001b[0m \u001b[1;32mfrom\u001b[0m \u001b[0m__future__\u001b[0m \u001b[1;32mimport\u001b[0m \u001b[0mprint_function\u001b[0m\u001b[1;33m\u001b[0m\u001b[1;33m\u001b[0m\u001b[0m\n\u001b[0;32m    139\u001b[0m \u001b[1;33m\u001b[0m\u001b[0m\n\u001b[1;32m--> 140\u001b[1;33m \u001b[1;32mfrom\u001b[0m \u001b[0mtensorflow\u001b[0m\u001b[1;33m.\u001b[0m\u001b[0mpython\u001b[0m\u001b[1;33m.\u001b[0m\u001b[0mdata\u001b[0m\u001b[1;33m.\u001b[0m\u001b[0mexperimental\u001b[0m\u001b[1;33m.\u001b[0m\u001b[0mops\u001b[0m\u001b[1;33m.\u001b[0m\u001b[0mdata_service_ops\u001b[0m \u001b[1;32mimport\u001b[0m \u001b[0mdistribute\u001b[0m\u001b[1;33m\u001b[0m\u001b[1;33m\u001b[0m\u001b[0m\n\u001b[0m\u001b[0;32m    141\u001b[0m \u001b[1;32mfrom\u001b[0m \u001b[0mtensorflow\u001b[0m\u001b[1;33m.\u001b[0m\u001b[0mpython\u001b[0m\u001b[1;33m.\u001b[0m\u001b[0mdata\u001b[0m\u001b[1;33m.\u001b[0m\u001b[0mexperimental\u001b[0m\u001b[1;33m.\u001b[0m\u001b[0mops\u001b[0m\u001b[1;33m.\u001b[0m\u001b[0mdata_service_ops\u001b[0m \u001b[1;32mimport\u001b[0m \u001b[0mfrom_dataset_id\u001b[0m\u001b[1;33m\u001b[0m\u001b[1;33m\u001b[0m\u001b[0m\n\u001b[0;32m    142\u001b[0m \u001b[1;32mfrom\u001b[0m \u001b[0mtensorflow\u001b[0m\u001b[1;33m.\u001b[0m\u001b[0mpython\u001b[0m\u001b[1;33m.\u001b[0m\u001b[0mdata\u001b[0m\u001b[1;33m.\u001b[0m\u001b[0mexperimental\u001b[0m\u001b[1;33m.\u001b[0m\u001b[0mops\u001b[0m\u001b[1;33m.\u001b[0m\u001b[0mdata_service_ops\u001b[0m \u001b[1;32mimport\u001b[0m \u001b[0mregister_dataset\u001b[0m\u001b[1;33m\u001b[0m\u001b[1;33m\u001b[0m\u001b[0m\n",
      "\u001b[1;32mc:\\Users\\prati\\AppData\\Local\\Programs\\Python\\Python39\\lib\\site-packages\\tensorflow\\python\\data\\experimental\\ops\\data_service_ops.py\u001b[0m in \u001b[0;36m<module>\u001b[1;34m\u001b[0m\n\u001b[0;32m     23\u001b[0m \u001b[1;33m\u001b[0m\u001b[0m\n\u001b[0;32m     24\u001b[0m \u001b[1;32mfrom\u001b[0m \u001b[0mtensorflow\u001b[0m\u001b[1;33m.\u001b[0m\u001b[0mpython\u001b[0m \u001b[1;32mimport\u001b[0m \u001b[0mtf2\u001b[0m\u001b[1;33m\u001b[0m\u001b[1;33m\u001b[0m\u001b[0m\n\u001b[1;32m---> 25\u001b[1;33m \u001b[1;32mfrom\u001b[0m \u001b[0mtensorflow\u001b[0m\u001b[1;33m.\u001b[0m\u001b[0mpython\u001b[0m\u001b[1;33m.\u001b[0m\u001b[0mdata\u001b[0m\u001b[1;33m.\u001b[0m\u001b[0mexperimental\u001b[0m\u001b[1;33m.\u001b[0m\u001b[0mops\u001b[0m \u001b[1;32mimport\u001b[0m \u001b[0mcompression_ops\u001b[0m\u001b[1;33m\u001b[0m\u001b[1;33m\u001b[0m\u001b[0m\n\u001b[0m\u001b[0;32m     26\u001b[0m \u001b[1;32mfrom\u001b[0m \u001b[0mtensorflow\u001b[0m\u001b[1;33m.\u001b[0m\u001b[0mpython\u001b[0m\u001b[1;33m.\u001b[0m\u001b[0mdata\u001b[0m\u001b[1;33m.\u001b[0m\u001b[0mexperimental\u001b[0m\u001b[1;33m.\u001b[0m\u001b[0mops\u001b[0m\u001b[1;33m.\u001b[0m\u001b[0mdistribute_options\u001b[0m \u001b[1;32mimport\u001b[0m \u001b[0mAutoShardPolicy\u001b[0m\u001b[1;33m\u001b[0m\u001b[1;33m\u001b[0m\u001b[0m\n\u001b[0;32m     27\u001b[0m \u001b[1;32mfrom\u001b[0m \u001b[0mtensorflow\u001b[0m\u001b[1;33m.\u001b[0m\u001b[0mpython\u001b[0m\u001b[1;33m.\u001b[0m\u001b[0mdata\u001b[0m\u001b[1;33m.\u001b[0m\u001b[0mexperimental\u001b[0m\u001b[1;33m.\u001b[0m\u001b[0mops\u001b[0m\u001b[1;33m.\u001b[0m\u001b[0mdistribute_options\u001b[0m \u001b[1;32mimport\u001b[0m \u001b[0mExternalStatePolicy\u001b[0m\u001b[1;33m\u001b[0m\u001b[1;33m\u001b[0m\u001b[0m\n",
      "\u001b[1;32mc:\\Users\\prati\\AppData\\Local\\Programs\\Python\\Python39\\lib\\site-packages\\tensorflow\\python\\data\\experimental\\ops\\compression_ops.py\u001b[0m in \u001b[0;36m<module>\u001b[1;34m\u001b[0m\n\u001b[0;32m     18\u001b[0m \u001b[1;32mfrom\u001b[0m \u001b[0m__future__\u001b[0m \u001b[1;32mimport\u001b[0m \u001b[0mprint_function\u001b[0m\u001b[1;33m\u001b[0m\u001b[1;33m\u001b[0m\u001b[0m\n\u001b[0;32m     19\u001b[0m \u001b[1;33m\u001b[0m\u001b[0m\n\u001b[1;32m---> 20\u001b[1;33m \u001b[1;32mfrom\u001b[0m \u001b[0mtensorflow\u001b[0m\u001b[1;33m.\u001b[0m\u001b[0mpython\u001b[0m\u001b[1;33m.\u001b[0m\u001b[0mdata\u001b[0m\u001b[1;33m.\u001b[0m\u001b[0mutil\u001b[0m \u001b[1;32mimport\u001b[0m \u001b[0mstructure\u001b[0m\u001b[1;33m\u001b[0m\u001b[1;33m\u001b[0m\u001b[0m\n\u001b[0m\u001b[0;32m     21\u001b[0m \u001b[1;32mfrom\u001b[0m \u001b[0mtensorflow\u001b[0m\u001b[1;33m.\u001b[0m\u001b[0mpython\u001b[0m\u001b[1;33m.\u001b[0m\u001b[0mops\u001b[0m \u001b[1;32mimport\u001b[0m \u001b[0mgen_experimental_dataset_ops\u001b[0m \u001b[1;32mas\u001b[0m \u001b[0mged_ops\u001b[0m\u001b[1;33m\u001b[0m\u001b[1;33m\u001b[0m\u001b[0m\n\u001b[0;32m     22\u001b[0m \u001b[1;33m\u001b[0m\u001b[0m\n",
      "\u001b[1;32mc:\\Users\\prati\\AppData\\Local\\Programs\\Python\\Python39\\lib\\site-packages\\tensorflow\\python\\data\\util\\structure.py\u001b[0m in \u001b[0;36m<module>\u001b[1;34m\u001b[0m\n\u001b[0;32m     24\u001b[0m \u001b[1;32mimport\u001b[0m \u001b[0mwrapt\u001b[0m\u001b[1;33m\u001b[0m\u001b[1;33m\u001b[0m\u001b[0m\n\u001b[0;32m     25\u001b[0m \u001b[1;33m\u001b[0m\u001b[0m\n\u001b[1;32m---> 26\u001b[1;33m \u001b[1;32mfrom\u001b[0m \u001b[0mtensorflow\u001b[0m\u001b[1;33m.\u001b[0m\u001b[0mpython\u001b[0m\u001b[1;33m.\u001b[0m\u001b[0mdata\u001b[0m\u001b[1;33m.\u001b[0m\u001b[0mutil\u001b[0m \u001b[1;32mimport\u001b[0m \u001b[0mnest\u001b[0m\u001b[1;33m\u001b[0m\u001b[1;33m\u001b[0m\u001b[0m\n\u001b[0m\u001b[0;32m     27\u001b[0m \u001b[1;32mfrom\u001b[0m \u001b[0mtensorflow\u001b[0m\u001b[1;33m.\u001b[0m\u001b[0mpython\u001b[0m\u001b[1;33m.\u001b[0m\u001b[0mframework\u001b[0m \u001b[1;32mimport\u001b[0m \u001b[0mcomposite_tensor\u001b[0m\u001b[1;33m\u001b[0m\u001b[1;33m\u001b[0m\u001b[0m\n\u001b[0;32m     28\u001b[0m \u001b[1;32mfrom\u001b[0m \u001b[0mtensorflow\u001b[0m\u001b[1;33m.\u001b[0m\u001b[0mpython\u001b[0m\u001b[1;33m.\u001b[0m\u001b[0mframework\u001b[0m \u001b[1;32mimport\u001b[0m \u001b[0mops\u001b[0m\u001b[1;33m\u001b[0m\u001b[1;33m\u001b[0m\u001b[0m\n",
      "\u001b[1;32mc:\\Users\\prati\\AppData\\Local\\Programs\\Python\\Python39\\lib\\site-packages\\tensorflow\\python\\data\\util\\nest.py\u001b[0m in \u001b[0;36m<module>\u001b[1;34m\u001b[0m\n\u001b[0;32m     38\u001b[0m \u001b[1;32mimport\u001b[0m \u001b[0msix\u001b[0m \u001b[1;32mas\u001b[0m \u001b[0m_six\u001b[0m\u001b[1;33m\u001b[0m\u001b[1;33m\u001b[0m\u001b[0m\n\u001b[0;32m     39\u001b[0m \u001b[1;33m\u001b[0m\u001b[0m\n\u001b[1;32m---> 40\u001b[1;33m \u001b[1;32mfrom\u001b[0m \u001b[0mtensorflow\u001b[0m\u001b[1;33m.\u001b[0m\u001b[0mpython\u001b[0m\u001b[1;33m.\u001b[0m\u001b[0mframework\u001b[0m \u001b[1;32mimport\u001b[0m \u001b[0msparse_tensor\u001b[0m \u001b[1;32mas\u001b[0m \u001b[0m_sparse_tensor\u001b[0m\u001b[1;33m\u001b[0m\u001b[1;33m\u001b[0m\u001b[0m\n\u001b[0m\u001b[0;32m     41\u001b[0m \u001b[1;32mfrom\u001b[0m \u001b[0mtensorflow\u001b[0m\u001b[1;33m.\u001b[0m\u001b[0mpython\u001b[0m\u001b[1;33m.\u001b[0m\u001b[0mutil\u001b[0m \u001b[1;32mimport\u001b[0m \u001b[0m_pywrap_utils\u001b[0m\u001b[1;33m\u001b[0m\u001b[1;33m\u001b[0m\u001b[0m\n\u001b[0;32m     42\u001b[0m \u001b[1;32mfrom\u001b[0m \u001b[0mtensorflow\u001b[0m\u001b[1;33m.\u001b[0m\u001b[0mpython\u001b[0m\u001b[1;33m.\u001b[0m\u001b[0mutil\u001b[0m \u001b[1;32mimport\u001b[0m \u001b[0mnest\u001b[0m\u001b[1;33m\u001b[0m\u001b[1;33m\u001b[0m\u001b[0m\n",
      "\u001b[1;32mc:\\Users\\prati\\AppData\\Local\\Programs\\Python\\Python39\\lib\\site-packages\\tensorflow\\python\\framework\\sparse_tensor.py\u001b[0m in \u001b[0;36m<module>\u001b[1;34m\u001b[0m\n\u001b[0;32m     26\u001b[0m \u001b[1;32mfrom\u001b[0m \u001b[0mtensorflow\u001b[0m\u001b[1;33m.\u001b[0m\u001b[0mpython\u001b[0m \u001b[1;32mimport\u001b[0m \u001b[0mtf2\u001b[0m\u001b[1;33m\u001b[0m\u001b[1;33m\u001b[0m\u001b[0m\n\u001b[0;32m     27\u001b[0m \u001b[1;32mfrom\u001b[0m \u001b[0mtensorflow\u001b[0m\u001b[1;33m.\u001b[0m\u001b[0mpython\u001b[0m\u001b[1;33m.\u001b[0m\u001b[0mframework\u001b[0m \u001b[1;32mimport\u001b[0m \u001b[0mcomposite_tensor\u001b[0m\u001b[1;33m\u001b[0m\u001b[1;33m\u001b[0m\u001b[0m\n\u001b[1;32m---> 28\u001b[1;33m \u001b[1;32mfrom\u001b[0m \u001b[0mtensorflow\u001b[0m\u001b[1;33m.\u001b[0m\u001b[0mpython\u001b[0m\u001b[1;33m.\u001b[0m\u001b[0mframework\u001b[0m \u001b[1;32mimport\u001b[0m \u001b[0mconstant_op\u001b[0m\u001b[1;33m\u001b[0m\u001b[1;33m\u001b[0m\u001b[0m\n\u001b[0m\u001b[0;32m     29\u001b[0m \u001b[1;32mfrom\u001b[0m \u001b[0mtensorflow\u001b[0m\u001b[1;33m.\u001b[0m\u001b[0mpython\u001b[0m\u001b[1;33m.\u001b[0m\u001b[0mframework\u001b[0m \u001b[1;32mimport\u001b[0m \u001b[0mdtypes\u001b[0m\u001b[1;33m\u001b[0m\u001b[1;33m\u001b[0m\u001b[0m\n\u001b[0;32m     30\u001b[0m \u001b[1;32mfrom\u001b[0m \u001b[0mtensorflow\u001b[0m\u001b[1;33m.\u001b[0m\u001b[0mpython\u001b[0m\u001b[1;33m.\u001b[0m\u001b[0mframework\u001b[0m \u001b[1;32mimport\u001b[0m \u001b[0mops\u001b[0m\u001b[1;33m\u001b[0m\u001b[1;33m\u001b[0m\u001b[0m\n",
      "\u001b[1;32mc:\\Users\\prati\\AppData\\Local\\Programs\\Python\\Python39\\lib\\site-packages\\tensorflow\\python\\framework\\constant_op.py\u001b[0m in \u001b[0;36m<module>\u001b[1;34m\u001b[0m\n\u001b[0;32m     27\u001b[0m \u001b[1;32mfrom\u001b[0m \u001b[0mtensorflow\u001b[0m\u001b[1;33m.\u001b[0m\u001b[0mcore\u001b[0m\u001b[1;33m.\u001b[0m\u001b[0mframework\u001b[0m \u001b[1;32mimport\u001b[0m \u001b[0mtypes_pb2\u001b[0m\u001b[1;33m\u001b[0m\u001b[1;33m\u001b[0m\u001b[0m\n\u001b[0;32m     28\u001b[0m \u001b[1;32mfrom\u001b[0m \u001b[0mtensorflow\u001b[0m\u001b[1;33m.\u001b[0m\u001b[0mpython\u001b[0m\u001b[1;33m.\u001b[0m\u001b[0meager\u001b[0m \u001b[1;32mimport\u001b[0m \u001b[0mcontext\u001b[0m\u001b[1;33m\u001b[0m\u001b[1;33m\u001b[0m\u001b[0m\n\u001b[1;32m---> 29\u001b[1;33m \u001b[1;32mfrom\u001b[0m \u001b[0mtensorflow\u001b[0m\u001b[1;33m.\u001b[0m\u001b[0mpython\u001b[0m\u001b[1;33m.\u001b[0m\u001b[0meager\u001b[0m \u001b[1;32mimport\u001b[0m \u001b[0mexecute\u001b[0m\u001b[1;33m\u001b[0m\u001b[1;33m\u001b[0m\u001b[0m\n\u001b[0m\u001b[0;32m     30\u001b[0m \u001b[1;32mfrom\u001b[0m \u001b[0mtensorflow\u001b[0m\u001b[1;33m.\u001b[0m\u001b[0mpython\u001b[0m\u001b[1;33m.\u001b[0m\u001b[0mframework\u001b[0m \u001b[1;32mimport\u001b[0m \u001b[0mdtypes\u001b[0m\u001b[1;33m\u001b[0m\u001b[1;33m\u001b[0m\u001b[0m\n\u001b[0;32m     31\u001b[0m \u001b[1;32mfrom\u001b[0m \u001b[0mtensorflow\u001b[0m\u001b[1;33m.\u001b[0m\u001b[0mpython\u001b[0m\u001b[1;33m.\u001b[0m\u001b[0mframework\u001b[0m \u001b[1;32mimport\u001b[0m \u001b[0mop_callbacks\u001b[0m\u001b[1;33m\u001b[0m\u001b[1;33m\u001b[0m\u001b[0m\n",
      "\u001b[1;32mc:\\Users\\prati\\AppData\\Local\\Programs\\Python\\Python39\\lib\\site-packages\\tensorflow\\python\\eager\\execute.py\u001b[0m in \u001b[0;36m<module>\u001b[1;34m\u001b[0m\n\u001b[0;32m     25\u001b[0m \u001b[1;32mfrom\u001b[0m \u001b[0mtensorflow\u001b[0m\u001b[1;33m.\u001b[0m\u001b[0mpython\u001b[0m \u001b[1;32mimport\u001b[0m \u001b[0mpywrap_tfe\u001b[0m\u001b[1;33m\u001b[0m\u001b[1;33m\u001b[0m\u001b[0m\n\u001b[0;32m     26\u001b[0m \u001b[1;32mfrom\u001b[0m \u001b[0mtensorflow\u001b[0m\u001b[1;33m.\u001b[0m\u001b[0mpython\u001b[0m\u001b[1;33m.\u001b[0m\u001b[0meager\u001b[0m \u001b[1;32mimport\u001b[0m \u001b[0mcore\u001b[0m\u001b[1;33m\u001b[0m\u001b[1;33m\u001b[0m\u001b[0m\n\u001b[1;32m---> 27\u001b[1;33m \u001b[1;32mfrom\u001b[0m \u001b[0mtensorflow\u001b[0m\u001b[1;33m.\u001b[0m\u001b[0mpython\u001b[0m\u001b[1;33m.\u001b[0m\u001b[0mframework\u001b[0m \u001b[1;32mimport\u001b[0m \u001b[0mdtypes\u001b[0m\u001b[1;33m\u001b[0m\u001b[1;33m\u001b[0m\u001b[0m\n\u001b[0m\u001b[0;32m     28\u001b[0m \u001b[1;32mfrom\u001b[0m \u001b[0mtensorflow\u001b[0m\u001b[1;33m.\u001b[0m\u001b[0mpython\u001b[0m\u001b[1;33m.\u001b[0m\u001b[0mframework\u001b[0m \u001b[1;32mimport\u001b[0m \u001b[0mops\u001b[0m\u001b[1;33m\u001b[0m\u001b[1;33m\u001b[0m\u001b[0m\n\u001b[0;32m     29\u001b[0m \u001b[1;32mfrom\u001b[0m \u001b[0mtensorflow\u001b[0m\u001b[1;33m.\u001b[0m\u001b[0mpython\u001b[0m\u001b[1;33m.\u001b[0m\u001b[0mframework\u001b[0m \u001b[1;32mimport\u001b[0m \u001b[0mtensor_shape\u001b[0m\u001b[1;33m\u001b[0m\u001b[1;33m\u001b[0m\u001b[0m\n",
      "\u001b[1;32mc:\\Users\\prati\\AppData\\Local\\Programs\\Python\\Python39\\lib\\site-packages\\tensorflow\\python\\framework\\dtypes.py\u001b[0m in \u001b[0;36m<module>\u001b[1;34m\u001b[0m\n\u001b[0;32m    509\u001b[0m     \u001b[1;31m# strings.\u001b[0m\u001b[1;33m\u001b[0m\u001b[1;33m\u001b[0m\u001b[1;33m\u001b[0m\u001b[0m\n\u001b[0;32m    510\u001b[0m     \u001b[0mtypes_pb2\u001b[0m\u001b[1;33m.\u001b[0m\u001b[0mDT_STRING\u001b[0m\u001b[1;33m:\u001b[0m\u001b[1;33m\u001b[0m\u001b[1;33m\u001b[0m\u001b[0m\n\u001b[1;32m--> 511\u001b[1;33m         \u001b[0mnp\u001b[0m\u001b[1;33m.\u001b[0m\u001b[0mobject\u001b[0m\u001b[1;33m,\u001b[0m\u001b[1;33m\u001b[0m\u001b[1;33m\u001b[0m\u001b[0m\n\u001b[0m\u001b[0;32m    512\u001b[0m     \u001b[0mtypes_pb2\u001b[0m\u001b[1;33m.\u001b[0m\u001b[0mDT_COMPLEX64\u001b[0m\u001b[1;33m:\u001b[0m\u001b[1;33m\u001b[0m\u001b[1;33m\u001b[0m\u001b[0m\n\u001b[0;32m    513\u001b[0m         \u001b[0mnp\u001b[0m\u001b[1;33m.\u001b[0m\u001b[0mcomplex64\u001b[0m\u001b[1;33m,\u001b[0m\u001b[1;33m\u001b[0m\u001b[1;33m\u001b[0m\u001b[0m\n",
      "\u001b[1;32mc:\\Users\\prati\\AppData\\Local\\Programs\\Python\\Python39\\lib\\site-packages\\numpy\\__init__.py\u001b[0m in \u001b[0;36m__getattr__\u001b[1;34m(attr)\u001b[0m\n\u001b[0;32m    282\u001b[0m             \u001b[1;32mreturn\u001b[0m \u001b[0mTester\u001b[0m\u001b[1;33m\u001b[0m\u001b[1;33m\u001b[0m\u001b[0m\n\u001b[0;32m    283\u001b[0m \u001b[1;33m\u001b[0m\u001b[0m\n\u001b[1;32m--> 284\u001b[1;33m         raise AttributeError(\"module {!r} has no attribute \"\n\u001b[0m\u001b[0;32m    285\u001b[0m                              \"{!r}\".format(__name__, attr))\n\u001b[0;32m    286\u001b[0m \u001b[1;33m\u001b[0m\u001b[0m\n",
      "\u001b[1;31mAttributeError\u001b[0m: module 'numpy' has no attribute 'object'"
     ]
    }
   ],
   "source": [
    "import gym\n",
    "import popgym\n",
    "import numpy as np\n",
    "from popgym.envs.stateless_cartpole import StatelessCartPole\n",
    "from collections import deque\n",
    "from tensorflow.keras.models import Sequential\n",
    "from tensorflow.keras.layers import Dense\n",
    "from tensorflow.keras.optimizers import Adam\n",
    "import random\n",
    "from tqdm import trange\n"
   ]
  },
  {
   "cell_type": "code",
   "execution_count": 68,
   "metadata": {},
   "outputs": [],
   "source": [
    "import tensorflow as tf\n",
    "import numpy as np\n",
    "import tqdm"
   ]
  },
  {
   "cell_type": "code",
   "execution_count": 69,
   "metadata": {},
   "outputs": [
    {
     "name": "stdout",
     "output_type": "stream",
     "text": [
      "Num GPUs: 1\n"
     ]
    }
   ],
   "source": [
    "physical_devices = tf.config.list_physical_devices('GPU')\n",
    "print(\"Num GPUs:\", len(physical_devices))"
   ]
  },
  {
   "cell_type": "code",
   "execution_count": 70,
   "metadata": {},
   "outputs": [],
   "source": [
    "GAMMA = 0.95\n",
    "LEARNING_RATE = 0.001\n",
    "\n",
    "MEMORY_SIZE = 1000000\n",
    "BATCH_SIZE = 1\n",
    "\n",
    "EXPLORATION_MAX = 1.0\n",
    "EXPLORATION_MIN = 0.01\n",
    "EXPLORATION_DECAY = 0.9"
   ]
  },
  {
   "cell_type": "code",
   "execution_count": 71,
   "metadata": {},
   "outputs": [],
   "source": [
    "state_space=4\n",
    "obs_space=2\n",
    "action_space=2\n",
    "intermediate_dim=16"
   ]
  },
  {
   "cell_type": "code",
   "execution_count": 72,
   "metadata": {},
   "outputs": [],
   "source": [
    "env=StatelessCartPole()\n"
   ]
  },
  {
   "cell_type": "code",
   "execution_count": 73,
   "metadata": {},
   "outputs": [
    {
     "name": "stdout",
     "output_type": "stream",
     "text": [
      "Discrete(2)\n",
      "2\n"
     ]
    }
   ],
   "source": [
    "print(env.action_space)\n",
    "print(env.observation_space.shape[0])"
   ]
  },
  {
   "cell_type": "code",
   "execution_count": 74,
   "metadata": {},
   "outputs": [],
   "source": [
    "class DQNSolver:\n",
    "\n",
    "    def __init__(self, state_space, action_space):\n",
    "        self.exploration_rate = EXPLORATION_MAX\n",
    "\n",
    "        self.action_space = action_space\n",
    "        self.memory = deque(maxlen=MEMORY_SIZE)\n",
    "\n",
    "        self.model = Sequential()\n",
    "        self.model.add(Dense(24, input_shape=(\n",
    "            state_space,), activation=\"relu\"))\n",
    "        self.model.add(Dense(24, activation=\"relu\"))\n",
    "        self.model.add(Dense(self.action_space, activation=\"linear\"))\n",
    "        self.model.compile(loss=\"mse\", optimizer=Adam(lr=LEARNING_RATE))\n",
    "\n",
    "    def remember(self, state, action, reward, next_state, done):\n",
    "        # if (len(self.memory) > 0):\n",
    "        #     self.memory.pop()\n",
    "        self.memory.append((state, action, reward, next_state, done))\n",
    "    \n",
    "    def forget(self):\n",
    "        self.memory.clear()\n",
    "\n",
    "    def act(self, state):\n",
    "        if np.random.rand() < self.exploration_rate:\n",
    "            return random.randrange(self.action_space)\n",
    "        q_values = self.model.predict(state)\n",
    "        return np.argmax(q_values[0])\n",
    "\n",
    "    def experience_replay(self):\n",
    "        if len(self.memory) < BATCH_SIZE:\n",
    "            return\n",
    "        batch = random.sample(self.memory, BATCH_SIZE)\n",
    "        for state, action, reward, state_next, terminal in batch:\n",
    "            q_update = reward\n",
    "            if not terminal:\n",
    "                q_update = (reward + GAMMA *\n",
    "                            np.amax(self.model.predict(state_next)[0]))\n",
    "            q_values = self.model.predict(state)\n",
    "            q_values[0][action] = q_update\n",
    "            self.model.fit(state, q_values, verbose=0)\n",
    "        self.exploration_rate *= EXPLORATION_DECAY\n",
    "        self.exploration_rate = max(EXPLORATION_MIN, self.exploration_rate)"
   ]
  },
  {
   "cell_type": "code",
   "execution_count": 75,
   "metadata": {},
   "outputs": [],
   "source": [
    "class Encoder(tf.keras.layers.Layer):\n",
    "  def __init__(self,state_space, intermediate_dim):\n",
    "    super(Encoder, self).__init__()\n",
    "    self.hidden_layer1=tf.keras.layers.Dense(\n",
    "      units=intermediate_dim,\n",
    "      activation=tf.nn.relu,\n",
    "      kernel_initializer='he_uniform'\n",
    "    )\n",
    "    self.hidden_layer2 = tf.keras.layers.Dense(\n",
    "      units=intermediate_dim,\n",
    "      activation=tf.nn.relu,\n",
    "      kernel_initializer='he_uniform'\n",
    "    )\n",
    "    self.output_layer = tf.keras.layers.Dense(\n",
    "      units=state_space,\n",
    "      activation=tf.keras.activations.linear\n",
    "    )\n",
    "    \n",
    "  def call(self, input_features):\n",
    "    activation1 = self.hidden_layer1(input_features)\n",
    "    activation2=self.hidden_layer2(activation1)\n",
    "    return self.output_layer(activation2)"
   ]
  },
  {
   "cell_type": "code",
   "execution_count": 76,
   "metadata": {},
   "outputs": [],
   "source": [
    "dqn_solver=DQNSolver(state_space, action_space)\n"
   ]
  },
  {
   "cell_type": "code",
   "execution_count": 77,
   "metadata": {},
   "outputs": [],
   "source": [
    "class Decoder(tf.keras.layers.Layer):\n",
    "  def __init__(self, intermediate_dim, obs_space):\n",
    "    super().__init__()\n",
    "    self.hidden_layer1 = tf.keras.layers.Dense(\n",
    "      units=intermediate_dim,\n",
    "      activation=tf.nn.relu,\n",
    "      kernel_initializer='he_uniform'\n",
    "    )\n",
    "    self.hidden_layer2 = tf.keras.layers.Dense(\n",
    "      units=intermediate_dim,\n",
    "      activation=tf.nn.relu,\n",
    "      kernel_initializer='he_uniform'\n",
    "    )\n",
    "    self.output_layer = tf.keras.layers.Dense(\n",
    "      units=obs_space,\n",
    "      activation=tf.keras.activations.linear\n",
    "    )\n",
    "  \n",
    "  def call(self, input_features,var):\n",
    "    activation1 = self.hidden_layer1(tf.concat((input_features,var),axis=1))\n",
    "    activation2=self.hidden_layer2(activation1)\n",
    "\n",
    "    return self.output_layer(activation2)"
   ]
  },
  {
   "cell_type": "code",
   "execution_count": 78,
   "metadata": {},
   "outputs": [],
   "source": [
    "class Autoencoder(tf.keras.Model):\n",
    "  def __init__(self, intermediate_dim, state_space,obs_space):\n",
    "    super(Autoencoder, self).__init__()\n",
    "    self.encoder = Encoder(intermediate_dim=intermediate_dim,state_space=state_space)\n",
    "    \n",
    "    self.decoder = Decoder(\n",
    "      intermediate_dim=intermediate_dim,\n",
    "      obs_space=obs_space\n",
    "    )\n",
    "    \n",
    "  \n",
    "  def call(self, input_features,var):\n",
    "    code = self.encoder(input_features)\n",
    "    #self.var=tf.Variable(var,trainable=False)\n",
    "    reconstructed = self.decoder(code,var)\n",
    "    return reconstructed\n",
    "\n",
    "\n",
    "opt = tf.optimizers.Adam(learning_rate=LEARNING_RATE)"
   ]
  },
  {
   "cell_type": "code",
   "execution_count": 79,
   "metadata": {},
   "outputs": [],
   "source": [
    "\n",
    "def loss(model,input_features, obs,var):\n",
    "  reconstruction_error = tf.reduce_mean(tf.square(tf.subtract(model(input_features,var), obs)))\n",
    "  return reconstruction_error\n",
    "  \n",
    "def train(loss, model, opt,input_features, obs,var):\n",
    "  with tf.GradientTape() as tape:\n",
    "    gradients = tape.gradient(loss(model,input_features, obs,var), model.trainable_variables)\n",
    "  gradient_variables = zip(gradients, model.trainable_variables)\n",
    "  opt.apply_gradients(gradient_variables)"
   ]
  },
  {
   "cell_type": "code",
   "execution_count": 80,
   "metadata": {},
   "outputs": [
    {
     "data": {
      "text/plain": [
       "array([ 0.02992012,  0.0229295 , -0.02333126,  0.0402755 ], dtype=float32)"
      ]
     },
     "execution_count": 80,
     "metadata": {},
     "output_type": "execute_result"
    }
   ],
   "source": [
    "obs=env.reset()\n",
    "obs"
   ]
  },
  {
   "cell_type": "code",
   "execution_count": 81,
   "metadata": {},
   "outputs": [],
   "source": [
    "autoencoder = Autoencoder(\n",
    "  intermediate_dim=intermediate_dim,\n",
    "  state_space=state_space,obs_space=obs_space\n",
    ")\n"
   ]
  },
  {
   "cell_type": "code",
   "execution_count": 82,
   "metadata": {},
   "outputs": [],
   "source": [
    "def data_collection(total_episodes,dqn_solver,autoencoder):\n",
    "\n",
    "    S_series=[]\n",
    "    S_actual_series=[]\n",
    "    O_series=[]\n",
    "    U_series=[]\n",
    "    R_series=[]\n",
    "    O_predicted_series=[]\n",
    "    Done_series=[]\n",
    "    O_series.append(np.array([[0.0,0.0]]))\n",
    "    O_predicted_series.append(np.array([[0.0,0.0]]))\n",
    "    encoder=autoencoder.encoder\n",
    "    decoder=autoencoder.decoder\n",
    "\n",
    "    ep_no=0\n",
    "    i=0\n",
    "    while(ep_no<total_episodes):\n",
    "        s0=env.reset()\n",
    "        #s0=np.reshape(s0,[1,state_space])\n",
    "        \n",
    "        step=0\n",
    "        done=False\n",
    "        while not done:\n",
    "            if(step==0):\n",
    "                s=s0\n",
    "                S_actual_series.append(s)\n",
    "            else:\n",
    "                s=encoder(tf.concat((S_series[i-1],O_series[i],U_series[i-1]),axis=1))\n",
    "                s=np.reshape(s,[1,state_space])\n",
    "                # s=s.tolist()\n",
    "                # s[0][0]=np.tanh(s[0][0])*4.8\n",
    "                # s[0][2]=np.tanh(s[0][2])*0.418\n",
    "                # s=np.array(s)\n",
    "                \n",
    "\n",
    "            s=np.reshape(s,[1,state_space])\n",
    "            S_series.append(s)\n",
    "            action=dqn_solver.act(s)\n",
    "\n",
    "            actual_state,obs, reward, done, info = env.step(int(action))\n",
    "            reward=reward*200\n",
    "            Done_series.append(done)\n",
    "            actual_state=np.reshape(actual_state,[1,state_space])\n",
    "            S_actual_series.append(actual_state)\n",
    "            action=np.array([[action]])\n",
    "            U_series.append(action)\n",
    "            obs=np.reshape(obs,[1,obs_space])\n",
    "\n",
    "            O_series.append(obs)\n",
    "            reward = reward if not done else -reward\n",
    "            R_series.append(reward)\n",
    "            # print(s.shape)\n",
    "            # print(action.shape)\n",
    "            obs_pred=decoder(s,tf.convert_to_tensor(np.array([[dqn_solver.act(s)]]),dtype=float))\n",
    "            obs_pred=np.reshape(obs_pred,[1,obs_space])\n",
    "            obs_pred=obs_pred.tolist()\n",
    "            # obs_pred[0][0]=np.tanh(obs_pred[0][0])*4.8\n",
    "            # obs_pred[0][1]=np.tanh(obs_pred[0][1])*0.418\n",
    "            obs_pred=np.array(obs_pred)\n",
    "            O_predicted_series.append(obs_pred)\n",
    "            i+=1\n",
    "            step+=1\n",
    "        ep_no+=1\n",
    "    return S_series,O_series,U_series,R_series,O_predicted_series,S_actual_series,Done_series\n"
   ]
  },
  {
   "cell_type": "code",
   "execution_count": 83,
   "metadata": {},
   "outputs": [],
   "source": [
    "def autoencoder_training(epochs,autoencoder,S_series,O_series,U_series):\n",
    "    for epoch in trange(epochs):\n",
    "        for i in range(2,len(S_series)-1):\n",
    "            train(loss,autoencoder,opt,tf.concat((S_series[i-1],O_series[i],U_series[i-1]),axis=1),O_series[i+1],U_series[i])\n",
    "\n"
   ]
  },
  {
   "cell_type": "code",
   "execution_count": 84,
   "metadata": {},
   "outputs": [],
   "source": [
    "def dqn_training(dqn_solver,epochs,S_series,U_series,R_series,Done_series):\n",
    "    dqn_solver.forget()\n",
    "    for i in range(len(S_series)-1):\n",
    "        dqn_solver.remember(S_series[i],U_series[i][0][0],R_series[i],S_series[i+1],Done_series[i])\n",
    "    for _ in trange(epochs):\n",
    "        dqn_solver.experience_replay()"
   ]
  },
  {
   "cell_type": "code",
   "execution_count": 85,
   "metadata": {},
   "outputs": [],
   "source": [
    "S_series,O_series,U_series,R_series,O_predicted_series,S_actual_series,Done_series=data_collection(10,dqn_solver,autoencoder)\n"
   ]
  },
  {
   "cell_type": "code",
   "execution_count": 86,
   "metadata": {},
   "outputs": [],
   "source": [
    "rewards_storage=[]"
   ]
  },
  {
   "cell_type": "code",
   "execution_count": 87,
   "metadata": {},
   "outputs": [],
   "source": [
    "def complete_loop(autoencoder,dqn_solver,epochs,EXPLORATION_MAX):\n",
    "    for epoch in range(epochs):\n",
    "        S_series,O_series,U_series,R_series,O_predicted_series,S_actual_series,Done_series=data_collection(100,dqn_solver,autoencoder)\n",
    "        print(\"epoch: {}, total reward: {}\".format(epoch, sum(R_series)))\n",
    "        rewards_storage.append(sum(R_series))\n",
    "        if(epoch%2==0):\n",
    "            dqn_training(dqn_solver,20,S_series,U_series,R_series,Done_series)\n",
    "            dqn_solver.exploration_rate=EXPLORATION_MAX\n",
    "            EXPLORATION_MAX*=0.9\n",
    "        else:\n",
    "            autoencoder_training(10,autoencoder,S_series,O_series,U_series)\n",
    "\n",
    "        \n",
    "        \n",
    "\n",
    "        \n"
   ]
  },
  {
   "cell_type": "code",
   "execution_count": 88,
   "metadata": {},
   "outputs": [
    {
     "name": "stdout",
     "output_type": "stream",
     "text": [
      "epoch: 0, total reward: 1935.0\n"
     ]
    },
    {
     "name": "stderr",
     "output_type": "stream",
     "text": [
      "100%|██████████| 20/20 [00:02<00:00,  8.40it/s]\n"
     ]
    },
    {
     "name": "stdout",
     "output_type": "stream",
     "text": [
      "epoch: 1, total reward: 1903.0\n"
     ]
    },
    {
     "name": "stderr",
     "output_type": "stream",
     "text": [
      "100%|██████████| 10/10 [03:13<00:00, 19.31s/it]\n"
     ]
    },
    {
     "name": "stdout",
     "output_type": "stream",
     "text": [
      "epoch: 2, total reward: 2167.0\n"
     ]
    },
    {
     "name": "stderr",
     "output_type": "stream",
     "text": [
      "100%|██████████| 20/20 [00:02<00:00,  9.29it/s]\n"
     ]
    },
    {
     "name": "stdout",
     "output_type": "stream",
     "text": [
      "epoch: 3, total reward: 2049.0\n"
     ]
    },
    {
     "name": "stderr",
     "output_type": "stream",
     "text": [
      "100%|██████████| 10/10 [03:26<00:00, 20.67s/it]\n"
     ]
    },
    {
     "name": "stdout",
     "output_type": "stream",
     "text": [
      "epoch: 4, total reward: 1959.0\n"
     ]
    },
    {
     "name": "stderr",
     "output_type": "stream",
     "text": [
      "100%|██████████| 20/20 [00:02<00:00,  9.67it/s]\n"
     ]
    },
    {
     "name": "stdout",
     "output_type": "stream",
     "text": [
      "epoch: 5, total reward: 1864.0\n"
     ]
    },
    {
     "name": "stderr",
     "output_type": "stream",
     "text": [
      "100%|██████████| 10/10 [03:08<00:00, 18.89s/it]\n"
     ]
    },
    {
     "name": "stdout",
     "output_type": "stream",
     "text": [
      "epoch: 6, total reward: 1697.0\n"
     ]
    },
    {
     "name": "stderr",
     "output_type": "stream",
     "text": [
      "100%|██████████| 20/20 [00:02<00:00,  9.75it/s]\n"
     ]
    },
    {
     "name": "stdout",
     "output_type": "stream",
     "text": [
      "epoch: 7, total reward: 1668.0\n"
     ]
    },
    {
     "name": "stderr",
     "output_type": "stream",
     "text": [
      "100%|██████████| 10/10 [02:51<00:00, 17.16s/it]\n"
     ]
    },
    {
     "name": "stdout",
     "output_type": "stream",
     "text": [
      "epoch: 8, total reward: 1653.0\n"
     ]
    },
    {
     "name": "stderr",
     "output_type": "stream",
     "text": [
      "100%|██████████| 20/20 [00:02<00:00,  9.49it/s]\n"
     ]
    },
    {
     "name": "stdout",
     "output_type": "stream",
     "text": [
      "epoch: 9, total reward: 1496.0\n"
     ]
    },
    {
     "name": "stderr",
     "output_type": "stream",
     "text": [
      "100%|██████████| 10/10 [02:36<00:00, 15.60s/it]\n"
     ]
    },
    {
     "name": "stdout",
     "output_type": "stream",
     "text": [
      "epoch: 10, total reward: 1526.0\n"
     ]
    },
    {
     "name": "stderr",
     "output_type": "stream",
     "text": [
      "100%|██████████| 20/20 [00:02<00:00,  9.20it/s]\n"
     ]
    },
    {
     "name": "stdout",
     "output_type": "stream",
     "text": [
      "epoch: 11, total reward: 1372.0\n"
     ]
    },
    {
     "name": "stderr",
     "output_type": "stream",
     "text": [
      "100%|██████████| 10/10 [02:24<00:00, 14.40s/it]\n"
     ]
    },
    {
     "name": "stdout",
     "output_type": "stream",
     "text": [
      "epoch: 12, total reward: 1307.0\n"
     ]
    },
    {
     "name": "stderr",
     "output_type": "stream",
     "text": [
      "100%|██████████| 20/20 [00:02<00:00,  9.87it/s]\n"
     ]
    },
    {
     "name": "stdout",
     "output_type": "stream",
     "text": [
      "epoch: 13, total reward: 1146.0\n"
     ]
    },
    {
     "name": "stderr",
     "output_type": "stream",
     "text": [
      "100%|██████████| 10/10 [02:03<00:00, 12.33s/it]\n"
     ]
    },
    {
     "name": "stdout",
     "output_type": "stream",
     "text": [
      "epoch: 14, total reward: 1175.0\n"
     ]
    },
    {
     "name": "stderr",
     "output_type": "stream",
     "text": [
      "100%|██████████| 20/20 [00:02<00:00,  8.74it/s]\n"
     ]
    },
    {
     "name": "stdout",
     "output_type": "stream",
     "text": [
      "epoch: 15, total reward: 1216.0\n"
     ]
    },
    {
     "name": "stderr",
     "output_type": "stream",
     "text": [
      "100%|██████████| 10/10 [02:10<00:00, 13.06s/it]\n"
     ]
    },
    {
     "name": "stdout",
     "output_type": "stream",
     "text": [
      "epoch: 16, total reward: 1174.0\n"
     ]
    },
    {
     "name": "stderr",
     "output_type": "stream",
     "text": [
      "100%|██████████| 20/20 [00:02<00:00,  9.33it/s]\n"
     ]
    },
    {
     "name": "stdout",
     "output_type": "stream",
     "text": [
      "epoch: 17, total reward: 1089.0\n"
     ]
    },
    {
     "name": "stderr",
     "output_type": "stream",
     "text": [
      "100%|██████████| 10/10 [01:58<00:00, 11.86s/it]\n"
     ]
    },
    {
     "name": "stdout",
     "output_type": "stream",
     "text": [
      "epoch: 18, total reward: 1008.0\n"
     ]
    },
    {
     "name": "stderr",
     "output_type": "stream",
     "text": [
      "100%|██████████| 20/20 [00:02<00:00,  9.15it/s]\n"
     ]
    },
    {
     "name": "stdout",
     "output_type": "stream",
     "text": [
      "epoch: 19, total reward: 987.0\n"
     ]
    },
    {
     "name": "stderr",
     "output_type": "stream",
     "text": [
      "100%|██████████| 10/10 [01:49<00:00, 10.93s/it]\n"
     ]
    },
    {
     "name": "stdout",
     "output_type": "stream",
     "text": [
      "epoch: 20, total reward: 1019.0\n"
     ]
    },
    {
     "name": "stderr",
     "output_type": "stream",
     "text": [
      "100%|██████████| 20/20 [00:02<00:00,  9.40it/s]\n"
     ]
    },
    {
     "name": "stdout",
     "output_type": "stream",
     "text": [
      "epoch: 21, total reward: 1019.0\n"
     ]
    },
    {
     "name": "stderr",
     "output_type": "stream",
     "text": [
      "100%|██████████| 10/10 [01:51<00:00, 11.17s/it]\n"
     ]
    },
    {
     "name": "stdout",
     "output_type": "stream",
     "text": [
      "epoch: 22, total reward: 906.0\n"
     ]
    },
    {
     "name": "stderr",
     "output_type": "stream",
     "text": [
      "100%|██████████| 20/20 [00:02<00:00,  9.67it/s]\n"
     ]
    },
    {
     "name": "stdout",
     "output_type": "stream",
     "text": [
      "epoch: 23, total reward: 940.0\n"
     ]
    },
    {
     "name": "stderr",
     "output_type": "stream",
     "text": [
      "100%|██████████| 10/10 [01:44<00:00, 10.46s/it]\n"
     ]
    },
    {
     "name": "stdout",
     "output_type": "stream",
     "text": [
      "epoch: 24, total reward: 970.0\n"
     ]
    },
    {
     "name": "stderr",
     "output_type": "stream",
     "text": [
      "100%|██████████| 20/20 [00:02<00:00,  8.95it/s]\n"
     ]
    },
    {
     "name": "stdout",
     "output_type": "stream",
     "text": [
      "epoch: 25, total reward: 896.0\n"
     ]
    },
    {
     "name": "stderr",
     "output_type": "stream",
     "text": [
      "100%|██████████| 10/10 [01:40<00:00, 10.06s/it]\n"
     ]
    },
    {
     "name": "stdout",
     "output_type": "stream",
     "text": [
      "epoch: 26, total reward: 874.0\n"
     ]
    },
    {
     "name": "stderr",
     "output_type": "stream",
     "text": [
      "100%|██████████| 20/20 [00:02<00:00,  9.01it/s]\n"
     ]
    },
    {
     "name": "stdout",
     "output_type": "stream",
     "text": [
      "epoch: 27, total reward: 867.0\n"
     ]
    },
    {
     "name": "stderr",
     "output_type": "stream",
     "text": [
      "100%|██████████| 10/10 [01:37<00:00,  9.77s/it]\n"
     ]
    },
    {
     "name": "stdout",
     "output_type": "stream",
     "text": [
      "epoch: 28, total reward: 860.0\n"
     ]
    },
    {
     "name": "stderr",
     "output_type": "stream",
     "text": [
      "100%|██████████| 20/20 [00:02<00:00,  8.71it/s]\n"
     ]
    },
    {
     "name": "stdout",
     "output_type": "stream",
     "text": [
      "epoch: 29, total reward: 853.0\n"
     ]
    },
    {
     "name": "stderr",
     "output_type": "stream",
     "text": [
      "100%|██████████| 10/10 [01:37<00:00,  9.72s/it]\n"
     ]
    },
    {
     "name": "stdout",
     "output_type": "stream",
     "text": [
      "epoch: 30, total reward: 878.0\n"
     ]
    },
    {
     "name": "stderr",
     "output_type": "stream",
     "text": [
      "100%|██████████| 20/20 [00:02<00:00,  9.68it/s]\n"
     ]
    },
    {
     "name": "stdout",
     "output_type": "stream",
     "text": [
      "epoch: 31, total reward: 837.0\n"
     ]
    },
    {
     "name": "stderr",
     "output_type": "stream",
     "text": [
      "100%|██████████| 10/10 [01:35<00:00,  9.51s/it]\n"
     ]
    },
    {
     "name": "stdout",
     "output_type": "stream",
     "text": [
      "epoch: 32, total reward: 831.0\n"
     ]
    },
    {
     "name": "stderr",
     "output_type": "stream",
     "text": [
      "100%|██████████| 20/20 [00:02<00:00,  9.50it/s]\n"
     ]
    },
    {
     "name": "stdout",
     "output_type": "stream",
     "text": [
      "epoch: 33, total reward: 845.0\n"
     ]
    },
    {
     "name": "stderr",
     "output_type": "stream",
     "text": [
      "100%|██████████| 10/10 [01:35<00:00,  9.58s/it]\n"
     ]
    },
    {
     "name": "stdout",
     "output_type": "stream",
     "text": [
      "epoch: 34, total reward: 859.0\n"
     ]
    },
    {
     "name": "stderr",
     "output_type": "stream",
     "text": [
      "100%|██████████| 20/20 [00:02<00:00,  9.55it/s]\n"
     ]
    },
    {
     "name": "stdout",
     "output_type": "stream",
     "text": [
      "epoch: 35, total reward: 828.0\n"
     ]
    },
    {
     "name": "stderr",
     "output_type": "stream",
     "text": [
      "100%|██████████| 10/10 [01:34<00:00,  9.41s/it]\n"
     ]
    },
    {
     "name": "stdout",
     "output_type": "stream",
     "text": [
      "epoch: 36, total reward: 838.0\n"
     ]
    },
    {
     "name": "stderr",
     "output_type": "stream",
     "text": [
      "100%|██████████| 20/20 [00:02<00:00,  9.35it/s]\n"
     ]
    },
    {
     "name": "stdout",
     "output_type": "stream",
     "text": [
      "epoch: 37, total reward: 822.0\n"
     ]
    },
    {
     "name": "stderr",
     "output_type": "stream",
     "text": [
      "100%|██████████| 10/10 [01:34<00:00,  9.40s/it]\n"
     ]
    },
    {
     "name": "stdout",
     "output_type": "stream",
     "text": [
      "epoch: 38, total reward: 821.0\n"
     ]
    },
    {
     "name": "stderr",
     "output_type": "stream",
     "text": [
      "100%|██████████| 20/20 [00:02<00:00,  9.59it/s]\n"
     ]
    },
    {
     "name": "stdout",
     "output_type": "stream",
     "text": [
      "epoch: 39, total reward: 800.0\n"
     ]
    },
    {
     "name": "stderr",
     "output_type": "stream",
     "text": [
      "100%|██████████| 10/10 [01:32<00:00,  9.21s/it]\n"
     ]
    },
    {
     "name": "stdout",
     "output_type": "stream",
     "text": [
      "epoch: 40, total reward: 825.0\n"
     ]
    },
    {
     "name": "stderr",
     "output_type": "stream",
     "text": [
      "100%|██████████| 20/20 [00:02<00:00,  8.88it/s]\n"
     ]
    },
    {
     "name": "stdout",
     "output_type": "stream",
     "text": [
      "epoch: 41, total reward: 862.0\n"
     ]
    },
    {
     "name": "stderr",
     "output_type": "stream",
     "text": [
      "100%|██████████| 10/10 [01:38<00:00,  9.82s/it]\n"
     ]
    },
    {
     "name": "stdout",
     "output_type": "stream",
     "text": [
      "epoch: 42, total reward: 1355.0\n"
     ]
    },
    {
     "name": "stderr",
     "output_type": "stream",
     "text": [
      "100%|██████████| 20/20 [00:02<00:00,  8.56it/s]\n"
     ]
    },
    {
     "name": "stdout",
     "output_type": "stream",
     "text": [
      "epoch: 43, total reward: 1018.0\n"
     ]
    },
    {
     "name": "stderr",
     "output_type": "stream",
     "text": [
      "100%|██████████| 10/10 [01:51<00:00, 11.15s/it]\n"
     ]
    },
    {
     "name": "stdout",
     "output_type": "stream",
     "text": [
      "epoch: 44, total reward: 997.0\n"
     ]
    },
    {
     "name": "stderr",
     "output_type": "stream",
     "text": [
      "100%|██████████| 20/20 [00:02<00:00,  8.81it/s]\n"
     ]
    },
    {
     "name": "stdout",
     "output_type": "stream",
     "text": [
      "epoch: 45, total reward: 792.0\n"
     ]
    },
    {
     "name": "stderr",
     "output_type": "stream",
     "text": [
      "100%|██████████| 10/10 [01:31<00:00,  9.18s/it]\n"
     ]
    },
    {
     "name": "stdout",
     "output_type": "stream",
     "text": [
      "epoch: 46, total reward: 797.0\n"
     ]
    },
    {
     "name": "stderr",
     "output_type": "stream",
     "text": [
      "100%|██████████| 20/20 [00:02<00:00,  9.81it/s]\n"
     ]
    },
    {
     "name": "stdout",
     "output_type": "stream",
     "text": [
      "epoch: 47, total reward: 1139.0\n"
     ]
    },
    {
     "name": "stderr",
     "output_type": "stream",
     "text": [
      "100%|██████████| 10/10 [02:03<00:00, 12.35s/it]\n"
     ]
    },
    {
     "name": "stdout",
     "output_type": "stream",
     "text": [
      "epoch: 48, total reward: 1002.0\n"
     ]
    },
    {
     "name": "stderr",
     "output_type": "stream",
     "text": [
      "100%|██████████| 20/20 [00:02<00:00,  9.23it/s]\n"
     ]
    },
    {
     "name": "stdout",
     "output_type": "stream",
     "text": [
      "epoch: 49, total reward: 1003.0\n"
     ]
    },
    {
     "name": "stderr",
     "output_type": "stream",
     "text": [
      "100%|██████████| 10/10 [01:54<00:00, 11.46s/it]\n"
     ]
    },
    {
     "name": "stdout",
     "output_type": "stream",
     "text": [
      "epoch: 50, total reward: 997.0\n"
     ]
    },
    {
     "name": "stderr",
     "output_type": "stream",
     "text": [
      "100%|██████████| 20/20 [00:02<00:00,  9.78it/s]\n"
     ]
    },
    {
     "name": "stdout",
     "output_type": "stream",
     "text": [
      "epoch: 51, total reward: 993.0\n"
     ]
    },
    {
     "name": "stderr",
     "output_type": "stream",
     "text": [
      "100%|██████████| 10/10 [01:50<00:00, 11.00s/it]\n"
     ]
    },
    {
     "name": "stdout",
     "output_type": "stream",
     "text": [
      "epoch: 52, total reward: 1007.0\n"
     ]
    },
    {
     "name": "stderr",
     "output_type": "stream",
     "text": [
      "100%|██████████| 20/20 [00:02<00:00,  9.38it/s]\n"
     ]
    },
    {
     "name": "stdout",
     "output_type": "stream",
     "text": [
      "epoch: 53, total reward: 988.0\n"
     ]
    },
    {
     "name": "stderr",
     "output_type": "stream",
     "text": [
      "100%|██████████| 10/10 [01:50<00:00, 11.09s/it]\n"
     ]
    },
    {
     "name": "stdout",
     "output_type": "stream",
     "text": [
      "epoch: 54, total reward: 995.0\n"
     ]
    },
    {
     "name": "stderr",
     "output_type": "stream",
     "text": [
      "100%|██████████| 20/20 [00:02<00:00,  9.41it/s]\n"
     ]
    },
    {
     "name": "stdout",
     "output_type": "stream",
     "text": [
      "epoch: 55, total reward: 996.0\n"
     ]
    },
    {
     "name": "stderr",
     "output_type": "stream",
     "text": [
      "100%|██████████| 10/10 [01:53<00:00, 11.37s/it]\n"
     ]
    },
    {
     "name": "stdout",
     "output_type": "stream",
     "text": [
      "epoch: 56, total reward: 970.0\n"
     ]
    },
    {
     "name": "stderr",
     "output_type": "stream",
     "text": [
      "100%|██████████| 20/20 [00:01<00:00, 10.28it/s]\n"
     ]
    },
    {
     "name": "stdout",
     "output_type": "stream",
     "text": [
      "epoch: 57, total reward: 980.0\n"
     ]
    },
    {
     "name": "stderr",
     "output_type": "stream",
     "text": [
      "100%|██████████| 10/10 [01:52<00:00, 11.25s/it]\n"
     ]
    },
    {
     "name": "stdout",
     "output_type": "stream",
     "text": [
      "epoch: 58, total reward: 996.0\n"
     ]
    },
    {
     "name": "stderr",
     "output_type": "stream",
     "text": [
      "100%|██████████| 20/20 [00:01<00:00, 10.81it/s]\n"
     ]
    },
    {
     "name": "stdout",
     "output_type": "stream",
     "text": [
      "epoch: 59, total reward: 974.0\n"
     ]
    },
    {
     "name": "stderr",
     "output_type": "stream",
     "text": [
      "100%|██████████| 10/10 [02:12<00:00, 13.29s/it]\n"
     ]
    },
    {
     "name": "stdout",
     "output_type": "stream",
     "text": [
      "epoch: 60, total reward: 992.0\n"
     ]
    },
    {
     "name": "stderr",
     "output_type": "stream",
     "text": [
      "100%|██████████| 20/20 [00:02<00:00,  6.82it/s]\n"
     ]
    },
    {
     "name": "stdout",
     "output_type": "stream",
     "text": [
      "epoch: 61, total reward: 984.0\n"
     ]
    },
    {
     "name": "stderr",
     "output_type": "stream",
     "text": [
      "100%|██████████| 10/10 [02:07<00:00, 12.72s/it]\n"
     ]
    },
    {
     "name": "stdout",
     "output_type": "stream",
     "text": [
      "epoch: 62, total reward: 979.0\n"
     ]
    },
    {
     "name": "stderr",
     "output_type": "stream",
     "text": [
      "100%|██████████| 20/20 [00:01<00:00, 10.62it/s]\n"
     ]
    },
    {
     "name": "stdout",
     "output_type": "stream",
     "text": [
      "epoch: 63, total reward: 952.0\n"
     ]
    },
    {
     "name": "stderr",
     "output_type": "stream",
     "text": [
      "100%|██████████| 10/10 [02:16<00:00, 13.68s/it]\n"
     ]
    },
    {
     "name": "stdout",
     "output_type": "stream",
     "text": [
      "epoch: 64, total reward: 951.0\n"
     ]
    },
    {
     "name": "stderr",
     "output_type": "stream",
     "text": [
      "100%|██████████| 20/20 [00:01<00:00, 10.44it/s]\n"
     ]
    },
    {
     "name": "stdout",
     "output_type": "stream",
     "text": [
      "epoch: 65, total reward: 985.0\n"
     ]
    },
    {
     "name": "stderr",
     "output_type": "stream",
     "text": [
      "100%|██████████| 10/10 [02:16<00:00, 13.63s/it]\n"
     ]
    },
    {
     "name": "stdout",
     "output_type": "stream",
     "text": [
      "epoch: 66, total reward: 962.0\n"
     ]
    },
    {
     "name": "stderr",
     "output_type": "stream",
     "text": [
      "100%|██████████| 20/20 [00:02<00:00,  9.68it/s]\n"
     ]
    },
    {
     "name": "stdout",
     "output_type": "stream",
     "text": [
      "epoch: 67, total reward: 970.0\n"
     ]
    },
    {
     "name": "stderr",
     "output_type": "stream",
     "text": [
      "100%|██████████| 10/10 [02:10<00:00, 13.02s/it]\n"
     ]
    },
    {
     "name": "stdout",
     "output_type": "stream",
     "text": [
      "epoch: 68, total reward: 966.0\n"
     ]
    },
    {
     "name": "stderr",
     "output_type": "stream",
     "text": [
      "100%|██████████| 20/20 [00:02<00:00,  7.02it/s]\n"
     ]
    },
    {
     "name": "stdout",
     "output_type": "stream",
     "text": [
      "epoch: 69, total reward: 983.0\n"
     ]
    },
    {
     "name": "stderr",
     "output_type": "stream",
     "text": [
      "100%|██████████| 10/10 [02:23<00:00, 14.38s/it]\n"
     ]
    },
    {
     "name": "stdout",
     "output_type": "stream",
     "text": [
      "epoch: 70, total reward: 961.0\n"
     ]
    },
    {
     "name": "stderr",
     "output_type": "stream",
     "text": [
      "100%|██████████| 20/20 [00:01<00:00, 10.08it/s]\n"
     ]
    },
    {
     "name": "stdout",
     "output_type": "stream",
     "text": [
      "epoch: 71, total reward: 972.0\n"
     ]
    },
    {
     "name": "stderr",
     "output_type": "stream",
     "text": [
      "100%|██████████| 10/10 [01:52<00:00, 11.22s/it]\n"
     ]
    },
    {
     "name": "stdout",
     "output_type": "stream",
     "text": [
      "epoch: 72, total reward: 941.0\n"
     ]
    },
    {
     "name": "stderr",
     "output_type": "stream",
     "text": [
      "100%|██████████| 20/20 [00:01<00:00, 10.09it/s]\n"
     ]
    },
    {
     "name": "stdout",
     "output_type": "stream",
     "text": [
      "epoch: 73, total reward: 949.0\n"
     ]
    },
    {
     "name": "stderr",
     "output_type": "stream",
     "text": [
      "100%|██████████| 10/10 [02:15<00:00, 13.58s/it]\n"
     ]
    },
    {
     "name": "stdout",
     "output_type": "stream",
     "text": [
      "epoch: 74, total reward: 993.0\n"
     ]
    },
    {
     "name": "stderr",
     "output_type": "stream",
     "text": [
      "100%|██████████| 20/20 [00:02<00:00,  9.50it/s]\n"
     ]
    },
    {
     "name": "stdout",
     "output_type": "stream",
     "text": [
      "epoch: 75, total reward: 1096.0\n"
     ]
    },
    {
     "name": "stderr",
     "output_type": "stream",
     "text": [
      "100%|██████████| 10/10 [02:39<00:00, 15.92s/it]\n"
     ]
    },
    {
     "name": "stdout",
     "output_type": "stream",
     "text": [
      "epoch: 76, total reward: 958.0\n"
     ]
    },
    {
     "name": "stderr",
     "output_type": "stream",
     "text": [
      "100%|██████████| 20/20 [00:01<00:00, 10.16it/s]\n"
     ]
    },
    {
     "name": "stdout",
     "output_type": "stream",
     "text": [
      "epoch: 77, total reward: 977.0\n"
     ]
    },
    {
     "name": "stderr",
     "output_type": "stream",
     "text": [
      "100%|██████████| 10/10 [01:48<00:00, 10.82s/it]\n"
     ]
    },
    {
     "name": "stdout",
     "output_type": "stream",
     "text": [
      "epoch: 78, total reward: 1008.0\n"
     ]
    },
    {
     "name": "stderr",
     "output_type": "stream",
     "text": [
      "100%|██████████| 20/20 [00:01<00:00, 10.53it/s]\n"
     ]
    },
    {
     "name": "stdout",
     "output_type": "stream",
     "text": [
      "epoch: 79, total reward: 774.0\n"
     ]
    },
    {
     "name": "stderr",
     "output_type": "stream",
     "text": [
      "100%|██████████| 10/10 [01:54<00:00, 11.47s/it]\n"
     ]
    },
    {
     "name": "stdout",
     "output_type": "stream",
     "text": [
      "epoch: 80, total reward: 745.0\n"
     ]
    },
    {
     "name": "stderr",
     "output_type": "stream",
     "text": [
      "100%|██████████| 20/20 [00:01<00:00, 10.17it/s]\n"
     ]
    },
    {
     "name": "stdout",
     "output_type": "stream",
     "text": [
      "epoch: 81, total reward: 748.0\n"
     ]
    },
    {
     "name": "stderr",
     "output_type": "stream",
     "text": [
      "100%|██████████| 10/10 [01:50<00:00, 11.02s/it]\n"
     ]
    },
    {
     "name": "stdout",
     "output_type": "stream",
     "text": [
      "epoch: 82, total reward: 734.0\n"
     ]
    },
    {
     "name": "stderr",
     "output_type": "stream",
     "text": [
      "100%|██████████| 20/20 [00:01<00:00, 10.44it/s]\n"
     ]
    },
    {
     "name": "stdout",
     "output_type": "stream",
     "text": [
      "epoch: 83, total reward: 747.0\n"
     ]
    },
    {
     "name": "stderr",
     "output_type": "stream",
     "text": [
      "100%|██████████| 10/10 [01:54<00:00, 11.44s/it]\n"
     ]
    },
    {
     "name": "stdout",
     "output_type": "stream",
     "text": [
      "epoch: 84, total reward: 754.0\n"
     ]
    },
    {
     "name": "stderr",
     "output_type": "stream",
     "text": [
      "100%|██████████| 20/20 [00:01<00:00, 11.22it/s]\n"
     ]
    },
    {
     "name": "stdout",
     "output_type": "stream",
     "text": [
      "epoch: 85, total reward: 751.0\n"
     ]
    },
    {
     "name": "stderr",
     "output_type": "stream",
     "text": [
      "100%|██████████| 10/10 [01:56<00:00, 11.66s/it]\n"
     ]
    },
    {
     "name": "stdout",
     "output_type": "stream",
     "text": [
      "epoch: 86, total reward: 733.0\n"
     ]
    },
    {
     "name": "stderr",
     "output_type": "stream",
     "text": [
      "100%|██████████| 20/20 [00:02<00:00,  7.59it/s]\n"
     ]
    },
    {
     "name": "stdout",
     "output_type": "stream",
     "text": [
      "epoch: 87, total reward: 736.0\n"
     ]
    },
    {
     "name": "stderr",
     "output_type": "stream",
     "text": [
      "100%|██████████| 10/10 [01:51<00:00, 11.18s/it]\n"
     ]
    },
    {
     "name": "stdout",
     "output_type": "stream",
     "text": [
      "epoch: 88, total reward: 750.0\n"
     ]
    },
    {
     "name": "stderr",
     "output_type": "stream",
     "text": [
      "100%|██████████| 20/20 [00:01<00:00, 10.44it/s]\n"
     ]
    },
    {
     "name": "stdout",
     "output_type": "stream",
     "text": [
      "epoch: 89, total reward: 745.0\n"
     ]
    },
    {
     "name": "stderr",
     "output_type": "stream",
     "text": [
      "100%|██████████| 10/10 [01:52<00:00, 11.28s/it]\n"
     ]
    },
    {
     "name": "stdout",
     "output_type": "stream",
     "text": [
      "epoch: 90, total reward: 739.0\n"
     ]
    },
    {
     "name": "stderr",
     "output_type": "stream",
     "text": [
      "100%|██████████| 20/20 [00:02<00:00,  9.83it/s]\n"
     ]
    },
    {
     "name": "stdout",
     "output_type": "stream",
     "text": [
      "epoch: 91, total reward: 737.0\n"
     ]
    },
    {
     "name": "stderr",
     "output_type": "stream",
     "text": [
      "100%|██████████| 10/10 [01:43<00:00, 10.37s/it]\n"
     ]
    },
    {
     "name": "stdout",
     "output_type": "stream",
     "text": [
      "epoch: 92, total reward: 737.0\n"
     ]
    },
    {
     "name": "stderr",
     "output_type": "stream",
     "text": [
      "100%|██████████| 20/20 [00:01<00:00, 10.26it/s]\n"
     ]
    },
    {
     "name": "stdout",
     "output_type": "stream",
     "text": [
      "epoch: 93, total reward: 738.0\n"
     ]
    },
    {
     "name": "stderr",
     "output_type": "stream",
     "text": [
      "100%|██████████| 10/10 [01:44<00:00, 10.49s/it]\n"
     ]
    },
    {
     "name": "stdout",
     "output_type": "stream",
     "text": [
      "epoch: 94, total reward: 728.0\n"
     ]
    },
    {
     "name": "stderr",
     "output_type": "stream",
     "text": [
      "100%|██████████| 20/20 [00:01<00:00, 10.81it/s]\n"
     ]
    },
    {
     "name": "stdout",
     "output_type": "stream",
     "text": [
      "epoch: 95, total reward: 742.0\n"
     ]
    },
    {
     "name": "stderr",
     "output_type": "stream",
     "text": [
      "100%|██████████| 10/10 [01:46<00:00, 10.64s/it]\n"
     ]
    },
    {
     "name": "stdout",
     "output_type": "stream",
     "text": [
      "epoch: 96, total reward: 747.0\n"
     ]
    },
    {
     "name": "stderr",
     "output_type": "stream",
     "text": [
      "100%|██████████| 20/20 [00:01<00:00, 10.26it/s]\n"
     ]
    },
    {
     "name": "stdout",
     "output_type": "stream",
     "text": [
      "epoch: 97, total reward: 730.0\n"
     ]
    },
    {
     "name": "stderr",
     "output_type": "stream",
     "text": [
      "100%|██████████| 10/10 [01:42<00:00, 10.29s/it]\n"
     ]
    },
    {
     "name": "stdout",
     "output_type": "stream",
     "text": [
      "epoch: 98, total reward: 738.0\n"
     ]
    },
    {
     "name": "stderr",
     "output_type": "stream",
     "text": [
      "100%|██████████| 20/20 [00:01<00:00, 10.72it/s]\n"
     ]
    },
    {
     "name": "stdout",
     "output_type": "stream",
     "text": [
      "epoch: 99, total reward: 740.0\n"
     ]
    },
    {
     "name": "stderr",
     "output_type": "stream",
     "text": [
      "100%|██████████| 10/10 [01:44<00:00, 10.45s/it]\n"
     ]
    }
   ],
   "source": [
    "complete_loop(autoencoder,dqn_solver,100,EXPLORATION_MAX=1.0)"
   ]
  },
  {
   "cell_type": "code",
   "execution_count": 89,
   "metadata": {},
   "outputs": [
    {
     "data": {
      "text/plain": [
       "[array([[-0.01548977, -0.0440152 ,  0.02847142,  0.04505366]],\n",
       "       dtype=float32),\n",
       " array([[-0.08101782, -0.01720721,  0.01235009,  0.04358248]],\n",
       "       dtype=float32),\n",
       " array([[-0.15734854,  0.0100327 ,  0.00835472,  0.0420404 ]],\n",
       "       dtype=float32),\n",
       " array([[-0.22027431,  0.0245399 ,  0.0166254 ,  0.03287911]],\n",
       "       dtype=float32),\n",
       " array([[-0.18167639, -0.09359123,  0.16739391, -0.09151803]],\n",
       "       dtype=float32),\n",
       " array([[-0.07872033,  0.00668787, -0.11239037,  0.09850095]],\n",
       "       dtype=float32),\n",
       " array([[-0.2599793 ,  0.01179108,  0.12721863, -0.01696027]],\n",
       "       dtype=float32),\n",
       " array([[-0.15510927, -0.0676048 ,  0.04112715, -0.00236333]],\n",
       "       dtype=float32),\n",
       " array([[-0.05938366,  0.00250585, -0.01052826, -0.01202909]],\n",
       "       dtype=float32),\n",
       " array([[-0.03238721, -0.01581582, -0.03324349, -0.00575809]],\n",
       "       dtype=float32),\n",
       " array([[-0.17942259,  0.04752523, -0.01490035,  0.019643  ]],\n",
       "       dtype=float32),\n",
       " array([[-0.2948555 ,  0.00128277, -0.03440407,  0.03331317]],\n",
       "       dtype=float32),\n",
       " array([[-0.21461271, -0.12145045,  0.18009487, -0.14267348]],\n",
       "       dtype=float32),\n",
       " array([[-0.2698889 , -0.02786173, -0.27821293,  0.09534638]],\n",
       "       dtype=float32),\n",
       " array([[-0.4906171 , -0.03369005,  0.3144987 , -0.12610753]],\n",
       "       dtype=float32),\n",
       " array([[-0.23758093, -0.07373519, -0.06450673,  0.08961847]],\n",
       "       dtype=float32),\n",
       " array([[-0.3525336 , -0.01200521,  0.14538695, -0.02658767]],\n",
       "       dtype=float32),\n",
       " array([[-0.21576206, -0.0889693 ,  0.01472458,  0.00171293]],\n",
       "       dtype=float32),\n",
       " array([[-0.0800779 ,  0.01141242, -0.02863723, -0.03415455]],\n",
       "       dtype=float32),\n",
       " array([[-0.26851156,  0.03616511, -0.07537328,  0.01752319]],\n",
       "       dtype=float32),\n",
       " array([[-0.18321848, -0.12839022,  0.08743464, -0.13999914]],\n",
       "       dtype=float32),\n",
       " array([[-0.3272654 , -0.01373034, -0.23032613,  0.02841911]],\n",
       "       dtype=float32),\n",
       " array([[-0.54926026, -0.06378902,  0.14267066, -0.14369425]],\n",
       "       dtype=float32),\n",
       " array([[-0.26765507, -0.08644846, -0.13596773,  0.03992119]],\n",
       "       dtype=float32),\n",
       " array([[-0.10602398, -0.03339146,  0.00482229, -0.171978  ]],\n",
       "       dtype=float32),\n",
       " array([[-0.37769535,  0.00246878, -0.30105582, -0.01165492]],\n",
       "       dtype=float32),\n",
       " array([[-0.16406515, -0.14306457, -0.00416707, -0.30048233]],\n",
       "       dtype=float32),\n",
       " array([[-0.127417  , -0.01459582, -0.1058488 ,  0.12449246]],\n",
       "       dtype=float32),\n",
       " array([[-0.31109723,  0.01261077,  0.17707227, -0.04595838]],\n",
       "       dtype=float32),\n",
       " array([[-0.20894927, -0.08118304, -0.07545562,  0.05632078]],\n",
       "       dtype=float32),\n",
       " array([[-0.08394478, -0.00802907, -0.02023   , -0.12128477]],\n",
       "       dtype=float32),\n",
       " array([[-0.05025981,  0.01366903, -0.08599722,  0.04570084]],\n",
       "       dtype=float32),\n",
       " array([[-0.26283622,  0.02493755,  0.07355741, -0.02401043]],\n",
       "       dtype=float32),\n",
       " array([[-0.37130493, -0.07312231, -0.16314167,  0.04965975]],\n",
       "       dtype=float32),\n",
       " array([[-0.16837528, -0.09157809,  0.0795339 , -0.26211637]],\n",
       "       dtype=float32),\n",
       " array([[-0.09558988, -0.01379255, -0.09810317,  0.11983352]],\n",
       "       dtype=float32),\n",
       " array([[-0.29482472, -0.01445067,  0.17793989, -0.04545602]],\n",
       "       dtype=float32),\n",
       " array([[-0.3137819 , -0.09957031, -0.20966844,  0.06633055]],\n",
       "       dtype=float32),\n",
       " array([[-0.12588067, -0.08909352,  0.04616496, -0.27951944]],\n",
       "       dtype=float32),\n",
       " array([[-0.10423881, -0.03080002, -0.05520643,  0.12250894]],\n",
       "       dtype=float32),\n",
       " array([[-0.08728753, -0.04592819,  0.05293649, -0.12622006]],\n",
       "       dtype=float32),\n",
       " array([[-0.05275295, -0.00510945, -0.01580242,  0.06285323]],\n",
       "       dtype=float32),\n",
       " array([[-0.17603813, -0.03175673,  0.07989804,  0.00145767]],\n",
       "       dtype=float32),\n",
       " array([[-0.21898195, -0.02489019,  0.00695031,  0.01831981]],\n",
       "       dtype=float32),\n",
       " array([[-0.29110724, -0.0678622 ,  0.09602097, -0.03548587]],\n",
       "       dtype=float32),\n",
       " array([[-0.28854534, -0.10717058,  0.0088626 , -0.01738153]],\n",
       "       dtype=float32),\n",
       " array([[-0.06755557,  0.006968  , -0.00621092, -0.09704626]],\n",
       "       dtype=float32),\n",
       " array([[-0.14928126,  0.03856888, -0.01639146,  0.00050867]],\n",
       "       dtype=float32),\n",
       " array([[-0.22509506, -0.01991167,  0.07762547, -0.02548976]],\n",
       "       dtype=float32),\n",
       " array([[-0.03789556,  0.02650102, -0.0057898 , -0.03516499]],\n",
       "       dtype=float32),\n",
       " array([[-0.10624147,  0.03194737, -0.0519949 ,  0.0507044 ]],\n",
       "       dtype=float32),\n",
       " array([[-0.12376194, -0.09198682,  0.13427305, -0.10764426]],\n",
       "       dtype=float32),\n",
       " array([[-0.05058036,  0.00989023, -0.07257815,  0.07120283]],\n",
       "       dtype=float32),\n",
       " array([[-0.0913105 , -0.06828903,  0.09430639, -0.07049307]],\n",
       "       dtype=float32),\n",
       " array([[-0.10437714,  0.04992554, -0.07964197,  0.05508282]],\n",
       "       dtype=float32),\n",
       " array([[-0.13856706, -0.1147529 ,  0.16123568, -0.12272666]],\n",
       "       dtype=float32),\n",
       " array([[-0.05493062,  0.01049448, -0.07675732,  0.07942748]],\n",
       "       dtype=float32),\n",
       " array([[-0.10678104, -0.07894942,  0.11089137, -0.05046297]],\n",
       "       dtype=float32),\n",
       " array([[-0.06492489,  0.01705757, -0.05375063,  0.05791643]],\n",
       "       dtype=float32),\n",
       " array([[-0.1216486 , -0.03627731,  0.06482996,  0.0320065 ]],\n",
       "       dtype=float32),\n",
       " array([[-0.08633341, -0.02929121,  0.01613725,  0.04229898]],\n",
       "       dtype=float32),\n",
       " array([[-0.08759807, -0.03864498,  0.04264641,  0.03558258]],\n",
       "       dtype=float32),\n",
       " array([[-0.06739936, -0.03915603,  0.02958394,  0.03930993]],\n",
       "       dtype=float32),\n",
       " array([[-0.06284612, -0.04265611,  0.03657277,  0.03740584]],\n",
       "       dtype=float32),\n",
       " array([[-0.05794534, -0.04494315,  0.05838264, -0.02666271]],\n",
       "       dtype=float32),\n",
       " array([[-0.0349069 , -0.00561224, -0.0255744 ,  0.05556766]],\n",
       "       dtype=float32),\n",
       " array([[-0.04280732, -0.04573242,  0.05663932, -0.02216675]],\n",
       "       dtype=float32),\n",
       " array([[-0.03247286, -0.00580934, -0.02566962,  0.05557803]],\n",
       "       dtype=float32),\n",
       " array([[-0.09390144, -0.03500032,  0.04884472,  0.03570708]],\n",
       "       dtype=float32),\n",
       " array([[-0.11612809, -0.01122223,  0.00861874,  0.04300606]],\n",
       "       dtype=float32),\n",
       " array([[-0.18347766,  0.00983771,  0.01834197,  0.03674222]],\n",
       "       dtype=float32),\n",
       " array([[-0.24258418,  0.00576232,  0.00919081,  0.03304761]],\n",
       "       dtype=float32),\n",
       " array([[-0.31331682, -0.0352408 ,  0.01085657,  0.01354098]],\n",
       "       dtype=float32),\n",
       " array([[-0.17292804, -0.07572234,  0.09369832, -0.09449796]],\n",
       "       dtype=float32),\n",
       " array([[-0.32253155, -0.01667921, -0.2283309 ,  0.05137581]],\n",
       "       dtype=float32),\n",
       " array([[-0.58302766, -0.05917463,  0.10575125, -0.1468745 ]],\n",
       "       dtype=float32),\n",
       " array([[-0.3095887 , -0.0839567 , -0.21946114,  0.05338849]],\n",
       "       dtype=float32),\n",
       " array([[ 0.03202008, -0.03247062, -0.02765134,  0.01450763]],\n",
       "       dtype=float32),\n",
       " array([[-0.0017616 , -0.01036229,  0.01724051, -0.00442548]],\n",
       "       dtype=float32),\n",
       " array([[-0.00777444, -0.00114634, -0.00830856,  0.00678541]],\n",
       "       dtype=float32),\n",
       " array([[-0.13210154,  0.03072145, -0.04105878,  0.04321301]],\n",
       "       dtype=float32),\n",
       " array([[-0.23415433,  0.03886179,  0.04036994,  0.01609357]],\n",
       "       dtype=float32),\n",
       " array([[-0.30678615, -0.0366448 , -0.0691788 ,  0.04423877]],\n",
       "       dtype=float32),\n",
       " array([[-0.39512053, -0.06257096,  0.10966918, -0.0366345 ]],\n",
       "       dtype=float32),\n",
       " array([[-0.39307532, -0.12512662, -0.12632802,  0.03080904]],\n",
       "       dtype=float32),\n",
       " array([[-0.49292052, -0.08806811,  0.1714685 , -0.10186522]],\n",
       "       dtype=float32),\n",
       " array([[-0.49011827, -0.17879727, -0.29936275,  0.05268821]],\n",
       "       dtype=float32),\n",
       " array([[-0.22087395, -0.10383461,  0.06113471, -0.34710014]],\n",
       "       dtype=float32),\n",
       " array([[-0.41684058, -0.01627693, -0.5838253 ,  0.10094652]],\n",
       "       dtype=float32),\n",
       " array([[-0.6421621 , -0.03163607,  0.29674587, -0.36720908]],\n",
       "       dtype=float32),\n",
       " array([[-0.29461414, -0.07059985, -0.38240588,  0.26755786]],\n",
       "       dtype=float32),\n",
       " array([[-0.04563688,  0.01622345, -0.04039794,  0.02438493]],\n",
       "       dtype=float32),\n",
       " array([[-0.14945501,  0.01094575,  0.03428288,  0.0197903 ]],\n",
       "       dtype=float32),\n",
       " array([[-0.19789445,  0.01729224,  0.00125193,  0.03192735]],\n",
       "       dtype=float32),\n",
       " array([[-0.2737046 , -0.02098571,  0.0385448 ,  0.00662621]],\n",
       "       dtype=float32),\n",
       " array([[-0.31317866, -0.06354108,  0.00743908,  0.00067697]],\n",
       "       dtype=float32),\n",
       " array([[-0.36935785, -0.07565439,  0.03550253, -0.02012555]],\n",
       "       dtype=float32),\n",
       " array([[-0.1341704 , -0.03801565, -0.01364723, -0.07569191]],\n",
       "       dtype=float32),\n",
       " array([[-0.34255683, -0.00489594, -0.10812475, -0.00988086]],\n",
       "       dtype=float32),\n",
       " array([[-0.55116194, -0.10298664, -0.0347079 , -0.09898899]],\n",
       "       dtype=float32),\n",
       " array([[-0.0185455 , -0.04509112,  0.0498384 ,  0.00738176]],\n",
       "       dtype=float32),\n",
       " array([[-5.0553784e-02,  1.5288591e-05, -2.4676815e-02,  5.6467649e-02]],\n",
       "       dtype=float32),\n",
       " array([[-0.09230244, -0.05354395,  0.08916441, -0.03109669]],\n",
       "       dtype=float32),\n",
       " array([[-0.03138025, -0.00502957, -0.00109513,  0.01587832]],\n",
       "       dtype=float32),\n",
       " array([[-0.0907758 ,  0.00643696, -0.00985084,  0.05459889]],\n",
       "       dtype=float32),\n",
       " array([[-0.16100906,  0.00344523,  0.01778198,  0.04487317]],\n",
       "       dtype=float32),\n",
       " array([[-0.16141094, -0.09755518,  0.16124435, -0.08577736]],\n",
       "       dtype=float32),\n",
       " array([[-0.06352927,  0.00714056, -0.06708532,  0.06948689]],\n",
       "       dtype=float32),\n",
       " array([[-0.18036397,  0.00061533,  0.05530016,  0.028051  ]],\n",
       "       dtype=float32),\n",
       " array([[-0.14307663, -0.09600547,  0.14730482, -0.07194583]],\n",
       "       dtype=float32),\n",
       " array([[-0.04410778,  0.00747315, -0.0253366 ,  0.04358825]],\n",
       "       dtype=float32),\n",
       " array([[-0.05755642, -0.0507597 ,  0.06550312, -0.03050489]],\n",
       "       dtype=float32),\n",
       " array([[-0.03461315,  0.01303134, -0.04818536,  0.06505449]],\n",
       "       dtype=float32),\n",
       " array([[-0.03885954, -0.07006978,  0.07875786, -0.03135808]],\n",
       "       dtype=float32),\n",
       " array([[-0.02504852, -0.01465477,  0.02493149, -0.00280265]],\n",
       "       dtype=float32),\n",
       " array([[ 0.02753695, -0.06079572,  0.04183088, -0.013254  ]],\n",
       "       dtype=float32),\n",
       " array([[-0.04510536,  0.0127106 , -0.02993083, -0.02058658]],\n",
       "       dtype=float32),\n",
       " array([[-0.00236278, -0.01533442,  0.0050402 , -0.03877782]],\n",
       "       dtype=float32),\n",
       " array([[-0.06775959,  0.01943295, -0.02500323,  0.04242932]],\n",
       "       dtype=float32),\n",
       " array([[-0.07171575, -0.06404611,  0.07951202, -0.06825433]],\n",
       "       dtype=float32),\n",
       " array([[-0.09572261,  0.04233759, -0.06305017,  0.04772758]],\n",
       "       dtype=float32),\n",
       " array([[-0.10557657, -0.09463082,  0.12295932, -0.11349449]],\n",
       "       dtype=float32),\n",
       " array([[-0.03672254,  0.01530271, -0.05498472,  0.05967802]],\n",
       "       dtype=float32),\n",
       " array([[-0.14269969, -0.03033973,  0.06438562,  0.02698279]],\n",
       "       dtype=float32),\n",
       " array([[-0.10843471, -0.06554622,  0.09152934, -0.04107899]],\n",
       "       dtype=float32),\n",
       " array([[-0.10332675,  0.01848442, -0.04010162,  0.05100377]],\n",
       "       dtype=float32),\n",
       " array([[-0.18245748, -0.01429133,  0.05531679,  0.02732586]],\n",
       "       dtype=float32),\n",
       " array([[-0.19673023, -0.00445594,  0.01042023,  0.03337432]],\n",
       "       dtype=float32),\n",
       " array([[-0.1703108 , -0.10106476,  0.16595808, -0.11312217]],\n",
       "       dtype=float32),\n",
       " array([[-0.04602122,  0.02170919, -0.07452092,  0.07765384]],\n",
       "       dtype=float32),\n",
       " array([[-0.07934581, -0.08067909,  0.09074987, -0.05472684]],\n",
       "       dtype=float32),\n",
       " array([[-0.06964807,  0.01254616, -0.04079709,  0.05114621]],\n",
       "       dtype=float32),\n",
       " array([[-0.14038785, -0.03166098,  0.06083569,  0.02881016]],\n",
       "       dtype=float32),\n",
       " array([[-0.11459307, -0.08140671,  0.10495092, -0.04914887]],\n",
       "       dtype=float32),\n",
       " array([[-0.01939557,  0.00666681,  0.00727682,  0.01309872]],\n",
       "       dtype=float32),\n",
       " array([[-0.0245432 , -0.0412031 ,  0.01913993,  0.0455171 ]],\n",
       "       dtype=float32),\n",
       " array([[-0.04390868, -0.0609634 ,  0.05473836,  0.02969915]],\n",
       "       dtype=float32),\n",
       " array([[-0.04059027, -0.05184912,  0.03483409,  0.03346038]],\n",
       "       dtype=float32),\n",
       " array([[-0.03154476, -0.02839361,  0.03261724, -0.01699009]],\n",
       "       dtype=float32),\n",
       " array([[-0.00182787, -0.01167745,  0.00983626, -0.00107289]],\n",
       "       dtype=float32),\n",
       " array([[-0.00845982, -0.03962807,  0.01477744,  0.04568087]],\n",
       "       dtype=float32),\n",
       " array([[-0.00301909, -0.02724056,  0.02505954, -0.0043128 ]],\n",
       "       dtype=float32),\n",
       " array([[ 0.00031698, -0.04142491,  0.0131239 ,  0.045748  ]],\n",
       "       dtype=float32),\n",
       " array([[-0.01806008, -0.06903926,  0.05795681,  0.03019459]],\n",
       "       dtype=float32),\n",
       " array([[-0.01292644, -0.05985556,  0.03574922,  0.03382581]],\n",
       "       dtype=float32),\n",
       " array([[-0.0082087 , -0.01555065,  0.01332393, -0.00387082]],\n",
       "       dtype=float32),\n",
       " array([[ 0.00884407, -0.01648611,  0.01354188, -0.00228051]],\n",
       "       dtype=float32),\n",
       " array([[ 0.01461079, -0.02179047,  0.02110677, -0.00517521]],\n",
       "       dtype=float32),\n",
       " array([[ 0.01678725, -0.02391324,  0.02352164, -0.00669503]],\n",
       "       dtype=float32),\n",
       " array([[ 0.02065621, -0.02581218,  0.02449341, -0.00907818]],\n",
       "       dtype=float32),\n",
       " array([[ 0.02922788, -0.04705534,  0.01974489,  0.05196918]],\n",
       "       dtype=float32),\n",
       " array([[ 0.05260961, -0.07967537,  0.06126818,  0.0195221 ]],\n",
       "       dtype=float32),\n",
       " array([[ 0.03160075, -0.04017717,  0.03611019, -0.01543242]],\n",
       "       dtype=float32),\n",
       " array([[ 0.02876693, -0.04531972,  0.03969579, -0.01201034]],\n",
       "       dtype=float32),\n",
       " array([[ 0.07070161, -0.06913464,  0.04852872,  0.02973868]],\n",
       "       dtype=float32),\n",
       " array([[ 0.12820622, -0.10027631,  0.09050776, -0.00387374]],\n",
       "       dtype=float32),\n",
       " array([[ 0.1619998 , -0.12954025,  0.12392981, -0.01695898]],\n",
       "       dtype=float32),\n",
       " array([[ 0.05340754, -0.09878765,  0.1227864 , -0.01425204]],\n",
       "       dtype=float32),\n",
       " array([[ 0.03272343, -0.06891192,  0.06306373, -0.00596644]],\n",
       "       dtype=float32),\n",
       " array([[ 0.03216431, -0.07424375,  0.05176263, -0.0082793 ]],\n",
       "       dtype=float32),\n",
       " array([[-0.0282542 , -0.0373665 , -0.00488092,  0.02944896]],\n",
       "       dtype=float32),\n",
       " array([[-0.03384555, -0.00970205,  0.00977182, -0.01912393]],\n",
       "       dtype=float32),\n",
       " array([[-0.09179904,  0.02506811, -0.02314167,  0.04617401]],\n",
       "       dtype=float32),\n",
       " array([[-0.11113739, -0.08448761,  0.12221572, -0.07718049]],\n",
       "       dtype=float32),\n",
       " array([[-0.04018306,  0.011144  , -0.05820471,  0.05731466]],\n",
       "       dtype=float32),\n",
       " array([[-0.07646631, -0.06022338,  0.08095916, -0.0391604 ]],\n",
       "       dtype=float32),\n",
       " array([[-0.06989535,  0.01714722, -0.04634026,  0.0574822 ]],\n",
       "       dtype=float32),\n",
       " array([[-0.14202702, -0.02349208,  0.05341343,  0.03420403]],\n",
       "       dtype=float32),\n",
       " array([[-0.13909076, -0.00829311,  0.00936698,  0.04290663]],\n",
       "       dtype=float32),\n",
       " array([[-0.17062306, -0.00622717,  0.02908065,  0.03749463]],\n",
       "       dtype=float32),\n",
       " array([[-0.18825682,  0.00172601,  0.01722286,  0.03831887]],\n",
       "       dtype=float32),\n",
       " array([[-0.21707828, -0.00103246,  0.02932499,  0.02979217]],\n",
       "       dtype=float32),\n",
       " array([[-0.2480039 , -0.02645836,  0.01795954,  0.02364789]],\n",
       "       dtype=float32),\n",
       " array([[-0.18368597, -0.09415328,  0.17248002, -0.10546044]],\n",
       "       dtype=float32),\n",
       " array([[-0.06819175,  0.00704743, -0.09637994,  0.09311423]],\n",
       "       dtype=float32),\n",
       " array([[-0.12524061, -0.0819787 ,  0.12160793, -0.10215051]],\n",
       "       dtype=float32),\n",
       " array([[-0.0528399 ,  0.00802733, -0.07632516,  0.07017934]],\n",
       "       dtype=float32),\n",
       " array([[-0.20280692,  0.01235609,  0.07089894,  0.00541601]],\n",
       "       dtype=float32),\n",
       " array([[-0.12428321, -0.06080277,  0.10435548, -0.04594326]],\n",
       "       dtype=float32),\n",
       " array([[-0.0482191 ,  0.00160953, -0.04591989,  0.04525744]],\n",
       "       dtype=float32),\n",
       " array([[-0.07111358, -0.04750281,  0.0692251 , -0.06165075]],\n",
       "       dtype=float32),\n",
       " array([[-0.02267723,  0.00593292, -0.03393947,  0.03562399]],\n",
       "       dtype=float32),\n",
       " array([[-0.03928782, -0.0331693 ,  0.04243342, -0.02175426]],\n",
       "       dtype=float32),\n",
       " array([[-0.0138248 , -0.01404046,  0.01395828, -0.0091218 ]],\n",
       "       dtype=float32),\n",
       " array([[-0.01095114, -0.01890089, -0.00869501,  0.05615171]],\n",
       "       dtype=float32),\n",
       " array([[-0.01198349, -0.05924945,  0.05206396,  0.03393241]],\n",
       "       dtype=float32),\n",
       " array([[ 0.04494173, -0.05325355,  0.0300725 ,  0.03051058]],\n",
       "       dtype=float32),\n",
       " array([[ 0.02736124, -0.05927784,  0.04960068, -0.00286187]],\n",
       "       dtype=float32),\n",
       " array([[ 0.08189751, -0.06733988,  0.04807045,  0.0228662 ]],\n",
       "       dtype=float32),\n",
       " array([[ 0.03893101, -0.08599659,  0.07834602, -0.00608082]],\n",
       "       dtype=float32),\n",
       " array([[-0.02662357, -0.04295642, -0.0083328 ,  0.01968932]],\n",
       "       dtype=float32),\n",
       " array([[-0.13058256,  0.00959793,  0.0225587 ,  0.02640161]],\n",
       "       dtype=float32),\n",
       " array([[-0.18644302,  0.02850107,  0.00028182,  0.03559888]],\n",
       "       dtype=float32),\n",
       " array([[-0.16196534, -0.09086143,  0.15861398, -0.09913203]],\n",
       "       dtype=float32),\n",
       " array([[-0.06508745,  0.00879483, -0.09429769,  0.08854958]],\n",
       "       dtype=float32),\n",
       " array([[-0.10930271, -0.07224374,  0.10316505, -0.10712668]],\n",
       "       dtype=float32),\n",
       " array([[-0.1702532 ,  0.03093004, -0.14837377,  0.06028739]],\n",
       "       dtype=float32),\n",
       " array([[-0.15958527, -0.12800026,  0.16214564, -0.19852465]],\n",
       "       dtype=float32),\n",
       " array([[-0.0797981 ,  0.00522346, -0.11049997,  0.10692178]],\n",
       "       dtype=float32),\n",
       " array([[-0.2527353 , -0.01140976,  0.12938087, -0.01190457]],\n",
       "       dtype=float32),\n",
       " array([[-0.12963897, -0.0628957 ,  0.09458386, -0.03074832]],\n",
       "       dtype=float32),\n",
       " array([[-0.13744463,  0.03467482, -0.04653381,  0.05110245]],\n",
       "       dtype=float32),\n",
       " array([[-0.22043067,  0.01379996,  0.05119625,  0.02077903]],\n",
       "       dtype=float32),\n",
       " array([[-0.23880838, -0.03311735, -0.0107951 ,  0.0297349 ]],\n",
       "       dtype=float32),\n",
       " array([[-0.3110424 , -0.04748645,  0.077743  , -0.0094685 ]],\n",
       "       dtype=float32),\n",
       " array([[-0.3104542 , -0.09065992, -0.01711158,  0.00985947]],\n",
       "       dtype=float32),\n",
       " array([[-0.36557722, -0.07338312,  0.09215514, -0.03086357]],\n",
       "       dtype=float32),\n",
       " array([[-0.34871066, -0.11144486, -0.04587805,  0.00534973]],\n",
       "       dtype=float32),\n",
       " array([[-0.1306932 , -0.0353462 ,  0.04385515, -0.14669779]],\n",
       "       dtype=float32),\n",
       " array([[-0.0533596 ,  0.01053313, -0.09583513,  0.06501691]],\n",
       "       dtype=float32),\n",
       " array([[-0.03327994, -0.02046502,  0.01119213, -0.10985544]],\n",
       "       dtype=float32),\n",
       " array([[-0.2585954 ,  0.03812326, -0.1796655 ,  0.00705042]],\n",
       "       dtype=float32),\n",
       " array([[-0.52225846, -0.04711412,  0.02180694, -0.09528096]],\n",
       "       dtype=float32),\n",
       " array([[-0.59662217, -0.19920751, -0.22470413, -0.02590105]],\n",
       "       dtype=float32),\n",
       " array([[ 0.04880211, -0.01410178, -0.0151052 ,  0.01732532]],\n",
       "       dtype=float32),\n",
       " array([[-0.11524889,  0.02065958, -0.04984061,  0.04596704]],\n",
       "       dtype=float32),\n",
       " array([[-0.1395777 , -0.0615743 ,  0.09566973, -0.06237271]],\n",
       "       dtype=float32),\n",
       " array([[-0.2537909 ,  0.00927502, -0.17218971,  0.0671232 ]],\n",
       "       dtype=float32),\n",
       " array([[-0.21774639, -0.13950303,  0.18912837, -0.21943054]],\n",
       "       dtype=float32),\n",
       " array([[-0.13283104, -0.00860092, -0.17939454,  0.14990668]],\n",
       "       dtype=float32),\n",
       " array([[-0.2140171 , -0.11928482,  0.18334273, -0.1700154 ]],\n",
       "       dtype=float32),\n",
       " array([[-0.29720312, -0.02880449, -0.3494647 ,  0.09967408]],\n",
       "       dtype=float32),\n",
       " array([[-0.25817344, -0.18245539,  0.19880033, -0.3413678 ]],\n",
       "       dtype=float32),\n",
       " array([[-0.33189222, -0.02682993, -0.53556186,  0.144862  ]],\n",
       "       dtype=float32),\n",
       " array([[-0.64123666, -0.04001755,  0.4786889 , -0.29570028]],\n",
       "       dtype=float32),\n",
       " array([[-0.5722022 , -0.20124127, -0.7011234 ,  0.2863063 ]],\n",
       "       dtype=float32),\n",
       " array([[-0.5259045 , -0.33119464,  0.35826898, -0.6630464 ]],\n",
       "       dtype=float32),\n",
       " array([[-0.5586669 , -0.09777775, -0.82398635,  0.34090376]],\n",
       "       dtype=float32),\n",
       " array([[-0.600732  , -0.40392426,  0.46194667, -0.749018  ]],\n",
       "       dtype=float32),\n",
       " array([[-0.6029033 , -0.10526174, -0.8798919 ,  0.40559545]],\n",
       "       dtype=float32),\n",
       " array([[-0.68390965, -0.45047292,  0.53757775, -0.8100571 ]],\n",
       "       dtype=float32),\n",
       " array([[-0.36389703, -0.00610878, -0.5044019 ,  0.44038814]],\n",
       "       dtype=float32),\n",
       " array([[-0.6409672 , -0.37627587,  0.59848833, -0.47493342]],\n",
       "       dtype=float32),\n",
       " array([[-0.5015606 , -0.12044276, -0.7256452 ,  0.38721654]],\n",
       "       dtype=float32),\n",
       " array([[-0.613721  , -0.38473085,  0.49162215, -0.66134477]],\n",
       "       dtype=float32),\n",
       " array([[-0.5531014 , -0.1171606 , -0.80279505,  0.3850723 ]],\n",
       "       dtype=float32),\n",
       " array([[-0.6479467 , -0.42050353,  0.52381533, -0.7293222 ]],\n",
       "       dtype=float32),\n",
       " array([[-0.32876888, -0.0050531 , -0.4555087 ,  0.40521473]],\n",
       "       dtype=float32),\n",
       " array([[-0.6775724 , -0.2187636 ,  0.7100446 , -0.27982497]],\n",
       "       dtype=float32),\n",
       " array([[-0.45397818, -0.1297115 , -0.5551572 ,  0.34615582]],\n",
       "       dtype=float32),\n",
       " array([[-0.5830966 , -0.35585916,  0.50975937, -0.5336333 ]],\n",
       "       dtype=float32),\n",
       " array([[-0.27253032, -0.00270417, -0.37704438,  0.34259742]],\n",
       "       dtype=float32),\n",
       " array([[-0.5520695 , -0.31232622,  0.5534571 , -0.27403393]],\n",
       "       dtype=float32),\n",
       " array([[-0.29878423, -0.09480482, -0.40538087,  0.20221776]],\n",
       "       dtype=float32),\n",
       " array([[-0.3988343 , -0.2452876 ,  0.37580103, -0.3123243 ]],\n",
       "       dtype=float32),\n",
       " array([[-0.13371003,  0.01628301, -0.19832394,  0.20535415]],\n",
       "       dtype=float32),\n",
       " array([[-0.01710493,  0.04865397,  0.04531532,  0.00418183]],\n",
       "       dtype=float32),\n",
       " array([[ 0.01458875, -0.04941005,  0.0407588 , -0.00667817]],\n",
       "       dtype=float32),\n",
       " array([[-2.3559052e-02,  1.2580305e-05, -2.9752735e-02,  5.8758419e-02]],\n",
       "       dtype=float32),\n",
       " array([[-0.11328509, -0.01325076,  0.02962532,  0.04309576]],\n",
       "       dtype=float32),\n",
       " array([[-0.11617696, -0.07735223,  0.11192094, -0.05383238]],\n",
       "       dtype=float32),\n",
       " array([[-0.12303027,  0.05078712, -0.09547053,  0.06750795]],\n",
       "       dtype=float32),\n",
       " array([[-0.18806423, -0.124282  ,  0.20914173, -0.12289881]],\n",
       "       dtype=float32),\n",
       " array([[-0.18806405, -0.00292923, -0.2329749 ,  0.10520398]],\n",
       "       dtype=float32),\n",
       " array([[-0.3956284 ,  0.00888848,  0.2739091 , -0.07218739]],\n",
       "       dtype=float32),\n",
       " array([[-0.17647116, -0.06956452,  0.05412105,  0.03367924]],\n",
       "       dtype=float32),\n",
       " array([[-0.23212016,  0.01037751,  0.01034382,  0.03435884]],\n",
       "       dtype=float32),\n",
       " array([[-0.30412504, -0.01807221, -0.00851299,  0.03209751]],\n",
       "       dtype=float32),\n",
       " array([[-0.36741006, -0.05901064,  0.01947394,  0.00230971]],\n",
       "       dtype=float32),\n",
       " array([[-0.20798331, -0.08711036,  0.13504282, -0.09511521]],\n",
       "       dtype=float32),\n",
       " array([[-0.09340063,  0.00946248, -0.13975376,  0.10000537]],\n",
       "       dtype=float32),\n",
       " array([[-0.14134872, -0.07544683,  0.11261527, -0.12471826]],\n",
       "       dtype=float32),\n",
       " array([[-0.09268838, -0.01126512, -0.12586704,  0.0996256 ]],\n",
       "       dtype=float32),\n",
       " array([[-0.13442203, -0.06471989,  0.09864196, -0.11032167]],\n",
       "       dtype=float32),\n",
       " array([[-0.29137722,  0.00474469, -0.26309592,  0.06857493]],\n",
       "       dtype=float32),\n",
       " array([[-0.5293429 , -0.02767265,  0.18374592, -0.12760082]],\n",
       "       dtype=float32),\n",
       " array([[-0.27299893, -0.12340981, -0.06072215,  0.03389711]],\n",
       "       dtype=float32),\n",
       " array([[-0.14177638, -0.02469765,  0.04804549, -0.09663018]],\n",
       "       dtype=float32),\n",
       " array([[-0.32947183,  0.00238449, -0.24432483,  0.04933466]],\n",
       "       dtype=float32),\n",
       " array([[-0.25034156, -0.16393077,  0.18601646, -0.27047607]],\n",
       "       dtype=float32),\n",
       " array([[-0.14601547, -0.00987066, -0.20206612,  0.16424292]],\n",
       "       dtype=float32),\n",
       " array([[-0.3798186 ,  0.00547614,  0.2519276 , -0.06064278]],\n",
       "       dtype=float32),\n",
       " array([[-0.1857653 , -0.07159359,  0.01311843,  0.04837056]],\n",
       "       dtype=float32),\n",
       " array([[-0.13756207, -0.06230354,  0.11467836, -0.05927556]],\n",
       "       dtype=float32),\n",
       " array([[-0.05963895,  0.00451835, -0.0671428 ,  0.05998335]],\n",
       "       dtype=float32),\n",
       " array([[-0.19186825,  0.04085537,  0.03456436,  0.02532007]],\n",
       "       dtype=float32),\n",
       " array([[-0.1801945 , -0.07722466,  0.15127426, -0.06566562]],\n",
       "       dtype=float32),\n",
       " array([[-0.16418645,  0.02458556, -0.16996905,  0.09979251]],\n",
       "       dtype=float32),\n",
       " array([[-0.28290564, -0.16352357,  0.3020509 , -0.13107547]],\n",
       "       dtype=float32),\n",
       " array([[-0.11214691,  0.01315454, -0.07218061,  0.09321622]],\n",
       "       dtype=float32),\n",
       " array([[-0.17758104, -0.00662997,  0.05825679,  0.0412899 ]],\n",
       "       dtype=float32)]"
      ]
     },
     "execution_count": 89,
     "metadata": {},
     "output_type": "execute_result"
    }
   ],
   "source": [
    "S_series"
   ]
  },
  {
   "cell_type": "code",
   "execution_count": 90,
   "metadata": {},
   "outputs": [
    {
     "data": {
      "text/plain": [
       "[array([-0.01548977, -0.0440152 ,  0.02847142,  0.04505366], dtype=float32),\n",
       " array([[-0.01637008,  0.15068716,  0.0293725 , -0.23851205]],\n",
       "       dtype=float32),\n",
       " array([[-0.01335633,  0.34537745,  0.02460225, -0.5217872 ]],\n",
       "       dtype=float32),\n",
       " array([[-0.00644878,  0.5401446 ,  0.01416651, -0.80661726]],\n",
       "       dtype=float32),\n",
       " array([[ 0.00435411,  0.3448314 , -0.00196584, -0.509512  ]],\n",
       "       dtype=float32),\n",
       " array([[ 0.01125074,  0.1497372 , -0.01215607, -0.21744922]],\n",
       "       dtype=float32),\n",
       " array([[ 0.01424548,  0.34503078, -0.01650506, -0.51394176]],\n",
       "       dtype=float32),\n",
       " array([[ 0.02114609,  0.15014513, -0.02678389, -0.22650537]],\n",
       "       dtype=float32),\n",
       " array([[ 0.024149  , -0.044584  , -0.031314  ,  0.05761005]],\n",
       "       dtype=float32),\n",
       " array([[ 0.02325732, -0.2392433 , -0.0301618 ,  0.34025103]],\n",
       "       dtype=float32),\n",
       " array([[ 0.01847245, -0.04370546, -0.02335678,  0.03821146]],\n",
       "       dtype=float32),\n",
       " array([[ 0.01759834,  0.1517435 , -0.02259255, -0.26174828]],\n",
       "       dtype=float32),\n",
       " array([[ 0.02063321, -0.04304878, -0.02782752,  0.02372393]],\n",
       "       dtype=float32),\n",
       " array([[ 0.01977224,  0.15246096, -0.02735304, -0.27760738]],\n",
       "       dtype=float32),\n",
       " array([[ 0.02282146,  0.34796223, -0.03290519, -0.57879037]],\n",
       "       dtype=float32),\n",
       " array([[ 0.0297807 ,  0.15331651, -0.04448099, -0.29665226]],\n",
       "       dtype=float32),\n",
       " array([[ 0.03284703,  0.34904343, -0.05041404, -0.6030253 ]],\n",
       "       dtype=float32),\n",
       " array([[ 0.0398279 ,  0.15466149, -0.06247455, -0.3266383 ]],\n",
       "       dtype=float32),\n",
       " array([[ 0.04292113, -0.03951793, -0.06900731, -0.05429299]],\n",
       "       dtype=float32),\n",
       " array([[ 0.04213077,  0.15652215, -0.07009317, -0.3679253 ]],\n",
       "       dtype=float32),\n",
       " array([[ 0.04526122, -0.03753745, -0.07745168, -0.09814117]],\n",
       "       dtype=float32),\n",
       " array([[ 0.04451047,  0.15860419, -0.0794145 , -0.41421965]],\n",
       "       dtype=float32),\n",
       " array([[ 0.04768255,  0.35475668, -0.08769889, -0.7308444 ]],\n",
       "       dtype=float32),\n",
       " array([[ 0.05477768,  0.16094916, -0.10231578, -0.46700078]],\n",
       "       dtype=float32),\n",
       " array([[ 0.05799666, -0.03258966, -0.11165579, -0.20823917]],\n",
       "       dtype=float32),\n",
       " array([[ 0.05734487,  0.16393708, -0.11582058, -0.53395224]],\n",
       "       dtype=float32),\n",
       " array([[ 0.06062361, -0.02938189, -0.12649962, -0.27989173]],\n",
       "       dtype=float32),\n",
       " array([[ 0.06003598, -0.22249368, -0.13209745, -0.0296304 ]],\n",
       "       dtype=float32),\n",
       " array([[ 0.0555861 , -0.02574908, -0.13269007, -0.36089998]],\n",
       "       dtype=float32),\n",
       " array([[ 0.05507112, -0.21875992, -0.13990806, -0.11282518]],\n",
       "       dtype=float32),\n",
       " array([[ 0.05069592, -0.41162875, -0.14216457,  0.13265233]],\n",
       "       dtype=float32),\n",
       " array([[ 0.04246335, -0.6044584 , -0.13951153,  0.37732306]],\n",
       "       dtype=float32),\n",
       " array([[ 0.03037418, -0.4076593 , -0.13196506,  0.04410906]],\n",
       "       dtype=float32),\n",
       " array([[ 0.02222099, -0.21091618, -0.13108288, -0.2871249 ]],\n",
       "       dtype=float32),\n",
       " array([[ 0.01800267, -0.40394887, -0.13682538, -0.03848801]],\n",
       "       dtype=float32),\n",
       " array([[ 0.00992369, -0.5968705 , -0.13759515,  0.20808862]],\n",
       "       dtype=float32),\n",
       " array([[-0.00201372, -0.40007675, -0.13343337, -0.12463753]],\n",
       "       dtype=float32),\n",
       " array([[-0.01001525, -0.20332064, -0.13592611, -0.45626137]],\n",
       "       dtype=float32),\n",
       " array([[-0.01408167, -0.39628538, -0.14505135, -0.20932336]],\n",
       "       dtype=float32),\n",
       " array([[-0.02200737, -0.5890676 , -0.14923781,  0.03431751]],\n",
       "       dtype=float32),\n",
       " array([[-0.03378873, -0.78176934, -0.14855146,  0.27644402]],\n",
       "       dtype=float32),\n",
       " array([[-0.04942411, -0.9744942 , -0.14302258,  0.5188337 ]],\n",
       "       dtype=float32),\n",
       " array([[-0.068914  , -0.77767897, -0.1326459 ,  0.18471976]],\n",
       "       dtype=float32),\n",
       " array([[-0.08446757, -0.58093315, -0.1289515 , -0.14669015]],\n",
       "       dtype=float32),\n",
       " array([[-0.09608624, -0.38422298, -0.13188532, -0.4771123 ]],\n",
       "       dtype=float32),\n",
       " array([[-0.1037707 , -0.18750957, -0.14142756, -0.8082819 ]],\n",
       "       dtype=float32),\n",
       " array([[-0.10752089, -0.38043955, -0.1575932 , -0.5632176 ]],\n",
       "       dtype=float32),\n",
       " array([[-0.11512968, -0.18349822, -0.16885754, -0.90110964]],\n",
       "       dtype=float32),\n",
       " array([[-0.11879964,  0.01345948, -0.18687974, -1.2417529 ]],\n",
       "       dtype=float32),\n",
       " array([[-0.11853045,  0.2104226 , -0.2117148 , -1.5866768 ]],\n",
       "       dtype=float32),\n",
       " array([-0.03789556,  0.02650102, -0.0057898 , -0.03516499], dtype=float32),\n",
       " array([[-0.03736554,  0.22170551, -0.0064931 , -0.32966903]],\n",
       "       dtype=float32),\n",
       " array([[-0.03293143,  0.0266766 , -0.01308648, -0.03904076]],\n",
       "       dtype=float32),\n",
       " array([[-0.0323979 , -0.16825527, -0.01386729,  0.24948469]],\n",
       "       dtype=float32),\n",
       " array([[-0.03576301, -0.36317647, -0.0088776 ,  0.5377615 ]],\n",
       "       dtype=float32),\n",
       " array([[-0.04302654, -0.16793084,  0.00187763,  0.24229464]],\n",
       "       dtype=float32),\n",
       " array([[-0.04638515, -0.36307955,  0.00672352,  0.53556925]],\n",
       "       dtype=float32),\n",
       " array([[-0.05364674, -0.5582954 ,  0.01743491,  0.8303631 ]],\n",
       "       dtype=float32),\n",
       " array([[-0.06481265, -0.75365126,  0.03404217,  1.1284779 ]],\n",
       "       dtype=float32),\n",
       " array([[-0.07988568, -0.5589914 ,  0.05661173,  0.8466637 ]],\n",
       "       dtype=float32),\n",
       " array([[-0.0910655 , -0.36468554,  0.073545  ,  0.5723069 ]],\n",
       "       dtype=float32),\n",
       " array([[-0.09835921, -0.1706677 ,  0.08499114,  0.30366954]],\n",
       "       dtype=float32),\n",
       " array([[-0.10177257,  0.02314666,  0.09106454,  0.03895471]],\n",
       "       dtype=float32),\n",
       " array([[-0.10130963,  0.21685274,  0.09184363, -0.22366449]],\n",
       "       dtype=float32),\n",
       " array([[-0.09697258,  0.41055018,  0.08737034, -0.486022  ]],\n",
       "       dtype=float32),\n",
       " array([[-0.08876158,  0.21431102,  0.0776499 , -0.16713184]],\n",
       "       dtype=float32),\n",
       " array([[-0.08447536,  0.40824056,  0.07430726, -0.4343435 ]],\n",
       "       dtype=float32),\n",
       " array([[-0.07631055,  0.21214959,  0.06562039, -0.11919247]],\n",
       "       dtype=float32),\n",
       " array([[-0.07206755,  0.40627298,  0.06323654, -0.3904723 ]],\n",
       "       dtype=float32),\n",
       " array([[-0.0639421,  0.6004431,  0.0554271, -0.6625662]], dtype=float32),\n",
       " array([[-0.05193323,  0.7947519 ,  0.04217577, -0.9372945 ]],\n",
       "       dtype=float32),\n",
       " array([[-0.03603819,  0.9892805 ,  0.02342988, -1.216432  ]],\n",
       "       dtype=float32),\n",
       " array([[-1.6252585e-02,  1.1840925e+00, -8.9875842e-04, -1.5016822e+00]],\n",
       "       dtype=float32),\n",
       " array([[ 0.00742927,  1.3792254 , -0.0309324 , -1.7946455 ]],\n",
       "       dtype=float32),\n",
       " array([[ 0.03501377,  1.1844633 , -0.06682531, -1.5117347 ]],\n",
       "       dtype=float32),\n",
       " array([[ 0.05870304,  1.3803279 , -0.09706   , -1.824508  ]],\n",
       "       dtype=float32),\n",
       " array([[ 0.0863096 ,  1.5763837 , -0.13355017, -2.1456983 ]],\n",
       "       dtype=float32),\n",
       " array([[ 0.11783727,  1.3828074 , -0.17646413, -1.8970666 ]],\n",
       "       dtype=float32),\n",
       " array([[ 0.14549342,  1.5793483 , -0.21440546, -2.2389114 ]],\n",
       "       dtype=float32),\n",
       " array([ 0.03202008, -0.03247062, -0.02765134,  0.01450763], dtype=float32),\n",
       " array([[ 0.03137067, -0.22718532, -0.02736119,  0.29833958]],\n",
       "       dtype=float32),\n",
       " array([[ 0.02682696, -0.4219068 , -0.0213944 ,  0.58226925]],\n",
       "       dtype=float32),\n",
       " array([[ 0.01838882, -0.22649172, -0.00974901,  0.28292426]],\n",
       "       dtype=float32),\n",
       " array([[ 0.01385899, -0.03123208, -0.00409053, -0.01281743]],\n",
       "       dtype=float32),\n",
       " array([[ 0.01323435,  0.1639483 , -0.00434687, -0.30678815]],\n",
       "       dtype=float32),\n",
       " array([[ 0.01651331,  0.3591319 , -0.01048264, -0.6008388 ]],\n",
       "       dtype=float32),\n",
       " array([[ 0.02369595,  0.55439895, -0.02249941, -0.89680505]],\n",
       "       dtype=float32),\n",
       " array([[ 0.03478393,  0.74981856, -0.04043552, -1.1964746 ]],\n",
       "       dtype=float32),\n",
       " array([[ 0.0497803 ,  0.94543993, -0.06436501, -1.5015516 ]],\n",
       "       dtype=float32),\n",
       " array([[ 0.0686891 ,  0.75115585, -0.09439604, -1.2296392 ]],\n",
       "       dtype=float32),\n",
       " array([[ 0.08371222,  0.94735694, -0.11898882, -1.5503418 ]],\n",
       "       dtype=float32),\n",
       " array([[ 0.10265936,  1.1436886 , -0.14999565, -1.877657  ]],\n",
       "       dtype=float32),\n",
       " array([[ 0.12553313,  0.9504873 , -0.1875488 , -1.6350428 ]],\n",
       "       dtype=float32),\n",
       " array([[ 0.14454287,  0.7579958 , -0.22024965, -1.4061854 ]],\n",
       "       dtype=float32),\n",
       " array([-0.04563688,  0.01622345, -0.04039794,  0.02438493], dtype=float32),\n",
       " array([[-0.04531242,  0.21190076, -0.03991025, -0.28076532]],\n",
       "       dtype=float32),\n",
       " array([[-0.0410744 ,  0.4075686 , -0.04552555, -0.5857639 ]],\n",
       "       dtype=float32),\n",
       " array([[-0.03292303,  0.60329765, -0.05724083, -0.89243317]],\n",
       "       dtype=float32),\n",
       " array([[-0.02085707,  0.79914737, -0.07508949, -1.2025462 ]],\n",
       "       dtype=float32),\n",
       " array([[-0.00487413,  0.99515563, -0.09914041, -1.5177857 ]],\n",
       "       dtype=float32),\n",
       " array([[ 0.01502899,  0.8013627 , -0.12949613, -1.2576232 ]],\n",
       "       dtype=float32),\n",
       " array([[ 0.03105624,  0.99788207, -0.15464859, -1.5878996 ]],\n",
       "       dtype=float32),\n",
       " array([[ 0.05101388,  1.1944665 , -0.18640658, -1.9245428 ]],\n",
       "       dtype=float32),\n",
       " array([[ 0.07490321,  1.3910366 , -0.22489744, -2.2687767 ]],\n",
       "       dtype=float32),\n",
       " array([-0.0185455 , -0.04509112,  0.0498384 ,  0.00738176], dtype=float32),\n",
       " array([[-0.01944733,  0.14928196,  0.04998604, -0.26916942]],\n",
       "       dtype=float32),\n",
       " array([[-0.01646169, -0.04651637,  0.04460265,  0.03885102]],\n",
       "       dtype=float32),\n",
       " array([[-0.01739202, -0.2422486 ,  0.04537967,  0.3452662 ]],\n",
       "       dtype=float32),\n",
       " array([[-0.02223699, -0.04780057,  0.05228499,  0.06723147]],\n",
       "       dtype=float32),\n",
       " array([[-0.023193  ,  0.1465343 ,  0.05362962, -0.20850769]],\n",
       "       dtype=float32),\n",
       " array([[-0.02026231, -0.04931185,  0.04945947,  0.10059874]],\n",
       "       dtype=float32),\n",
       " array([[-0.02124855, -0.24510647,  0.05147145,  0.40846667]],\n",
       "       dtype=float32),\n",
       " array([[-0.02615068, -0.05075066,  0.05964078,  0.13244496]],\n",
       "       dtype=float32),\n",
       " array([[-0.02716569, -0.24667397,  0.06228968,  0.4433314 ]],\n",
       "       dtype=float32),\n",
       " array([[-0.03209917, -0.44261944,  0.07115631,  0.7549809 ]],\n",
       "       dtype=float32),\n",
       " array([[-0.04095156, -0.6386464 ,  0.08625592,  1.0691795 ]],\n",
       "       dtype=float32),\n",
       " array([[-0.05372449, -0.44476455,  0.10763951,  0.8047658 ]],\n",
       "       dtype=float32),\n",
       " array([[-0.06261978, -0.64118457,  0.12373483,  1.1292756 ]],\n",
       "       dtype=float32),\n",
       " array([[-0.07544347, -0.8376904 ,  0.14632034,  1.4580661 ]],\n",
       "       dtype=float32),\n",
       " array([[-0.09219728, -1.0342728 ,  0.17548166,  1.7926537 ]],\n",
       "       dtype=float32),\n",
       " array([[-0.11288273, -0.8414988 ,  0.21133474,  1.5592605 ]],\n",
       "       dtype=float32),\n",
       " array([-0.04510536,  0.0127106 , -0.02993083, -0.02058658], dtype=float32),\n",
       " array([[-0.04485115, -0.18196961, -0.03034256,  0.26250458]],\n",
       "       dtype=float32),\n",
       " array([[-0.04849054,  0.01357202, -0.02509247, -0.03959219]],\n",
       "       dtype=float32),\n",
       " array([[-0.0482191 , -0.18118128, -0.02588431,  0.2450694 ]],\n",
       "       dtype=float32),\n",
       " array([[-0.05184272,  0.01430062, -0.02098292, -0.05566438]],\n",
       "       dtype=float32),\n",
       " array([[-0.05155671, -0.18051428, -0.02209621,  0.23032512]],\n",
       "       dtype=float32),\n",
       " array([[-0.055167  , -0.37531364, -0.01748971,  0.51595706]],\n",
       "       dtype=float32),\n",
       " array([[-0.06267327, -0.17994982, -0.00717057,  0.21781445]],\n",
       "       dtype=float32),\n",
       " array([[-0.06627227, -0.37496853, -0.00281428,  0.5082269 ]],\n",
       "       dtype=float32),\n",
       " array([[-0.07377163, -0.17980704,  0.00735026,  0.2146584 ]],\n",
       "       dtype=float32),\n",
       " array([[-0.07736778,  0.01520906,  0.01164342, -0.0756969 ]],\n",
       "       dtype=float32),\n",
       " array([[-0.0770636 ,  0.21016218,  0.01012949, -0.36468366]],\n",
       "       dtype=float32),\n",
       " array([[-0.07286035,  0.01489774,  0.00283581, -0.06882402]],\n",
       "       dtype=float32),\n",
       " array([[-0.0725624 , -0.18026476,  0.00145933,  0.22475228]],\n",
       "       dtype=float32),\n",
       " array([[-0.0761677 , -0.37540755,  0.00595438,  0.51789516]],\n",
       "       dtype=float32),\n",
       " array([[-0.08367585, -0.18036993,  0.01631228,  0.22709452]],\n",
       "       dtype=float32),\n",
       " array([[-0.08728325,  0.01451516,  0.02085417, -0.06039861]],\n",
       "       dtype=float32),\n",
       " array([[-0.08699294, -0.1808995 ,  0.0196462 ,  0.23879032]],\n",
       "       dtype=float32),\n",
       " array([[-0.09061093, -0.37629652,  0.02442201,  0.5376049 ]],\n",
       "       dtype=float32),\n",
       " array([[-0.09813686, -0.18152629,  0.03517411,  0.25271603]],\n",
       "       dtype=float32),\n",
       " array([[-0.10176738,  0.01307621,  0.04022843, -0.02866811]],\n",
       "       dtype=float32),\n",
       " array([[-0.10150586,  0.20759887,  0.03965506, -0.30839205]],\n",
       "       dtype=float32),\n",
       " array([[-0.09735388,  0.01193497,  0.03348722, -0.00347142]],\n",
       "       dtype=float32),\n",
       " array([[-0.09711518, -0.18365084,  0.03341779,  0.2995862 ]],\n",
       "       dtype=float32),\n",
       " array([[-0.1007882 ,  0.01097924,  0.03940952,  0.0176271 ]],\n",
       "       dtype=float32),\n",
       " array([[-0.10056861, -0.18468508,  0.03976206,  0.3224791 ]],\n",
       "       dtype=float32),\n",
       " array([[-0.10426231,  0.00984877,  0.04621164,  0.04259593]],\n",
       "       dtype=float32),\n",
       " array([[-0.10406534,  0.20427865,  0.04706356, -0.23515613]],\n",
       "       dtype=float32),\n",
       " array([[-0.09997977,  0.39869767,  0.04236044, -0.5126302 ]],\n",
       "       dtype=float32),\n",
       " array([[-0.09200582,  0.20300548,  0.03210783, -0.20690498]],\n",
       "       dtype=float32),\n",
       " array([[-0.08794571,  0.00743946,  0.02796973,  0.09573094]],\n",
       "       dtype=float32),\n",
       " array([[-0.08779692, -0.18807197,  0.02988435,  0.3971054 ]],\n",
       "       dtype=float32),\n",
       " array([[-0.09155836, -0.38360488,  0.03782646,  0.69905853]],\n",
       "       dtype=float32),\n",
       " array([[-0.09923045, -0.5792303 ,  0.05180763,  1.0034051 ]],\n",
       "       dtype=float32),\n",
       " array([[-0.11081506, -0.3848373 ,  0.07187574,  0.7274314 ]],\n",
       "       dtype=float32),\n",
       " array([[-0.1185118 , -0.19077875,  0.08642436,  0.45820844]],\n",
       "       dtype=float32),\n",
       " array([[-0.12232738, -0.38700932,  0.09558853,  0.7768329 ]],\n",
       "       dtype=float32),\n",
       " array([[-0.13006757, -0.5833068 ,  0.11112519,  1.0979952 ]],\n",
       "       dtype=float32),\n",
       " array([[-0.1417337 , -0.38980913,  0.13308509,  0.8421425 ]],\n",
       "       dtype=float32),\n",
       " array([[-0.14952989, -0.19673032,  0.14992794,  0.5940969 ]],\n",
       "       dtype=float32),\n",
       " array([[-0.1534645 , -0.00398968,  0.16180988,  0.35214314]],\n",
       "       dtype=float32),\n",
       " array([[-0.15354429, -0.20099829,  0.16885275,  0.6911606 ]],\n",
       "       dtype=float32),\n",
       " array([[-0.15756425, -0.39801064,  0.18267596,  1.0318835 ]],\n",
       "       dtype=float32),\n",
       " array([[-0.16552447, -0.59503007,  0.20331362,  1.375904  ]],\n",
       "       dtype=float32),\n",
       " array([[-0.17742507, -0.79202753,  0.2308317 ,  1.724677  ]],\n",
       "       dtype=float32),\n",
       " array([-0.0282542 , -0.0373665 , -0.00488092,  0.02944896], dtype=float32),\n",
       " array([[-0.02900152, -0.23241812, -0.00429194,  0.3205879 ]],\n",
       "       dtype=float32),\n",
       " array([[-0.03364989, -0.03723531,  0.00211982,  0.02655457]],\n",
       "       dtype=float32),\n",
       " array([[-0.0343946 , -0.2323876 ,  0.00265091,  0.31990558]],\n",
       "       dtype=float32),\n",
       " array([[-0.03904235, -0.4275472 ,  0.00904902,  0.6134233 ]],\n",
       "       dtype=float32),\n",
       " array([[-0.04759329, -0.62279445,  0.02131749,  0.9089425 ]],\n",
       "       dtype=float32),\n",
       " array([[-0.06004918, -0.4279674 ,  0.03949634,  0.62303525]],\n",
       "       dtype=float32),\n",
       " array([[-0.06860853, -0.23341854,  0.05195704,  0.34304845]],\n",
       "       dtype=float32),\n",
       " array([[-0.0732769 , -0.03907278,  0.05881801,  0.06719172]],\n",
       "       dtype=float32),\n",
       " array([[-0.07405835,  0.15515873,  0.06016185, -0.20636919]],\n",
       "       dtype=float32),\n",
       " array([[-0.07095518,  0.34937108,  0.05603446, -0.47948375]],\n",
       "       dtype=float32),\n",
       " array([[-0.06396776,  0.5436591 ,  0.04644479, -0.7539928 ]],\n",
       "       dtype=float32),\n",
       " array([[-0.05309458,  0.73811096,  0.03136493, -1.0317063 ]],\n",
       "       dtype=float32),\n",
       " array([[-0.03833236,  0.54258615,  0.01073081, -0.7293435 ]],\n",
       "       dtype=float32),\n",
       " array([[-0.02748063,  0.34731752, -0.00385606, -0.4333026 ]],\n",
       "       dtype=float32),\n",
       " array([[-0.02053428,  0.15225036, -0.01252212, -0.14183776]],\n",
       "       dtype=float32),\n",
       " array([[-0.01748928, -0.04269003, -0.01535887,  0.1468685 ]],\n",
       "       dtype=float32),\n",
       " array([[-0.01834308,  0.15264846, -0.0124215 , -0.15062001]],\n",
       "       dtype=float32),\n",
       " array([[-0.01529011, -0.04229344, -0.0154339 ,  0.13811846]],\n",
       "       dtype=float32),\n",
       " array([[-0.01613598, -0.23719098, -0.01267153,  0.42589256]],\n",
       "       dtype=float32),\n",
       " array([[-0.0208798 , -0.43213117, -0.00415368,  0.714554  ]],\n",
       "       dtype=float32),\n",
       " array([[-0.02952242, -0.62719536,  0.0101374 ,  1.0059266 ]],\n",
       "       dtype=float32),\n",
       " array([[-0.04206633, -0.82245123,  0.03025593,  1.3017757 ]],\n",
       "       dtype=float32),\n",
       " array([[-0.05851535, -1.0179437 ,  0.05629145,  1.6037742 ]],\n",
       "       dtype=float32),\n",
       " array([[-0.07887422, -0.8235312 ,  0.08836693,  1.3291582 ]],\n",
       "       dtype=float32),\n",
       " array([[-0.09534485, -0.62962836,  0.11495009,  1.0653849 ]],\n",
       "       dtype=float32),\n",
       " array([[-0.10793742, -0.4361997 ,  0.1362578 ,  0.8108776 ]],\n",
       "       dtype=float32),\n",
       " array([[-0.11666141, -0.632899  ,  0.15247534,  1.1431278 ]],\n",
       "       dtype=float32),\n",
       " array([[-0.12931938, -0.44006187,  0.1753379 ,  0.9018823 ]],\n",
       "       dtype=float32),\n",
       " array([[-0.13812064, -0.6370701 ,  0.19337554,  1.2441493 ]],\n",
       "       dtype=float32),\n",
       " array([[-0.15086204, -0.44488198,  0.21825853,  1.0177392 ]],\n",
       "       dtype=float32),\n",
       " array([-0.02662357, -0.04295642, -0.0083328 ,  0.01968932], dtype=float32),\n",
       " array([[-0.0274827 ,  0.15228404, -0.00793901, -0.275611  ]],\n",
       "       dtype=float32),\n",
       " array([[-0.02443702,  0.34751835, -0.01345123, -0.5707873 ]],\n",
       "       dtype=float32),\n",
       " array([[-0.01748665,  0.1525876 , -0.02486698, -0.28237215]],\n",
       "       dtype=float32),\n",
       " array([[-0.0144349 , -0.042171  , -0.03051442,  0.00236528]],\n",
       "       dtype=float32),\n",
       " array([[-0.01527832, -0.23684235, -0.03046712,  0.28526652]],\n",
       "       dtype=float32),\n",
       " array([[-0.02001517, -0.04129941, -0.02476179, -0.01686771]],\n",
       "       dtype=float32),\n",
       " array([[-0.02084116, -0.23605765, -0.02509914,  0.26790088]],\n",
       "       dtype=float32),\n",
       " array([[-0.02556231, -0.4308126 , -0.01974112,  0.5525629 ]],\n",
       "       dtype=float32),\n",
       " array([[-0.03417856, -0.23541905, -0.00868987,  0.25372615]],\n",
       "       dtype=float32),\n",
       " array([[-0.03888694, -0.43041584, -0.00361534,  0.5436555 ]],\n",
       "       dtype=float32),\n",
       " array([[-0.04749526, -0.23524328,  0.00725777,  0.24983568]],\n",
       "       dtype=float32),\n",
       " array([[-0.05220012, -0.04022571,  0.01225448, -0.04054919]],\n",
       "       dtype=float32),\n",
       " array([[-0.05300464,  0.15471838,  0.0114435 , -0.32934064]],\n",
       "       dtype=float32),\n",
       " array([[-0.04991027,  0.34967557,  0.00485668, -0.618393  ]],\n",
       "       dtype=float32),\n",
       " array([[-0.04291676,  0.54472935, -0.00751117, -0.9095423 ]],\n",
       "       dtype=float32),\n",
       " array([[-0.03202217,  0.73995215, -0.02570202, -1.2045765 ]],\n",
       "       dtype=float32),\n",
       " array([[-0.01722313,  0.93539673, -0.04979355, -1.5052022 ]],\n",
       "       dtype=float32),\n",
       " array([[ 0.0014848,  0.7409129, -0.0798976, -1.2284713]], dtype=float32),\n",
       " array([[ 0.01630306,  0.54690486, -0.10446702, -0.9618525 ]],\n",
       "       dtype=float32),\n",
       " array([[ 0.02724116,  0.35333017, -0.12370407, -0.7037308 ]],\n",
       "       dtype=float32),\n",
       " array([[ 0.03430776,  0.54992956, -0.13777868, -1.0326527 ]],\n",
       "       dtype=float32),\n",
       " array([[ 0.04530635,  0.74658823, -0.15843174, -1.3652241 ]],\n",
       "       dtype=float32),\n",
       " array([[ 0.06023812,  0.9432993 , -0.18573622, -1.7029797 ]],\n",
       "       dtype=float32),\n",
       " array([[ 0.0791041 ,  1.1400108 , -0.21979582, -2.0472648 ]],\n",
       "       dtype=float32),\n",
       " array([ 0.04880211, -0.01410178, -0.0151052 ,  0.01732532], dtype=float32),\n",
       " array([[ 0.04852007,  0.1812335 , -0.01475869, -0.28008494]],\n",
       "       dtype=float32),\n",
       " array([[ 0.05214474, -0.01367484, -0.02036039,  0.00790684]],\n",
       "       dtype=float32),\n",
       " array([[ 0.05187125,  0.1817331 , -0.02020226, -0.29112986]],\n",
       "       dtype=float32),\n",
       " array([[ 0.05550591, -0.01309506, -0.02602485, -0.00488633]],\n",
       "       dtype=float32),\n",
       " array([[ 0.05524401, -0.20783429, -0.02612258,  0.27947316]],\n",
       "       dtype=float32),\n",
       " array([[ 0.05108732, -0.40257406, -0.02053312,  0.563804  ]],\n",
       "       dtype=float32),\n",
       " array([[ 0.04303584, -0.2071701 , -0.00925704,  0.26472354]],\n",
       "       dtype=float32),\n",
       " array([[ 0.03889244, -0.4021587 , -0.00396257,  0.5544724 ]],\n",
       "       dtype=float32),\n",
       " array([[ 0.03084926, -0.20698135,  0.00712688,  0.26054364]],\n",
       "       dtype=float32),\n",
       " array([[ 0.02670964, -0.01196185,  0.01233775, -0.02988289]],\n",
       "       dtype=float32),\n",
       " array([[ 0.0264704 ,  0.18298101,  0.01174009, -0.31864774]],\n",
       "       dtype=float32),\n",
       " array([[ 0.03013002, -0.01230616,  0.00536714, -0.02228565]],\n",
       "       dtype=float32),\n",
       " array([[ 0.0298839 ,  0.18273841,  0.00492143, -0.31327036]],\n",
       "       dtype=float32),\n",
       " array([[ 0.03353867, -0.0124533 , -0.00134398, -0.01903944]],\n",
       "       dtype=float32),\n",
       " array([[ 0.0332896 ,  0.1826879 , -0.00172477, -0.3121461 ]],\n",
       "       dtype=float32),\n",
       " array([[ 0.03694336, -0.01240944, -0.00796769, -0.02000761]],\n",
       "       dtype=float32),\n",
       " array([[ 0.03669517, -0.20741622, -0.00836784,  0.2701508 ]],\n",
       "       dtype=float32),\n",
       " array([[ 0.03254684, -0.40241778, -0.00296483,  0.56018275]],\n",
       "       dtype=float32),\n",
       " array([[ 0.02449849, -0.20725434,  0.00823883,  0.26656723]],\n",
       "       dtype=float32),\n",
       " array([[ 0.0203534 , -0.40249288,  0.01357017,  0.5618373 ]],\n",
       "       dtype=float32),\n",
       " array([[ 0.01230355, -0.20756398,  0.02480692,  0.2734604 ]],\n",
       "       dtype=float32),\n",
       " array([[ 0.00815227, -0.40303093,  0.03027613,  0.5738631 ]],\n",
       "       dtype=float32),\n",
       " array([[ 9.1647402e-05, -5.9856397e-01,  4.1753389e-02,  8.7592810e-01]],\n",
       "       dtype=float32),\n",
       " array([[-0.01187963, -0.40403372,  0.05927195,  0.5966589 ]],\n",
       "       dtype=float32),\n",
       " array([[-0.01996031, -0.20978911,  0.07120513,  0.32321942]],\n",
       "       dtype=float32),\n",
       " array([[-0.02415609, -0.40584895,  0.07766952,  0.63748056]],\n",
       "       dtype=float32),\n",
       " array([[-0.03227307, -0.60196316,  0.09041913,  0.9535769 ]],\n",
       "       dtype=float32),\n",
       " array([[-0.04431233, -0.79817766,  0.10949067,  1.2732433 ]],\n",
       "       dtype=float32),\n",
       " array([[-0.06027588, -0.6046097 ,  0.13495554,  1.016756  ]],\n",
       "       dtype=float32),\n",
       " array([[-0.07236808, -0.80124754,  0.15529066,  1.3485875 ]],\n",
       "       dtype=float32),\n",
       " array([[-0.08839303, -0.9979422 ,  0.1822624 ,  1.6855514 ]],\n",
       "       dtype=float32),\n",
       " array([[-0.10835187, -0.8053373 ,  0.21597344,  1.4547184 ]],\n",
       "       dtype=float32),\n",
       " array([-0.01710493,  0.04865397,  0.04531532,  0.00418183], dtype=float32),\n",
       " array([[-0.01613185, -0.14708759,  0.04539895,  0.3108109 ]],\n",
       "       dtype=float32),\n",
       " array([[-0.01907361,  0.04735914,  0.05161517,  0.03278404]],\n",
       "       dtype=float32),\n",
       " array([[-0.01812642,  0.24170437,  0.05227085, -0.24317744]],\n",
       "       dtype=float32),\n",
       " array([[-0.01329233,  0.04587628,  0.0474073 ,  0.06552413]],\n",
       "       dtype=float32),\n",
       " array([[-0.01237481,  0.2402876 ,  0.04871779, -0.2118327 ]],\n",
       "       dtype=float32),\n",
       " array([[-0.00756906,  0.04450418,  0.04448113,  0.09581137]],\n",
       "       dtype=float32),\n",
       " array([[-0.00667897,  0.23896131,  0.04639736, -0.18251269]],\n",
       "       dtype=float32),\n",
       " array([[-0.00189975,  0.43338972,  0.04274711, -0.4602055 ]],\n",
       "       dtype=float32),\n",
       " array([[ 0.00676805,  0.23769043,  0.033543  , -0.15436092]],\n",
       "       dtype=float32),\n",
       " array([[ 0.01152186,  0.43231645,  0.03045578, -0.43627593]],\n",
       "       dtype=float32),\n",
       " array([[ 0.02016818,  0.6269943 ,  0.02173026, -0.7192047 ]],\n",
       "       dtype=float32),\n",
       " array([[ 0.03270807,  0.821809  ,  0.00734616, -1.0049695 ]],\n",
       "       dtype=float32),\n",
       " array([[ 0.04914425,  0.6265897 , -0.01275323, -0.7099887 ]],\n",
       "       dtype=float32),\n",
       " array([[ 0.06167604,  0.43164667, -0.026953  , -0.42134732]],\n",
       "       dtype=float32),\n",
       " array([[ 0.07030898,  0.23691675, -0.03537995, -0.13728176]],\n",
       "       dtype=float32),\n",
       " array([[ 0.07504731,  0.04231894, -0.03812558,  0.14403275]],\n",
       "       dtype=float32),\n",
       " array([[ 0.07589369, -0.15223685, -0.03524493,  0.42444816]],\n",
       "       dtype=float32),\n",
       " array([[ 0.07284895,  0.04336618, -0.02675596,  0.12086597]],\n",
       "       dtype=float32),\n",
       " array([[ 0.07371628,  0.23886105, -0.02433864, -0.1801367 ]],\n",
       "       dtype=float32),\n",
       " array([[ 0.0784935 ,  0.04409568, -0.02794138,  0.10476998]],\n",
       "       dtype=float32),\n",
       " array([[ 0.07937542, -0.15061493, -0.02584598,  0.3885082 ]],\n",
       "       dtype=float32),\n",
       " array([[ 0.07636312,  0.04486416, -0.01807581,  0.08778962]],\n",
       "       dtype=float32),\n",
       " array([[ 0.0772604 , -0.14999409, -0.01632002,  0.37471524]],\n",
       "       dtype=float32),\n",
       " array([[ 0.07426052, -0.34488046, -0.00882572,  0.662208  ]],\n",
       "       dtype=float32),\n",
       " array([[ 0.0673629 , -0.14963683,  0.00441844,  0.36675924]],\n",
       "       dtype=float32),\n",
       " array([[ 0.06437017, -0.3448213 ,  0.01175363,  0.6608321 ]],\n",
       "       dtype=float32),\n",
       " array([[ 0.05747375, -0.5401048 ,  0.02497027,  0.95719266]],\n",
       "       dtype=float32),\n",
       " array([[ 0.04667165, -0.7355535 ,  0.04411412,  1.2576147 ]],\n",
       "       dtype=float32),\n",
       " array([[ 0.03196058, -0.541023  ,  0.06926642,  0.9790683 ]],\n",
       "       dtype=float32),\n",
       " array([[ 0.02114012, -0.7370018 ,  0.08884779,  1.2926795 ]],\n",
       "       dtype=float32),\n",
       " array([[ 0.00640008, -0.54311436,  0.11470138,  1.0290824 ]],\n",
       "       dtype=float32),\n",
       " array([[-0.0044622 , -0.73956037,  0.13528302,  1.3554635 ]],\n",
       "       dtype=float32),\n",
       " array([[-0.01925341, -0.93609554,  0.16239229,  1.6872247 ]],\n",
       "       dtype=float32),\n",
       " array([[-0.03797532, -0.74318177,  0.19613679,  1.449195  ]],\n",
       "       dtype=float32),\n",
       " array([[-0.05283896, -0.9400985 ,  0.2251207 ,  1.796202  ]],\n",
       "       dtype=float32)]"
      ]
     },
     "execution_count": 90,
     "metadata": {},
     "output_type": "execute_result"
    }
   ],
   "source": [
    "S_actual_series"
   ]
  },
  {
   "cell_type": "code",
   "execution_count": null,
   "metadata": {},
   "outputs": [],
   "source": []
  }
 ],
 "metadata": {
  "kernelspec": {
   "display_name": "Python 3",
   "language": "python",
   "name": "python3"
  },
  "language_info": {
   "codemirror_mode": {
    "name": "ipython",
    "version": 3
   },
   "file_extension": ".py",
   "mimetype": "text/x-python",
   "name": "python",
   "nbconvert_exporter": "python",
   "pygments_lexer": "ipython3",
   "version": "3.9.6"
  },
  "orig_nbformat": 4,
  "vscode": {
   "interpreter": {
    "hash": "0ef4eba0bef179de2f7a9543a17afda401074cec081dd552282a874e9ff31d3f"
   }
  }
 },
 "nbformat": 4,
 "nbformat_minor": 2
}
