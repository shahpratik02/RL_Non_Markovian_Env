{
 "cells": [
  {
   "cell_type": "code",
   "execution_count": 1,
   "metadata": {},
   "outputs": [],
   "source": [
    "import gym\n",
    "import matplotlib.pyplot as plt\n",
    "import time\n",
    "import random\n",
    "from collections import deque\n",
    "import tensorflow as tf\n",
    "from tqdm import tqdm \n",
    "from tensorflow.keras import Sequential \n",
    "from tensorflow.keras.activations import relu, linear\n",
    "from tensorflow.keras.layers import Dense\n",
    "from tensorflow.keras.optimizers import RMSprop\n",
    "import math\n",
    "from tensorflow.keras.optimizers import Adam\n",
    "from tqdm import trange\n",
    "import pandas as pd\n",
    "import gc\n",
    "import os\n"
   ]
  },
  {
   "cell_type": "code",
   "execution_count": 2,
   "metadata": {},
   "outputs": [],
   "source": [
    "#print(np.__config__.show())"
   ]
  },
  {
   "cell_type": "code",
   "execution_count": 3,
   "metadata": {},
   "outputs": [],
   "source": [
    "# os.environ[\"OMP_NUM_THREADS\"] = \"1\" # export OMP_NUM_THREADS=1\n",
    "# os.environ[\"OPENBLAS_NUM_THREADS\"] = \"1\" # export OPENBLAS_NUM_THREADS=1\n",
    "# os.environ[\"MKL_NUM_THREADS\"] = \"1\" # export MKL_NUM_THREADS=1\n",
    "# os.environ[\"VECLIB_MAXIMUM_THREADS\"] = \"1\" # export VECLIB_MAXIMUM_THREADS=1\n",
    "# os.environ[\"NUMEXPR_NUM_THREADS\"] = \"1\" # export NUMEXPR_NUM_THREADS=1"
   ]
  },
  {
   "cell_type": "code",
   "execution_count": 4,
   "metadata": {},
   "outputs": [],
   "source": [
    "import numpy as np \n",
    "import time"
   ]
  },
  {
   "cell_type": "code",
   "execution_count": 5,
   "metadata": {},
   "outputs": [
    {
     "name": "stdout",
     "output_type": "stream",
     "text": [
      "Num GPUs: 1\n"
     ]
    }
   ],
   "source": [
    "physical_devices = tf.config.list_physical_devices('GPU')\n",
    "print(\"Num GPUs:\", len(physical_devices))\n",
    "# gpus = tf.config.experimental.list_physical_devices('GPU')\n",
    "# tf.config.experimental.set_memory_growth(gpus[0], True)"
   ]
  },
  {
   "cell_type": "code",
   "execution_count": 6,
   "metadata": {},
   "outputs": [],
   "source": [
    "gpus = tf.config.experimental.list_physical_devices('GPU')\n",
    "if gpus:\n",
    "  try:\n",
    "    tf.config.experimental.set_virtual_device_configuration(gpus[0], [tf.config.experimental.VirtualDeviceConfiguration(memory_limit=5120)])\n",
    "  except RuntimeError as e:\n",
    "    print(e)"
   ]
  },
  {
   "cell_type": "code",
   "execution_count": 7,
   "metadata": {},
   "outputs": [
    {
     "name": "stdout",
     "output_type": "stream",
     "text": [
      "c:\\Users\\prati\\AppData\\Local\\Programs\\Python\\Python39\\python.exe\n"
     ]
    }
   ],
   "source": [
    "import sys\n",
    "print(sys.executable)"
   ]
  },
  {
   "cell_type": "code",
   "execution_count": 8,
   "metadata": {},
   "outputs": [],
   "source": [
    "\n",
    "GAMMA = 0.99\n",
    "LEARNING_RATE = 1e-5\n",
    "\n",
    "MEMORY_SIZE = 1000000\n",
    "BATCH_SIZE = 32\n",
    "\n",
    "EPSILON_MAX = 1.0\n",
    "EPSILON_MIN = 0.01\n",
    "EXPLORATION_DECAY = 0.98"
   ]
  },
  {
   "cell_type": "code",
   "execution_count": 9,
   "metadata": {},
   "outputs": [],
   "source": [
    "state_space=2\n",
    "obs_space=1\n",
    "action_space=3\n",
    "intermediate_dim=16"
   ]
  },
  {
   "cell_type": "code",
   "execution_count": 10,
   "metadata": {},
   "outputs": [],
   "source": [
    "#env = gym.make('MountainCar-v0')\n",
    "\n",
    "from mountain_car import MountainCarEnv\n",
    "env=MountainCarEnv()\n"
   ]
  },
  {
   "cell_type": "code",
   "execution_count": 11,
   "metadata": {},
   "outputs": [],
   "source": [
    "class QModel:\n",
    "    def __init__(self, input_dim, output_dim, lr):\n",
    "        self.input_dim = input_dim\n",
    "        self.output_dim = output_dim\n",
    "        self.lr = lr\n",
    "        self.Qpolicy = self.create()\n",
    "        self.Qtarget = self.create() \n",
    "        self.Qtarget.set_weights(self.Qpolicy.get_weights())\n",
    "        \n",
    "    def create(self):\n",
    "        model = Sequential()\n",
    "        model.add(tf.keras.layers.InputLayer(input_shape=(1,state_space)))\n",
    "        model.add(Dense(512,activation = 'relu'))\n",
    "        model.add(Dense(256, activation = 'relu'))\n",
    "        model.add(Dense(128, activation = 'relu'))\n",
    "        model.add(Dense(self.output_dim, activation = 'linear'))\n",
    "        model.compile(optimizer = RMSprop(learning_rate = self.lr, rho = 0.95, epsilon = 1e-7), loss = \"mse\", metrics = ['accuracy'])\n",
    "        return model"
   ]
  },
  {
   "cell_type": "code",
   "execution_count": 12,
   "metadata": {},
   "outputs": [],
   "source": [
    "class DQNSolver:\n",
    "    def __init__(self, state_space,action_space, decay_coe = 0.99975, \n",
    "                  memory_size = 10_000,  C = 5):\n",
    "        \n",
    "        #self.env = gym.make('CartPole-v0')\n",
    "\n",
    "        self.states = state_space\n",
    "        self.n_actions = action_space\n",
    "        \n",
    "        self.actions = [i for i in range(self.n_actions)]\n",
    "        \n",
    "        self.lr = LEARNING_RATE\n",
    "        self.gamma = GAMMA\n",
    "        self.epsilon = EPSILON_MAX\n",
    "        self.decay_coe = decay_coe\n",
    "        self.min_eps = EPSILON_MIN\n",
    "        #self.episodes = episodes\n",
    "        self.batch_size = BATCH_SIZE\n",
    "        self.memory = deque(maxlen = memory_size) # replay memory \n",
    "        self.C = C\n",
    "        \n",
    "        self.terminal_state = False # end of the episode\n",
    "        self.target_counter = 0 \n",
    "        \n",
    "        # Plot data\n",
    "        #self.timestep = self.episodes / 10\n",
    "\n",
    "        \n",
    "        \n",
    "        \n",
    "        self.model = QModel((1,self.states), self.n_actions, self.lr)\n",
    "        # Smooth epsilon \n",
    "        # self.a = 0.35\n",
    "        # self.b = 0.1\n",
    "        # self.c = 0.01\n",
    "        \n",
    "    def state_shape(self,states):\n",
    "        states = np.array(states)\n",
    "        return states.reshape(-1,*states.shape)\n",
    "    def update_target_model(self):\n",
    "        \"\"\"\n",
    "        Updates the current target_q_net with the q_net which brings all the\n",
    "        training in the q_net to the target_q_net.\n",
    "        :return: None\n",
    "        \"\"\"\n",
    "        self.model.Qtarget.set_weights(self.model.Qpolicy.get_weights())\n",
    "    def decrement_epsilon(self):\n",
    "        '''\n",
    "        if self.epsilon > self.min_eps:\n",
    "            self.epsilon *= self.decay_coe\n",
    "        else:\n",
    "            self.epsilon = self.min_eps\n",
    "        '''\n",
    "        # s_time = (time - self.a*self.episodes) / (self.b*self.episodes) \n",
    "        # cosh = np.cosh(math.exp(-s_time))\n",
    "        # self.epsilon = 1 - (1/cosh + (time*self.c/self.episodes))\n",
    "        if self.epsilon>self.min_eps:\n",
    "            self.epsilon*=EXPLORATION_DECAY\n",
    "        else:\n",
    "            self.epsilon=self.min_eps\n",
    "    def forget(self):\n",
    "        self.memory.clear()\n",
    "\n",
    "    def remember(self, s, a, r, s_, done):\n",
    "        self.memory.append([self.state_shape(s), a, r, self.state_shape(s_), done])\n",
    "        \n",
    "    def act(self, states):\n",
    "        if np.random.random() > (1 - self.epsilon):\n",
    "            action = np.random.choice(self.actions)\n",
    "        else:\n",
    "            states = self.state_shape(states)\n",
    "            states.reshape(1,1,self.states)\n",
    "#             states=[states]\n",
    "#             states=np.array(states)\n",
    "            #print(states.shape)\n",
    "            action = np.argmax(np.array(self.model.Qpolicy.predict_on_batch(states)))\n",
    "            \n",
    "        return action\n",
    "            \n",
    "    def minibatch(self):\n",
    "        return random.sample(self.memory, self.batch_size)\n",
    "    \n",
    "\n",
    "        #plt.savefig(r'RL/loss - e{}v2.png'.format(episode), dpi = 500)\n",
    "        \n",
    "    def train(self):\n",
    "        # X - states passed to the NN, y - target\n",
    "        \n",
    "        X, y = [], []\n",
    "        \n",
    "        if len(self.memory) >= self.batch_size: \n",
    "            SARS = self.minibatch()\n",
    "        \n",
    "            s = self.state_shape([row[0] for row in SARS])\n",
    "            s=s.reshape(BATCH_SIZE,1,state_space)\n",
    "            #print(s.shape)\n",
    "            qvalue = np.array(self.model.Qpolicy.predict_on_batch(s))\n",
    "            #print(qvalue)\n",
    "\n",
    "            s_ = self.state_shape([row[3] for row in SARS])\n",
    "            s_=s_.reshape(BATCH_SIZE,1,state_space)\n",
    "            future_qvalue = np.array(self.model.Qtarget.predict_on_batch(s_))\n",
    "            #print(\"2\")\n",
    "            #print(future_qvalue)\n",
    "\n",
    "            for index, (state, action, reward, state_, done) in enumerate(SARS):\n",
    "                if done == True:\n",
    "                    Qtarget = reward\n",
    "                else:\n",
    "                    Qtarget = reward + self.gamma * np.max(future_qvalue[index][0])\n",
    "            \n",
    "                qcurr = qvalue[index][0]\n",
    "                #print(qcurr)\n",
    "                qcurr[int(action)] = Qtarget \n",
    "                #print(qcurr)\n",
    "                X.append(state)\n",
    "                y.append(qcurr)\n",
    "#             X_dataset=tf.data.Dataset.from_tensor_slices(X).batch(64)\n",
    "#             y_dataset=tf.data.Dataset.from_tensor_slices(y).batch(64)\n",
    "#             final_dataset=tf.data.Dataset.zip((X_dataset, y_dataset))\n",
    "            X, y = np.array(X).reshape(self.batch_size,1,self.states), np.array(y).reshape(self.batch_size, 1, self.n_actions)\n",
    "            \n",
    "           #print(X.shape,\"   \",y.shape  )                          \n",
    "            #loss = self.model.Qpolicy.fit(final_dataset,verbose=0)   \n",
    "            X, y = np.array(X).reshape(self.batch_size,1,self.states), np.array(y).reshape(self.batch_size, 1, self.n_actions)\n",
    "           # print(self.model.Qpolicy.predict_on_batch(X))\n",
    "           #print(X.shape,\"   \",y.shape  )                          \n",
    "            loss = self.model.Qpolicy.train_on_batch(X, y,return_dict=True)\n",
    "            \n",
    "            #self.history.append(loss.history['loss'][0])\n",
    "            \n",
    "                \n",
    "            # if self.terminal_state:\n",
    "            #     self.target_counter+=1\n",
    "\n",
    "            # # C -> target network update frequency\n",
    "            # if self.target_counter > self.C: \n",
    "            #     self.model.Qtarget.set_weights(self.model.Qpolicy.get_weights())\n",
    "            #     self.target_counter = 0 \n",
    "\n",
    "                \n",
    "  "
   ]
  },
  {
   "cell_type": "code",
   "execution_count": 13,
   "metadata": {},
   "outputs": [],
   "source": [
    "class Encoder(tf.keras.layers.Layer):\n",
    "  def __init__(self,state_space, intermediate_dim):\n",
    "    super(Encoder, self).__init__()\n",
    "    self.input_layer=tf.keras.layers.InputLayer(input_shape=(6,))\n",
    "    self.hidden_layer1=tf.keras.layers.Dense(\n",
    "      units=intermediate_dim,\n",
    "      activation=tf.nn.relu,\n",
    "      kernel_initializer='he_uniform'\n",
    "    )\n",
    "    #self.batchnorm_layer1=tf.keras.layers.BatchNormalization()\n",
    "    self.hidden_layer2 = tf.keras.layers.Dense(\n",
    "      units=intermediate_dim,\n",
    "      activation=tf.nn.relu,\n",
    "      kernel_initializer='he_uniform',activity_regularizer=tf.keras.regularizers.L1(0.001)\n",
    "    )\n",
    "    #self.batchnorm_layer2=tf.keras.layers.BatchNormalization()\n",
    "    self.output_layer = tf.keras.layers.Dense(\n",
    "      units=state_space,\n",
    "      activation=tf.keras.activations.linear,activity_regularizer=tf.keras.regularizers.L1(0.001)\n",
    "    )\n",
    "    \n",
    "  def call(self, input_features):\n",
    "    activation0=self.input_layer(input_features)\n",
    "    activation1 = self.hidden_layer1(activation0)\n",
    "    #activation1=self.batchnorm_layer1(activation0)\n",
    "    activation2=self.hidden_layer2(activation1)\n",
    "    #activation2=self.batchnorm_layer2(activation1)\n",
    "    return self.output_layer(activation2)"
   ]
  },
  {
   "cell_type": "code",
   "execution_count": 14,
   "metadata": {},
   "outputs": [],
   "source": [
    "dqn_solver=DQNSolver(state_space=state_space,action_space=action_space)\n"
   ]
  },
  {
   "cell_type": "code",
   "execution_count": 15,
   "metadata": {},
   "outputs": [],
   "source": [
    "class Decoder(tf.keras.layers.Layer):\n",
    "  def __init__(self, intermediate_dim, obs_space):\n",
    "    super().__init__()\n",
    "    self.hidden_layer1 = tf.keras.layers.Dense(\n",
    "      units=intermediate_dim,\n",
    "      activation=tf.nn.relu,\n",
    "      kernel_initializer='he_uniform'\n",
    "    )\n",
    "    #self.batchnorm_layer1=tf.keras.layers.BatchNormalization()\n",
    "    self.hidden_layer2 = tf.keras.layers.Dense(\n",
    "      units=intermediate_dim,\n",
    "      activation=tf.nn.relu,\n",
    "      kernel_initializer='he_uniform'\n",
    "    )\n",
    "    #self.batchnorm_layer2=tf.keras.layers.BatchNormalization()\n",
    "    self.output_layer = tf.keras.layers.Dense(\n",
    "      units=obs_space,\n",
    "      activation=tf.keras.activations.linear\n",
    "    )\n",
    "  \n",
    "  def call(self, input_features,var):\n",
    "    if(len(input_features.get_shape())==2):\n",
    "      activation1 = self.hidden_layer1(tf.concat((input_features,var),axis=1))\n",
    "    else:\n",
    "      temp=[]\n",
    "      for i in range(len(input_features)):\n",
    "          temp.append(tf.concat((input_features[i],var[i]),axis=1))\n",
    "      temp=tf.convert_to_tensor(temp)\n",
    "      activation1 = self.hidden_layer1(temp)\n",
    "    #activation2=self.batchnorm_layer1(activation1)\n",
    "    activation2=self.hidden_layer2(activation1)\n",
    "    #activation4=self.batchnorm_layer2(activation3)\n",
    "\n",
    "    return self.output_layer(activation2)"
   ]
  },
  {
   "cell_type": "code",
   "execution_count": 16,
   "metadata": {},
   "outputs": [],
   "source": [
    "class Autoencoder(tf.keras.Model):\n",
    "  def __init__(self, intermediate_dim, state_space,obs_space):\n",
    "    super(Autoencoder, self).__init__()\n",
    "    self.encoder = Encoder(intermediate_dim=intermediate_dim,state_space=state_space)\n",
    "    \n",
    "    self.decoder = Decoder(\n",
    "      intermediate_dim=intermediate_dim,\n",
    "      obs_space=obs_space\n",
    "    )\n",
    "    \n",
    "  \n",
    "  def call(self, input_features,var):\n",
    "    code = self.encoder(input_features)\n",
    "    #self.var=tf.Variable(var,trainable=False)\n",
    "    reconstructed = self.decoder(code,var)\n",
    "    return reconstructed\n",
    "\n",
    "\n",
    "opt = tf.optimizers.Adam(learning_rate=LEARNING_RATE)"
   ]
  },
  {
   "cell_type": "code",
   "execution_count": 17,
   "metadata": {},
   "outputs": [],
   "source": [
    "\n",
    "def loss(model,input_features, obs,var):\n",
    "  reconstruction_error = tf.reduce_mean(tf.square(tf.subtract(model(input_features,var), obs)))\n",
    "  return reconstruction_error\n",
    "  \n",
    "def train(loss, model, opt,input_features,obs,var):\n",
    "  with tf.GradientTape() as tape:\n",
    "    gradients = tape.gradient(loss(model,input_features, obs,var), model.trainable_variables)\n",
    "  gradient_variables = zip(gradients, model.trainable_variables)\n",
    "  opt.apply_gradients(gradient_variables)"
   ]
  },
  {
   "cell_type": "code",
   "execution_count": 18,
   "metadata": {},
   "outputs": [
    {
     "data": {
      "text/plain": [
       "(array([-0.5771437,  0.       ], dtype=float32), {})"
      ]
     },
     "execution_count": 18,
     "metadata": {},
     "output_type": "execute_result"
    }
   ],
   "source": [
    "obs=env.reset()\n",
    "obs"
   ]
  },
  {
   "cell_type": "code",
   "execution_count": 19,
   "metadata": {},
   "outputs": [],
   "source": [
    "autoencoder = Autoencoder(\n",
    "  intermediate_dim=intermediate_dim,\n",
    "  state_space=state_space,obs_space=obs_space\n",
    ")\n"
   ]
  },
  {
   "cell_type": "code",
   "execution_count": 20,
   "metadata": {},
   "outputs": [
    {
     "data": {
      "text/plain": [
       "[]"
      ]
     },
     "execution_count": 20,
     "metadata": {},
     "output_type": "execute_result"
    }
   ],
   "source": [
    "autoencoder.weights"
   ]
  },
  {
   "cell_type": "code",
   "execution_count": 21,
   "metadata": {},
   "outputs": [],
   "source": [
    "def get_obs(state):\n",
    "    return [state[0]]"
   ]
  },
  {
   "cell_type": "code",
   "execution_count": 22,
   "metadata": {},
   "outputs": [],
   "source": [
    "def data_collection(total_episodes,dqn_solver,autoencoder):\n",
    "\n",
    "    S_series=[]\n",
    "    S_actual_series=[]\n",
    "    O_series=[]\n",
    "    U_series=[]\n",
    "    R_series=[]\n",
    "    O_predicted_series=[]\n",
    "    Done_series=[]\n",
    "    O_series.append(np.array([[0.0,0.0]]))\n",
    "    O_predicted_series.append(np.array([[0.0,0.0]]))\n",
    "    encoder=autoencoder.encoder\n",
    "    decoder=autoencoder.decoder\n",
    "\n",
    "    ep_no=0\n",
    "    i=0\n",
    "    while(ep_no<total_episodes):\n",
    "        s0=env.reset()\n",
    "        s0=s0[0]\n",
    "        #s0=np.reshape(s0,[1,state_space])\n",
    "        \n",
    "        step=0\n",
    "        done=False\n",
    "        for t in range(200):\n",
    "            if(step==0):\n",
    "                s=s0\n",
    "                S_actual_series.append(s)\n",
    "            else:\n",
    "                s=encoder(tf.concat((S_series[i-1],O_series[i],U_series[i-1]),axis=1))\n",
    "                s=np.reshape(s,(1,state_space))\n",
    "                # s=s.tolist()\n",
    "                # s[0][0]=np.tanh(s[0][0])*4.8\n",
    "                # s[0][2]=np.tanh(s[0][2])*0.418\n",
    "                # s=np.array(s)\n",
    "                \n",
    "\n",
    "            s=np.reshape(s,(1,state_space))\n",
    "            S_series.append(s)\n",
    "            action=dqn_solver.act(s)\n",
    "\n",
    "            obs, reward, done, info ,_= env.step(int(action))\n",
    "            obs=get_obs(obs)\n",
    "            Done_series.append(done)\n",
    "            #actual_state=np.reshape(actual_state,[1,state_space])\n",
    "            #S_actual_series.append(actual_state)\n",
    "            action=np.array([[action]])\n",
    "            action=action.astype('float32')\n",
    "            U_series.append(action)\n",
    "            obs=np.reshape(obs,[1,obs_space])\n",
    "\n",
    "            O_series.append(obs)\n",
    "            \n",
    "            R_series.append(reward)\n",
    "            # print(s.shape)\n",
    "            # print(action.shape)\n",
    "            obs_pred=decoder(s,action)\n",
    "            obs_pred=np.reshape(obs_pred,[1,obs_space])\n",
    "            obs_pred=obs_pred.tolist()\n",
    "            # obs_pred[0][0]=np.tanh(obs_pred[0][0])*4.8\n",
    "            # obs_pred[0][1]=np.tanh(obs_pred[0][1])*0.418\n",
    "            obs_pred=np.array(obs_pred)\n",
    "            O_predicted_series.append(obs_pred)\n",
    "            i+=1\n",
    "            step+=1\n",
    "            if done:\n",
    "                break\n",
    "        ep_no+=1\n",
    "    return S_series,O_series,U_series,R_series,O_predicted_series,Done_series\n"
   ]
  },
  {
   "cell_type": "code",
   "execution_count": 23,
   "metadata": {},
   "outputs": [],
   "source": [
    "def dqn_training(dqn_solver,epochs,S_series,U_series,R_series,Done_series):\n",
    "    dqn_solver.forget()\n",
    "    for i in range(len(S_series)-1):\n",
    "        dqn_solver.remember(S_series[i][0],U_series[i][0][0],R_series[i],S_series[i+1][0],Done_series[i])\n",
    "    for j in trange(epochs):\n",
    "        dqn_solver.train()\n",
    "        if(j%5==0):\n",
    "            dqn_solver.update_target_model()\n",
    "        time.sleep(0.002)\n",
    "    "
   ]
  },
  {
   "cell_type": "code",
   "execution_count": 24,
   "metadata": {},
   "outputs": [],
   "source": [
    "\n",
    "def autoencoder_training(epochs,autoencoder,S_series,O_series,U_series):\n",
    "    temp1=[]\n",
    "    temp2=[]\n",
    "    temp3=[]\n",
    "    for i in range(2,len(S_series)-1):\n",
    "        temp1.append(tf.concat((S_series[i-1],O_series[i],U_series[i-1]),axis=1))\n",
    "        temp2.append(O_series[i+1])\n",
    "        temp3.append(U_series[i])\n",
    "    input_features_dataset=tf.data.Dataset.from_tensor_slices(temp1).batch(32)\n",
    "    O_actual_dataset=tf.data.Dataset.from_tensor_slices(temp2).batch(32)\n",
    "    var_dataset=tf.data.Dataset.from_tensor_slices(temp3).batch(32)\n",
    "    final_dataset=tf.data.Dataset.zip((input_features_dataset, O_actual_dataset,var_dataset))\n",
    "    \n",
    "    for epoch in trange(epochs):\n",
    "        for x in final_dataset:\n",
    "            train(loss,autoencoder,opt,x[0],x[1],x[2])\n",
    "        time.sleep(0.1)"
   ]
  },
  {
   "cell_type": "code",
   "execution_count": 25,
   "metadata": {},
   "outputs": [],
   "source": [
    "rewards_storage=[]"
   ]
  },
  {
   "cell_type": "code",
   "execution_count": 26,
   "metadata": {},
   "outputs": [],
   "source": [
    "#t"
   ]
  },
  {
   "cell_type": "code",
   "execution_count": 27,
   "metadata": {},
   "outputs": [],
   "source": [
    "#S_series,O_series,U_series,R_series,O_predicted_series,S_actual_series,Done_series=data_collection(100,dqn_solver,autoencoder)"
   ]
  },
  {
   "cell_type": "code",
   "execution_count": 28,
   "metadata": {},
   "outputs": [],
   "source": [
    "#env.step(int(U_series[2]))"
   ]
  },
  {
   "cell_type": "code",
   "execution_count": 29,
   "metadata": {},
   "outputs": [],
   "source": [
    "#O_series[3]"
   ]
  },
  {
   "cell_type": "code",
   "execution_count": 30,
   "metadata": {},
   "outputs": [],
   "source": [
    "def complete_loop(autoencoder,dqn_solver,epochs):\n",
    "    for epoch in range(epochs):\n",
    "        S_series,O_series,U_series,R_series,O_predicted_series,Done_series=data_collection(100,dqn_solver,autoencoder)\n",
    "        print(\"epoch: {}, total reward: {}\".format(epoch, sum(R_series)))\n",
    "        print(autoencoder.weights[0][0][0])\n",
    "        rewards_storage.append(sum(R_series))\n",
    "        if(sum(R_series)>20000):\n",
    "            df=pd.DataFrame(rewards_storage)\n",
    "            df.to_csv('rewards_final_main_1.csv')\n",
    "            \n",
    "        if(epoch<50):\n",
    "            if(epoch%2==0):\n",
    "                dqn_training(dqn_solver,500,S_series,U_series,R_series,Done_series)\n",
    "                dqn_solver.decrement_epsilon()\n",
    "                \n",
    "            else:\n",
    "                autoencoder_training(30,autoencoder,S_series,O_series,U_series)\n",
    "        else:\n",
    "            dqn_training(dqn_solver,500,S_series,U_series,R_series,Done_series)\n",
    "            print(dqn_solver.model.Qpolicy.weights[0][0][0])\n",
    "            dqn_solver.decrement_epsilon()\n",
    "        del S_series\n",
    "        del O_series\n",
    "        del U_series\n",
    "        del R_series\n",
    "        del O_predicted_series\n",
    "        del Done_series\n",
    "        gc.collect()\n",
    "        #time.sleep(0.1)"
   ]
  },
  {
   "cell_type": "code",
   "execution_count": 31,
   "metadata": {},
   "outputs": [
    {
     "data": {
      "text/plain": [
       "<tf.Tensor: shape=(), dtype=float32, numpy=0.0006975606>"
      ]
     },
     "execution_count": 31,
     "metadata": {},
     "output_type": "execute_result"
    }
   ],
   "source": [
    "dqn_solver.model.Qpolicy.weights[0][0][0]"
   ]
  },
  {
   "cell_type": "code",
   "execution_count": 32,
   "metadata": {
    "scrolled": true
   },
   "outputs": [
    {
     "name": "stdout",
     "output_type": "stream",
     "text": [
      "epoch: 0, total reward: 1916.5300618476967\n",
      "tf.Tensor(-0.79204357, shape=(), dtype=float32)\n"
     ]
    },
    {
     "name": "stderr",
     "output_type": "stream",
     "text": [
      "100%|██████████| 500/500 [00:27<00:00, 18.46it/s]\n"
     ]
    },
    {
     "name": "stdout",
     "output_type": "stream",
     "text": [
      "epoch: 1, total reward: 1921.6373016452742\n",
      "tf.Tensor(-0.79204357, shape=(), dtype=float32)\n"
     ]
    },
    {
     "name": "stderr",
     "output_type": "stream",
     "text": [
      "100%|██████████| 30/30 [17:01<00:00, 34.04s/it]\n"
     ]
    },
    {
     "name": "stdout",
     "output_type": "stream",
     "text": [
      "epoch: 2, total reward: 1924.8005411770591\n",
      "tf.Tensor(-0.7835934, shape=(), dtype=float32)\n"
     ]
    },
    {
     "name": "stderr",
     "output_type": "stream",
     "text": [
      "100%|██████████| 500/500 [00:25<00:00, 19.81it/s]\n"
     ]
    },
    {
     "name": "stdout",
     "output_type": "stream",
     "text": [
      "epoch: 3, total reward: 1919.4694135358977\n",
      "tf.Tensor(-0.7835934, shape=(), dtype=float32)\n"
     ]
    },
    {
     "name": "stderr",
     "output_type": "stream",
     "text": [
      "100%|██████████| 30/30 [16:56<00:00, 33.87s/it]\n"
     ]
    },
    {
     "name": "stdout",
     "output_type": "stream",
     "text": [
      "epoch: 4, total reward: 1918.879205079815\n",
      "tf.Tensor(-0.74893594, shape=(), dtype=float32)\n"
     ]
    },
    {
     "name": "stderr",
     "output_type": "stream",
     "text": [
      "100%|██████████| 500/500 [00:25<00:00, 19.61it/s]\n"
     ]
    },
    {
     "name": "stdout",
     "output_type": "stream",
     "text": [
      "epoch: 5, total reward: 1919.5908957493264\n",
      "tf.Tensor(-0.74893594, shape=(), dtype=float32)\n"
     ]
    },
    {
     "name": "stderr",
     "output_type": "stream",
     "text": [
      "100%|██████████| 30/30 [16:57<00:00, 33.92s/it]\n"
     ]
    },
    {
     "name": "stdout",
     "output_type": "stream",
     "text": [
      "epoch: 6, total reward: 1926.395546758834\n",
      "tf.Tensor(-0.73780584, shape=(), dtype=float32)\n"
     ]
    },
    {
     "name": "stderr",
     "output_type": "stream",
     "text": [
      "100%|██████████| 500/500 [00:25<00:00, 19.79it/s]\n"
     ]
    },
    {
     "name": "stdout",
     "output_type": "stream",
     "text": [
      "epoch: 7, total reward: 1922.6144458161764\n",
      "tf.Tensor(-0.73780584, shape=(), dtype=float32)\n"
     ]
    },
    {
     "name": "stderr",
     "output_type": "stream",
     "text": [
      "100%|██████████| 30/30 [17:00<00:00, 34.00s/it]\n"
     ]
    },
    {
     "name": "stdout",
     "output_type": "stream",
     "text": [
      "epoch: 8, total reward: 1929.6660982759145\n",
      "tf.Tensor(-0.73271763, shape=(), dtype=float32)\n"
     ]
    },
    {
     "name": "stderr",
     "output_type": "stream",
     "text": [
      "100%|██████████| 500/500 [00:25<00:00, 19.84it/s]\n"
     ]
    },
    {
     "name": "stdout",
     "output_type": "stream",
     "text": [
      "epoch: 9, total reward: 1920.3222595999428\n",
      "tf.Tensor(-0.73271763, shape=(), dtype=float32)\n"
     ]
    },
    {
     "name": "stderr",
     "output_type": "stream",
     "text": [
      "100%|██████████| 30/30 [17:02<00:00, 34.08s/it]\n"
     ]
    },
    {
     "name": "stdout",
     "output_type": "stream",
     "text": [
      "epoch: 10, total reward: 1924.6914145700468\n",
      "tf.Tensor(-0.7210666, shape=(), dtype=float32)\n"
     ]
    },
    {
     "name": "stderr",
     "output_type": "stream",
     "text": [
      "100%|██████████| 500/500 [00:25<00:00, 19.83it/s]\n"
     ]
    },
    {
     "name": "stdout",
     "output_type": "stream",
     "text": [
      "epoch: 11, total reward: 1928.9325281641882\n",
      "tf.Tensor(-0.7210666, shape=(), dtype=float32)\n"
     ]
    },
    {
     "name": "stderr",
     "output_type": "stream",
     "text": [
      "100%|██████████| 30/30 [17:00<00:00, 34.00s/it]\n"
     ]
    },
    {
     "name": "stdout",
     "output_type": "stream",
     "text": [
      "epoch: 12, total reward: 1919.4223992389796\n",
      "tf.Tensor(-0.71204513, shape=(), dtype=float32)\n"
     ]
    },
    {
     "name": "stderr",
     "output_type": "stream",
     "text": [
      "100%|██████████| 500/500 [00:25<00:00, 19.40it/s]\n"
     ]
    },
    {
     "name": "stdout",
     "output_type": "stream",
     "text": [
      "epoch: 13, total reward: 1925.8533464991792\n",
      "tf.Tensor(-0.71204513, shape=(), dtype=float32)\n"
     ]
    },
    {
     "name": "stderr",
     "output_type": "stream",
     "text": [
      "100%|██████████| 30/30 [17:05<00:00, 34.19s/it]\n"
     ]
    },
    {
     "name": "stdout",
     "output_type": "stream",
     "text": [
      "epoch: 14, total reward: 1926.0117404958644\n",
      "tf.Tensor(-0.7055933, shape=(), dtype=float32)\n"
     ]
    },
    {
     "name": "stderr",
     "output_type": "stream",
     "text": [
      "100%|██████████| 500/500 [00:25<00:00, 19.38it/s]\n"
     ]
    },
    {
     "name": "stdout",
     "output_type": "stream",
     "text": [
      "epoch: 15, total reward: 1927.1159278967502\n",
      "tf.Tensor(-0.7055933, shape=(), dtype=float32)\n"
     ]
    },
    {
     "name": "stderr",
     "output_type": "stream",
     "text": [
      "100%|██████████| 30/30 [17:30<00:00, 35.02s/it]\n"
     ]
    },
    {
     "name": "stdout",
     "output_type": "stream",
     "text": [
      "epoch: 16, total reward: 1922.2352486610987\n",
      "tf.Tensor(-0.70029736, shape=(), dtype=float32)\n"
     ]
    },
    {
     "name": "stderr",
     "output_type": "stream",
     "text": [
      "100%|██████████| 500/500 [00:25<00:00, 19.85it/s]\n"
     ]
    },
    {
     "name": "stdout",
     "output_type": "stream",
     "text": [
      "epoch: 17, total reward: 1925.28631925043\n",
      "tf.Tensor(-0.70029736, shape=(), dtype=float32)\n"
     ]
    },
    {
     "name": "stderr",
     "output_type": "stream",
     "text": [
      "100%|██████████| 30/30 [16:33<00:00, 33.11s/it]\n"
     ]
    },
    {
     "name": "stdout",
     "output_type": "stream",
     "text": [
      "epoch: 18, total reward: 1917.817328853713\n",
      "tf.Tensor(-0.69654685, shape=(), dtype=float32)\n"
     ]
    },
    {
     "name": "stderr",
     "output_type": "stream",
     "text": [
      "100%|██████████| 500/500 [00:25<00:00, 19.72it/s]\n"
     ]
    },
    {
     "name": "stdout",
     "output_type": "stream",
     "text": [
      "epoch: 19, total reward: 1923.3396081726519\n",
      "tf.Tensor(-0.69654685, shape=(), dtype=float32)\n"
     ]
    },
    {
     "name": "stderr",
     "output_type": "stream",
     "text": [
      "100%|██████████| 30/30 [16:32<00:00, 33.07s/it]\n"
     ]
    },
    {
     "name": "stdout",
     "output_type": "stream",
     "text": [
      "epoch: 20, total reward: 1920.93099474105\n",
      "tf.Tensor(-0.69222647, shape=(), dtype=float32)\n"
     ]
    },
    {
     "name": "stderr",
     "output_type": "stream",
     "text": [
      "100%|██████████| 500/500 [00:25<00:00, 19.76it/s]\n"
     ]
    },
    {
     "name": "stdout",
     "output_type": "stream",
     "text": [
      "epoch: 21, total reward: 1927.5284937784827\n",
      "tf.Tensor(-0.69222647, shape=(), dtype=float32)\n"
     ]
    },
    {
     "name": "stderr",
     "output_type": "stream",
     "text": [
      "100%|██████████| 30/30 [16:29<00:00, 32.97s/it]\n"
     ]
    },
    {
     "name": "stdout",
     "output_type": "stream",
     "text": [
      "epoch: 22, total reward: 1919.9450503784715\n",
      "tf.Tensor(-0.68952584, shape=(), dtype=float32)\n"
     ]
    },
    {
     "name": "stderr",
     "output_type": "stream",
     "text": [
      "100%|██████████| 500/500 [00:25<00:00, 19.81it/s]\n"
     ]
    },
    {
     "name": "stdout",
     "output_type": "stream",
     "text": [
      "epoch: 23, total reward: 1917.1982784515192\n",
      "tf.Tensor(-0.68952584, shape=(), dtype=float32)\n"
     ]
    },
    {
     "name": "stderr",
     "output_type": "stream",
     "text": [
      "100%|██████████| 30/30 [16:29<00:00, 33.00s/it]\n"
     ]
    },
    {
     "name": "stdout",
     "output_type": "stream",
     "text": [
      "epoch: 24, total reward: 1927.3303417035881\n",
      "tf.Tensor(-0.6853478, shape=(), dtype=float32)\n"
     ]
    },
    {
     "name": "stderr",
     "output_type": "stream",
     "text": [
      "100%|██████████| 500/500 [00:25<00:00, 19.84it/s]\n"
     ]
    },
    {
     "name": "stdout",
     "output_type": "stream",
     "text": [
      "epoch: 25, total reward: 1925.7187938975635\n",
      "tf.Tensor(-0.6853478, shape=(), dtype=float32)\n"
     ]
    },
    {
     "name": "stderr",
     "output_type": "stream",
     "text": [
      "100%|██████████| 30/30 [16:33<00:00, 33.10s/it]\n"
     ]
    },
    {
     "name": "stdout",
     "output_type": "stream",
     "text": [
      "epoch: 26, total reward: 1925.9443458326396\n",
      "tf.Tensor(-0.68253356, shape=(), dtype=float32)\n"
     ]
    },
    {
     "name": "stderr",
     "output_type": "stream",
     "text": [
      "100%|██████████| 500/500 [00:25<00:00, 19.72it/s]\n"
     ]
    },
    {
     "name": "stdout",
     "output_type": "stream",
     "text": [
      "epoch: 27, total reward: 1922.9667948758865\n",
      "tf.Tensor(-0.68253356, shape=(), dtype=float32)\n"
     ]
    },
    {
     "name": "stderr",
     "output_type": "stream",
     "text": [
      "100%|██████████| 30/30 [16:31<00:00, 33.06s/it]\n"
     ]
    },
    {
     "name": "stdout",
     "output_type": "stream",
     "text": [
      "epoch: 28, total reward: 1916.9013013710996\n",
      "tf.Tensor(-0.678399, shape=(), dtype=float32)\n"
     ]
    },
    {
     "name": "stderr",
     "output_type": "stream",
     "text": [
      "100%|██████████| 500/500 [00:25<00:00, 19.37it/s]\n"
     ]
    },
    {
     "name": "stdout",
     "output_type": "stream",
     "text": [
      "epoch: 29, total reward: 1933.8455460716177\n",
      "tf.Tensor(-0.678399, shape=(), dtype=float32)\n"
     ]
    },
    {
     "name": "stderr",
     "output_type": "stream",
     "text": [
      "100%|██████████| 30/30 [17:15<00:00, 34.52s/it]\n"
     ]
    },
    {
     "name": "stdout",
     "output_type": "stream",
     "text": [
      "epoch: 30, total reward: 1937.8380547328823\n",
      "tf.Tensor(-0.677962, shape=(), dtype=float32)\n"
     ]
    },
    {
     "name": "stderr",
     "output_type": "stream",
     "text": [
      "100%|██████████| 500/500 [00:25<00:00, 19.74it/s]\n"
     ]
    },
    {
     "name": "stdout",
     "output_type": "stream",
     "text": [
      "epoch: 31, total reward: 1926.600288995881\n",
      "tf.Tensor(-0.677962, shape=(), dtype=float32)\n"
     ]
    },
    {
     "name": "stderr",
     "output_type": "stream",
     "text": [
      "100%|██████████| 30/30 [17:04<00:00, 34.14s/it]\n"
     ]
    },
    {
     "name": "stdout",
     "output_type": "stream",
     "text": [
      "epoch: 32, total reward: 1939.05038227762\n",
      "tf.Tensor(-0.67148256, shape=(), dtype=float32)\n"
     ]
    },
    {
     "name": "stderr",
     "output_type": "stream",
     "text": [
      "100%|██████████| 500/500 [00:25<00:00, 19.76it/s]\n"
     ]
    },
    {
     "name": "stdout",
     "output_type": "stream",
     "text": [
      "epoch: 33, total reward: 1933.726621323764\n",
      "tf.Tensor(-0.67148256, shape=(), dtype=float32)\n"
     ]
    },
    {
     "name": "stderr",
     "output_type": "stream",
     "text": [
      "100%|██████████| 30/30 [16:28<00:00, 32.94s/it]\n"
     ]
    },
    {
     "name": "stdout",
     "output_type": "stream",
     "text": [
      "epoch: 34, total reward: 1930.0937074713831\n",
      "tf.Tensor(-0.6770471, shape=(), dtype=float32)\n"
     ]
    },
    {
     "name": "stderr",
     "output_type": "stream",
     "text": [
      "100%|██████████| 500/500 [00:25<00:00, 19.77it/s]\n"
     ]
    },
    {
     "name": "stdout",
     "output_type": "stream",
     "text": [
      "epoch: 35, total reward: 1939.6649594566406\n",
      "tf.Tensor(-0.6770471, shape=(), dtype=float32)\n"
     ]
    },
    {
     "name": "stderr",
     "output_type": "stream",
     "text": [
      "100%|██████████| 30/30 [16:28<00:00, 32.96s/it]\n"
     ]
    },
    {
     "name": "stdout",
     "output_type": "stream",
     "text": [
      "epoch: 36, total reward: 1924.7226129269786\n",
      "tf.Tensor(-0.6679157, shape=(), dtype=float32)\n"
     ]
    },
    {
     "name": "stderr",
     "output_type": "stream",
     "text": [
      "100%|██████████| 500/500 [00:25<00:00, 19.70it/s]\n"
     ]
    },
    {
     "name": "stdout",
     "output_type": "stream",
     "text": [
      "epoch: 37, total reward: 1928.2169957577778\n",
      "tf.Tensor(-0.6679157, shape=(), dtype=float32)\n"
     ]
    },
    {
     "name": "stderr",
     "output_type": "stream",
     "text": [
      "100%|██████████| 30/30 [16:33<00:00, 33.11s/it]\n"
     ]
    },
    {
     "name": "stdout",
     "output_type": "stream",
     "text": [
      "epoch: 38, total reward: 1933.7480531569483\n",
      "tf.Tensor(-0.6686982, shape=(), dtype=float32)\n"
     ]
    },
    {
     "name": "stderr",
     "output_type": "stream",
     "text": [
      "100%|██████████| 500/500 [00:25<00:00, 19.85it/s]\n"
     ]
    },
    {
     "name": "stdout",
     "output_type": "stream",
     "text": [
      "epoch: 39, total reward: 1928.1582446609946\n",
      "tf.Tensor(-0.6686982, shape=(), dtype=float32)\n"
     ]
    },
    {
     "name": "stderr",
     "output_type": "stream",
     "text": [
      "100%|██████████| 30/30 [16:34<00:00, 33.13s/it]\n"
     ]
    },
    {
     "name": "stdout",
     "output_type": "stream",
     "text": [
      "epoch: 40, total reward: 1935.7112185951396\n",
      "tf.Tensor(-0.6634712, shape=(), dtype=float32)\n"
     ]
    },
    {
     "name": "stderr",
     "output_type": "stream",
     "text": [
      "100%|██████████| 500/500 [00:25<00:00, 19.77it/s]\n"
     ]
    },
    {
     "name": "stdout",
     "output_type": "stream",
     "text": [
      "epoch: 41, total reward: 1921.3630078413619\n",
      "tf.Tensor(-0.6634712, shape=(), dtype=float32)\n"
     ]
    },
    {
     "name": "stderr",
     "output_type": "stream",
     "text": [
      "100%|██████████| 30/30 [16:30<00:00, 33.02s/it]\n"
     ]
    },
    {
     "name": "stdout",
     "output_type": "stream",
     "text": [
      "epoch: 42, total reward: 1928.1538431652436\n",
      "tf.Tensor(-0.66385883, shape=(), dtype=float32)\n"
     ]
    },
    {
     "name": "stderr",
     "output_type": "stream",
     "text": [
      "100%|██████████| 500/500 [00:25<00:00, 19.63it/s]\n"
     ]
    },
    {
     "name": "stdout",
     "output_type": "stream",
     "text": [
      "epoch: 43, total reward: 1918.3160395977106\n",
      "tf.Tensor(-0.66385883, shape=(), dtype=float32)\n"
     ]
    },
    {
     "name": "stderr",
     "output_type": "stream",
     "text": [
      "100%|██████████| 30/30 [16:29<00:00, 32.99s/it]\n"
     ]
    },
    {
     "name": "stdout",
     "output_type": "stream",
     "text": [
      "epoch: 44, total reward: 1927.4505257012024\n",
      "tf.Tensor(-0.6588816, shape=(), dtype=float32)\n"
     ]
    },
    {
     "name": "stderr",
     "output_type": "stream",
     "text": [
      "100%|██████████| 500/500 [00:25<00:00, 19.62it/s]\n"
     ]
    },
    {
     "name": "stdout",
     "output_type": "stream",
     "text": [
      "epoch: 45, total reward: 1933.3819602138308\n",
      "tf.Tensor(-0.6588816, shape=(), dtype=float32)\n"
     ]
    },
    {
     "name": "stderr",
     "output_type": "stream",
     "text": [
      "100%|██████████| 30/30 [16:40<00:00, 33.36s/it]\n"
     ]
    },
    {
     "name": "stdout",
     "output_type": "stream",
     "text": [
      "epoch: 46, total reward: 1934.098458354559\n",
      "tf.Tensor(-0.65740925, shape=(), dtype=float32)\n"
     ]
    },
    {
     "name": "stderr",
     "output_type": "stream",
     "text": [
      "100%|██████████| 500/500 [00:25<00:00, 19.56it/s]\n"
     ]
    },
    {
     "name": "stdout",
     "output_type": "stream",
     "text": [
      "epoch: 47, total reward: 1908.0373847624799\n",
      "tf.Tensor(-0.65740925, shape=(), dtype=float32)\n"
     ]
    },
    {
     "name": "stderr",
     "output_type": "stream",
     "text": [
      "100%|██████████| 30/30 [16:42<00:00, 33.43s/it]\n"
     ]
    },
    {
     "name": "stdout",
     "output_type": "stream",
     "text": [
      "epoch: 48, total reward: 1918.4307186427216\n",
      "tf.Tensor(-0.6580473, shape=(), dtype=float32)\n"
     ]
    },
    {
     "name": "stderr",
     "output_type": "stream",
     "text": [
      "100%|██████████| 500/500 [00:25<00:00, 19.55it/s]\n"
     ]
    },
    {
     "name": "stdout",
     "output_type": "stream",
     "text": [
      "epoch: 49, total reward: 1922.1242787106723\n",
      "tf.Tensor(-0.6580473, shape=(), dtype=float32)\n"
     ]
    },
    {
     "name": "stderr",
     "output_type": "stream",
     "text": [
      "100%|██████████| 30/30 [16:46<00:00, 33.55s/it]\n"
     ]
    },
    {
     "name": "stdout",
     "output_type": "stream",
     "text": [
      "epoch: 50, total reward: 1923.7347842969425\n",
      "tf.Tensor(-0.65674734, shape=(), dtype=float32)\n"
     ]
    },
    {
     "name": "stderr",
     "output_type": "stream",
     "text": [
      "100%|██████████| 500/500 [00:25<00:00, 19.55it/s]\n"
     ]
    },
    {
     "name": "stdout",
     "output_type": "stream",
     "text": [
      "tf.Tensor(0.008249529, shape=(), dtype=float32)\n",
      "epoch: 51, total reward: 1910.246811131843\n",
      "tf.Tensor(-0.65674734, shape=(), dtype=float32)\n"
     ]
    },
    {
     "name": "stderr",
     "output_type": "stream",
     "text": [
      "100%|██████████| 500/500 [00:25<00:00, 19.51it/s]\n"
     ]
    },
    {
     "name": "stdout",
     "output_type": "stream",
     "text": [
      "tf.Tensor(0.007814766, shape=(), dtype=float32)\n",
      "epoch: 52, total reward: 1905.7552910627721\n",
      "tf.Tensor(-0.65674734, shape=(), dtype=float32)\n"
     ]
    },
    {
     "name": "stderr",
     "output_type": "stream",
     "text": [
      "100%|██████████| 500/500 [00:25<00:00, 19.49it/s]\n"
     ]
    },
    {
     "name": "stdout",
     "output_type": "stream",
     "text": [
      "tf.Tensor(0.007321341, shape=(), dtype=float32)\n",
      "epoch: 53, total reward: 1929.2324440148811\n",
      "tf.Tensor(-0.65674734, shape=(), dtype=float32)\n"
     ]
    },
    {
     "name": "stderr",
     "output_type": "stream",
     "text": [
      "100%|██████████| 500/500 [00:25<00:00, 19.58it/s]\n"
     ]
    },
    {
     "name": "stdout",
     "output_type": "stream",
     "text": [
      "tf.Tensor(0.0067302743, shape=(), dtype=float32)\n",
      "epoch: 54, total reward: 1924.0759833720574\n",
      "tf.Tensor(-0.65674734, shape=(), dtype=float32)\n"
     ]
    },
    {
     "name": "stderr",
     "output_type": "stream",
     "text": [
      "100%|██████████| 500/500 [00:25<00:00, 19.36it/s]\n"
     ]
    },
    {
     "name": "stdout",
     "output_type": "stream",
     "text": [
      "tf.Tensor(0.0063666757, shape=(), dtype=float32)\n",
      "epoch: 55, total reward: 1921.1245027717357\n",
      "tf.Tensor(-0.65674734, shape=(), dtype=float32)\n"
     ]
    },
    {
     "name": "stderr",
     "output_type": "stream",
     "text": [
      "100%|██████████| 500/500 [00:27<00:00, 18.38it/s]\n"
     ]
    },
    {
     "name": "stdout",
     "output_type": "stream",
     "text": [
      "tf.Tensor(0.0061222934, shape=(), dtype=float32)\n",
      "epoch: 56, total reward: 1912.9783785049412\n",
      "tf.Tensor(-0.65674734, shape=(), dtype=float32)\n"
     ]
    },
    {
     "name": "stderr",
     "output_type": "stream",
     "text": [
      "100%|██████████| 500/500 [00:26<00:00, 18.77it/s]\n"
     ]
    },
    {
     "name": "stdout",
     "output_type": "stream",
     "text": [
      "tf.Tensor(0.006467746, shape=(), dtype=float32)\n",
      "epoch: 57, total reward: 1926.681553679919\n",
      "tf.Tensor(-0.65674734, shape=(), dtype=float32)\n"
     ]
    },
    {
     "name": "stderr",
     "output_type": "stream",
     "text": [
      "100%|██████████| 500/500 [00:25<00:00, 19.66it/s]\n"
     ]
    },
    {
     "name": "stdout",
     "output_type": "stream",
     "text": [
      "tf.Tensor(0.0067579104, shape=(), dtype=float32)\n",
      "epoch: 58, total reward: 1927.3773350628153\n",
      "tf.Tensor(-0.65674734, shape=(), dtype=float32)\n"
     ]
    },
    {
     "name": "stderr",
     "output_type": "stream",
     "text": [
      "100%|██████████| 500/500 [00:25<00:00, 19.40it/s]\n"
     ]
    },
    {
     "name": "stdout",
     "output_type": "stream",
     "text": [
      "tf.Tensor(0.0059504225, shape=(), dtype=float32)\n",
      "epoch: 59, total reward: 1911.5472202803949\n",
      "tf.Tensor(-0.65674734, shape=(), dtype=float32)\n"
     ]
    },
    {
     "name": "stderr",
     "output_type": "stream",
     "text": [
      "100%|██████████| 500/500 [00:25<00:00, 19.50it/s]\n"
     ]
    },
    {
     "name": "stdout",
     "output_type": "stream",
     "text": [
      "tf.Tensor(0.005569032, shape=(), dtype=float32)\n",
      "epoch: 60, total reward: 1905.8848188747993\n",
      "tf.Tensor(-0.65674734, shape=(), dtype=float32)\n"
     ]
    },
    {
     "name": "stderr",
     "output_type": "stream",
     "text": [
      "100%|██████████| 500/500 [00:25<00:00, 19.47it/s]\n"
     ]
    },
    {
     "name": "stdout",
     "output_type": "stream",
     "text": [
      "tf.Tensor(0.0053341575, shape=(), dtype=float32)\n",
      "epoch: 61, total reward: 1911.1440796135475\n",
      "tf.Tensor(-0.65674734, shape=(), dtype=float32)\n"
     ]
    },
    {
     "name": "stderr",
     "output_type": "stream",
     "text": [
      "100%|██████████| 500/500 [00:25<00:00, 19.50it/s]\n"
     ]
    },
    {
     "name": "stdout",
     "output_type": "stream",
     "text": [
      "tf.Tensor(0.0051867347, shape=(), dtype=float32)\n",
      "epoch: 62, total reward: 1926.2306890092916\n",
      "tf.Tensor(-0.65674734, shape=(), dtype=float32)\n"
     ]
    },
    {
     "name": "stderr",
     "output_type": "stream",
     "text": [
      "100%|██████████| 500/500 [00:25<00:00, 19.44it/s]\n"
     ]
    },
    {
     "name": "stdout",
     "output_type": "stream",
     "text": [
      "tf.Tensor(0.0055479016, shape=(), dtype=float32)\n",
      "epoch: 63, total reward: 1907.7382421636212\n",
      "tf.Tensor(-0.65674734, shape=(), dtype=float32)\n"
     ]
    },
    {
     "name": "stderr",
     "output_type": "stream",
     "text": [
      "100%|██████████| 500/500 [00:25<00:00, 19.35it/s]\n"
     ]
    },
    {
     "name": "stdout",
     "output_type": "stream",
     "text": [
      "tf.Tensor(0.004999577, shape=(), dtype=float32)\n",
      "epoch: 64, total reward: 1912.0169565341678\n",
      "tf.Tensor(-0.65674734, shape=(), dtype=float32)\n"
     ]
    },
    {
     "name": "stderr",
     "output_type": "stream",
     "text": [
      "100%|██████████| 500/500 [00:26<00:00, 19.14it/s]\n"
     ]
    },
    {
     "name": "stdout",
     "output_type": "stream",
     "text": [
      "tf.Tensor(0.004433415, shape=(), dtype=float32)\n",
      "epoch: 65, total reward: 1911.561030514971\n",
      "tf.Tensor(-0.65674734, shape=(), dtype=float32)\n"
     ]
    },
    {
     "name": "stderr",
     "output_type": "stream",
     "text": [
      "100%|██████████| 500/500 [00:25<00:00, 19.40it/s]\n"
     ]
    },
    {
     "name": "stdout",
     "output_type": "stream",
     "text": [
      "tf.Tensor(0.0043596863, shape=(), dtype=float32)\n",
      "epoch: 66, total reward: 1914.9061242473997\n",
      "tf.Tensor(-0.65674734, shape=(), dtype=float32)\n"
     ]
    },
    {
     "name": "stderr",
     "output_type": "stream",
     "text": [
      "100%|██████████| 500/500 [00:25<00:00, 19.30it/s]\n"
     ]
    },
    {
     "name": "stdout",
     "output_type": "stream",
     "text": [
      "tf.Tensor(0.0039597997, shape=(), dtype=float32)\n",
      "epoch: 67, total reward: 1917.5341364760104\n",
      "tf.Tensor(-0.65674734, shape=(), dtype=float32)\n"
     ]
    },
    {
     "name": "stderr",
     "output_type": "stream",
     "text": [
      "100%|██████████| 500/500 [00:25<00:00, 19.44it/s]\n"
     ]
    },
    {
     "name": "stdout",
     "output_type": "stream",
     "text": [
      "tf.Tensor(0.0037060587, shape=(), dtype=float32)\n",
      "epoch: 68, total reward: 1920.9327176095694\n",
      "tf.Tensor(-0.65674734, shape=(), dtype=float32)\n"
     ]
    },
    {
     "name": "stderr",
     "output_type": "stream",
     "text": [
      "100%|██████████| 500/500 [00:25<00:00, 19.46it/s]\n"
     ]
    },
    {
     "name": "stdout",
     "output_type": "stream",
     "text": [
      "tf.Tensor(0.0034981137, shape=(), dtype=float32)\n",
      "epoch: 69, total reward: 1908.2951704921745\n",
      "tf.Tensor(-0.65674734, shape=(), dtype=float32)\n"
     ]
    },
    {
     "name": "stderr",
     "output_type": "stream",
     "text": [
      "100%|██████████| 500/500 [00:25<00:00, 19.31it/s]\n"
     ]
    },
    {
     "name": "stdout",
     "output_type": "stream",
     "text": [
      "tf.Tensor(0.0030237283, shape=(), dtype=float32)\n",
      "epoch: 70, total reward: 1941.2496247841805\n",
      "tf.Tensor(-0.65674734, shape=(), dtype=float32)\n"
     ]
    },
    {
     "name": "stderr",
     "output_type": "stream",
     "text": [
      "100%|██████████| 500/500 [00:25<00:00, 19.44it/s]\n"
     ]
    },
    {
     "name": "stdout",
     "output_type": "stream",
     "text": [
      "tf.Tensor(0.0034077445, shape=(), dtype=float32)\n",
      "epoch: 71, total reward: 1914.3507147491744\n",
      "tf.Tensor(-0.65674734, shape=(), dtype=float32)\n"
     ]
    },
    {
     "name": "stderr",
     "output_type": "stream",
     "text": [
      "100%|██████████| 500/500 [00:26<00:00, 19.01it/s]\n"
     ]
    },
    {
     "name": "stdout",
     "output_type": "stream",
     "text": [
      "tf.Tensor(0.00236896, shape=(), dtype=float32)\n",
      "epoch: 72, total reward: 1931.2159164893797\n",
      "tf.Tensor(-0.65674734, shape=(), dtype=float32)\n"
     ]
    },
    {
     "name": "stderr",
     "output_type": "stream",
     "text": [
      "100%|██████████| 500/500 [00:26<00:00, 19.18it/s]\n"
     ]
    },
    {
     "name": "stdout",
     "output_type": "stream",
     "text": [
      "tf.Tensor(0.0026139128, shape=(), dtype=float32)\n",
      "epoch: 73, total reward: 1925.9393868863008\n",
      "tf.Tensor(-0.65674734, shape=(), dtype=float32)\n"
     ]
    },
    {
     "name": "stderr",
     "output_type": "stream",
     "text": [
      "100%|██████████| 500/500 [00:25<00:00, 19.51it/s]\n"
     ]
    },
    {
     "name": "stdout",
     "output_type": "stream",
     "text": [
      "tf.Tensor(0.0017156469, shape=(), dtype=float32)\n",
      "epoch: 74, total reward: 1910.2041234044568\n",
      "tf.Tensor(-0.65674734, shape=(), dtype=float32)\n"
     ]
    },
    {
     "name": "stderr",
     "output_type": "stream",
     "text": [
      "100%|██████████| 500/500 [00:26<00:00, 18.75it/s]\n"
     ]
    },
    {
     "name": "stdout",
     "output_type": "stream",
     "text": [
      "tf.Tensor(0.0013563104, shape=(), dtype=float32)\n",
      "epoch: 75, total reward: 1924.1467530577174\n",
      "tf.Tensor(-0.65674734, shape=(), dtype=float32)\n"
     ]
    },
    {
     "name": "stderr",
     "output_type": "stream",
     "text": [
      "100%|██████████| 500/500 [00:26<00:00, 19.11it/s]\n"
     ]
    },
    {
     "name": "stdout",
     "output_type": "stream",
     "text": [
      "tf.Tensor(0.0014674475, shape=(), dtype=float32)\n",
      "epoch: 76, total reward: 1923.9844539200474\n",
      "tf.Tensor(-0.65674734, shape=(), dtype=float32)\n"
     ]
    },
    {
     "name": "stderr",
     "output_type": "stream",
     "text": [
      "100%|██████████| 500/500 [00:25<00:00, 19.44it/s]\n"
     ]
    },
    {
     "name": "stdout",
     "output_type": "stream",
     "text": [
      "tf.Tensor(0.00077757693, shape=(), dtype=float32)\n",
      "epoch: 77, total reward: 1907.4674260913423\n",
      "tf.Tensor(-0.65674734, shape=(), dtype=float32)\n"
     ]
    },
    {
     "name": "stderr",
     "output_type": "stream",
     "text": [
      "100%|██████████| 500/500 [00:25<00:00, 19.24it/s]\n"
     ]
    },
    {
     "name": "stdout",
     "output_type": "stream",
     "text": [
      "tf.Tensor(0.00044424797, shape=(), dtype=float32)\n",
      "epoch: 78, total reward: 1934.0611064412687\n",
      "tf.Tensor(-0.65674734, shape=(), dtype=float32)\n"
     ]
    },
    {
     "name": "stderr",
     "output_type": "stream",
     "text": [
      "100%|██████████| 500/500 [00:25<00:00, 19.42it/s]\n"
     ]
    },
    {
     "name": "stdout",
     "output_type": "stream",
     "text": [
      "tf.Tensor(0.0006666576, shape=(), dtype=float32)\n",
      "epoch: 79, total reward: 1908.4438712756173\n",
      "tf.Tensor(-0.65674734, shape=(), dtype=float32)\n"
     ]
    },
    {
     "name": "stderr",
     "output_type": "stream",
     "text": [
      "100%|██████████| 500/500 [00:25<00:00, 19.33it/s]\n"
     ]
    },
    {
     "name": "stdout",
     "output_type": "stream",
     "text": [
      "tf.Tensor(0.00013954459, shape=(), dtype=float32)\n",
      "epoch: 80, total reward: 1908.3383775772336\n",
      "tf.Tensor(-0.65674734, shape=(), dtype=float32)\n"
     ]
    },
    {
     "name": "stderr",
     "output_type": "stream",
     "text": [
      "100%|██████████| 500/500 [00:26<00:00, 19.07it/s]\n"
     ]
    },
    {
     "name": "stdout",
     "output_type": "stream",
     "text": [
      "tf.Tensor(-0.00025167898, shape=(), dtype=float32)\n",
      "epoch: 81, total reward: 1936.5003847571359\n",
      "tf.Tensor(-0.65674734, shape=(), dtype=float32)\n"
     ]
    },
    {
     "name": "stderr",
     "output_type": "stream",
     "text": [
      "100%|██████████| 500/500 [00:25<00:00, 19.47it/s]\n"
     ]
    },
    {
     "name": "stdout",
     "output_type": "stream",
     "text": [
      "tf.Tensor(-0.00076155114, shape=(), dtype=float32)\n",
      "epoch: 82, total reward: 1912.8937039494706\n",
      "tf.Tensor(-0.65674734, shape=(), dtype=float32)\n"
     ]
    },
    {
     "name": "stderr",
     "output_type": "stream",
     "text": [
      "100%|██████████| 500/500 [00:25<00:00, 19.43it/s]\n"
     ]
    },
    {
     "name": "stdout",
     "output_type": "stream",
     "text": [
      "tf.Tensor(-0.0009696061, shape=(), dtype=float32)\n",
      "epoch: 83, total reward: 1927.175838734593\n",
      "tf.Tensor(-0.65674734, shape=(), dtype=float32)\n"
     ]
    },
    {
     "name": "stderr",
     "output_type": "stream",
     "text": [
      "100%|██████████| 500/500 [00:25<00:00, 19.38it/s]\n"
     ]
    },
    {
     "name": "stdout",
     "output_type": "stream",
     "text": [
      "tf.Tensor(-0.0007807597, shape=(), dtype=float32)\n",
      "epoch: 84, total reward: 1899.4411419185021\n",
      "tf.Tensor(-0.65674734, shape=(), dtype=float32)\n"
     ]
    },
    {
     "name": "stderr",
     "output_type": "stream",
     "text": [
      "100%|██████████| 500/500 [00:25<00:00, 19.63it/s]\n"
     ]
    },
    {
     "name": "stdout",
     "output_type": "stream",
     "text": [
      "tf.Tensor(-0.0013225103, shape=(), dtype=float32)\n",
      "epoch: 85, total reward: 1932.1865463596364\n",
      "tf.Tensor(-0.65674734, shape=(), dtype=float32)\n"
     ]
    },
    {
     "name": "stderr",
     "output_type": "stream",
     "text": [
      "100%|██████████| 500/500 [00:25<00:00, 19.51it/s]\n"
     ]
    },
    {
     "name": "stdout",
     "output_type": "stream",
     "text": [
      "tf.Tensor(-0.0012886599, shape=(), dtype=float32)\n",
      "epoch: 86, total reward: 1906.9650531518082\n",
      "tf.Tensor(-0.65674734, shape=(), dtype=float32)\n"
     ]
    },
    {
     "name": "stderr",
     "output_type": "stream",
     "text": [
      "100%|██████████| 500/500 [00:25<00:00, 19.61it/s]\n"
     ]
    },
    {
     "name": "stdout",
     "output_type": "stream",
     "text": [
      "tf.Tensor(-0.0017464771, shape=(), dtype=float32)\n",
      "epoch: 87, total reward: 1936.0077401523538\n",
      "tf.Tensor(-0.65674734, shape=(), dtype=float32)\n"
     ]
    },
    {
     "name": "stderr",
     "output_type": "stream",
     "text": [
      "100%|██████████| 500/500 [00:25<00:00, 19.47it/s]\n"
     ]
    },
    {
     "name": "stdout",
     "output_type": "stream",
     "text": [
      "tf.Tensor(-0.0015970443, shape=(), dtype=float32)\n",
      "epoch: 88, total reward: 1938.1921684648805\n",
      "tf.Tensor(-0.65674734, shape=(), dtype=float32)\n"
     ]
    },
    {
     "name": "stderr",
     "output_type": "stream",
     "text": [
      "100%|██████████| 500/500 [00:25<00:00, 19.59it/s]\n"
     ]
    },
    {
     "name": "stdout",
     "output_type": "stream",
     "text": [
      "tf.Tensor(-0.002172717, shape=(), dtype=float32)\n",
      "epoch: 89, total reward: 1934.9986561487076\n",
      "tf.Tensor(-0.65674734, shape=(), dtype=float32)\n"
     ]
    },
    {
     "name": "stderr",
     "output_type": "stream",
     "text": [
      "100%|██████████| 500/500 [00:25<00:00, 19.45it/s]\n"
     ]
    },
    {
     "name": "stdout",
     "output_type": "stream",
     "text": [
      "tf.Tensor(-0.0021245733, shape=(), dtype=float32)\n",
      "epoch: 90, total reward: 1898.9153351131235\n",
      "tf.Tensor(-0.65674734, shape=(), dtype=float32)\n"
     ]
    },
    {
     "name": "stderr",
     "output_type": "stream",
     "text": [
      "100%|██████████| 500/500 [00:25<00:00, 19.67it/s]\n"
     ]
    },
    {
     "name": "stdout",
     "output_type": "stream",
     "text": [
      "tf.Tensor(-0.00247174, shape=(), dtype=float32)\n",
      "epoch: 91, total reward: 1942.6326169388492\n",
      "tf.Tensor(-0.65674734, shape=(), dtype=float32)\n"
     ]
    },
    {
     "name": "stderr",
     "output_type": "stream",
     "text": [
      "100%|██████████| 500/500 [00:25<00:00, 19.54it/s]\n"
     ]
    },
    {
     "name": "stdout",
     "output_type": "stream",
     "text": [
      "tf.Tensor(-0.0024304483, shape=(), dtype=float32)\n",
      "epoch: 92, total reward: 1912.0824621749878\n",
      "tf.Tensor(-0.65674734, shape=(), dtype=float32)\n"
     ]
    },
    {
     "name": "stderr",
     "output_type": "stream",
     "text": [
      "100%|██████████| 500/500 [00:25<00:00, 19.53it/s]\n"
     ]
    },
    {
     "name": "stdout",
     "output_type": "stream",
     "text": [
      "tf.Tensor(-0.0029085772, shape=(), dtype=float32)\n",
      "epoch: 93, total reward: 1949.524880424367\n",
      "tf.Tensor(-0.65674734, shape=(), dtype=float32)\n"
     ]
    },
    {
     "name": "stderr",
     "output_type": "stream",
     "text": [
      "100%|██████████| 500/500 [00:25<00:00, 19.51it/s]\n"
     ]
    },
    {
     "name": "stdout",
     "output_type": "stream",
     "text": [
      "tf.Tensor(-0.0026263136, shape=(), dtype=float32)\n",
      "epoch: 94, total reward: 1927.0225364969708\n",
      "tf.Tensor(-0.65674734, shape=(), dtype=float32)\n"
     ]
    },
    {
     "name": "stderr",
     "output_type": "stream",
     "text": [
      "100%|██████████| 500/500 [00:25<00:00, 19.34it/s]\n"
     ]
    },
    {
     "name": "stdout",
     "output_type": "stream",
     "text": [
      "tf.Tensor(-0.0032138827, shape=(), dtype=float32)\n",
      "epoch: 95, total reward: 1936.5399592853787\n",
      "tf.Tensor(-0.65674734, shape=(), dtype=float32)\n"
     ]
    },
    {
     "name": "stderr",
     "output_type": "stream",
     "text": [
      "100%|██████████| 500/500 [00:25<00:00, 19.47it/s]\n"
     ]
    },
    {
     "name": "stdout",
     "output_type": "stream",
     "text": [
      "tf.Tensor(-0.0031080449, shape=(), dtype=float32)\n",
      "epoch: 96, total reward: 1940.2753487048367\n",
      "tf.Tensor(-0.65674734, shape=(), dtype=float32)\n"
     ]
    },
    {
     "name": "stderr",
     "output_type": "stream",
     "text": [
      "100%|██████████| 500/500 [00:25<00:00, 19.60it/s]\n"
     ]
    },
    {
     "name": "stdout",
     "output_type": "stream",
     "text": [
      "tf.Tensor(-0.003441977, shape=(), dtype=float32)\n",
      "epoch: 97, total reward: 1934.2938648218799\n",
      "tf.Tensor(-0.65674734, shape=(), dtype=float32)\n"
     ]
    },
    {
     "name": "stderr",
     "output_type": "stream",
     "text": [
      "100%|██████████| 500/500 [00:25<00:00, 19.47it/s]\n"
     ]
    },
    {
     "name": "stdout",
     "output_type": "stream",
     "text": [
      "tf.Tensor(-0.00368132, shape=(), dtype=float32)\n",
      "epoch: 98, total reward: 1901.7267700745954\n",
      "tf.Tensor(-0.65674734, shape=(), dtype=float32)\n"
     ]
    },
    {
     "name": "stderr",
     "output_type": "stream",
     "text": [
      "100%|██████████| 500/500 [00:25<00:00, 19.67it/s]\n"
     ]
    },
    {
     "name": "stdout",
     "output_type": "stream",
     "text": [
      "tf.Tensor(-0.0037395922, shape=(), dtype=float32)\n",
      "epoch: 99, total reward: 1943.5237408321948\n",
      "tf.Tensor(-0.65674734, shape=(), dtype=float32)\n"
     ]
    },
    {
     "name": "stderr",
     "output_type": "stream",
     "text": [
      "100%|██████████| 500/500 [00:25<00:00, 19.55it/s]\n"
     ]
    },
    {
     "name": "stdout",
     "output_type": "stream",
     "text": [
      "tf.Tensor(-0.0036685348, shape=(), dtype=float32)\n",
      "epoch: 100, total reward: 1935.2318436478379\n",
      "tf.Tensor(-0.65674734, shape=(), dtype=float32)\n"
     ]
    },
    {
     "name": "stderr",
     "output_type": "stream",
     "text": [
      "100%|██████████| 500/500 [00:25<00:00, 19.61it/s]\n"
     ]
    },
    {
     "name": "stdout",
     "output_type": "stream",
     "text": [
      "tf.Tensor(-0.0039488543, shape=(), dtype=float32)\n",
      "epoch: 101, total reward: 1933.2635285213182\n",
      "tf.Tensor(-0.65674734, shape=(), dtype=float32)\n"
     ]
    },
    {
     "name": "stderr",
     "output_type": "stream",
     "text": [
      "100%|██████████| 500/500 [00:25<00:00, 19.61it/s]\n"
     ]
    },
    {
     "name": "stdout",
     "output_type": "stream",
     "text": [
      "tf.Tensor(-0.00411005, shape=(), dtype=float32)\n",
      "epoch: 102, total reward: 1900.6600246989449\n",
      "tf.Tensor(-0.65674734, shape=(), dtype=float32)\n"
     ]
    },
    {
     "name": "stderr",
     "output_type": "stream",
     "text": [
      "100%|██████████| 500/500 [00:25<00:00, 19.24it/s]\n"
     ]
    },
    {
     "name": "stdout",
     "output_type": "stream",
     "text": [
      "tf.Tensor(-0.0042273435, shape=(), dtype=float32)\n",
      "epoch: 103, total reward: 1921.8935486669259\n",
      "tf.Tensor(-0.65674734, shape=(), dtype=float32)\n"
     ]
    },
    {
     "name": "stderr",
     "output_type": "stream",
     "text": [
      "100%|██████████| 500/500 [00:25<00:00, 19.32it/s]\n"
     ]
    },
    {
     "name": "stdout",
     "output_type": "stream",
     "text": [
      "tf.Tensor(-0.004304871, shape=(), dtype=float32)\n",
      "epoch: 104, total reward: 1897.8792419899867\n",
      "tf.Tensor(-0.65674734, shape=(), dtype=float32)\n"
     ]
    },
    {
     "name": "stderr",
     "output_type": "stream",
     "text": [
      "100%|██████████| 500/500 [00:26<00:00, 18.96it/s]\n"
     ]
    },
    {
     "name": "stdout",
     "output_type": "stream",
     "text": [
      "tf.Tensor(-0.0043323464, shape=(), dtype=float32)\n",
      "epoch: 105, total reward: 1933.868211537992\n",
      "tf.Tensor(-0.65674734, shape=(), dtype=float32)\n"
     ]
    },
    {
     "name": "stderr",
     "output_type": "stream",
     "text": [
      "100%|██████████| 500/500 [00:25<00:00, 19.56it/s]\n"
     ]
    },
    {
     "name": "stdout",
     "output_type": "stream",
     "text": [
      "tf.Tensor(-0.004324598, shape=(), dtype=float32)\n",
      "epoch: 106, total reward: 1938.8484244237886\n",
      "tf.Tensor(-0.65674734, shape=(), dtype=float32)\n"
     ]
    },
    {
     "name": "stderr",
     "output_type": "stream",
     "text": [
      "100%|██████████| 500/500 [00:25<00:00, 19.39it/s]\n"
     ]
    },
    {
     "name": "stdout",
     "output_type": "stream",
     "text": [
      "tf.Tensor(-0.0044197263, shape=(), dtype=float32)\n",
      "epoch: 107, total reward: 1906.6064862407713\n",
      "tf.Tensor(-0.65674734, shape=(), dtype=float32)\n"
     ]
    },
    {
     "name": "stderr",
     "output_type": "stream",
     "text": [
      "100%|██████████| 500/500 [00:25<00:00, 19.25it/s]\n"
     ]
    },
    {
     "name": "stdout",
     "output_type": "stream",
     "text": [
      "tf.Tensor(-0.004542734, shape=(), dtype=float32)\n",
      "epoch: 108, total reward: 1895.0803613869664\n",
      "tf.Tensor(-0.65674734, shape=(), dtype=float32)\n"
     ]
    },
    {
     "name": "stderr",
     "output_type": "stream",
     "text": [
      "100%|██████████| 500/500 [00:25<00:00, 19.44it/s]\n"
     ]
    },
    {
     "name": "stdout",
     "output_type": "stream",
     "text": [
      "tf.Tensor(-0.004718152, shape=(), dtype=float32)\n",
      "epoch: 109, total reward: 1899.4863161975018\n",
      "tf.Tensor(-0.65674734, shape=(), dtype=float32)\n"
     ]
    },
    {
     "name": "stderr",
     "output_type": "stream",
     "text": [
      "100%|██████████| 500/500 [00:25<00:00, 19.40it/s]\n"
     ]
    },
    {
     "name": "stdout",
     "output_type": "stream",
     "text": [
      "tf.Tensor(-0.004776291, shape=(), dtype=float32)\n",
      "epoch: 110, total reward: 1896.3699443576827\n",
      "tf.Tensor(-0.65674734, shape=(), dtype=float32)\n"
     ]
    },
    {
     "name": "stderr",
     "output_type": "stream",
     "text": [
      "100%|██████████| 500/500 [00:25<00:00, 19.49it/s]\n"
     ]
    },
    {
     "name": "stdout",
     "output_type": "stream",
     "text": [
      "tf.Tensor(-0.0047865417, shape=(), dtype=float32)\n",
      "epoch: 111, total reward: 1919.2762175851408\n",
      "tf.Tensor(-0.65674734, shape=(), dtype=float32)\n"
     ]
    },
    {
     "name": "stderr",
     "output_type": "stream",
     "text": [
      "100%|██████████| 500/500 [00:25<00:00, 19.49it/s]\n"
     ]
    },
    {
     "name": "stdout",
     "output_type": "stream",
     "text": [
      "tf.Tensor(-0.004769011, shape=(), dtype=float32)\n",
      "epoch: 112, total reward: 1892.013489975817\n",
      "tf.Tensor(-0.65674734, shape=(), dtype=float32)\n"
     ]
    },
    {
     "name": "stderr",
     "output_type": "stream",
     "text": [
      "100%|██████████| 500/500 [00:25<00:00, 19.67it/s]\n"
     ]
    },
    {
     "name": "stdout",
     "output_type": "stream",
     "text": [
      "tf.Tensor(-0.004846262, shape=(), dtype=float32)\n",
      "epoch: 113, total reward: 1941.038166443241\n",
      "tf.Tensor(-0.65674734, shape=(), dtype=float32)\n"
     ]
    },
    {
     "name": "stderr",
     "output_type": "stream",
     "text": [
      "100%|██████████| 500/500 [00:27<00:00, 18.19it/s]\n"
     ]
    },
    {
     "name": "stdout",
     "output_type": "stream",
     "text": [
      "tf.Tensor(-0.004783209, shape=(), dtype=float32)\n",
      "epoch: 114, total reward: 1947.249048441291\n",
      "tf.Tensor(-0.65674734, shape=(), dtype=float32)\n"
     ]
    },
    {
     "name": "stderr",
     "output_type": "stream",
     "text": [
      "100%|██████████| 500/500 [00:25<00:00, 19.54it/s]\n"
     ]
    },
    {
     "name": "stdout",
     "output_type": "stream",
     "text": [
      "tf.Tensor(-0.0047174743, shape=(), dtype=float32)\n",
      "epoch: 115, total reward: 1905.9986908974863\n",
      "tf.Tensor(-0.65674734, shape=(), dtype=float32)\n"
     ]
    },
    {
     "name": "stderr",
     "output_type": "stream",
     "text": [
      "100%|██████████| 500/500 [00:25<00:00, 19.51it/s]\n"
     ]
    },
    {
     "name": "stdout",
     "output_type": "stream",
     "text": [
      "tf.Tensor(-0.0049755764, shape=(), dtype=float32)\n",
      "epoch: 116, total reward: 1898.188958828551\n",
      "tf.Tensor(-0.65674734, shape=(), dtype=float32)\n"
     ]
    },
    {
     "name": "stderr",
     "output_type": "stream",
     "text": [
      "100%|██████████| 500/500 [00:25<00:00, 19.44it/s]\n"
     ]
    },
    {
     "name": "stdout",
     "output_type": "stream",
     "text": [
      "tf.Tensor(-0.0050406186, shape=(), dtype=float32)\n",
      "epoch: 117, total reward: 1916.170075123959\n",
      "tf.Tensor(-0.65674734, shape=(), dtype=float32)\n"
     ]
    },
    {
     "name": "stderr",
     "output_type": "stream",
     "text": [
      "100%|██████████| 500/500 [00:25<00:00, 19.57it/s]\n"
     ]
    },
    {
     "name": "stdout",
     "output_type": "stream",
     "text": [
      "tf.Tensor(-0.005011685, shape=(), dtype=float32)\n",
      "epoch: 118, total reward: 1895.3002827988\n",
      "tf.Tensor(-0.65674734, shape=(), dtype=float32)\n"
     ]
    },
    {
     "name": "stderr",
     "output_type": "stream",
     "text": [
      "100%|██████████| 500/500 [00:25<00:00, 19.54it/s]\n"
     ]
    },
    {
     "name": "stdout",
     "output_type": "stream",
     "text": [
      "tf.Tensor(-0.005136585, shape=(), dtype=float32)\n",
      "epoch: 119, total reward: 1896.7276858290766\n",
      "tf.Tensor(-0.65674734, shape=(), dtype=float32)\n"
     ]
    },
    {
     "name": "stderr",
     "output_type": "stream",
     "text": [
      "100%|██████████| 500/500 [00:25<00:00, 19.51it/s]\n"
     ]
    },
    {
     "name": "stdout",
     "output_type": "stream",
     "text": [
      "tf.Tensor(-0.005146703, shape=(), dtype=float32)\n",
      "epoch: 120, total reward: 1871.0839123991352\n",
      "tf.Tensor(-0.65674734, shape=(), dtype=float32)\n"
     ]
    },
    {
     "name": "stderr",
     "output_type": "stream",
     "text": [
      "100%|██████████| 500/500 [00:26<00:00, 18.89it/s]\n"
     ]
    },
    {
     "name": "stdout",
     "output_type": "stream",
     "text": [
      "tf.Tensor(-0.005212933, shape=(), dtype=float32)\n",
      "epoch: 121, total reward: 1898.9499093089812\n",
      "tf.Tensor(-0.65674734, shape=(), dtype=float32)\n"
     ]
    },
    {
     "name": "stderr",
     "output_type": "stream",
     "text": [
      "100%|██████████| 500/500 [00:25<00:00, 19.59it/s]\n"
     ]
    },
    {
     "name": "stdout",
     "output_type": "stream",
     "text": [
      "tf.Tensor(-0.0052389614, shape=(), dtype=float32)\n",
      "epoch: 122, total reward: 1877.523295650267\n",
      "tf.Tensor(-0.65674734, shape=(), dtype=float32)\n"
     ]
    },
    {
     "name": "stderr",
     "output_type": "stream",
     "text": [
      "100%|██████████| 500/500 [00:25<00:00, 19.59it/s]\n"
     ]
    },
    {
     "name": "stdout",
     "output_type": "stream",
     "text": [
      "tf.Tensor(-0.0052629216, shape=(), dtype=float32)\n",
      "epoch: 123, total reward: 1875.1717095185386\n",
      "tf.Tensor(-0.65674734, shape=(), dtype=float32)\n"
     ]
    },
    {
     "name": "stderr",
     "output_type": "stream",
     "text": [
      "100%|██████████| 500/500 [00:25<00:00, 19.50it/s]\n"
     ]
    },
    {
     "name": "stdout",
     "output_type": "stream",
     "text": [
      "tf.Tensor(-0.0052972944, shape=(), dtype=float32)\n",
      "epoch: 124, total reward: 1897.414062867849\n",
      "tf.Tensor(-0.65674734, shape=(), dtype=float32)\n"
     ]
    },
    {
     "name": "stderr",
     "output_type": "stream",
     "text": [
      "100%|██████████| 500/500 [00:25<00:00, 19.64it/s]\n"
     ]
    },
    {
     "name": "stdout",
     "output_type": "stream",
     "text": [
      "tf.Tensor(-0.005328923, shape=(), dtype=float32)\n",
      "epoch: 125, total reward: 1906.7047815011053\n",
      "tf.Tensor(-0.65674734, shape=(), dtype=float32)\n"
     ]
    },
    {
     "name": "stderr",
     "output_type": "stream",
     "text": [
      "100%|██████████| 500/500 [00:25<00:00, 19.37it/s]\n"
     ]
    },
    {
     "name": "stdout",
     "output_type": "stream",
     "text": [
      "tf.Tensor(-0.005358516, shape=(), dtype=float32)\n",
      "epoch: 126, total reward: 1915.1340388279725\n",
      "tf.Tensor(-0.65674734, shape=(), dtype=float32)\n"
     ]
    },
    {
     "name": "stderr",
     "output_type": "stream",
     "text": [
      "100%|██████████| 500/500 [00:27<00:00, 18.43it/s]\n"
     ]
    },
    {
     "name": "stdout",
     "output_type": "stream",
     "text": [
      "tf.Tensor(-0.005327712, shape=(), dtype=float32)\n",
      "epoch: 127, total reward: 1959.1628369232658\n",
      "tf.Tensor(-0.65674734, shape=(), dtype=float32)\n"
     ]
    },
    {
     "name": "stderr",
     "output_type": "stream",
     "text": [
      "100%|██████████| 500/500 [00:25<00:00, 19.52it/s]\n"
     ]
    },
    {
     "name": "stdout",
     "output_type": "stream",
     "text": [
      "tf.Tensor(-0.005191602, shape=(), dtype=float32)\n",
      "epoch: 128, total reward: 1918.7684999996784\n",
      "tf.Tensor(-0.65674734, shape=(), dtype=float32)\n"
     ]
    },
    {
     "name": "stderr",
     "output_type": "stream",
     "text": [
      "100%|██████████| 500/500 [00:25<00:00, 19.59it/s]\n"
     ]
    },
    {
     "name": "stdout",
     "output_type": "stream",
     "text": [
      "tf.Tensor(-0.005379446, shape=(), dtype=float32)\n",
      "epoch: 129, total reward: 1906.9814302007157\n",
      "tf.Tensor(-0.65674734, shape=(), dtype=float32)\n"
     ]
    },
    {
     "name": "stderr",
     "output_type": "stream",
     "text": [
      "100%|██████████| 500/500 [00:25<00:00, 19.36it/s]\n"
     ]
    },
    {
     "name": "stdout",
     "output_type": "stream",
     "text": [
      "tf.Tensor(-0.005452609, shape=(), dtype=float32)\n",
      "epoch: 130, total reward: 1912.570277730417\n",
      "tf.Tensor(-0.65674734, shape=(), dtype=float32)\n"
     ]
    },
    {
     "name": "stderr",
     "output_type": "stream",
     "text": [
      "100%|██████████| 500/500 [00:25<00:00, 19.41it/s]\n"
     ]
    },
    {
     "name": "stdout",
     "output_type": "stream",
     "text": [
      "tf.Tensor(-0.0054139267, shape=(), dtype=float32)\n",
      "epoch: 131, total reward: 1952.6322987604208\n",
      "tf.Tensor(-0.65674734, shape=(), dtype=float32)\n"
     ]
    },
    {
     "name": "stderr",
     "output_type": "stream",
     "text": [
      "100%|██████████| 500/500 [00:25<00:00, 19.32it/s]\n"
     ]
    },
    {
     "name": "stdout",
     "output_type": "stream",
     "text": [
      "tf.Tensor(-0.0053173, shape=(), dtype=float32)\n",
      "epoch: 132, total reward: 1904.4074622838823\n",
      "tf.Tensor(-0.65674734, shape=(), dtype=float32)\n"
     ]
    },
    {
     "name": "stderr",
     "output_type": "stream",
     "text": [
      "100%|██████████| 500/500 [00:25<00:00, 19.54it/s]\n"
     ]
    },
    {
     "name": "stdout",
     "output_type": "stream",
     "text": [
      "tf.Tensor(-0.005502248, shape=(), dtype=float32)\n",
      "epoch: 133, total reward: 1912.7309158704145\n",
      "tf.Tensor(-0.65674734, shape=(), dtype=float32)\n"
     ]
    },
    {
     "name": "stderr",
     "output_type": "stream",
     "text": [
      "100%|██████████| 500/500 [00:25<00:00, 19.68it/s]\n"
     ]
    },
    {
     "name": "stdout",
     "output_type": "stream",
     "text": [
      "tf.Tensor(-0.005508141, shape=(), dtype=float32)\n",
      "epoch: 134, total reward: 1903.4665269310688\n",
      "tf.Tensor(-0.65674734, shape=(), dtype=float32)\n"
     ]
    },
    {
     "name": "stderr",
     "output_type": "stream",
     "text": [
      "100%|██████████| 500/500 [00:25<00:00, 19.46it/s]\n"
     ]
    },
    {
     "name": "stdout",
     "output_type": "stream",
     "text": [
      "tf.Tensor(-0.0056314613, shape=(), dtype=float32)\n",
      "epoch: 135, total reward: 1930.070657834023\n",
      "tf.Tensor(-0.65674734, shape=(), dtype=float32)\n"
     ]
    },
    {
     "name": "stderr",
     "output_type": "stream",
     "text": [
      "100%|██████████| 500/500 [00:25<00:00, 19.41it/s]\n"
     ]
    },
    {
     "name": "stdout",
     "output_type": "stream",
     "text": [
      "tf.Tensor(-0.005567649, shape=(), dtype=float32)\n",
      "epoch: 136, total reward: 1911.6475482657481\n",
      "tf.Tensor(-0.65674734, shape=(), dtype=float32)\n"
     ]
    },
    {
     "name": "stderr",
     "output_type": "stream",
     "text": [
      "100%|██████████| 500/500 [00:25<00:00, 19.30it/s]\n"
     ]
    },
    {
     "name": "stdout",
     "output_type": "stream",
     "text": [
      "tf.Tensor(-0.005628866, shape=(), dtype=float32)\n",
      "epoch: 137, total reward: 1936.482523364602\n",
      "tf.Tensor(-0.65674734, shape=(), dtype=float32)\n"
     ]
    },
    {
     "name": "stderr",
     "output_type": "stream",
     "text": [
      "100%|██████████| 500/500 [00:25<00:00, 19.57it/s]\n"
     ]
    },
    {
     "name": "stdout",
     "output_type": "stream",
     "text": [
      "tf.Tensor(-0.00557104, shape=(), dtype=float32)\n",
      "epoch: 138, total reward: 1899.2888837353892\n",
      "tf.Tensor(-0.65674734, shape=(), dtype=float32)\n"
     ]
    },
    {
     "name": "stderr",
     "output_type": "stream",
     "text": [
      "100%|██████████| 500/500 [00:25<00:00, 19.56it/s]\n"
     ]
    },
    {
     "name": "stdout",
     "output_type": "stream",
     "text": [
      "tf.Tensor(-0.0056582857, shape=(), dtype=float32)\n",
      "epoch: 139, total reward: 1923.0683065557946\n",
      "tf.Tensor(-0.65674734, shape=(), dtype=float32)\n"
     ]
    },
    {
     "name": "stderr",
     "output_type": "stream",
     "text": [
      "100%|██████████| 500/500 [00:25<00:00, 19.39it/s]\n"
     ]
    },
    {
     "name": "stdout",
     "output_type": "stream",
     "text": [
      "tf.Tensor(-0.0057062404, shape=(), dtype=float32)\n",
      "epoch: 140, total reward: 1932.7423675396174\n",
      "tf.Tensor(-0.65674734, shape=(), dtype=float32)\n"
     ]
    },
    {
     "name": "stderr",
     "output_type": "stream",
     "text": [
      "100%|██████████| 500/500 [00:25<00:00, 19.48it/s]\n"
     ]
    },
    {
     "name": "stdout",
     "output_type": "stream",
     "text": [
      "tf.Tensor(-0.0057743224, shape=(), dtype=float32)\n",
      "epoch: 141, total reward: 1938.518701366963\n",
      "tf.Tensor(-0.65674734, shape=(), dtype=float32)\n"
     ]
    },
    {
     "name": "stderr",
     "output_type": "stream",
     "text": [
      "100%|██████████| 500/500 [00:26<00:00, 19.04it/s]\n"
     ]
    },
    {
     "name": "stdout",
     "output_type": "stream",
     "text": [
      "tf.Tensor(-0.00565883, shape=(), dtype=float32)\n",
      "epoch: 142, total reward: 1899.2557107505543\n",
      "tf.Tensor(-0.65674734, shape=(), dtype=float32)\n"
     ]
    },
    {
     "name": "stderr",
     "output_type": "stream",
     "text": [
      "100%|██████████| 500/500 [00:27<00:00, 18.24it/s]\n"
     ]
    },
    {
     "name": "stdout",
     "output_type": "stream",
     "text": [
      "tf.Tensor(-0.0058253473, shape=(), dtype=float32)\n",
      "epoch: 143, total reward: 1961.8243970679794\n",
      "tf.Tensor(-0.65674734, shape=(), dtype=float32)\n"
     ]
    },
    {
     "name": "stderr",
     "output_type": "stream",
     "text": [
      "100%|██████████| 500/500 [00:25<00:00, 19.44it/s]\n"
     ]
    },
    {
     "name": "stdout",
     "output_type": "stream",
     "text": [
      "tf.Tensor(-0.005497516, shape=(), dtype=float32)\n",
      "epoch: 144, total reward: 1954.1336629588466\n",
      "tf.Tensor(-0.65674734, shape=(), dtype=float32)\n"
     ]
    },
    {
     "name": "stderr",
     "output_type": "stream",
     "text": [
      "100%|██████████| 500/500 [00:25<00:00, 19.48it/s]\n"
     ]
    },
    {
     "name": "stdout",
     "output_type": "stream",
     "text": [
      "tf.Tensor(-0.005661113, shape=(), dtype=float32)\n",
      "epoch: 145, total reward: 1943.1027776084438\n",
      "tf.Tensor(-0.65674734, shape=(), dtype=float32)\n"
     ]
    },
    {
     "name": "stderr",
     "output_type": "stream",
     "text": [
      "100%|██████████| 500/500 [00:25<00:00, 19.37it/s]\n"
     ]
    },
    {
     "name": "stdout",
     "output_type": "stream",
     "text": [
      "tf.Tensor(-0.0058380063, shape=(), dtype=float32)\n",
      "epoch: 146, total reward: 1907.5117575335692\n",
      "tf.Tensor(-0.65674734, shape=(), dtype=float32)\n"
     ]
    },
    {
     "name": "stderr",
     "output_type": "stream",
     "text": [
      "100%|██████████| 500/500 [00:25<00:00, 19.56it/s]\n"
     ]
    },
    {
     "name": "stdout",
     "output_type": "stream",
     "text": [
      "tf.Tensor(-0.005940991, shape=(), dtype=float32)\n",
      "epoch: 147, total reward: 1867.8381292731365\n",
      "tf.Tensor(-0.65674734, shape=(), dtype=float32)\n"
     ]
    },
    {
     "name": "stderr",
     "output_type": "stream",
     "text": [
      "100%|██████████| 500/500 [00:25<00:00, 19.40it/s]\n"
     ]
    },
    {
     "name": "stdout",
     "output_type": "stream",
     "text": [
      "tf.Tensor(-0.0059673106, shape=(), dtype=float32)\n",
      "epoch: 148, total reward: 1945.800918727875\n",
      "tf.Tensor(-0.65674734, shape=(), dtype=float32)\n"
     ]
    },
    {
     "name": "stderr",
     "output_type": "stream",
     "text": [
      "100%|██████████| 500/500 [00:25<00:00, 19.56it/s]\n"
     ]
    },
    {
     "name": "stdout",
     "output_type": "stream",
     "text": [
      "tf.Tensor(-0.0058576516, shape=(), dtype=float32)\n",
      "epoch: 149, total reward: 1969.4186395387599\n",
      "tf.Tensor(-0.65674734, shape=(), dtype=float32)\n"
     ]
    },
    {
     "name": "stderr",
     "output_type": "stream",
     "text": [
      "100%|██████████| 500/500 [00:25<00:00, 19.40it/s]\n"
     ]
    },
    {
     "name": "stdout",
     "output_type": "stream",
     "text": [
      "tf.Tensor(-0.005717591, shape=(), dtype=float32)\n",
      "epoch: 150, total reward: 1936.9632591695963\n",
      "tf.Tensor(-0.65674734, shape=(), dtype=float32)\n"
     ]
    },
    {
     "name": "stderr",
     "output_type": "stream",
     "text": [
      "100%|██████████| 500/500 [00:25<00:00, 19.48it/s]\n"
     ]
    },
    {
     "name": "stdout",
     "output_type": "stream",
     "text": [
      "tf.Tensor(-0.0058901836, shape=(), dtype=float32)\n",
      "epoch: 151, total reward: 1938.2062779346345\n",
      "tf.Tensor(-0.65674734, shape=(), dtype=float32)\n"
     ]
    },
    {
     "name": "stderr",
     "output_type": "stream",
     "text": [
      "100%|██████████| 500/500 [00:25<00:00, 19.46it/s]\n"
     ]
    },
    {
     "name": "stdout",
     "output_type": "stream",
     "text": [
      "tf.Tensor(-0.005919189, shape=(), dtype=float32)\n",
      "epoch: 152, total reward: 1947.6994952283128\n",
      "tf.Tensor(-0.65674734, shape=(), dtype=float32)\n"
     ]
    },
    {
     "name": "stderr",
     "output_type": "stream",
     "text": [
      "100%|██████████| 500/500 [00:25<00:00, 19.42it/s]\n"
     ]
    },
    {
     "name": "stdout",
     "output_type": "stream",
     "text": [
      "tf.Tensor(-0.005950864, shape=(), dtype=float32)\n",
      "epoch: 153, total reward: 1958.0613984581514\n",
      "tf.Tensor(-0.65674734, shape=(), dtype=float32)\n"
     ]
    },
    {
     "name": "stderr",
     "output_type": "stream",
     "text": [
      "100%|██████████| 500/500 [00:25<00:00, 19.60it/s]\n"
     ]
    },
    {
     "name": "stdout",
     "output_type": "stream",
     "text": [
      "tf.Tensor(-0.0058668046, shape=(), dtype=float32)\n",
      "epoch: 154, total reward: 1969.8652776965155\n",
      "tf.Tensor(-0.65674734, shape=(), dtype=float32)\n"
     ]
    },
    {
     "name": "stderr",
     "output_type": "stream",
     "text": [
      "100%|██████████| 500/500 [00:25<00:00, 19.40it/s]\n"
     ]
    },
    {
     "name": "stdout",
     "output_type": "stream",
     "text": [
      "tf.Tensor(-0.005874476, shape=(), dtype=float32)\n",
      "epoch: 155, total reward: 1939.233096943754\n",
      "tf.Tensor(-0.65674734, shape=(), dtype=float32)\n"
     ]
    },
    {
     "name": "stderr",
     "output_type": "stream",
     "text": [
      "100%|██████████| 500/500 [00:25<00:00, 19.54it/s]\n"
     ]
    },
    {
     "name": "stdout",
     "output_type": "stream",
     "text": [
      "tf.Tensor(-0.0059394054, shape=(), dtype=float32)\n",
      "epoch: 156, total reward: 1949.7186373570937\n",
      "tf.Tensor(-0.65674734, shape=(), dtype=float32)\n"
     ]
    },
    {
     "name": "stderr",
     "output_type": "stream",
     "text": [
      "100%|██████████| 500/500 [00:27<00:00, 18.28it/s]\n"
     ]
    },
    {
     "name": "stdout",
     "output_type": "stream",
     "text": [
      "tf.Tensor(-0.005961751, shape=(), dtype=float32)\n",
      "epoch: 157, total reward: 1939.4007217996373\n",
      "tf.Tensor(-0.65674734, shape=(), dtype=float32)\n"
     ]
    },
    {
     "name": "stderr",
     "output_type": "stream",
     "text": [
      "100%|██████████| 500/500 [00:25<00:00, 19.44it/s]\n"
     ]
    },
    {
     "name": "stdout",
     "output_type": "stream",
     "text": [
      "tf.Tensor(-0.006128715, shape=(), dtype=float32)\n",
      "epoch: 158, total reward: 1925.865956578523\n",
      "tf.Tensor(-0.65674734, shape=(), dtype=float32)\n"
     ]
    },
    {
     "name": "stderr",
     "output_type": "stream",
     "text": [
      "100%|██████████| 500/500 [00:25<00:00, 19.57it/s]\n"
     ]
    },
    {
     "name": "stdout",
     "output_type": "stream",
     "text": [
      "tf.Tensor(-0.0061760023, shape=(), dtype=float32)\n",
      "epoch: 159, total reward: 1956.6390699096285\n",
      "tf.Tensor(-0.65674734, shape=(), dtype=float32)\n"
     ]
    },
    {
     "name": "stderr",
     "output_type": "stream",
     "text": [
      "100%|██████████| 500/500 [00:25<00:00, 19.54it/s]\n"
     ]
    },
    {
     "name": "stdout",
     "output_type": "stream",
     "text": [
      "tf.Tensor(-0.00622091, shape=(), dtype=float32)\n",
      "epoch: 160, total reward: 1920.6540662920393\n",
      "tf.Tensor(-0.65674734, shape=(), dtype=float32)\n"
     ]
    },
    {
     "name": "stderr",
     "output_type": "stream",
     "text": [
      "100%|██████████| 500/500 [00:25<00:00, 19.50it/s]\n"
     ]
    },
    {
     "name": "stdout",
     "output_type": "stream",
     "text": [
      "tf.Tensor(-0.006259623, shape=(), dtype=float32)\n",
      "epoch: 161, total reward: 1920.4544753893533\n",
      "tf.Tensor(-0.65674734, shape=(), dtype=float32)\n"
     ]
    },
    {
     "name": "stderr",
     "output_type": "stream",
     "text": [
      "100%|██████████| 500/500 [00:25<00:00, 19.52it/s]\n"
     ]
    },
    {
     "name": "stdout",
     "output_type": "stream",
     "text": [
      "tf.Tensor(-0.006242618, shape=(), dtype=float32)\n",
      "epoch: 162, total reward: 1966.5125558494872\n",
      "tf.Tensor(-0.65674734, shape=(), dtype=float32)\n"
     ]
    },
    {
     "name": "stderr",
     "output_type": "stream",
     "text": [
      "100%|██████████| 500/500 [00:25<00:00, 19.55it/s]\n"
     ]
    },
    {
     "name": "stdout",
     "output_type": "stream",
     "text": [
      "tf.Tensor(-0.0061448566, shape=(), dtype=float32)\n",
      "epoch: 163, total reward: 1934.8187739635093\n",
      "tf.Tensor(-0.65674734, shape=(), dtype=float32)\n"
     ]
    },
    {
     "name": "stderr",
     "output_type": "stream",
     "text": [
      "100%|██████████| 500/500 [00:25<00:00, 19.41it/s]\n"
     ]
    },
    {
     "name": "stdout",
     "output_type": "stream",
     "text": [
      "tf.Tensor(-0.006281737, shape=(), dtype=float32)\n",
      "epoch: 164, total reward: 1950.1510571497563\n",
      "tf.Tensor(-0.65674734, shape=(), dtype=float32)\n"
     ]
    },
    {
     "name": "stderr",
     "output_type": "stream",
     "text": [
      "100%|██████████| 500/500 [00:25<00:00, 19.59it/s]\n"
     ]
    },
    {
     "name": "stdout",
     "output_type": "stream",
     "text": [
      "tf.Tensor(-0.00625356, shape=(), dtype=float32)\n",
      "epoch: 165, total reward: 1956.1569758539415\n",
      "tf.Tensor(-0.65674734, shape=(), dtype=float32)\n"
     ]
    },
    {
     "name": "stderr",
     "output_type": "stream",
     "text": [
      "100%|██████████| 500/500 [00:25<00:00, 19.49it/s]\n"
     ]
    },
    {
     "name": "stdout",
     "output_type": "stream",
     "text": [
      "tf.Tensor(-0.006312673, shape=(), dtype=float32)\n",
      "epoch: 166, total reward: 1945.833984338852\n",
      "tf.Tensor(-0.65674734, shape=(), dtype=float32)\n"
     ]
    },
    {
     "name": "stderr",
     "output_type": "stream",
     "text": [
      "100%|██████████| 500/500 [00:25<00:00, 19.58it/s]\n"
     ]
    },
    {
     "name": "stdout",
     "output_type": "stream",
     "text": [
      "tf.Tensor(-0.006233739, shape=(), dtype=float32)\n",
      "epoch: 167, total reward: 1948.2901200323881\n",
      "tf.Tensor(-0.65674734, shape=(), dtype=float32)\n"
     ]
    },
    {
     "name": "stderr",
     "output_type": "stream",
     "text": [
      "100%|██████████| 500/500 [00:25<00:00, 19.39it/s]\n"
     ]
    },
    {
     "name": "stdout",
     "output_type": "stream",
     "text": [
      "tf.Tensor(-0.0063459054, shape=(), dtype=float32)\n",
      "epoch: 168, total reward: 1962.3106513404357\n",
      "tf.Tensor(-0.65674734, shape=(), dtype=float32)\n"
     ]
    },
    {
     "name": "stderr",
     "output_type": "stream",
     "text": [
      "100%|██████████| 500/500 [00:25<00:00, 19.52it/s]\n"
     ]
    },
    {
     "name": "stdout",
     "output_type": "stream",
     "text": [
      "tf.Tensor(-0.0062826523, shape=(), dtype=float32)\n",
      "epoch: 169, total reward: 1954.7108155927197\n",
      "tf.Tensor(-0.65674734, shape=(), dtype=float32)\n"
     ]
    },
    {
     "name": "stderr",
     "output_type": "stream",
     "text": [
      "100%|██████████| 500/500 [00:25<00:00, 19.60it/s]\n"
     ]
    },
    {
     "name": "stdout",
     "output_type": "stream",
     "text": [
      "tf.Tensor(-0.0064139897, shape=(), dtype=float32)\n",
      "epoch: 170, total reward: 1939.1576160723428\n",
      "tf.Tensor(-0.65674734, shape=(), dtype=float32)\n"
     ]
    },
    {
     "name": "stderr",
     "output_type": "stream",
     "text": [
      "100%|██████████| 500/500 [00:25<00:00, 19.43it/s]\n"
     ]
    },
    {
     "name": "stdout",
     "output_type": "stream",
     "text": [
      "tf.Tensor(-0.006368123, shape=(), dtype=float32)\n",
      "epoch: 171, total reward: 1914.5327164908724\n",
      "tf.Tensor(-0.65674734, shape=(), dtype=float32)\n"
     ]
    },
    {
     "name": "stderr",
     "output_type": "stream",
     "text": [
      "100%|██████████| 500/500 [00:26<00:00, 18.81it/s]\n"
     ]
    },
    {
     "name": "stdout",
     "output_type": "stream",
     "text": [
      "tf.Tensor(-0.0064696018, shape=(), dtype=float32)\n",
      "epoch: 172, total reward: 1957.025519190252\n",
      "tf.Tensor(-0.65674734, shape=(), dtype=float32)\n"
     ]
    },
    {
     "name": "stderr",
     "output_type": "stream",
     "text": [
      "100%|██████████| 500/500 [00:26<00:00, 19.05it/s]\n"
     ]
    },
    {
     "name": "stdout",
     "output_type": "stream",
     "text": [
      "tf.Tensor(-0.006420875, shape=(), dtype=float32)\n",
      "epoch: 173, total reward: 1941.5258279734867\n",
      "tf.Tensor(-0.65674734, shape=(), dtype=float32)\n"
     ]
    },
    {
     "name": "stderr",
     "output_type": "stream",
     "text": [
      "100%|██████████| 500/500 [00:26<00:00, 18.76it/s]\n"
     ]
    },
    {
     "name": "stdout",
     "output_type": "stream",
     "text": [
      "tf.Tensor(-0.006468497, shape=(), dtype=float32)\n",
      "epoch: 174, total reward: 1991.3630212802425\n",
      "tf.Tensor(-0.65674734, shape=(), dtype=float32)\n"
     ]
    },
    {
     "name": "stderr",
     "output_type": "stream",
     "text": [
      "100%|██████████| 500/500 [00:27<00:00, 17.86it/s]\n"
     ]
    },
    {
     "name": "stdout",
     "output_type": "stream",
     "text": [
      "tf.Tensor(-0.006380891, shape=(), dtype=float32)\n",
      "epoch: 175, total reward: 1952.0269597477652\n",
      "tf.Tensor(-0.65674734, shape=(), dtype=float32)\n"
     ]
    },
    {
     "name": "stderr",
     "output_type": "stream",
     "text": [
      "100%|██████████| 500/500 [00:26<00:00, 18.65it/s]\n"
     ]
    },
    {
     "name": "stdout",
     "output_type": "stream",
     "text": [
      "tf.Tensor(-0.006482751, shape=(), dtype=float32)\n",
      "epoch: 176, total reward: 1923.626586942432\n",
      "tf.Tensor(-0.65674734, shape=(), dtype=float32)\n"
     ]
    },
    {
     "name": "stderr",
     "output_type": "stream",
     "text": [
      "100%|██████████| 500/500 [00:26<00:00, 19.09it/s]\n"
     ]
    },
    {
     "name": "stdout",
     "output_type": "stream",
     "text": [
      "tf.Tensor(-0.0066231065, shape=(), dtype=float32)\n",
      "epoch: 177, total reward: 1951.4615313593524\n",
      "tf.Tensor(-0.65674734, shape=(), dtype=float32)\n"
     ]
    },
    {
     "name": "stderr",
     "output_type": "stream",
     "text": [
      "100%|██████████| 500/500 [00:26<00:00, 18.86it/s]\n"
     ]
    },
    {
     "name": "stdout",
     "output_type": "stream",
     "text": [
      "tf.Tensor(-0.0065992502, shape=(), dtype=float32)\n",
      "epoch: 178, total reward: 1980.974598367939\n",
      "tf.Tensor(-0.65674734, shape=(), dtype=float32)\n"
     ]
    },
    {
     "name": "stderr",
     "output_type": "stream",
     "text": [
      "100%|██████████| 500/500 [00:25<00:00, 19.33it/s]\n"
     ]
    },
    {
     "name": "stdout",
     "output_type": "stream",
     "text": [
      "tf.Tensor(-0.0064487485, shape=(), dtype=float32)\n",
      "epoch: 179, total reward: 1939.8718107012755\n",
      "tf.Tensor(-0.65674734, shape=(), dtype=float32)\n"
     ]
    },
    {
     "name": "stderr",
     "output_type": "stream",
     "text": [
      "100%|██████████| 500/500 [00:26<00:00, 18.81it/s]\n"
     ]
    },
    {
     "name": "stdout",
     "output_type": "stream",
     "text": [
      "tf.Tensor(-0.0065946085, shape=(), dtype=float32)\n",
      "epoch: 180, total reward: 1941.6605936297215\n",
      "tf.Tensor(-0.65674734, shape=(), dtype=float32)\n"
     ]
    },
    {
     "name": "stderr",
     "output_type": "stream",
     "text": [
      "100%|██████████| 500/500 [00:26<00:00, 19.23it/s]\n"
     ]
    },
    {
     "name": "stdout",
     "output_type": "stream",
     "text": [
      "tf.Tensor(-0.0065557286, shape=(), dtype=float32)\n",
      "epoch: 181, total reward: 2015.7321813005171\n",
      "tf.Tensor(-0.65674734, shape=(), dtype=float32)\n"
     ]
    },
    {
     "name": "stderr",
     "output_type": "stream",
     "text": [
      "100%|██████████| 500/500 [00:25<00:00, 19.34it/s]\n"
     ]
    },
    {
     "name": "stdout",
     "output_type": "stream",
     "text": [
      "tf.Tensor(-0.006514747, shape=(), dtype=float32)\n",
      "epoch: 182, total reward: 1964.9842367637123\n",
      "tf.Tensor(-0.65674734, shape=(), dtype=float32)\n"
     ]
    },
    {
     "name": "stderr",
     "output_type": "stream",
     "text": [
      "100%|██████████| 500/500 [00:26<00:00, 19.11it/s]\n"
     ]
    },
    {
     "name": "stdout",
     "output_type": "stream",
     "text": [
      "tf.Tensor(-0.006792786, shape=(), dtype=float32)\n",
      "epoch: 183, total reward: 1959.3576739066643\n",
      "tf.Tensor(-0.65674734, shape=(), dtype=float32)\n"
     ]
    },
    {
     "name": "stderr",
     "output_type": "stream",
     "text": [
      "100%|██████████| 500/500 [00:26<00:00, 19.09it/s]\n"
     ]
    },
    {
     "name": "stdout",
     "output_type": "stream",
     "text": [
      "tf.Tensor(-0.0066609564, shape=(), dtype=float32)\n",
      "epoch: 184, total reward: 1948.9973854505233\n",
      "tf.Tensor(-0.65674734, shape=(), dtype=float32)\n"
     ]
    },
    {
     "name": "stderr",
     "output_type": "stream",
     "text": [
      "100%|██████████| 500/500 [00:26<00:00, 19.03it/s]\n"
     ]
    },
    {
     "name": "stdout",
     "output_type": "stream",
     "text": [
      "tf.Tensor(-0.0068472265, shape=(), dtype=float32)\n",
      "epoch: 185, total reward: 1948.161072465945\n",
      "tf.Tensor(-0.65674734, shape=(), dtype=float32)\n"
     ]
    },
    {
     "name": "stderr",
     "output_type": "stream",
     "text": [
      "100%|██████████| 500/500 [01:04<00:00,  7.76it/s]\n"
     ]
    },
    {
     "name": "stdout",
     "output_type": "stream",
     "text": [
      "tf.Tensor(-0.006887266, shape=(), dtype=float32)\n"
     ]
    }
   ],
   "source": [
    "complete_loop(autoencoder,dqn_solver,200)"
   ]
  },
  {
   "cell_type": "code",
   "execution_count": null,
   "metadata": {},
   "outputs": [],
   "source": [
    "df=pd.DataFrame(rewards_storage)\n",
    "df.to_csv('final_results.csv')"
   ]
  },
  {
   "cell_type": "code",
   "execution_count": null,
   "metadata": {},
   "outputs": [
    {
     "name": "stdout",
     "output_type": "stream",
     "text": [
      "epoch: 0, total reward: 1954.9943504107873\n"
     ]
    },
    {
     "name": "stderr",
     "output_type": "stream",
     "text": [
      "100%|██████████| 500/500 [00:26<00:00, 19.17it/s]\n"
     ]
    },
    {
     "name": "stdout",
     "output_type": "stream",
     "text": [
      "tf.Tensor(0.037686165, shape=(), dtype=float32)\n",
      "epoch: 1, total reward: 1948.8729701070242\n"
     ]
    },
    {
     "name": "stderr",
     "output_type": "stream",
     "text": [
      "100%|██████████| 500/500 [00:26<00:00, 19.12it/s]\n"
     ]
    },
    {
     "name": "stdout",
     "output_type": "stream",
     "text": [
      "tf.Tensor(0.038409907, shape=(), dtype=float32)\n",
      "epoch: 2, total reward: 1966.028561794539\n"
     ]
    },
    {
     "name": "stderr",
     "output_type": "stream",
     "text": [
      "100%|██████████| 500/500 [00:25<00:00, 19.52it/s]\n"
     ]
    },
    {
     "name": "stdout",
     "output_type": "stream",
     "text": [
      "tf.Tensor(0.039177835, shape=(), dtype=float32)\n",
      "epoch: 3, total reward: 1883.866539674585\n"
     ]
    },
    {
     "name": "stderr",
     "output_type": "stream",
     "text": [
      "100%|██████████| 500/500 [00:25<00:00, 19.29it/s]\n"
     ]
    },
    {
     "name": "stdout",
     "output_type": "stream",
     "text": [
      "tf.Tensor(0.04028449, shape=(), dtype=float32)\n",
      "epoch: 4, total reward: 1952.8936359796883\n"
     ]
    },
    {
     "name": "stderr",
     "output_type": "stream",
     "text": [
      "100%|██████████| 500/500 [00:25<00:00, 19.47it/s]\n"
     ]
    },
    {
     "name": "stdout",
     "output_type": "stream",
     "text": [
      "tf.Tensor(0.040925335, shape=(), dtype=float32)\n",
      "epoch: 5, total reward: 1951.310966079972\n"
     ]
    },
    {
     "name": "stderr",
     "output_type": "stream",
     "text": [
      "100%|██████████| 500/500 [00:25<00:00, 19.52it/s]\n"
     ]
    },
    {
     "name": "stdout",
     "output_type": "stream",
     "text": [
      "tf.Tensor(0.041723963, shape=(), dtype=float32)\n",
      "epoch: 6, total reward: 1875.044579671946\n"
     ]
    },
    {
     "name": "stderr",
     "output_type": "stream",
     "text": [
      "100%|██████████| 500/500 [00:25<00:00, 19.33it/s]\n"
     ]
    },
    {
     "name": "stdout",
     "output_type": "stream",
     "text": [
      "tf.Tensor(0.043042194, shape=(), dtype=float32)\n",
      "epoch: 7, total reward: 1952.4999324949863\n"
     ]
    },
    {
     "name": "stderr",
     "output_type": "stream",
     "text": [
      "100%|██████████| 500/500 [00:25<00:00, 19.29it/s]\n"
     ]
    },
    {
     "name": "stdout",
     "output_type": "stream",
     "text": [
      "tf.Tensor(0.043568958, shape=(), dtype=float32)\n",
      "epoch: 8, total reward: 1955.330272522191\n"
     ]
    },
    {
     "name": "stderr",
     "output_type": "stream",
     "text": [
      "100%|██████████| 500/500 [00:26<00:00, 18.76it/s]\n"
     ]
    },
    {
     "name": "stdout",
     "output_type": "stream",
     "text": [
      "tf.Tensor(0.04425589, shape=(), dtype=float32)\n",
      "epoch: 9, total reward: 1960.4044802553708\n"
     ]
    },
    {
     "name": "stderr",
     "output_type": "stream",
     "text": [
      "100%|██████████| 500/500 [00:25<00:00, 19.34it/s]\n"
     ]
    },
    {
     "name": "stdout",
     "output_type": "stream",
     "text": [
      "tf.Tensor(0.044626053, shape=(), dtype=float32)\n",
      "epoch: 10, total reward: 1878.082518995956\n"
     ]
    },
    {
     "name": "stderr",
     "output_type": "stream",
     "text": [
      "100%|██████████| 500/500 [00:25<00:00, 19.44it/s]\n"
     ]
    },
    {
     "name": "stdout",
     "output_type": "stream",
     "text": [
      "tf.Tensor(0.04409285, shape=(), dtype=float32)\n",
      "epoch: 11, total reward: 1969.3973330459862\n"
     ]
    },
    {
     "name": "stderr",
     "output_type": "stream",
     "text": [
      "100%|██████████| 500/500 [00:25<00:00, 19.46it/s]\n"
     ]
    },
    {
     "name": "stdout",
     "output_type": "stream",
     "text": [
      "tf.Tensor(0.044676844, shape=(), dtype=float32)\n",
      "epoch: 12, total reward: 1949.8834301147583\n"
     ]
    },
    {
     "name": "stderr",
     "output_type": "stream",
     "text": [
      "100%|██████████| 500/500 [00:25<00:00, 19.39it/s]\n"
     ]
    },
    {
     "name": "stdout",
     "output_type": "stream",
     "text": [
      "tf.Tensor(0.045486595, shape=(), dtype=float32)\n",
      "epoch: 13, total reward: 1877.7740216748605\n"
     ]
    },
    {
     "name": "stderr",
     "output_type": "stream",
     "text": [
      "100%|██████████| 500/500 [00:25<00:00, 19.38it/s]\n"
     ]
    },
    {
     "name": "stdout",
     "output_type": "stream",
     "text": [
      "tf.Tensor(0.047061365, shape=(), dtype=float32)\n",
      "epoch: 14, total reward: 1954.73792034462\n"
     ]
    },
    {
     "name": "stderr",
     "output_type": "stream",
     "text": [
      "100%|██████████| 500/500 [00:26<00:00, 19.16it/s]\n"
     ]
    },
    {
     "name": "stdout",
     "output_type": "stream",
     "text": [
      "tf.Tensor(0.0480135, shape=(), dtype=float32)\n",
      "epoch: 15, total reward: 1961.5283513379243\n"
     ]
    },
    {
     "name": "stderr",
     "output_type": "stream",
     "text": [
      "100%|██████████| 500/500 [00:26<00:00, 19.19it/s]\n"
     ]
    },
    {
     "name": "stdout",
     "output_type": "stream",
     "text": [
      "tf.Tensor(0.0490767, shape=(), dtype=float32)\n",
      "epoch: 16, total reward: 1881.2961628845521\n"
     ]
    },
    {
     "name": "stderr",
     "output_type": "stream",
     "text": [
      "100%|██████████| 500/500 [00:26<00:00, 19.20it/s]\n"
     ]
    },
    {
     "name": "stdout",
     "output_type": "stream",
     "text": [
      "tf.Tensor(0.04977758, shape=(), dtype=float32)\n",
      "epoch: 17, total reward: 1946.8432011744708\n"
     ]
    },
    {
     "name": "stderr",
     "output_type": "stream",
     "text": [
      "100%|██████████| 500/500 [00:25<00:00, 19.43it/s]\n"
     ]
    },
    {
     "name": "stdout",
     "output_type": "stream",
     "text": [
      "tf.Tensor(0.05043084, shape=(), dtype=float32)\n",
      "epoch: 18, total reward: 1960.1584797815503\n"
     ]
    },
    {
     "name": "stderr",
     "output_type": "stream",
     "text": [
      "100%|██████████| 500/500 [00:25<00:00, 19.42it/s]\n"
     ]
    },
    {
     "name": "stdout",
     "output_type": "stream",
     "text": [
      "tf.Tensor(0.05133831, shape=(), dtype=float32)\n",
      "epoch: 19, total reward: 1875.9716364945507\n"
     ]
    },
    {
     "name": "stderr",
     "output_type": "stream",
     "text": [
      "100%|██████████| 500/500 [00:25<00:00, 19.40it/s]\n"
     ]
    },
    {
     "name": "stdout",
     "output_type": "stream",
     "text": [
      "tf.Tensor(0.052363306, shape=(), dtype=float32)\n",
      "epoch: 20, total reward: 1956.9342573888014\n"
     ]
    },
    {
     "name": "stderr",
     "output_type": "stream",
     "text": [
      "100%|██████████| 500/500 [00:25<00:00, 19.51it/s]\n"
     ]
    },
    {
     "name": "stdout",
     "output_type": "stream",
     "text": [
      "tf.Tensor(0.05301649, shape=(), dtype=float32)\n",
      "epoch: 21, total reward: 1951.90307671399\n"
     ]
    },
    {
     "name": "stderr",
     "output_type": "stream",
     "text": [
      "100%|██████████| 500/500 [00:27<00:00, 18.44it/s]\n"
     ]
    },
    {
     "name": "stdout",
     "output_type": "stream",
     "text": [
      "tf.Tensor(0.05354078, shape=(), dtype=float32)\n",
      "epoch: 22, total reward: 1883.1254407529552\n"
     ]
    },
    {
     "name": "stderr",
     "output_type": "stream",
     "text": [
      "100%|██████████| 500/500 [00:25<00:00, 19.27it/s]\n"
     ]
    },
    {
     "name": "stdout",
     "output_type": "stream",
     "text": [
      "tf.Tensor(0.0530704, shape=(), dtype=float32)\n",
      "epoch: 23, total reward: 1950.6439533364835\n"
     ]
    },
    {
     "name": "stderr",
     "output_type": "stream",
     "text": [
      "100%|██████████| 500/500 [00:25<00:00, 19.27it/s]\n"
     ]
    },
    {
     "name": "stdout",
     "output_type": "stream",
     "text": [
      "tf.Tensor(0.053607304, shape=(), dtype=float32)\n",
      "epoch: 24, total reward: 2047.8519123067808\n"
     ]
    },
    {
     "name": "stderr",
     "output_type": "stream",
     "text": [
      "100%|██████████| 500/500 [00:25<00:00, 19.33it/s]\n"
     ]
    },
    {
     "name": "stdout",
     "output_type": "stream",
     "text": [
      "tf.Tensor(0.05059849, shape=(), dtype=float32)\n",
      "epoch: 25, total reward: 1956.8747205155937\n"
     ]
    },
    {
     "name": "stderr",
     "output_type": "stream",
     "text": [
      "100%|██████████| 500/500 [00:25<00:00, 19.25it/s]\n"
     ]
    },
    {
     "name": "stdout",
     "output_type": "stream",
     "text": [
      "tf.Tensor(0.05210419, shape=(), dtype=float32)\n",
      "epoch: 26, total reward: 1879.4723053934506\n"
     ]
    },
    {
     "name": "stderr",
     "output_type": "stream",
     "text": [
      "100%|██████████| 500/500 [00:26<00:00, 19.12it/s]\n"
     ]
    },
    {
     "name": "stdout",
     "output_type": "stream",
     "text": [
      "tf.Tensor(0.0541018, shape=(), dtype=float32)\n",
      "epoch: 27, total reward: 1961.1704413619736\n"
     ]
    },
    {
     "name": "stderr",
     "output_type": "stream",
     "text": [
      "100%|██████████| 500/500 [00:25<00:00, 19.32it/s]\n"
     ]
    },
    {
     "name": "stdout",
     "output_type": "stream",
     "text": [
      "tf.Tensor(0.05530265, shape=(), dtype=float32)\n",
      "epoch: 28, total reward: 1959.3295154157383\n"
     ]
    },
    {
     "name": "stderr",
     "output_type": "stream",
     "text": [
      "100%|██████████| 500/500 [00:25<00:00, 19.40it/s]\n"
     ]
    },
    {
     "name": "stdout",
     "output_type": "stream",
     "text": [
      "tf.Tensor(0.052847937, shape=(), dtype=float32)\n",
      "epoch: 29, total reward: 1889.3897680369598\n"
     ]
    },
    {
     "name": "stderr",
     "output_type": "stream",
     "text": [
      "100%|██████████| 500/500 [00:25<00:00, 19.46it/s]\n"
     ]
    },
    {
     "name": "stdout",
     "output_type": "stream",
     "text": [
      "tf.Tensor(0.05411227, shape=(), dtype=float32)\n",
      "epoch: 30, total reward: 1954.0668948118803\n"
     ]
    },
    {
     "name": "stderr",
     "output_type": "stream",
     "text": [
      "100%|██████████| 500/500 [00:25<00:00, 19.29it/s]\n"
     ]
    },
    {
     "name": "stdout",
     "output_type": "stream",
     "text": [
      "tf.Tensor(0.055953298, shape=(), dtype=float32)\n",
      "epoch: 31, total reward: 2048.494109233363\n"
     ]
    },
    {
     "name": "stderr",
     "output_type": "stream",
     "text": [
      "100%|██████████| 500/500 [00:25<00:00, 19.57it/s]\n"
     ]
    },
    {
     "name": "stdout",
     "output_type": "stream",
     "text": [
      "tf.Tensor(0.055868458, shape=(), dtype=float32)\n",
      "epoch: 32, total reward: 1947.7237782404866\n"
     ]
    },
    {
     "name": "stderr",
     "output_type": "stream",
     "text": [
      "100%|██████████| 500/500 [00:25<00:00, 19.32it/s]\n"
     ]
    },
    {
     "name": "stdout",
     "output_type": "stream",
     "text": [
      "tf.Tensor(0.058053967, shape=(), dtype=float32)\n",
      "epoch: 33, total reward: 2025.8694905846758\n"
     ]
    },
    {
     "name": "stderr",
     "output_type": "stream",
     "text": [
      "100%|██████████| 500/500 [00:26<00:00, 18.87it/s]\n"
     ]
    },
    {
     "name": "stdout",
     "output_type": "stream",
     "text": [
      "tf.Tensor(0.055947825, shape=(), dtype=float32)\n",
      "epoch: 34, total reward: 1964.8742853209742\n"
     ]
    },
    {
     "name": "stderr",
     "output_type": "stream",
     "text": [
      "100%|██████████| 500/500 [00:25<00:00, 19.47it/s]\n"
     ]
    },
    {
     "name": "stdout",
     "output_type": "stream",
     "text": [
      "tf.Tensor(0.05902487, shape=(), dtype=float32)\n",
      "epoch: 35, total reward: 1886.099234246218\n"
     ]
    },
    {
     "name": "stderr",
     "output_type": "stream",
     "text": [
      "100%|██████████| 500/500 [00:26<00:00, 19.11it/s]\n"
     ]
    },
    {
     "name": "stdout",
     "output_type": "stream",
     "text": [
      "tf.Tensor(0.060351916, shape=(), dtype=float32)\n",
      "epoch: 36, total reward: 1956.1140688602945\n"
     ]
    },
    {
     "name": "stderr",
     "output_type": "stream",
     "text": [
      "100%|██████████| 500/500 [00:26<00:00, 19.15it/s]\n"
     ]
    },
    {
     "name": "stdout",
     "output_type": "stream",
     "text": [
      "tf.Tensor(0.06270912, shape=(), dtype=float32)\n",
      "epoch: 37, total reward: 1887.2489184287301\n"
     ]
    },
    {
     "name": "stderr",
     "output_type": "stream",
     "text": [
      "100%|██████████| 500/500 [00:26<00:00, 19.21it/s]\n"
     ]
    },
    {
     "name": "stdout",
     "output_type": "stream",
     "text": [
      "tf.Tensor(0.063325934, shape=(), dtype=float32)\n",
      "epoch: 38, total reward: 1963.7479878957208\n"
     ]
    },
    {
     "name": "stderr",
     "output_type": "stream",
     "text": [
      "100%|██████████| 500/500 [00:27<00:00, 18.09it/s]\n"
     ]
    },
    {
     "name": "stdout",
     "output_type": "stream",
     "text": [
      "tf.Tensor(0.06538173, shape=(), dtype=float32)\n",
      "epoch: 39, total reward: 1882.7382374616714\n"
     ]
    },
    {
     "name": "stderr",
     "output_type": "stream",
     "text": [
      "100%|██████████| 500/500 [00:25<00:00, 19.35it/s]\n"
     ]
    },
    {
     "name": "stdout",
     "output_type": "stream",
     "text": [
      "tf.Tensor(0.06649084, shape=(), dtype=float32)\n",
      "epoch: 40, total reward: 1960.2961457460792\n"
     ]
    },
    {
     "name": "stderr",
     "output_type": "stream",
     "text": [
      "100%|██████████| 500/500 [00:25<00:00, 19.28it/s]\n"
     ]
    },
    {
     "name": "stdout",
     "output_type": "stream",
     "text": [
      "tf.Tensor(0.06908377, shape=(), dtype=float32)\n",
      "epoch: 41, total reward: 1881.3327119697658\n"
     ]
    },
    {
     "name": "stderr",
     "output_type": "stream",
     "text": [
      "100%|██████████| 500/500 [00:25<00:00, 19.29it/s]\n"
     ]
    },
    {
     "name": "stdout",
     "output_type": "stream",
     "text": [
      "tf.Tensor(0.06973817, shape=(), dtype=float32)\n",
      "epoch: 42, total reward: 1948.0446035119178\n"
     ]
    },
    {
     "name": "stderr",
     "output_type": "stream",
     "text": [
      "100%|██████████| 500/500 [00:26<00:00, 19.06it/s]\n"
     ]
    },
    {
     "name": "stdout",
     "output_type": "stream",
     "text": [
      "tf.Tensor(0.07256017, shape=(), dtype=float32)\n",
      "epoch: 43, total reward: 1871.1375724319632\n"
     ]
    },
    {
     "name": "stderr",
     "output_type": "stream",
     "text": [
      "100%|██████████| 500/500 [00:26<00:00, 19.20it/s]\n"
     ]
    },
    {
     "name": "stdout",
     "output_type": "stream",
     "text": [
      "tf.Tensor(0.07162319, shape=(), dtype=float32)\n",
      "epoch: 44, total reward: 1959.919603126091\n"
     ]
    },
    {
     "name": "stderr",
     "output_type": "stream",
     "text": [
      "100%|██████████| 500/500 [00:26<00:00, 19.22it/s]\n"
     ]
    },
    {
     "name": "stdout",
     "output_type": "stream",
     "text": [
      "tf.Tensor(0.07450383, shape=(), dtype=float32)\n",
      "epoch: 45, total reward: 1873.574046929798\n"
     ]
    },
    {
     "name": "stderr",
     "output_type": "stream",
     "text": [
      "100%|██████████| 500/500 [00:27<00:00, 18.44it/s]\n"
     ]
    },
    {
     "name": "stdout",
     "output_type": "stream",
     "text": [
      "tf.Tensor(0.07300446, shape=(), dtype=float32)\n",
      "epoch: 46, total reward: 1918.1003614012195\n"
     ]
    },
    {
     "name": "stderr",
     "output_type": "stream",
     "text": [
      "100%|██████████| 500/500 [00:26<00:00, 18.72it/s]\n"
     ]
    },
    {
     "name": "stdout",
     "output_type": "stream",
     "text": [
      "tf.Tensor(0.07522538, shape=(), dtype=float32)\n",
      "epoch: 47, total reward: 1875.574091704093\n"
     ]
    },
    {
     "name": "stderr",
     "output_type": "stream",
     "text": [
      "100%|██████████| 500/500 [00:26<00:00, 19.05it/s]\n"
     ]
    },
    {
     "name": "stdout",
     "output_type": "stream",
     "text": [
      "tf.Tensor(0.074175276, shape=(), dtype=float32)\n",
      "epoch: 48, total reward: 1916.6680881941757\n"
     ]
    },
    {
     "name": "stderr",
     "output_type": "stream",
     "text": [
      "100%|██████████| 500/500 [00:26<00:00, 19.17it/s]\n"
     ]
    },
    {
     "name": "stdout",
     "output_type": "stream",
     "text": [
      "tf.Tensor(0.07586461, shape=(), dtype=float32)\n",
      "epoch: 49, total reward: 1878.2888292284333\n"
     ]
    },
    {
     "name": "stderr",
     "output_type": "stream",
     "text": [
      "100%|██████████| 500/500 [00:26<00:00, 19.05it/s]"
     ]
    },
    {
     "name": "stdout",
     "output_type": "stream",
     "text": [
      "tf.Tensor(0.074554764, shape=(), dtype=float32)\n"
     ]
    },
    {
     "name": "stderr",
     "output_type": "stream",
     "text": [
      "\n"
     ]
    }
   ],
   "source": [
    "for i in range(50):\n",
    "    S_series,O_series,U_series,R_series,O_predicted_series,Done_series=data_collection(100,dqn_solver,autoencoder)\n",
    "    print(\"epoch: {}, total reward: {}\".format(i, sum(R_series)))\n",
    "    rewards_storage.append(sum(R_series))\n",
    "    dqn_training(dqn_solver,500,S_series,U_series,R_series,Done_series)\n",
    "    print(dqn_solver.model.Qpolicy.weights[0][0][0])\n",
    "    dqn_solver.decrement_epsilon()\n"
   ]
  },
  {
   "cell_type": "code",
   "execution_count": null,
   "metadata": {},
   "outputs": [],
   "source": [
    "plt."
   ]
  },
  {
   "cell_type": "code",
   "execution_count": 42,
   "metadata": {},
   "outputs": [
    {
     "data": {
      "text/plain": [
       "0.018686884934977686"
      ]
     },
     "execution_count": 42,
     "metadata": {},
     "output_type": "execute_result"
    }
   ],
   "source": [
    "dqn_solver.epsilon"
   ]
  },
  {
   "cell_type": "code",
   "execution_count": 34,
   "metadata": {},
   "outputs": [
    {
     "data": {
      "text/plain": [
       "200"
      ]
     },
     "execution_count": 34,
     "metadata": {},
     "output_type": "execute_result"
    }
   ],
   "source": [
    "len(rewards_storage)"
   ]
  },
  {
   "cell_type": "code",
   "execution_count": 36,
   "metadata": {},
   "outputs": [
    {
     "data": {
      "text/plain": [
       "[<matplotlib.lines.Line2D at 0x252d4405850>]"
      ]
     },
     "execution_count": 36,
     "metadata": {},
     "output_type": "execute_result"
    },
    {
     "data": {
      "image/png": "[encoded data removed]",
      "text/plain": [
       "<Figure size 432x288 with 1 Axes>"
      ]
     },
     "metadata": {
      "needs_background": "light"
     },
     "output_type": "display_data"
    }
   ],
   "source": [
    "plt.plot(rewards_storage[:200])"
   ]
  },
  {
   "cell_type": "code",
   "execution_count": 44,
   "metadata": {},
   "outputs": [],
   "source": [
    "autoencoder.save_weights('aenc_weights_15_06')"
   ]
  },
  {
   "cell_type": "code",
   "execution_count": 45,
   "metadata": {},
   "outputs": [],
   "source": [
    "dqn_solver.model.Qpolicy.save_weights('dqn_weights_15_06')"
   ]
  },
  {
   "cell_type": "code",
   "execution_count": 82,
   "metadata": {},
   "outputs": [
    {
     "data": {
      "text/plain": [
       "[-20000.0,\n",
       " -20000.0,\n",
       " -20000.0,\n",
       " -20000.0,\n",
       " -20000.0,\n",
       " -20000.0,\n",
       " -20000.0,\n",
       " -20000.0,\n",
       " -20000.0,\n",
       " -20000.0,\n",
       " -20000.0,\n",
       " -20000.0,\n",
       " -20000.0,\n",
       " -20000.0,\n",
       " -20000.0,\n",
       " -20000.0,\n",
       " -20000.0,\n",
       " -20000.0,\n",
       " -20000.0,\n",
       " -20000.0,\n",
       " -20000.0,\n",
       " -20000.0,\n",
       " -20000.0,\n",
       " -20000.0,\n",
       " -20000.0,\n",
       " -20000.0,\n",
       " -20000.0,\n",
       " -20000.0,\n",
       " -20000.0,\n",
       " -20000.0,\n",
       " -20000.0,\n",
       " -20000.0,\n",
       " -20000.0,\n",
       " -20000.0,\n",
       " -20000.0,\n",
       " -20000.0,\n",
       " -20000.0,\n",
       " -20000.0,\n",
       " -20000.0,\n",
       " -20000.0]"
      ]
     },
     "execution_count": 82,
     "metadata": {},
     "output_type": "execute_result"
    }
   ],
   "source": [
    "rewards_storage"
   ]
  },
  {
   "cell_type": "code",
   "execution_count": 39,
   "metadata": {},
   "outputs": [
    {
     "data": {
      "text/plain": [
       "<tf.Tensor: shape=(), dtype=float32, numpy=-0.28848872>"
      ]
     },
     "execution_count": 39,
     "metadata": {},
     "output_type": "execute_result"
    }
   ],
   "source": [
    "autoencoder.weights[0][0][0]"
   ]
  },
  {
   "cell_type": "code",
   "execution_count": 38,
   "metadata": {},
   "outputs": [
    {
     "data": {
      "text/plain": [
       "[<tf.Variable 'encoder/dense_8/kernel:0' shape=(4, 16) dtype=float32, numpy=\n",
       " array([[ 0.6731519 ,  0.315793  ,  0.16822778, -0.64602506,  0.09252427,\n",
       "          0.38910666,  0.5529649 ,  0.7776081 ,  0.5260435 , -0.02083748,\n",
       "         -0.8276667 , -0.9061661 , -1.0689378 , -0.3018736 , -0.6993994 ,\n",
       "         -0.17515428],\n",
       "        [ 0.07484707,  0.7604488 ,  1.0857692 , -0.72904354,  1.1481678 ,\n",
       "          0.11353139,  0.7276331 , -0.716265  ,  0.28851637, -0.46391103,\n",
       "         -1.2036393 ,  0.01491096,  0.54008406,  0.31976607,  0.86139727,\n",
       "         -1.0990291 ],\n",
       "        [-0.6062149 ,  0.06246325,  1.9448066 , -0.55523854, -1.0286179 ,\n",
       "         -1.2343662 ,  1.579112  ,  1.1748174 , -1.2951704 , -1.3161945 ,\n",
       "          0.29519653, -0.5193821 , -0.9876179 ,  0.5980964 ,  0.6414352 ,\n",
       "          1.1913831 ],\n",
       "        [ 0.59264106,  1.1522578 ,  0.23224121,  1.1192757 , -0.74889004,\n",
       "         -0.38891685,  0.5646799 ,  0.20139012,  0.5925846 ,  0.23720525,\n",
       "         -0.6437281 , -0.8983016 ,  0.4189697 , -1.1287432 , -0.74451506,\n",
       "          0.25059348]], dtype=float32)>,\n",
       " <tf.Variable 'encoder/dense_8/bias:0' shape=(16,) dtype=float32, numpy=\n",
       " array([ 0.04679104,  0.0040544 ,  0.016209  ,  0.00082996,  0.05772622,\n",
       "         0.03176519, -0.01361215, -0.00710918, -0.01091035, -0.02244797,\n",
       "        -0.01659125, -0.0212928 , -0.01758197,  0.00826178,  0.01655415,\n",
       "         0.04164736], dtype=float32)>,\n",
       " <tf.Variable 'encoder/dense_9/kernel:0' shape=(16, 16) dtype=float32, numpy=\n",
       " array([[ 2.05969766e-01, -5.19184411e-01,  1.64946094e-01,\n",
       "         -3.41950953e-01,  2.52140433e-01,  1.06875291e-02,\n",
       "         -5.41729569e-01,  7.16423765e-02, -5.80736220e-01,\n",
       "          2.12130979e-01,  8.09137970e-02, -6.68657243e-01,\n",
       "          2.65130941e-02,  2.91468203e-01, -3.03140394e-02,\n",
       "         -2.68523455e-01],\n",
       "        [ 3.71921986e-01, -2.83459425e-02, -3.94379683e-02,\n",
       "         -7.16031119e-02, -1.30609959e-01,  2.14502901e-01,\n",
       "         -9.23682004e-03,  1.80781573e-01, -3.57074797e-01,\n",
       "         -4.22329038e-01, -6.10382354e-04,  4.30862717e-02,\n",
       "         -2.02592164e-01,  2.61921197e-01,  3.86906832e-01,\n",
       "         -4.63815510e-01],\n",
       "        [-4.64363933e-01, -5.13036728e-01,  7.18585849e-02,\n",
       "         -2.55111992e-01, -2.99568564e-01,  3.14118505e-01,\n",
       "          4.09263283e-01,  5.07947505e-01,  1.44287184e-01,\n",
       "         -9.06447470e-02,  1.93812951e-01,  2.48346888e-02,\n",
       "          2.11420909e-01,  1.51891336e-01,  3.65172178e-01,\n",
       "         -2.82489598e-01],\n",
       "        [ 2.36868247e-01, -1.01895161e-01,  1.18556790e-01,\n",
       "         -3.24943334e-01, -9.98801179e-03,  3.98708969e-01,\n",
       "         -7.12742005e-03,  5.52997708e-01,  2.43093237e-01,\n",
       "         -5.59641361e-01,  1.97256222e-01,  3.84018868e-01,\n",
       "          2.17899978e-01,  3.53564829e-01, -5.75305760e-01,\n",
       "          3.99769783e-01],\n",
       "        [ 6.19943619e-01, -5.57390869e-01, -1.48214892e-01,\n",
       "          2.61549383e-01,  3.22306812e-01,  1.22240596e-01,\n",
       "         -1.85208291e-01,  2.51210898e-01, -7.99060389e-02,\n",
       "         -1.07545629e-01,  1.76592812e-01,  2.18590870e-01,\n",
       "         -1.62048042e-01,  4.37956065e-01, -5.16724944e-01,\n",
       "         -4.05080132e-02],\n",
       "        [ 4.78902236e-02,  2.27959648e-01,  8.64275694e-02,\n",
       "         -5.77934504e-01, -6.03212416e-01,  2.24327549e-01,\n",
       "          1.49025723e-01,  3.13744634e-01,  1.57069072e-01,\n",
       "          2.65793473e-01, -1.03901058e-01,  3.79922599e-01,\n",
       "          1.01003081e-01, -1.43320486e-01,  4.34703916e-01,\n",
       "          3.16780061e-01],\n",
       "        [ 2.47023866e-01,  4.05971587e-01, -5.21676302e-01,\n",
       "          2.82861263e-01,  8.85980204e-02, -1.00175016e-01,\n",
       "         -1.76157579e-01, -3.85864824e-01, -3.41116667e-01,\n",
       "         -4.80669260e-01,  4.05894279e-01, -3.20792794e-01,\n",
       "          9.26632583e-02, -2.76954798e-03, -5.12827635e-01,\n",
       "          4.04880166e-01],\n",
       "        [-1.38759777e-01, -1.06970370e-01,  5.57579279e-01,\n",
       "          3.17748278e-01, -1.35007590e-01,  1.12681113e-01,\n",
       "         -1.42541960e-01,  5.71166337e-01, -3.63915205e-01,\n",
       "          3.35220188e-01, -2.67609328e-01, -3.82370174e-01,\n",
       "          5.58195889e-01,  1.57797784e-01, -3.99481475e-01,\n",
       "          3.07615083e-02],\n",
       "        [ 5.20788014e-01,  1.57505393e-01,  1.27457187e-01,\n",
       "          8.76381993e-02,  6.29321560e-02, -5.12087226e-01,\n",
       "          1.43663868e-01, -3.41417462e-01,  7.09509254e-02,\n",
       "         -4.05754924e-01,  5.82003891e-01, -5.68452954e-01,\n",
       "          7.12835863e-02, -2.63070256e-01, -1.76084325e-01,\n",
       "         -4.41780090e-02],\n",
       "        [ 4.04555529e-01,  5.40078171e-02, -5.54716051e-01,\n",
       "          3.31994593e-01,  2.25976706e-02, -2.59911984e-01,\n",
       "          3.94915760e-01, -3.14828873e-01, -7.68989325e-02,\n",
       "          2.03072876e-01,  1.61838576e-01,  2.58756012e-01,\n",
       "         -4.67634201e-02, -3.91844064e-01,  2.09785551e-01,\n",
       "         -6.37376666e-01],\n",
       "        [-2.91122049e-01,  4.22075510e-01,  4.24020618e-01,\n",
       "         -3.76745641e-01, -4.91318226e-01, -5.76037884e-01,\n",
       "          3.70741069e-01, -3.95269364e-01,  2.05557317e-01,\n",
       "          4.83681917e-01, -3.35791588e-01,  1.95952505e-02,\n",
       "          4.17406932e-02,  1.76110789e-02,  5.89104695e-03,\n",
       "          5.70102930e-01],\n",
       "        [ 6.50151849e-01,  2.74926573e-01, -2.58435726e-01,\n",
       "          8.02064240e-02, -4.88184899e-01, -1.31697744e-01,\n",
       "          3.36608559e-01, -2.85979390e-01, -6.54541329e-02,\n",
       "         -4.24832076e-01, -1.77687988e-01, -4.37382698e-01,\n",
       "         -2.39994496e-01, -1.95785016e-01, -2.30658904e-01,\n",
       "         -3.16513926e-01],\n",
       "        [ 5.67647099e-01, -7.97148719e-02,  5.29470265e-01,\n",
       "          2.89863825e-01,  5.42677045e-01,  1.76369622e-01,\n",
       "          4.48378116e-01,  6.61881864e-02, -1.31741717e-01,\n",
       "         -9.24876556e-02, -1.50129363e-01,  1.79399937e-01,\n",
       "          1.85195729e-01, -2.61250824e-01,  2.80628074e-02,\n",
       "          7.29894564e-02],\n",
       "        [ 3.20847154e-01,  2.31750235e-01,  9.46701691e-02,\n",
       "          8.30698982e-02,  1.57189459e-01,  5.95654190e-01,\n",
       "         -4.95118469e-01, -5.02961397e-01,  5.26121855e-01,\n",
       "         -1.05534151e-01,  2.63022482e-01,  5.07808745e-01,\n",
       "         -1.97040886e-01, -5.47253072e-01,  2.75929958e-01,\n",
       "         -5.66069961e-01],\n",
       "        [ 2.39455879e-01, -1.63101032e-02,  4.17683601e-01,\n",
       "         -3.56885821e-01,  1.46390602e-01, -1.39990896e-01,\n",
       "         -8.93086642e-02,  1.07383750e-01,  1.52904883e-01,\n",
       "         -3.28083485e-01,  5.02506793e-01,  5.83407342e-01,\n",
       "          3.64349067e-01, -4.67261761e-01, -1.77816123e-01,\n",
       "         -2.18676195e-01],\n",
       "        [-6.92529440e-01, -2.88261443e-01,  2.10632682e-01,\n",
       "          5.39044440e-01,  5.29019713e-01, -2.18041807e-01,\n",
       "          4.99190122e-01,  1.59934282e-01, -3.40276986e-01,\n",
       "          2.82819659e-01, -5.16836524e-01, -2.58853614e-01,\n",
       "         -4.09779906e-01,  3.71701531e-02,  5.95926940e-01,\n",
       "         -4.88164127e-02]], dtype=float32)>,\n",
       " <tf.Variable 'encoder/dense_9/bias:0' shape=(16,) dtype=float32, numpy=\n",
       " array([-0.00367173,  0.00611893,  0.0111408 , -0.03505384,  0.02739376,\n",
       "         0.01778937,  0.00303907,  0.01044883, -0.00570411,  0.08106748,\n",
       "         0.00765344, -0.0431808 , -0.00059156, -0.01866458,  0.04105261,\n",
       "        -0.04849108], dtype=float32)>,\n",
       " <tf.Variable 'encoder/dense_10/kernel:0' shape=(16, 2) dtype=float32, numpy=\n",
       " array([[ 0.40341   ,  0.48079926],\n",
       "        [-0.39089197,  0.32050055],\n",
       "        [-0.43110186, -0.26553416],\n",
       "        [ 0.3348566 ,  0.08396165],\n",
       "        [ 0.46587747, -0.12029431],\n",
       "        [ 0.11570041, -0.31782696],\n",
       "        [-0.40128753, -0.18798618],\n",
       "        [ 0.3437005 ,  0.44761467],\n",
       "        [-0.07868461,  0.32295647],\n",
       "        [ 0.2548786 ,  0.09305891],\n",
       "        [ 0.45684883,  0.05356514],\n",
       "        [ 0.49050313, -0.3202243 ],\n",
       "        [-0.39820307, -0.52152133],\n",
       "        [-0.15672404, -0.39428055],\n",
       "        [ 0.4153332 , -0.5013377 ],\n",
       "        [ 0.11305249, -0.01737209]], dtype=float32)>,\n",
       " <tf.Variable 'encoder/dense_10/bias:0' shape=(2,) dtype=float32, numpy=array([0.01640654, 0.0255971 ], dtype=float32)>,\n",
       " <tf.Variable 'decoder/dense_11/kernel:0' shape=(3, 16) dtype=float32, numpy=\n",
       " array([[ 0.36209902,  1.0618386 , -0.8963031 , -0.77367127,  1.0793029 ,\n",
       "          0.9955905 ,  1.3432688 ,  1.1409891 ,  1.0259666 , -0.02730902,\n",
       "         -1.2000706 , -0.62333846, -0.6878027 , -0.9661752 ,  1.0456588 ,\n",
       "          0.48288536],\n",
       "        [ 0.00355505, -0.13808337,  0.2747508 , -1.3060304 , -0.80885947,\n",
       "          0.31307295, -0.8867606 , -0.04611445,  1.3660963 , -0.5267455 ,\n",
       "          0.5233557 , -1.1415303 ,  1.021301  ,  1.235584  , -0.29053825,\n",
       "         -0.12826933],\n",
       "        [-0.46922946,  0.04585217, -0.886795  ,  1.3769913 ,  0.35806555,\n",
       "         -0.43605113, -1.0920001 ,  0.6480084 , -0.41343737, -0.257814  ,\n",
       "         -0.6103801 ,  1.0354692 , -0.9272148 ,  0.52972585,  0.9637183 ,\n",
       "          0.9026962 ]], dtype=float32)>,\n",
       " <tf.Variable 'decoder/dense_11/bias:0' shape=(16,) dtype=float32, numpy=\n",
       " array([-0.0040561 ,  0.02079671, -0.05778568,  0.00709562,  0.02210469,\n",
       "         0.03036255, -0.01597671, -0.02856512,  0.02610771,  0.00876123,\n",
       "         0.00500772,  0.00315152, -0.00921781,  0.04234216, -0.00097011,\n",
       "         0.00033467], dtype=float32)>,\n",
       " <tf.Variable 'decoder/dense_12/kernel:0' shape=(16, 16) dtype=float32, numpy=\n",
       " array([[-0.49932146,  0.13150515, -0.5424225 , -0.18957265,  0.33709365,\n",
       "         -0.4437682 ,  0.5433484 , -0.5897595 , -0.02906413, -0.4137439 ,\n",
       "         -0.38484392, -0.0031777 , -0.48856997,  0.5858158 , -0.55545205,\n",
       "         -0.46463326],\n",
       "        [-0.32385537,  0.16214725, -0.17628972, -0.26543936,  0.11972325,\n",
       "          0.16700925,  0.2135219 , -0.12102166,  0.38976112, -0.6156158 ,\n",
       "          0.53734756, -0.48154503, -0.44847417,  0.3744941 , -0.21551202,\n",
       "          0.3197427 ],\n",
       "        [-0.34700498,  0.05185481, -0.36277422, -0.16142222, -0.5807235 ,\n",
       "          0.0116738 ,  0.30587992, -0.4724606 , -0.54680383,  0.49638152,\n",
       "          0.61757636,  0.48607728,  0.48079214, -0.49258932,  0.2048507 ,\n",
       "         -0.22142532],\n",
       "        [-0.2591202 , -0.03290356,  0.325384  ,  0.39542726, -0.31742874,\n",
       "          0.09657393,  0.2744353 , -0.4773236 , -0.24084738,  0.08821291,\n",
       "         -0.5338449 ,  0.40066716,  0.11846963, -0.406821  ,  0.60779935,\n",
       "          0.4309242 ],\n",
       "        [ 0.42605332,  0.0814889 ,  0.06665406, -0.52357996, -0.59991866,\n",
       "         -0.06116251,  0.39018303, -0.353564  ,  0.46109226,  0.46219283,\n",
       "          0.32143798, -0.25072452, -0.19448212,  0.3796067 , -0.53482944,\n",
       "          0.18677245],\n",
       "        [-0.10570873,  0.31692827,  0.12440823, -0.5255438 , -0.23286876,\n",
       "         -0.33196425,  0.47199342, -0.28638062, -0.01126595, -0.28454754,\n",
       "         -0.04040103, -0.5895613 ,  0.48820433,  0.49060747,  0.15192407,\n",
       "         -0.42979288],\n",
       "        [-0.15453704,  0.17717904,  0.37694645, -0.5117624 , -0.38828653,\n",
       "         -0.3983978 , -0.04281471,  0.4700399 , -0.43625313,  0.26653224,\n",
       "          0.56208026,  0.01432202,  0.19790186,  0.28753984,  0.5541931 ,\n",
       "         -0.13169044],\n",
       "        [-0.48042804,  0.30012316, -0.02112299,  0.39296252, -0.5328149 ,\n",
       "          0.02100314,  0.18114835, -0.24590331,  0.10655236,  0.07497492,\n",
       "         -0.12011325, -0.26861688,  0.01457689, -0.23403613,  0.5269255 ,\n",
       "          0.40573186],\n",
       "        [ 0.44851586,  0.11281981, -0.02253582,  0.27126274,  0.26169103,\n",
       "         -0.39456046, -0.13043502, -0.4582556 ,  0.45624125,  0.28497943,\n",
       "          0.516707  , -0.08775842, -0.43583938, -0.16521282,  0.5729924 ,\n",
       "          0.16990398],\n",
       "        [-0.55774033,  0.07158355,  0.6017274 ,  0.51945955,  0.10136729,\n",
       "          0.5360825 , -0.45270127,  0.05142754,  0.20729345, -0.4074262 ,\n",
       "          0.29252222, -0.1748754 ,  0.56461567,  0.46537858,  0.1751182 ,\n",
       "         -0.5864701 ],\n",
       "        [-0.57928437, -0.59194374, -0.18001744, -0.4963936 , -0.3127601 ,\n",
       "          0.40534833,  0.62084246,  0.41079098,  0.35841247,  0.5106544 ,\n",
       "          0.6562966 ,  0.14952415, -0.38027206, -0.2525566 , -0.4711126 ,\n",
       "          0.3949706 ],\n",
       "        [-0.10583848, -0.33160034, -0.16095464,  0.43755993, -0.59066194,\n",
       "          0.4935747 , -0.29923767, -0.33884168,  0.02410568, -0.30425012,\n",
       "         -0.17907949, -0.13771957, -0.04932903, -0.5976734 , -0.46697053,\n",
       "          0.4873108 ],\n",
       "        [ 0.51475495, -0.4709521 , -0.26290712, -0.40269274, -0.37933287,\n",
       "          0.39570925, -0.28969768,  0.035712  ,  0.2830637 ,  0.41413194,\n",
       "         -0.01154204,  0.22212315,  0.3229004 ,  0.5243794 ,  0.38870624,\n",
       "         -0.3707367 ],\n",
       "        [ 0.5378165 ,  0.24221398,  0.28478804, -0.5649746 , -0.1540044 ,\n",
       "         -0.22225095, -0.38338438, -0.32354853, -0.10873664, -0.14240958,\n",
       "         -0.0770502 , -0.5246945 ,  0.13024895, -0.65219367, -0.19494477,\n",
       "         -0.37755498],\n",
       "        [ 0.23511371, -0.24732485,  0.52390206, -0.37456015,  0.05876402,\n",
       "          0.45594856,  0.13844961, -0.31206337,  0.25846013, -0.44622752,\n",
       "          0.2930234 , -0.25805265,  0.08712517, -0.02251406, -0.09369341,\n",
       "         -0.18298917],\n",
       "        [-0.6094156 ,  0.44944072, -0.53471094, -0.2670037 , -0.16758484,\n",
       "         -0.10883728, -0.35748923,  0.5706189 ,  0.56382847, -0.08717937,\n",
       "          0.30555585,  0.13267648, -0.07973266, -0.4815929 ,  0.44428915,\n",
       "         -0.46766743]], dtype=float32)>,\n",
       " <tf.Variable 'decoder/dense_12/bias:0' shape=(16,) dtype=float32, numpy=\n",
       " array([-0.04300153, -0.00095032,  0.00290108,  0.04061799, -0.00649751,\n",
       "        -0.01048828,  0.00293897,  0.        , -0.00325798, -0.01151585,\n",
       "        -0.00638044,  0.02709713,  0.0100303 , -0.00249383,  0.003616  ,\n",
       "        -0.00340693], dtype=float32)>,\n",
       " <tf.Variable 'decoder/dense_13/kernel:0' shape=(16, 1) dtype=float32, numpy=\n",
       " array([[-0.48766127],\n",
       "        [-0.48955613],\n",
       "        [ 0.27314013],\n",
       "        [-0.31178743],\n",
       "        [-0.46894118],\n",
       "        [ 0.27590138],\n",
       "        [ 0.16688217],\n",
       "        [ 0.541944  ],\n",
       "        [-0.13750032],\n",
       "        [-0.46286747],\n",
       "        [ 0.2810073 ],\n",
       "        [ 0.4238648 ],\n",
       "        [-0.3873749 ],\n",
       "        [-0.3123725 ],\n",
       "        [ 0.15453704],\n",
       "        [-0.35985416]], dtype=float32)>,\n",
       " <tf.Variable 'decoder/dense_13/bias:0' shape=(1,) dtype=float32, numpy=array([0.00274036], dtype=float32)>]"
      ]
     },
     "execution_count": 38,
     "metadata": {},
     "output_type": "execute_result"
    }
   ],
   "source": [
    "autoencoder.weights"
   ]
  },
  {
   "cell_type": "code",
   "execution_count": 39,
   "metadata": {},
   "outputs": [
    {
     "data": {
      "text/plain": [
       "[<tf.Variable 'dense/kernel:0' shape=(2, 512) dtype=float32, numpy=\n",
       " array([[-3.9430380e-02,  1.5977450e-02,  7.4159756e-02, ...,\n",
       "          4.9249962e-02,  7.9693794e-02,  2.8441926e-02],\n",
       "        [ 2.0170677e-02, -4.9086050e-03,  6.7629961e-05, ...,\n",
       "          7.0236586e-02, -5.9554069e-03,  3.1821355e-02]], dtype=float32)>,\n",
       " <tf.Variable 'dense/bias:0' shape=(512,) dtype=float32, numpy=\n",
       " array([ 0.07315769,  0.07535834,  0.07893017,  0.08177733,  0.05829623,\n",
       "         0.03290051,  0.03445258,  0.08520325,  0.08750124,  0.08724762,\n",
       "         0.0863997 ,  0.08548895,  0.04879668,  0.03856827,  0.0842267 ,\n",
       "         0.08641409,  0.08940197,  0.0732449 ,  0.08817407,  0.01088211,\n",
       "         0.00654488,  0.06183248, -0.05338445,  0.05728047,  0.07967804,\n",
       "         0.08267357,  0.08754292, -0.0419859 ,  0.09027503,  0.07130238,\n",
       "        -0.00091506,  0.08214787,  0.06431732,  0.08290624,  0.03325573,\n",
       "         0.08182754,  0.08855905,  0.08088741,  0.08521033,  0.04966574,\n",
       "         0.08134913,  0.07714798,  0.06310096,  0.01899677,  0.08099684,\n",
       "         0.04034223,  0.0761872 ,  0.01729315,  0.05373971,  0.08736658,\n",
       "         0.0874312 ,  0.07737011,  0.06992339,  0.04310151,  0.08630663,\n",
       "         0.00514383, -0.00298433, -0.00471192,  0.08835749,  0.05681576,\n",
       "         0.00158166,  0.08962021,  0.0876358 , -0.00447174,  0.08785073,\n",
       "         0.0575358 ,  0.08538003,  0.05507091,  0.03743523,  0.08467723,\n",
       "         0.07467882,  0.0752366 ,  0.05933701,  0.02584673,  0.06011309,\n",
       "         0.0784035 ,  0.00286754,  0.08772529,  0.03989865,  0.02471739,\n",
       "         0.08781723,  0.03114787, -0.00113521,  0.08917293,  0.08143075,\n",
       "         0.08603644,  0.08562315,  0.02166638,  0.07231548,  0.0409935 ,\n",
       "         0.08627047,  0.06890202,  0.05972791,  0.08696225,  0.07369792,\n",
       "         0.03496484,  0.08718918,  0.00563558,  0.04048163,  0.08836054,\n",
       "         0.08846045, -0.0514373 ,  0.0775057 ,  0.08531202,  0.00851662,\n",
       "         0.00937051,  0.06204068,  0.08347907,  0.00957391,  0.05565999,\n",
       "         0.08679482,  0.08515158,  0.08532929,  0.07534184,  0.08195822,\n",
       "         0.08904333,  0.05645312,  0.0798132 ,  0.08542882,  0.07397435,\n",
       "         0.05812364,  0.08834447,  0.02048434,  0.08669882,  0.00753324,\n",
       "         0.08780616,  0.08785941,  0.04204865,  0.08907209,  0.01845813,\n",
       "        -0.00122941,  0.08789589,  0.07704455,  0.08600673,  0.02923674,\n",
       "         0.0873057 ,  0.06032035,  0.088425  ,  0.08536931,  0.0860443 ,\n",
       "         0.08777297,  0.03555535,  0.03229669,  0.03275722,  0.07300789,\n",
       "         0.08794189,  0.08880442,  0.02626366,  0.08729912,  0.0826774 ,\n",
       "         0.08155075,  0.07643552,  0.06143483,  0.06126971,  0.07190538,\n",
       "         0.07174544,  0.03857439,  0.08731637,  0.0813169 ,  0.00833219,\n",
       "         0.08028555,  0.06920608,  0.08620717,  0.08863264,  0.08875322,\n",
       "        -0.00566371,  0.08145937,  0.0101609 ,  0.07213424,  0.03257323,\n",
       "        -0.06263769,  0.08758994,  0.0844235 ,  0.08695684, -0.00898716,\n",
       "         0.0441445 ,  0.08847304,  0.0865929 ,  0.08628484,  0.07778186,\n",
       "         0.08811706,  0.02468176,  0.01160841,  0.04304788,  0.04837089,\n",
       "        -0.00500574,  0.0195303 ,  0.08819774, -0.06770943,  0.06321681,\n",
       "         0.04329977,  0.06847421,  0.08924658,  0.08640397,  0.07345945,\n",
       "        -0.00523134,  0.0831814 ,  0.08889341,  0.04940052,  0.07397551,\n",
       "         0.06174031,  0.0685478 ,  0.08900711, -0.00348186,  0.06341126,\n",
       "         0.08956519,  0.08479568,  0.08905602,  0.08541398,  0.04709423,\n",
       "         0.08404866,  0.08510815,  0.01652678,  0.04536799,  0.08798786,\n",
       "         0.02380298,  0.08677627,  0.06202494,  0.06920886,  0.08862232,\n",
       "         0.06441288,  0.01146404,  0.08873877,  0.08787922, -0.02358839,\n",
       "         0.08822116,  0.07190353,  0.08793566,  0.00793373,  0.08539991,\n",
       "         0.07466971,  0.04229182,  0.08740866,  0.08878125,  0.08799637,\n",
       "         0.08705769,  0.08739602,  0.08777619,  0.07065084,  0.02550949,\n",
       "         0.03799673, -0.00891547,  0.08839883,  0.08698635,  0.01898362,\n",
       "         0.08250786,  0.08702303,  0.00744528,  0.00700082,  0.08881012,\n",
       "         0.08725648, -0.0013282 ,  0.08707353,  0.02527129,  0.08578361,\n",
       "         0.08616363,  0.08802406,  0.08898266,  0.02254434, -0.00365969,\n",
       "         0.08432814,  0.08374749,  0.08762467,  0.08693093,  0.08571379,\n",
       "         0.03564134,  0.08880873,  0.07821944,  0.06010469,  0.08861014,\n",
       "         0.08737295,  0.07975201,  0.01063659,  0.04677099,  0.08771271,\n",
       "        -0.0050075 , -0.00955434,  0.04126867,  0.08621221,  0.08261905,\n",
       "         0.0885147 ,  0.00241617,  0.08447602,  0.07980786,  0.08392283,\n",
       "         0.01587109,  0.00659452,  0.0398629 ,  0.07538045,  0.08908657,\n",
       "         0.0861486 ,  0.06891778,  0.06226322,  0.03862475,  0.08878385,\n",
       "         0.08610561,  0.01578328,  0.01167273,  0.04686779,  0.08772925,\n",
       "        -0.00282719,  0.02699329,  0.0605939 ,  0.08759733,  0.02932631,\n",
       "         0.08634506,  0.08720177,  0.08399464,  0.00198026,  0.01534389,\n",
       "         0.03488829,  0.03870373,  0.08825324,  0.04447721,  0.06831177,\n",
       "        -0.05320611,  0.08879594,  0.08489786,  0.08858891,  0.08866152,\n",
       "         0.04127347,  0.08606906,  0.08085766,  0.07391816,  0.08650093,\n",
       "         0.0395352 ,  0.08645283,  0.08843894,  0.08683559,  0.01864009,\n",
       "         0.07029743, -0.05435103,  0.08743986,  0.01871891,  0.0592073 ,\n",
       "         0.06820536,  0.01296326,  0.00979549,  0.05385174,  0.08605475,\n",
       "        -0.05850579,  0.06340564,  0.07813386,  0.08833255,  0.07625386,\n",
       "         0.08556144,  0.04586785,  0.08246291,  0.0830517 ,  0.08762473,\n",
       "         0.07905657,  0.07611334,  0.00767603,  0.06408208,  0.04697616,\n",
       "        -0.03497348,  0.07767487,  0.08776578,  0.07263102,  0.08148133,\n",
       "         0.08042297, -0.00795692,  0.08890929,  0.08140722,  0.04603614,\n",
       "         0.07691032,  0.06212243,  0.05560747,  0.06156776,  0.08258245,\n",
       "         0.08794   ,  0.08763551,  0.04777506,  0.08626604,  0.07278731,\n",
       "         0.06898911,  0.08262593, -0.03229788,  0.08445844,  0.0713855 ,\n",
       "         0.07779238,  0.08738741,  0.04647485,  0.02248924,  0.08840717,\n",
       "         0.03247509,  0.0701093 ,  0.08346096,  0.0103045 ,  0.08361127,\n",
       "         0.08485156,  0.08805184,  0.08898368,  0.04503131,  0.04496468,\n",
       "         0.0390697 ,  0.02770825,  0.02968365,  0.04061246,  0.08752892,\n",
       "         0.08748278,  0.08804642, -0.00372445,  0.08822569,  0.08917039,\n",
       "         0.00292506,  0.08832838,  0.07554103,  0.08702683, -0.00186658,\n",
       "         0.08834181,  0.08954358,  0.08788908,  0.07013287,  0.08898287,\n",
       "         0.06945254,  0.05721435,  0.04566465, -0.00294289,  0.08681875,\n",
       "         0.08595071,  0.04437194,  0.0810057 ,  0.01607232,  0.08304153,\n",
       "         0.07630409,  0.08747619,  0.0679938 ,  0.08592029,  0.04236813,\n",
       "         0.08041096,  0.08758002,  0.03697279,  0.08869078,  0.06122232,\n",
       "         0.08832955,  0.06485803,  0.06776932,  0.03712767,  0.07903543,\n",
       "         0.02004112,  0.05660794,  0.08935504,  0.0334971 ,  0.08771881,\n",
       "         0.08825486,  0.08949213,  0.03474206,  0.07571267,  0.08829074,\n",
       "         0.08870813, -0.00851307,  0.01766162,  0.08803327,  0.08167776,\n",
       "         0.08321479,  0.0903135 ,  0.07087612,  0.03985807, -0.00619946,\n",
       "         0.0879427 ,  0.08319397,  0.02139498,  0.08787636,  0.08833633,\n",
       "         0.08184946,  0.05477086,  0.07528346,  0.07524434,  0.04730423,\n",
       "         0.01895542,  0.02841863,  0.02113796,  0.08843024,  0.01159846,\n",
       "         0.06984532,  0.0882104 ,  0.01916744,  0.08858623,  0.08572476,\n",
       "         0.07389509,  0.08530977, -0.05255133,  0.07563672,  0.07314061,\n",
       "         0.08409332,  0.08859571,  0.08713422,  0.03167693,  0.0748086 ,\n",
       "         0.08918895,  0.06397677,  0.07752079,  0.08393274,  0.00940354,\n",
       "         0.08331355,  0.08439717,  0.01223206,  0.08620352,  0.01040863,\n",
       "         0.03558224,  0.08909261,  0.08537783,  0.08238934,  0.08480887,\n",
       "         0.07723813,  0.07966531, -0.03095268,  0.07308288,  0.08554108,\n",
       "         0.08941885,  0.08589886], dtype=float32)>,\n",
       " <tf.Variable 'dense_1/kernel:0' shape=(512, 256) dtype=float32, numpy=\n",
       " array([[ 0.02651649,  0.15709873,  0.03895428, ...,  0.07218736,\n",
       "          0.14966123,  0.1186707 ],\n",
       "        [ 0.03261495, -0.02768108,  0.07401593, ...,  0.0190819 ,\n",
       "          0.11674432,  0.11416871],\n",
       "        [ 0.00368198,  0.07694663,  0.06928749, ...,  0.0841248 ,\n",
       "         -0.02303148, -0.05531829],\n",
       "        ...,\n",
       "        [-0.09043206,  0.01718239, -0.03485344, ...,  0.08045179,\n",
       "         -0.04482533,  0.02611745],\n",
       "        [-0.06481583,  0.06759316, -0.00612441, ..., -0.02570164,\n",
       "          0.02614615,  0.0076807 ],\n",
       "        [ 0.08354761,  0.10099406,  0.0580952 , ...,  0.08461069,\n",
       "          0.07660454, -0.02073855]], dtype=float32)>,\n",
       " <tf.Variable 'dense_1/bias:0' shape=(256,) dtype=float32, numpy=\n",
       " array([ 4.7067795e-03,  8.8970311e-02, -1.3850607e-03, -4.3695946e-03,\n",
       "         8.2817942e-02, -2.2820951e-03,  8.6923011e-02,  8.5148998e-02,\n",
       "         7.0720962e-06,  8.8566616e-02,  0.0000000e+00,  0.0000000e+00,\n",
       "        -2.5719085e-03,  8.3778046e-02, -1.6456777e-03,  0.0000000e+00,\n",
       "         0.0000000e+00,  8.5522704e-02,  8.2992911e-02,  0.0000000e+00,\n",
       "         5.3255334e-02, -1.5227339e-03, -4.6156677e-03,  0.0000000e+00,\n",
       "         8.8990666e-02,  8.1743181e-02,  3.4417540e-02,  8.7239303e-02,\n",
       "         6.5073833e-02,  4.3048663e-03,  6.7457564e-02,  0.0000000e+00,\n",
       "         8.0830038e-02, -7.9611307e-03,  8.5591532e-02, -5.7165166e-03,\n",
       "         4.7199428e-02, -1.1433107e-03, -7.2043017e-04, -3.6803824e-03,\n",
       "         8.6717822e-02,  8.6843841e-02,  6.1682608e-02,  8.7880254e-02,\n",
       "        -1.0470643e-03,  7.0782684e-02,  7.7991910e-02,  7.7197552e-02,\n",
       "         7.7957630e-02,  8.6163566e-02, -1.0085505e-03,  2.7753797e-03,\n",
       "        -4.7090435e-03,  8.8660762e-02,  7.5577505e-02,  8.6336620e-02,\n",
       "        -3.1346541e-02,  0.0000000e+00, -2.2019837e-03,  7.4694723e-02,\n",
       "        -3.0560081e-03,  7.3968858e-02,  8.4971979e-02,  8.7105967e-02,\n",
       "         8.5619509e-02,  7.9525188e-02,  8.8545807e-02,  8.8987730e-02,\n",
       "        -1.9965468e-03,  8.7432832e-02,  8.9192234e-02,  5.7559818e-02,\n",
       "         8.5913338e-02,  8.8979632e-02,  8.8156909e-02, -2.3495161e-03,\n",
       "        -6.0071936e-03, -3.1979047e-03,  8.9829847e-02,  8.9451820e-02,\n",
       "         0.0000000e+00, -3.5052103e-04,  0.0000000e+00,  8.4527284e-02,\n",
       "        -1.0494445e-03,  8.8473864e-02,  8.5989326e-02,  8.1670254e-02,\n",
       "         0.0000000e+00,  7.2168529e-02, -5.2427868e-03,  8.9287810e-02,\n",
       "         7.4015290e-02,  8.8776678e-02,  8.3805181e-02,  8.5316822e-02,\n",
       "        -4.6417196e-03,  1.0600140e-03,  9.0104878e-02, -1.6051944e-03,\n",
       "        -2.2946324e-03, -2.9582994e-03,  8.7556504e-02,  6.8389803e-02,\n",
       "        -6.0713002e-03,  8.0243945e-02, -4.4241950e-02, -1.7412811e-03,\n",
       "         5.2239938e-04,  8.7338075e-02, -3.4424150e-03, -1.9286135e-03,\n",
       "         8.7999053e-02,  1.2743186e-03,  0.0000000e+00,  8.4700860e-02,\n",
       "        -1.8410489e-03,  7.7715069e-02,  5.6920588e-02, -6.3865357e-03,\n",
       "         8.1920981e-02,  0.0000000e+00,  8.5085541e-02,  7.3519804e-02,\n",
       "         8.2737967e-02,  6.8725690e-02,  8.4394574e-02,  7.0332237e-02,\n",
       "         7.6408543e-02,  8.6482719e-02,  6.9779038e-02,  8.7789357e-02,\n",
       "         0.0000000e+00,  8.5004441e-02, -1.6962202e-03,  8.0195345e-02,\n",
       "         8.4853247e-02, -1.2122943e-03,  7.9781808e-02,  8.7830372e-02,\n",
       "         8.8625751e-02,  6.9215365e-02,  8.6528853e-02,  4.4505294e-02,\n",
       "         7.5747833e-02,  7.3238738e-02,  0.0000000e+00,  8.2075886e-02,\n",
       "         5.8785215e-02,  4.5619566e-02,  8.4982082e-02,  0.0000000e+00,\n",
       "         8.2476186e-03,  7.8507952e-02,  6.0733974e-02, -2.8238327e-03,\n",
       "         6.7051187e-02,  8.5460946e-02,  8.5801028e-02, -3.8237364e-03,\n",
       "         7.5407229e-02,  8.6762458e-02,  8.7953411e-02, -2.2943141e-03,\n",
       "         8.2223885e-02,  7.9627946e-02,  0.0000000e+00, -2.7442283e-03,\n",
       "         6.5401278e-02,  8.7532863e-02,  8.3964907e-02, -2.5630258e-03,\n",
       "         8.6059712e-02,  8.4707581e-02,  6.6319928e-02,  8.4504493e-02,\n",
       "         7.3502891e-02, -3.4245610e-02, -6.2490272e-04,  9.0011589e-02,\n",
       "        -4.1351406e-04,  8.4339291e-02,  6.4378125e-03, -3.3547357e-03,\n",
       "         7.9482146e-02,  8.2286000e-02,  7.3317401e-02,  7.5328745e-02,\n",
       "         8.6372674e-02,  8.6923920e-02, -1.3603399e-03,  8.8214777e-02,\n",
       "         6.8452060e-02, -3.6379183e-03,  7.0564196e-02,  8.8478655e-02,\n",
       "         8.3464496e-02,  8.2197636e-02,  8.4121555e-02, -1.3847515e-03,\n",
       "         8.4711052e-02,  8.2428783e-02, -4.7561512e-03, -1.1438844e-04,\n",
       "         7.6989576e-02,  8.8219278e-02,  8.8147894e-02,  7.1989015e-02,\n",
       "        -2.4970137e-02,  8.5239597e-02, -5.2459012e-03,  8.8564202e-02,\n",
       "         7.1312301e-02,  7.7371523e-02,  8.3137862e-02,  8.8433817e-02,\n",
       "         8.8633135e-02,  8.8378169e-02,  0.0000000e+00,  8.2361974e-02,\n",
       "        -1.2194774e-03,  8.1103049e-02,  8.5443996e-02, -3.7902116e-03,\n",
       "         8.9325964e-02,  6.9031551e-02, -3.8797632e-03,  9.0260834e-02,\n",
       "         8.3889239e-02,  7.5422443e-02,  4.7021066e-03, -6.5572298e-05,\n",
       "         7.9808146e-02,  8.3858207e-02,  6.2090427e-02,  8.0095492e-02,\n",
       "         6.8143114e-02,  8.2692623e-02,  8.4904887e-02,  7.9608604e-02,\n",
       "         8.3041564e-02, -2.5434068e-03, -3.7824053e-02, -3.1031179e-03,\n",
       "        -3.6751188e-03, -3.5749401e-03,  0.0000000e+00,  6.8814173e-02,\n",
       "         6.2217832e-02,  8.8464580e-02,  8.2018226e-02,  8.4681109e-02,\n",
       "        -7.3069618e-03,  8.7870076e-02,  8.8066444e-02,  8.2669288e-02],\n",
       "       dtype=float32)>,\n",
       " <tf.Variable 'dense_2/kernel:0' shape=(256, 128) dtype=float32, numpy=\n",
       " array([[ 0.12389636, -0.11447385, -0.00623623, ...,  0.11491192,\n",
       "          0.06832103, -0.10663559],\n",
       "        [-0.11340616, -0.00692628,  0.11573267, ...,  0.15854166,\n",
       "         -0.04416711,  0.09744406],\n",
       "        [ 0.06523171,  0.08941624,  0.11277172, ..., -0.05642189,\n",
       "          0.02277489, -0.09224152],\n",
       "        ...,\n",
       "        [ 0.11704578, -0.04990846,  0.02999398, ...,  0.09378272,\n",
       "         -0.05251348,  0.10144196],\n",
       "        [ 0.10535952, -0.02657198, -0.04776099, ...,  0.0856314 ,\n",
       "         -0.04437782,  0.19556269],\n",
       "        [ 0.10899442, -0.07813373,  0.03964055, ..., -0.03764817,\n",
       "         -0.10764052, -0.02655562]], dtype=float32)>,\n",
       " <tf.Variable 'dense_2/bias:0' shape=(128,) dtype=float32, numpy=\n",
       " array([-2.3686414e-04, -2.0728847e-03,  0.0000000e+00, -8.7193092e-03,\n",
       "         0.0000000e+00,  6.7242794e-02,  3.3729963e-02, -4.0595308e-03,\n",
       "         5.3508408e-02,  8.4669769e-02,  8.7136123e-03,  0.0000000e+00,\n",
       "         5.5260457e-02,  3.8680442e-05,  8.1127383e-02,  5.3567643e-04,\n",
       "        -3.9616209e-03,  0.0000000e+00,  8.6598501e-02,  8.3598785e-02,\n",
       "         0.0000000e+00,  7.3632486e-02, -1.4016536e-04,  0.0000000e+00,\n",
       "         6.9884516e-02, -5.2736554e-04, -1.9168368e-03, -4.2094751e-03,\n",
       "         8.2621068e-02,  2.1856094e-03,  0.0000000e+00,  5.3120092e-02,\n",
       "         6.5716386e-02,  3.0267300e-05,  8.7195396e-02,  8.5763916e-02,\n",
       "        -2.3053121e-02, -7.3542591e-04,  0.0000000e+00,  4.2511672e-02,\n",
       "         8.7037556e-02, -1.6225328e-03,  8.2860060e-02,  7.0092186e-02,\n",
       "        -8.3676534e-04, -8.1873062e-05,  8.2950883e-02,  7.1183331e-02,\n",
       "        -8.5411739e-07,  0.0000000e+00, -3.8917817e-04,  0.0000000e+00,\n",
       "        -5.9853620e-03, -4.6403185e-03,  0.0000000e+00,  0.0000000e+00,\n",
       "        -2.4116430e-03, -7.9581905e-03, -3.7561115e-03, -2.5484493e-02,\n",
       "        -7.2968937e-03,  7.6823130e-02,  8.3871096e-02,  8.5236974e-02,\n",
       "         5.1467869e-02, -1.4158763e-03,  3.3583619e-02, -1.6092063e-03,\n",
       "         2.4831863e-02, -3.3284004e-03,  7.0086353e-02,  8.0109164e-02,\n",
       "         7.8026287e-02, -7.2261174e-03, -7.5413723e-04,  0.0000000e+00,\n",
       "         4.9532421e-02,  0.0000000e+00, -1.0760039e-03, -4.9396783e-02,\n",
       "        -1.0720470e-04, -4.9995119e-03, -3.4554554e-03,  7.2786167e-02,\n",
       "        -1.1613161e-03,  1.5213860e-02, -4.7973627e-03,  3.6830090e-02,\n",
       "         0.0000000e+00, -1.7768987e-03,  1.9800938e-03,  8.2300514e-02,\n",
       "        -7.1436930e-03,  0.0000000e+00,  2.8901091e-03,  1.9759320e-04,\n",
       "         2.0230650e-03,  8.8614240e-02,  8.4972523e-02, -4.9846480e-04,\n",
       "         0.0000000e+00,  2.7987035e-02, -1.7042311e-03, -5.2571082e-03,\n",
       "         0.0000000e+00,  7.4411161e-02, -4.4619259e-03,  2.4334819e-03,\n",
       "        -7.5127638e-04, -2.0960248e-03, -2.3026555e-03,  8.4768571e-02,\n",
       "         1.9726599e-02,  8.8549063e-02,  7.5582102e-02,  0.0000000e+00,\n",
       "         7.9640314e-02,  8.2272500e-02,  2.0006405e-02,  6.1748553e-02,\n",
       "        -2.5978026e-03, -3.0853481e-03,  6.9986776e-02, -1.5770150e-03,\n",
       "        -3.5874539e-03,  3.6109176e-02, -2.1132901e-03,  8.7717474e-02],\n",
       "       dtype=float32)>,\n",
       " <tf.Variable 'dense_3/kernel:0' shape=(128, 3) dtype=float32, numpy=\n",
       " array([[ 0.16821812,  0.10842028, -0.1672974 ],\n",
       "        [-0.17766573,  0.05034108,  0.20670182],\n",
       "        [ 0.14221673, -0.14644954, -0.05126432],\n",
       "        [ 0.14290673,  0.16095452,  0.17462575],\n",
       "        [ 0.03680734,  0.00691149,  0.16704069],\n",
       "        [-0.20581117, -0.240177  ,  0.02005776],\n",
       "        [-0.05423881,  0.08473699, -0.21692835],\n",
       "        [-0.03485994,  0.09792945, -0.00991037],\n",
       "        [-0.18143657, -0.14615096,  0.03645417],\n",
       "        [-0.06044513, -0.15072402, -0.0703275 ],\n",
       "        [-0.00373693,  0.11403675, -0.15810813],\n",
       "        [ 0.2112885 ,  0.01032111, -0.0036305 ],\n",
       "        [ 0.11279339, -0.24667273, -0.25370106],\n",
       "        [ 0.14562035, -0.1101144 , -0.0584468 ],\n",
       "        [-0.12452807, -0.18915394, -0.25749367],\n",
       "        [-0.00529851,  0.00835845, -0.16445188],\n",
       "        [ 0.08491924, -0.1745303 ,  0.10146406],\n",
       "        [ 0.00677051, -0.08482629,  0.17827813],\n",
       "        [-0.09951017, -0.22398606, -0.16545737],\n",
       "        [-0.05027888, -0.25755647, -0.25382206],\n",
       "        [ 0.06748123,  0.04071523, -0.15354115],\n",
       "        [-0.13857892, -0.2206578 , -0.25556707],\n",
       "        [-0.05878854,  0.11212599,  0.11266384],\n",
       "        [ 0.16846763,  0.12053032,  0.00565521],\n",
       "        [-0.2205182 , -0.13929361,  0.00621154],\n",
       "        [ 0.0849336 , -0.1877649 ,  0.18368487],\n",
       "        [ 0.18450412,  0.20327044,  0.05675267],\n",
       "        [ 0.03786484,  0.10082909,  0.02186357],\n",
       "        [-0.22024544, -0.18013191, -0.04284201],\n",
       "        [-0.12863518, -0.02117604,  0.06966655],\n",
       "        [-0.02123483,  0.20613675,  0.12203108],\n",
       "        [ 0.09866818, -0.2461483 , -0.18773022],\n",
       "        [ 0.02828595, -0.11643435, -0.16543573],\n",
       "        [ 0.00413081,  0.09203661, -0.12621516],\n",
       "        [-0.21947826, -0.05154923, -0.24179308],\n",
       "        [-0.12759632, -0.08793062, -0.22081073],\n",
       "        [ 0.16237924,  0.23578043,  0.17427605],\n",
       "        [-0.19103475,  0.13113907,  0.07535344],\n",
       "        [ 0.21323867,  0.21273549, -0.20290795],\n",
       "        [-0.15730204, -0.16991869,  0.02821906],\n",
       "        [-0.12692562, -0.12829277, -0.19640149],\n",
       "        [ 0.17068876,  0.0303713 ,  0.03722065],\n",
       "        [-0.05397572, -0.20665117, -0.20790163],\n",
       "        [-0.27329284,  0.11979911, -0.20925511],\n",
       "        [-0.02638971,  0.18061958, -0.00396936],\n",
       "        [ 0.16762076, -0.15641525,  0.00251981],\n",
       "        [-0.2675385 , -0.02024639, -0.05645054],\n",
       "        [-0.20007358, -0.1932987 ,  0.00440285],\n",
       "        [ 0.16198541,  0.0172655 , -0.08221256],\n",
       "        [-0.06348267, -0.05909951,  0.2059289 ],\n",
       "        [ 0.12723698, -0.00540937,  0.06283747],\n",
       "        [-0.15996407, -0.06821924,  0.03168131],\n",
       "        [ 0.17212549,  0.12122752,  0.00468561],\n",
       "        [-0.13693817,  0.11329835,  0.11816408],\n",
       "        [-0.04196477,  0.03180954, -0.09969258],\n",
       "        [ 0.15906538,  0.17038019,  0.09346123],\n",
       "        [ 0.09861717, -0.03958887,  0.09870926],\n",
       "        [ 0.18495293, -0.08474754,  0.00605675],\n",
       "        [ 0.1822327 ,  0.0397759 ,  0.02417731],\n",
       "        [ 0.09623484, -0.02414673,  0.16494574],\n",
       "        [ 0.06509466,  0.00285812,  0.20483273],\n",
       "        [ 0.02015351, -0.23983039, -0.24123977],\n",
       "        [-0.0994594 , -0.03414878, -0.17759225],\n",
       "        [-0.10535784, -0.17959917, -0.26216272],\n",
       "        [-0.0531672 ,  0.08785025, -0.22635579],\n",
       "        [ 0.08679331,  0.15021591, -0.13312332],\n",
       "        [ 0.01166429,  0.09183101, -0.2548871 ],\n",
       "        [ 0.19794907,  0.1354094 ,  0.11332151],\n",
       "        [-0.12071165, -0.15429562,  0.1045306 ],\n",
       "        [-0.09645112,  0.15234374,  0.14782512],\n",
       "        [-0.24559923,  0.09156907, -0.15375844],\n",
       "        [-0.08988976, -0.1748993 , -0.04091535],\n",
       "        [-0.03653413, -0.06904134, -0.2585171 ],\n",
       "        [ 0.20126796,  0.06146138,  0.10143448],\n",
       "        [-0.01580451,  0.17609596,  0.19074683],\n",
       "        [ 0.18012606, -0.0834474 , -0.08119635],\n",
       "        [-0.13656886,  0.09924255, -0.09789334],\n",
       "        [-0.14225131,  0.10143615, -0.01125012],\n",
       "        [-0.07813973,  0.1310107 ,  0.17197658],\n",
       "        [ 0.19182284,  0.18598525,  0.08003516],\n",
       "        [-0.0311917 ,  0.18455262, -0.1899138 ],\n",
       "        [ 0.16446392,  0.04150166, -0.08320238],\n",
       "        [ 0.0948647 , -0.11955785,  0.13448101],\n",
       "        [-0.00738566, -0.05807874, -0.16522472],\n",
       "        [ 0.14211768,  0.15687038, -0.20273595],\n",
       "        [-0.11847511, -0.03200941,  0.18532668],\n",
       "        [-0.08588071,  0.06971969,  0.10743287],\n",
       "        [ 0.06830963, -0.0829476 , -0.16934401],\n",
       "        [ 0.10402395, -0.16567394,  0.06934546],\n",
       "        [ 0.18735994,  0.09049904, -0.09418432],\n",
       "        [-0.0961472 ,  0.16389233, -0.12504801],\n",
       "        [-0.27819633, -0.15809637, -0.03754578],\n",
       "        [ 0.2322038 ,  0.21284832, -0.01869047],\n",
       "        [ 0.00804578,  0.09201218, -0.06980622],\n",
       "        [-0.08152606,  0.03446333, -0.0388196 ],\n",
       "        [-0.05885016, -0.2089336 ,  0.1772059 ],\n",
       "        [-0.01645784,  0.13207465, -0.1925822 ],\n",
       "        [-0.1252719 , -0.12810317, -0.0936809 ],\n",
       "        [-0.08490047, -0.1761472 , -0.22729951],\n",
       "        [-0.15816669,  0.16851893,  0.12908837],\n",
       "        [-0.11093525,  0.19451012, -0.05006534],\n",
       "        [ 0.07382608, -0.03297212, -0.19615425],\n",
       "        [ 0.20212367,  0.08124751, -0.11544826],\n",
       "        [-0.00970812, -0.04803184,  0.10364245],\n",
       "        [-0.15912855,  0.13550933, -0.19508873],\n",
       "        [-0.14145927, -0.23423709, -0.01466347],\n",
       "        [ 0.14146475,  0.13557455, -0.05898973],\n",
       "        [ 0.0540702 , -0.14436197,  0.00976499],\n",
       "        [ 0.0529862 ,  0.03441344,  0.08518708],\n",
       "        [-0.1957403 ,  0.10001034,  0.03797982],\n",
       "        [ 0.20475602, -0.0179467 ,  0.05472254],\n",
       "        [-0.21903014, -0.2476163 , -0.06367597],\n",
       "        [ 0.07709593,  0.03634148, -0.25282922],\n",
       "        [-0.22789216, -0.22771294, -0.14346053],\n",
       "        [-0.00143517, -0.10738382, -0.25681955],\n",
       "        [-0.02875954,  0.02339746, -0.09750424],\n",
       "        [-0.14650415, -0.05655281, -0.03959078],\n",
       "        [-0.06470528, -0.1325394 , -0.04679422],\n",
       "        [ 0.08172041, -0.03215717, -0.23571943],\n",
       "        [-0.20227455, -0.19400105,  0.03305087],\n",
       "        [ 0.18600051,  0.17442197, -0.02197972],\n",
       "        [ 0.11291326,  0.01875099, -0.14339493],\n",
       "        [-0.22148822, -0.05747966, -0.01014662],\n",
       "        [ 0.2079357 , -0.0865084 ,  0.12220043],\n",
       "        [ 0.16520783,  0.20345104, -0.07074723],\n",
       "        [-0.19832781, -0.08863751,  0.0440097 ],\n",
       "        [ 0.1014806 , -0.19582905,  0.15949176],\n",
       "        [-0.27121547, -0.20904224, -0.10412516]], dtype=float32)>,\n",
       " <tf.Variable 'dense_3/bias:0' shape=(3,) dtype=float32, numpy=array([-0.08001168, -0.06791855, -0.07180125], dtype=float32)>]"
      ]
     },
     "execution_count": 39,
     "metadata": {},
     "output_type": "execute_result"
    }
   ],
   "source": [
    "dqn_solver.model.Qpolicy.weights"
   ]
  },
  {
   "cell_type": "code",
   "execution_count": 85,
   "metadata": {},
   "outputs": [],
   "source": [
    "def complete_loop2(autoencoder,dqn_solver,epochs):\n",
    "    for epoch in range(epochs):\n",
    "        S_series,O_series,U_series,R_series,O_predicted_series,Done_series=data_collection(100,dqn_solver,autoencoder)\n",
    "        print(\"epoch: {}, total reward: {}\".format(epoch, sum(R_series)))\n",
    "        rewards_storage.append(sum(R_series))\n",
    "        dqn_training(dqn_solver,500,S_series,U_series,R_series,Done_series)\n",
    "        dqn_solver.decrement_epsilon()\n",
    "    "
   ]
  },
  {
   "cell_type": "code",
   "execution_count": 86,
   "metadata": {},
   "outputs": [
    {
     "name": "stdout",
     "output_type": "stream",
     "text": [
      "epoch: 0, total reward: -20000.0\n"
     ]
    },
    {
     "name": "stderr",
     "output_type": "stream",
     "text": [
      "100%|██████████| 500/500 [00:25<00:00, 19.46it/s]\n"
     ]
    },
    {
     "name": "stdout",
     "output_type": "stream",
     "text": [
      "epoch: 1, total reward: -20000.0\n"
     ]
    },
    {
     "name": "stderr",
     "output_type": "stream",
     "text": [
      "100%|██████████| 500/500 [00:25<00:00, 19.47it/s]\n"
     ]
    },
    {
     "name": "stdout",
     "output_type": "stream",
     "text": [
      "epoch: 2, total reward: -20000.0\n"
     ]
    },
    {
     "name": "stderr",
     "output_type": "stream",
     "text": [
      "100%|██████████| 500/500 [00:25<00:00, 19.51it/s]\n"
     ]
    },
    {
     "name": "stdout",
     "output_type": "stream",
     "text": [
      "epoch: 3, total reward: -20000.0\n"
     ]
    },
    {
     "name": "stderr",
     "output_type": "stream",
     "text": [
      "100%|██████████| 500/500 [00:25<00:00, 19.64it/s]\n"
     ]
    },
    {
     "name": "stdout",
     "output_type": "stream",
     "text": [
      "epoch: 4, total reward: -20000.0\n"
     ]
    },
    {
     "name": "stderr",
     "output_type": "stream",
     "text": [
      "100%|██████████| 500/500 [00:25<00:00, 19.46it/s]\n"
     ]
    },
    {
     "name": "stdout",
     "output_type": "stream",
     "text": [
      "epoch: 5, total reward: -20000.0\n"
     ]
    },
    {
     "name": "stderr",
     "output_type": "stream",
     "text": [
      "100%|██████████| 500/500 [00:25<00:00, 19.63it/s]\n"
     ]
    },
    {
     "name": "stdout",
     "output_type": "stream",
     "text": [
      "epoch: 6, total reward: -20000.0\n"
     ]
    },
    {
     "name": "stderr",
     "output_type": "stream",
     "text": [
      "100%|██████████| 500/500 [00:25<00:00, 19.59it/s]\n"
     ]
    },
    {
     "name": "stdout",
     "output_type": "stream",
     "text": [
      "epoch: 7, total reward: -20000.0\n"
     ]
    },
    {
     "name": "stderr",
     "output_type": "stream",
     "text": [
      "100%|██████████| 500/500 [00:25<00:00, 19.58it/s]\n"
     ]
    },
    {
     "name": "stdout",
     "output_type": "stream",
     "text": [
      "epoch: 8, total reward: -20000.0\n"
     ]
    },
    {
     "name": "stderr",
     "output_type": "stream",
     "text": [
      "100%|██████████| 500/500 [00:25<00:00, 19.56it/s]\n"
     ]
    },
    {
     "name": "stdout",
     "output_type": "stream",
     "text": [
      "epoch: 9, total reward: -20000.0\n"
     ]
    },
    {
     "name": "stderr",
     "output_type": "stream",
     "text": [
      "100%|██████████| 500/500 [00:26<00:00, 19.23it/s]\n"
     ]
    },
    {
     "name": "stdout",
     "output_type": "stream",
     "text": [
      "epoch: 10, total reward: -20000.0\n"
     ]
    },
    {
     "name": "stderr",
     "output_type": "stream",
     "text": [
      "100%|██████████| 500/500 [00:25<00:00, 19.59it/s]\n"
     ]
    },
    {
     "name": "stdout",
     "output_type": "stream",
     "text": [
      "epoch: 11, total reward: -20000.0\n"
     ]
    },
    {
     "name": "stderr",
     "output_type": "stream",
     "text": [
      "100%|██████████| 500/500 [00:25<00:00, 19.59it/s]\n"
     ]
    },
    {
     "name": "stdout",
     "output_type": "stream",
     "text": [
      "epoch: 12, total reward: -20000.0\n"
     ]
    },
    {
     "name": "stderr",
     "output_type": "stream",
     "text": [
      "100%|██████████| 500/500 [00:25<00:00, 19.62it/s]\n"
     ]
    },
    {
     "name": "stdout",
     "output_type": "stream",
     "text": [
      "epoch: 13, total reward: -20000.0\n"
     ]
    },
    {
     "name": "stderr",
     "output_type": "stream",
     "text": [
      "100%|██████████| 500/500 [00:25<00:00, 19.44it/s]\n"
     ]
    },
    {
     "name": "stdout",
     "output_type": "stream",
     "text": [
      "epoch: 14, total reward: -20000.0\n"
     ]
    },
    {
     "name": "stderr",
     "output_type": "stream",
     "text": [
      "100%|██████████| 500/500 [00:25<00:00, 19.72it/s]\n"
     ]
    },
    {
     "name": "stdout",
     "output_type": "stream",
     "text": [
      "epoch: 15, total reward: -20000.0\n"
     ]
    },
    {
     "name": "stderr",
     "output_type": "stream",
     "text": [
      "100%|██████████| 500/500 [00:25<00:00, 19.71it/s]\n"
     ]
    },
    {
     "name": "stdout",
     "output_type": "stream",
     "text": [
      "epoch: 16, total reward: -20000.0\n"
     ]
    },
    {
     "name": "stderr",
     "output_type": "stream",
     "text": [
      "100%|██████████| 500/500 [00:25<00:00, 19.71it/s]\n"
     ]
    },
    {
     "name": "stdout",
     "output_type": "stream",
     "text": [
      "epoch: 17, total reward: -20000.0\n"
     ]
    },
    {
     "name": "stderr",
     "output_type": "stream",
     "text": [
      "100%|██████████| 500/500 [00:25<00:00, 19.62it/s]\n"
     ]
    },
    {
     "name": "stdout",
     "output_type": "stream",
     "text": [
      "epoch: 18, total reward: -20000.0\n"
     ]
    },
    {
     "name": "stderr",
     "output_type": "stream",
     "text": [
      "100%|██████████| 500/500 [00:25<00:00, 19.62it/s]\n"
     ]
    },
    {
     "name": "stdout",
     "output_type": "stream",
     "text": [
      "epoch: 19, total reward: -20000.0\n"
     ]
    },
    {
     "name": "stderr",
     "output_type": "stream",
     "text": [
      "100%|██████████| 500/500 [00:25<00:00, 19.58it/s]\n"
     ]
    },
    {
     "name": "stdout",
     "output_type": "stream",
     "text": [
      "epoch: 20, total reward: -20000.0\n"
     ]
    },
    {
     "name": "stderr",
     "output_type": "stream",
     "text": [
      "100%|██████████| 500/500 [00:25<00:00, 19.53it/s]\n"
     ]
    },
    {
     "name": "stdout",
     "output_type": "stream",
     "text": [
      "epoch: 21, total reward: -20000.0\n"
     ]
    },
    {
     "name": "stderr",
     "output_type": "stream",
     "text": [
      "100%|██████████| 500/500 [00:25<00:00, 19.71it/s]\n"
     ]
    },
    {
     "name": "stdout",
     "output_type": "stream",
     "text": [
      "epoch: 22, total reward: -20000.0\n"
     ]
    },
    {
     "name": "stderr",
     "output_type": "stream",
     "text": [
      "100%|██████████| 500/500 [00:25<00:00, 19.60it/s]\n"
     ]
    },
    {
     "name": "stdout",
     "output_type": "stream",
     "text": [
      "epoch: 23, total reward: -20000.0\n"
     ]
    },
    {
     "name": "stderr",
     "output_type": "stream",
     "text": [
      "100%|██████████| 500/500 [00:25<00:00, 19.68it/s]\n"
     ]
    },
    {
     "name": "stdout",
     "output_type": "stream",
     "text": [
      "epoch: 24, total reward: -20000.0\n"
     ]
    },
    {
     "name": "stderr",
     "output_type": "stream",
     "text": [
      "100%|██████████| 500/500 [00:25<00:00, 19.58it/s]\n"
     ]
    },
    {
     "name": "stdout",
     "output_type": "stream",
     "text": [
      "epoch: 25, total reward: -20000.0\n"
     ]
    },
    {
     "name": "stderr",
     "output_type": "stream",
     "text": [
      "100%|██████████| 500/500 [00:25<00:00, 19.69it/s]\n"
     ]
    },
    {
     "name": "stdout",
     "output_type": "stream",
     "text": [
      "epoch: 26, total reward: -20000.0\n"
     ]
    },
    {
     "name": "stderr",
     "output_type": "stream",
     "text": [
      "100%|██████████| 500/500 [00:25<00:00, 19.58it/s]\n"
     ]
    },
    {
     "name": "stdout",
     "output_type": "stream",
     "text": [
      "epoch: 27, total reward: -20000.0\n"
     ]
    },
    {
     "name": "stderr",
     "output_type": "stream",
     "text": [
      "100%|██████████| 500/500 [00:25<00:00, 19.69it/s]\n"
     ]
    },
    {
     "name": "stdout",
     "output_type": "stream",
     "text": [
      "epoch: 28, total reward: -20000.0\n"
     ]
    },
    {
     "name": "stderr",
     "output_type": "stream",
     "text": [
      "100%|██████████| 500/500 [00:25<00:00, 19.59it/s]\n"
     ]
    },
    {
     "name": "stdout",
     "output_type": "stream",
     "text": [
      "epoch: 29, total reward: -20000.0\n"
     ]
    },
    {
     "name": "stderr",
     "output_type": "stream",
     "text": [
      "100%|██████████| 500/500 [00:25<00:00, 19.51it/s]\n"
     ]
    },
    {
     "name": "stdout",
     "output_type": "stream",
     "text": [
      "epoch: 30, total reward: -20000.0\n"
     ]
    },
    {
     "name": "stderr",
     "output_type": "stream",
     "text": [
      "100%|██████████| 500/500 [00:25<00:00, 19.46it/s]\n"
     ]
    },
    {
     "name": "stdout",
     "output_type": "stream",
     "text": [
      "epoch: 31, total reward: -20000.0\n"
     ]
    },
    {
     "name": "stderr",
     "output_type": "stream",
     "text": [
      "100%|██████████| 500/500 [00:25<00:00, 19.28it/s]\n"
     ]
    },
    {
     "name": "stdout",
     "output_type": "stream",
     "text": [
      "epoch: 32, total reward: -20000.0\n"
     ]
    },
    {
     "name": "stderr",
     "output_type": "stream",
     "text": [
      "100%|██████████| 500/500 [00:25<00:00, 19.38it/s]\n"
     ]
    },
    {
     "name": "stdout",
     "output_type": "stream",
     "text": [
      "epoch: 33, total reward: -20000.0\n"
     ]
    },
    {
     "name": "stderr",
     "output_type": "stream",
     "text": [
      "100%|██████████| 500/500 [00:25<00:00, 19.40it/s]\n"
     ]
    },
    {
     "name": "stdout",
     "output_type": "stream",
     "text": [
      "epoch: 34, total reward: -20000.0\n"
     ]
    },
    {
     "name": "stderr",
     "output_type": "stream",
     "text": [
      "100%|██████████| 500/500 [00:25<00:00, 19.53it/s]\n"
     ]
    },
    {
     "name": "stdout",
     "output_type": "stream",
     "text": [
      "epoch: 35, total reward: -20000.0\n"
     ]
    },
    {
     "name": "stderr",
     "output_type": "stream",
     "text": [
      "100%|██████████| 500/500 [00:26<00:00, 18.75it/s]\n"
     ]
    },
    {
     "name": "stdout",
     "output_type": "stream",
     "text": [
      "epoch: 36, total reward: -20000.0\n"
     ]
    },
    {
     "name": "stderr",
     "output_type": "stream",
     "text": [
      "100%|██████████| 500/500 [00:25<00:00, 19.51it/s]\n"
     ]
    },
    {
     "name": "stdout",
     "output_type": "stream",
     "text": [
      "epoch: 37, total reward: -20000.0\n"
     ]
    },
    {
     "name": "stderr",
     "output_type": "stream",
     "text": [
      "100%|██████████| 500/500 [00:25<00:00, 19.42it/s]\n"
     ]
    },
    {
     "name": "stdout",
     "output_type": "stream",
     "text": [
      "epoch: 38, total reward: -20000.0\n"
     ]
    },
    {
     "name": "stderr",
     "output_type": "stream",
     "text": [
      "100%|██████████| 500/500 [00:25<00:00, 19.48it/s]\n"
     ]
    },
    {
     "name": "stdout",
     "output_type": "stream",
     "text": [
      "epoch: 39, total reward: -20000.0\n"
     ]
    },
    {
     "name": "stderr",
     "output_type": "stream",
     "text": [
      "100%|██████████| 500/500 [00:25<00:00, 19.42it/s]\n"
     ]
    },
    {
     "name": "stdout",
     "output_type": "stream",
     "text": [
      "epoch: 40, total reward: -20000.0\n"
     ]
    },
    {
     "name": "stderr",
     "output_type": "stream",
     "text": [
      "100%|██████████| 500/500 [00:25<00:00, 19.60it/s]\n"
     ]
    },
    {
     "name": "stdout",
     "output_type": "stream",
     "text": [
      "epoch: 41, total reward: -20000.0\n"
     ]
    },
    {
     "name": "stderr",
     "output_type": "stream",
     "text": [
      "100%|██████████| 500/500 [00:25<00:00, 19.44it/s]\n"
     ]
    },
    {
     "name": "stdout",
     "output_type": "stream",
     "text": [
      "epoch: 42, total reward: -20000.0\n"
     ]
    },
    {
     "name": "stderr",
     "output_type": "stream",
     "text": [
      "100%|██████████| 500/500 [00:25<00:00, 19.33it/s]\n"
     ]
    },
    {
     "name": "stdout",
     "output_type": "stream",
     "text": [
      "epoch: 43, total reward: -20000.0\n"
     ]
    },
    {
     "name": "stderr",
     "output_type": "stream",
     "text": [
      "100%|██████████| 500/500 [00:25<00:00, 19.41it/s]\n"
     ]
    },
    {
     "name": "stdout",
     "output_type": "stream",
     "text": [
      "epoch: 44, total reward: -20000.0\n"
     ]
    },
    {
     "name": "stderr",
     "output_type": "stream",
     "text": [
      "100%|██████████| 500/500 [00:25<00:00, 19.58it/s]\n"
     ]
    },
    {
     "name": "stdout",
     "output_type": "stream",
     "text": [
      "epoch: 45, total reward: -20000.0\n"
     ]
    },
    {
     "name": "stderr",
     "output_type": "stream",
     "text": [
      "100%|██████████| 500/500 [00:25<00:00, 19.45it/s]\n"
     ]
    },
    {
     "name": "stdout",
     "output_type": "stream",
     "text": [
      "epoch: 46, total reward: -20000.0\n"
     ]
    },
    {
     "name": "stderr",
     "output_type": "stream",
     "text": [
      "100%|██████████| 500/500 [00:25<00:00, 19.47it/s]\n"
     ]
    },
    {
     "name": "stdout",
     "output_type": "stream",
     "text": [
      "epoch: 47, total reward: -20000.0\n"
     ]
    },
    {
     "name": "stderr",
     "output_type": "stream",
     "text": [
      "100%|██████████| 500/500 [00:25<00:00, 19.51it/s]\n"
     ]
    },
    {
     "name": "stdout",
     "output_type": "stream",
     "text": [
      "epoch: 48, total reward: -20000.0\n"
     ]
    },
    {
     "name": "stderr",
     "output_type": "stream",
     "text": [
      "100%|██████████| 500/500 [00:25<00:00, 19.49it/s]\n"
     ]
    },
    {
     "name": "stdout",
     "output_type": "stream",
     "text": [
      "epoch: 49, total reward: -20000.0\n"
     ]
    },
    {
     "name": "stderr",
     "output_type": "stream",
     "text": [
      "100%|██████████| 500/500 [00:25<00:00, 19.35it/s]\n"
     ]
    },
    {
     "name": "stdout",
     "output_type": "stream",
     "text": [
      "epoch: 50, total reward: -20000.0\n"
     ]
    },
    {
     "name": "stderr",
     "output_type": "stream",
     "text": [
      "100%|██████████| 500/500 [00:25<00:00, 19.62it/s]\n"
     ]
    },
    {
     "name": "stdout",
     "output_type": "stream",
     "text": [
      "epoch: 51, total reward: -20000.0\n"
     ]
    },
    {
     "name": "stderr",
     "output_type": "stream",
     "text": [
      "100%|██████████| 500/500 [00:25<00:00, 19.66it/s]\n"
     ]
    },
    {
     "name": "stdout",
     "output_type": "stream",
     "text": [
      "epoch: 52, total reward: -20000.0\n"
     ]
    },
    {
     "name": "stderr",
     "output_type": "stream",
     "text": [
      "100%|██████████| 500/500 [00:25<00:00, 19.47it/s]\n"
     ]
    },
    {
     "name": "stdout",
     "output_type": "stream",
     "text": [
      "epoch: 53, total reward: -20000.0\n"
     ]
    },
    {
     "name": "stderr",
     "output_type": "stream",
     "text": [
      "100%|██████████| 500/500 [00:25<00:00, 19.26it/s]\n"
     ]
    },
    {
     "name": "stdout",
     "output_type": "stream",
     "text": [
      "epoch: 54, total reward: -20000.0\n"
     ]
    },
    {
     "name": "stderr",
     "output_type": "stream",
     "text": [
      "100%|██████████| 500/500 [00:25<00:00, 19.54it/s]\n"
     ]
    },
    {
     "name": "stdout",
     "output_type": "stream",
     "text": [
      "epoch: 55, total reward: -20000.0\n"
     ]
    },
    {
     "name": "stderr",
     "output_type": "stream",
     "text": [
      "100%|██████████| 500/500 [00:25<00:00, 19.47it/s]\n"
     ]
    },
    {
     "name": "stdout",
     "output_type": "stream",
     "text": [
      "epoch: 56, total reward: -20000.0\n"
     ]
    },
    {
     "name": "stderr",
     "output_type": "stream",
     "text": [
      "100%|██████████| 500/500 [00:25<00:00, 19.42it/s]\n"
     ]
    },
    {
     "name": "stdout",
     "output_type": "stream",
     "text": [
      "epoch: 57, total reward: -20000.0\n"
     ]
    },
    {
     "name": "stderr",
     "output_type": "stream",
     "text": [
      "100%|██████████| 500/500 [00:25<00:00, 19.47it/s]\n"
     ]
    },
    {
     "name": "stdout",
     "output_type": "stream",
     "text": [
      "epoch: 58, total reward: -20000.0\n"
     ]
    },
    {
     "name": "stderr",
     "output_type": "stream",
     "text": [
      "100%|██████████| 500/500 [00:25<00:00, 19.47it/s]\n"
     ]
    },
    {
     "ename": "KeyboardInterrupt",
     "evalue": "",
     "output_type": "error",
     "traceback": [
      "\u001b[1;31m---------------------------------------------------------------------------\u001b[0m",
      "\u001b[1;31mKeyboardInterrupt\u001b[0m                         Traceback (most recent call last)",
      "\u001b[1;32m~\\AppData\\Local\\Temp/ipykernel_17916/2781230667.py\u001b[0m in \u001b[0;36m<module>\u001b[1;34m\u001b[0m\n\u001b[1;32m----> 1\u001b[1;33m \u001b[0mcomplete_loop2\u001b[0m\u001b[1;33m(\u001b[0m\u001b[0mautoencoder\u001b[0m\u001b[1;33m,\u001b[0m\u001b[0mdqn_solver\u001b[0m\u001b[1;33m,\u001b[0m\u001b[1;36m200\u001b[0m\u001b[1;33m)\u001b[0m\u001b[1;33m\u001b[0m\u001b[1;33m\u001b[0m\u001b[0m\n\u001b[0m",
      "\u001b[1;32m~\\AppData\\Local\\Temp/ipykernel_17916/2406815863.py\u001b[0m in \u001b[0;36mcomplete_loop2\u001b[1;34m(autoencoder, dqn_solver_new, epochs)\u001b[0m\n\u001b[0;32m      1\u001b[0m \u001b[1;32mdef\u001b[0m \u001b[0mcomplete_loop2\u001b[0m\u001b[1;33m(\u001b[0m\u001b[0mautoencoder\u001b[0m\u001b[1;33m,\u001b[0m\u001b[0mdqn_solver_new\u001b[0m\u001b[1;33m,\u001b[0m\u001b[0mepochs\u001b[0m\u001b[1;33m)\u001b[0m\u001b[1;33m:\u001b[0m\u001b[1;33m\u001b[0m\u001b[1;33m\u001b[0m\u001b[0m\n\u001b[0;32m      2\u001b[0m     \u001b[1;32mfor\u001b[0m \u001b[0mepoch\u001b[0m \u001b[1;32min\u001b[0m \u001b[0mrange\u001b[0m\u001b[1;33m(\u001b[0m\u001b[0mepochs\u001b[0m\u001b[1;33m)\u001b[0m\u001b[1;33m:\u001b[0m\u001b[1;33m\u001b[0m\u001b[1;33m\u001b[0m\u001b[0m\n\u001b[1;32m----> 3\u001b[1;33m         \u001b[0mS_series\u001b[0m\u001b[1;33m,\u001b[0m\u001b[0mO_series\u001b[0m\u001b[1;33m,\u001b[0m\u001b[0mU_series\u001b[0m\u001b[1;33m,\u001b[0m\u001b[0mR_series\u001b[0m\u001b[1;33m,\u001b[0m\u001b[0mO_predicted_series\u001b[0m\u001b[1;33m,\u001b[0m\u001b[0mDone_series\u001b[0m\u001b[1;33m=\u001b[0m\u001b[0mdata_collection\u001b[0m\u001b[1;33m(\u001b[0m\u001b[1;36m100\u001b[0m\u001b[1;33m,\u001b[0m\u001b[0mdqn_solver_new\u001b[0m\u001b[1;33m,\u001b[0m\u001b[0mautoencoder\u001b[0m\u001b[1;33m)\u001b[0m\u001b[1;33m\u001b[0m\u001b[1;33m\u001b[0m\u001b[0m\n\u001b[0m\u001b[0;32m      4\u001b[0m         \u001b[0mprint\u001b[0m\u001b[1;33m(\u001b[0m\u001b[1;34m\"epoch: {}, total reward: {}\"\u001b[0m\u001b[1;33m.\u001b[0m\u001b[0mformat\u001b[0m\u001b[1;33m(\u001b[0m\u001b[0mepoch\u001b[0m\u001b[1;33m,\u001b[0m \u001b[0msum\u001b[0m\u001b[1;33m(\u001b[0m\u001b[0mR_series\u001b[0m\u001b[1;33m)\u001b[0m\u001b[1;33m)\u001b[0m\u001b[1;33m)\u001b[0m\u001b[1;33m\u001b[0m\u001b[1;33m\u001b[0m\u001b[0m\n\u001b[0;32m      5\u001b[0m         \u001b[0mrewards_storage\u001b[0m\u001b[1;33m.\u001b[0m\u001b[0mappend\u001b[0m\u001b[1;33m(\u001b[0m\u001b[0msum\u001b[0m\u001b[1;33m(\u001b[0m\u001b[0mR_series\u001b[0m\u001b[1;33m)\u001b[0m\u001b[1;33m)\u001b[0m\u001b[1;33m\u001b[0m\u001b[1;33m\u001b[0m\u001b[0m\n",
      "\u001b[1;32m~\\AppData\\Local\\Temp/ipykernel_17916/1105289164.py\u001b[0m in \u001b[0;36mdata_collection\u001b[1;34m(total_episodes, dqn_solver, autoencoder)\u001b[0m\n\u001b[0;32m     54\u001b[0m             \u001b[1;31m# print(s.shape)\u001b[0m\u001b[1;33m\u001b[0m\u001b[1;33m\u001b[0m\u001b[1;33m\u001b[0m\u001b[0m\n\u001b[0;32m     55\u001b[0m             \u001b[1;31m# print(action.shape)\u001b[0m\u001b[1;33m\u001b[0m\u001b[1;33m\u001b[0m\u001b[1;33m\u001b[0m\u001b[0m\n\u001b[1;32m---> 56\u001b[1;33m             \u001b[0mobs_pred\u001b[0m\u001b[1;33m=\u001b[0m\u001b[0mdecoder\u001b[0m\u001b[1;33m(\u001b[0m\u001b[0ms\u001b[0m\u001b[1;33m,\u001b[0m\u001b[0maction\u001b[0m\u001b[1;33m)\u001b[0m\u001b[1;33m\u001b[0m\u001b[1;33m\u001b[0m\u001b[0m\n\u001b[0m\u001b[0;32m     57\u001b[0m             \u001b[0mobs_pred\u001b[0m\u001b[1;33m=\u001b[0m\u001b[0mnp\u001b[0m\u001b[1;33m.\u001b[0m\u001b[0mreshape\u001b[0m\u001b[1;33m(\u001b[0m\u001b[0mobs_pred\u001b[0m\u001b[1;33m,\u001b[0m\u001b[1;33m[\u001b[0m\u001b[1;36m1\u001b[0m\u001b[1;33m,\u001b[0m\u001b[0mobs_space\u001b[0m\u001b[1;33m]\u001b[0m\u001b[1;33m)\u001b[0m\u001b[1;33m\u001b[0m\u001b[1;33m\u001b[0m\u001b[0m\n\u001b[0;32m     58\u001b[0m             \u001b[0mobs_pred\u001b[0m\u001b[1;33m=\u001b[0m\u001b[0mobs_pred\u001b[0m\u001b[1;33m.\u001b[0m\u001b[0mtolist\u001b[0m\u001b[1;33m(\u001b[0m\u001b[1;33m)\u001b[0m\u001b[1;33m\u001b[0m\u001b[1;33m\u001b[0m\u001b[0m\n",
      "\u001b[1;32mc:\\Users\\prati\\AppData\\Local\\Programs\\Python\\Python39\\lib\\site-packages\\tensorflow\\python\\keras\\engine\\base_layer.py\u001b[0m in \u001b[0;36m__call__\u001b[1;34m(self, *args, **kwargs)\u001b[0m\n\u001b[0;32m   1028\u001b[0m         with autocast_variable.enable_auto_cast_variables(\n\u001b[0;32m   1029\u001b[0m             self._compute_dtype_object):\n\u001b[1;32m-> 1030\u001b[1;33m           \u001b[0moutputs\u001b[0m \u001b[1;33m=\u001b[0m \u001b[0mcall_fn\u001b[0m\u001b[1;33m(\u001b[0m\u001b[0minputs\u001b[0m\u001b[1;33m,\u001b[0m \u001b[1;33m*\u001b[0m\u001b[0margs\u001b[0m\u001b[1;33m,\u001b[0m \u001b[1;33m**\u001b[0m\u001b[0mkwargs\u001b[0m\u001b[1;33m)\u001b[0m\u001b[1;33m\u001b[0m\u001b[1;33m\u001b[0m\u001b[0m\n\u001b[0m\u001b[0;32m   1031\u001b[0m \u001b[1;33m\u001b[0m\u001b[0m\n\u001b[0;32m   1032\u001b[0m         \u001b[1;32mif\u001b[0m \u001b[0mself\u001b[0m\u001b[1;33m.\u001b[0m\u001b[0m_activity_regularizer\u001b[0m\u001b[1;33m:\u001b[0m\u001b[1;33m\u001b[0m\u001b[1;33m\u001b[0m\u001b[0m\n",
      "\u001b[1;32m~\\AppData\\Local\\Temp/ipykernel_17916/2692162977.py\u001b[0m in \u001b[0;36mcall\u001b[1;34m(self, input_features, var)\u001b[0m\n\u001b[0;32m     29\u001b[0m       \u001b[0mactivation1\u001b[0m \u001b[1;33m=\u001b[0m \u001b[0mself\u001b[0m\u001b[1;33m.\u001b[0m\u001b[0mhidden_layer1\u001b[0m\u001b[1;33m(\u001b[0m\u001b[0mtemp\u001b[0m\u001b[1;33m)\u001b[0m\u001b[1;33m\u001b[0m\u001b[1;33m\u001b[0m\u001b[0m\n\u001b[0;32m     30\u001b[0m     \u001b[1;31m#activation2=self.batchnorm_layer1(activation1)\u001b[0m\u001b[1;33m\u001b[0m\u001b[1;33m\u001b[0m\u001b[1;33m\u001b[0m\u001b[0m\n\u001b[1;32m---> 31\u001b[1;33m     \u001b[0mactivation2\u001b[0m\u001b[1;33m=\u001b[0m\u001b[0mself\u001b[0m\u001b[1;33m.\u001b[0m\u001b[0mhidden_layer2\u001b[0m\u001b[1;33m(\u001b[0m\u001b[0mactivation1\u001b[0m\u001b[1;33m)\u001b[0m\u001b[1;33m\u001b[0m\u001b[1;33m\u001b[0m\u001b[0m\n\u001b[0m\u001b[0;32m     32\u001b[0m     \u001b[1;31m#activation4=self.batchnorm_layer2(activation3)\u001b[0m\u001b[1;33m\u001b[0m\u001b[1;33m\u001b[0m\u001b[1;33m\u001b[0m\u001b[0m\n\u001b[0;32m     33\u001b[0m \u001b[1;33m\u001b[0m\u001b[0m\n",
      "\u001b[1;32mc:\\Users\\prati\\AppData\\Local\\Programs\\Python\\Python39\\lib\\site-packages\\tensorflow\\python\\keras\\engine\\base_layer.py\u001b[0m in \u001b[0;36m__call__\u001b[1;34m(self, *args, **kwargs)\u001b[0m\n\u001b[0;32m   1028\u001b[0m         with autocast_variable.enable_auto_cast_variables(\n\u001b[0;32m   1029\u001b[0m             self._compute_dtype_object):\n\u001b[1;32m-> 1030\u001b[1;33m           \u001b[0moutputs\u001b[0m \u001b[1;33m=\u001b[0m \u001b[0mcall_fn\u001b[0m\u001b[1;33m(\u001b[0m\u001b[0minputs\u001b[0m\u001b[1;33m,\u001b[0m \u001b[1;33m*\u001b[0m\u001b[0margs\u001b[0m\u001b[1;33m,\u001b[0m \u001b[1;33m**\u001b[0m\u001b[0mkwargs\u001b[0m\u001b[1;33m)\u001b[0m\u001b[1;33m\u001b[0m\u001b[1;33m\u001b[0m\u001b[0m\n\u001b[0m\u001b[0;32m   1031\u001b[0m \u001b[1;33m\u001b[0m\u001b[0m\n\u001b[0;32m   1032\u001b[0m         \u001b[1;32mif\u001b[0m \u001b[0mself\u001b[0m\u001b[1;33m.\u001b[0m\u001b[0m_activity_regularizer\u001b[0m\u001b[1;33m:\u001b[0m\u001b[1;33m\u001b[0m\u001b[1;33m\u001b[0m\u001b[0m\n",
      "\u001b[1;32mc:\\Users\\prati\\AppData\\Local\\Programs\\Python\\Python39\\lib\\site-packages\\tensorflow\\python\\keras\\layers\\core.py\u001b[0m in \u001b[0;36mcall\u001b[1;34m(self, inputs)\u001b[0m\n\u001b[0;32m   1251\u001b[0m \u001b[1;33m\u001b[0m\u001b[0m\n\u001b[0;32m   1252\u001b[0m     \u001b[1;32mif\u001b[0m \u001b[0mself\u001b[0m\u001b[1;33m.\u001b[0m\u001b[0muse_bias\u001b[0m\u001b[1;33m:\u001b[0m\u001b[1;33m\u001b[0m\u001b[1;33m\u001b[0m\u001b[0m\n\u001b[1;32m-> 1253\u001b[1;33m       \u001b[0moutputs\u001b[0m \u001b[1;33m=\u001b[0m \u001b[0mnn_ops\u001b[0m\u001b[1;33m.\u001b[0m\u001b[0mbias_add\u001b[0m\u001b[1;33m(\u001b[0m\u001b[0moutputs\u001b[0m\u001b[1;33m,\u001b[0m \u001b[0mself\u001b[0m\u001b[1;33m.\u001b[0m\u001b[0mbias\u001b[0m\u001b[1;33m)\u001b[0m\u001b[1;33m\u001b[0m\u001b[1;33m\u001b[0m\u001b[0m\n\u001b[0m\u001b[0;32m   1254\u001b[0m \u001b[1;33m\u001b[0m\u001b[0m\n\u001b[0;32m   1255\u001b[0m     \u001b[1;32mif\u001b[0m \u001b[0mself\u001b[0m\u001b[1;33m.\u001b[0m\u001b[0mactivation\u001b[0m \u001b[1;32mis\u001b[0m \u001b[1;32mnot\u001b[0m \u001b[1;32mNone\u001b[0m\u001b[1;33m:\u001b[0m\u001b[1;33m\u001b[0m\u001b[1;33m\u001b[0m\u001b[0m\n",
      "\u001b[1;32mc:\\Users\\prati\\AppData\\Local\\Programs\\Python\\Python39\\lib\\site-packages\\tensorflow\\python\\util\\dispatch.py\u001b[0m in \u001b[0;36mwrapper\u001b[1;34m(*args, **kwargs)\u001b[0m\n\u001b[0;32m    204\u001b[0m     \u001b[1;34m\"\"\"Call target, and fall back on dispatchers if there is a TypeError.\"\"\"\u001b[0m\u001b[1;33m\u001b[0m\u001b[1;33m\u001b[0m\u001b[0m\n\u001b[0;32m    205\u001b[0m     \u001b[1;32mtry\u001b[0m\u001b[1;33m:\u001b[0m\u001b[1;33m\u001b[0m\u001b[1;33m\u001b[0m\u001b[0m\n\u001b[1;32m--> 206\u001b[1;33m       \u001b[1;32mreturn\u001b[0m \u001b[0mtarget\u001b[0m\u001b[1;33m(\u001b[0m\u001b[1;33m*\u001b[0m\u001b[0margs\u001b[0m\u001b[1;33m,\u001b[0m \u001b[1;33m**\u001b[0m\u001b[0mkwargs\u001b[0m\u001b[1;33m)\u001b[0m\u001b[1;33m\u001b[0m\u001b[1;33m\u001b[0m\u001b[0m\n\u001b[0m\u001b[0;32m    207\u001b[0m     \u001b[1;32mexcept\u001b[0m \u001b[1;33m(\u001b[0m\u001b[0mTypeError\u001b[0m\u001b[1;33m,\u001b[0m \u001b[0mValueError\u001b[0m\u001b[1;33m)\u001b[0m\u001b[1;33m:\u001b[0m\u001b[1;33m\u001b[0m\u001b[1;33m\u001b[0m\u001b[0m\n\u001b[0;32m    208\u001b[0m       \u001b[1;31m# Note: convert_to_eager_tensor currently raises a ValueError, not a\u001b[0m\u001b[1;33m\u001b[0m\u001b[1;33m\u001b[0m\u001b[1;33m\u001b[0m\u001b[0m\n",
      "\u001b[1;32mc:\\Users\\prati\\AppData\\Local\\Programs\\Python\\Python39\\lib\\site-packages\\tensorflow\\python\\ops\\nn_ops.py\u001b[0m in \u001b[0;36mbias_add\u001b[1;34m(value, bias, data_format, name)\u001b[0m\n\u001b[0;32m   3375\u001b[0m         \u001b[1;32mreturn\u001b[0m \u001b[0mmath_ops\u001b[0m\u001b[1;33m.\u001b[0m\u001b[0madd\u001b[0m\u001b[1;33m(\u001b[0m\u001b[0mvalue\u001b[0m\u001b[1;33m,\u001b[0m \u001b[0mbias\u001b[0m\u001b[1;33m,\u001b[0m \u001b[0mname\u001b[0m\u001b[1;33m=\u001b[0m\u001b[0mname\u001b[0m\u001b[1;33m)\u001b[0m\u001b[1;33m\u001b[0m\u001b[1;33m\u001b[0m\u001b[0m\n\u001b[0;32m   3376\u001b[0m     \u001b[1;32melse\u001b[0m\u001b[1;33m:\u001b[0m\u001b[1;33m\u001b[0m\u001b[1;33m\u001b[0m\u001b[0m\n\u001b[1;32m-> 3377\u001b[1;33m       return gen_nn_ops.bias_add(\n\u001b[0m\u001b[0;32m   3378\u001b[0m           value, bias, data_format=data_format, name=name)\n\u001b[0;32m   3379\u001b[0m \u001b[1;33m\u001b[0m\u001b[0m\n",
      "\u001b[1;32mc:\\Users\\prati\\AppData\\Local\\Programs\\Python\\Python39\\lib\\site-packages\\tensorflow\\python\\ops\\gen_nn_ops.py\u001b[0m in \u001b[0;36mbias_add\u001b[1;34m(value, bias, data_format, name)\u001b[0m\n\u001b[0;32m    671\u001b[0m   \u001b[1;32mif\u001b[0m \u001b[0mtld\u001b[0m\u001b[1;33m.\u001b[0m\u001b[0mis_eager\u001b[0m\u001b[1;33m:\u001b[0m\u001b[1;33m\u001b[0m\u001b[1;33m\u001b[0m\u001b[0m\n\u001b[0;32m    672\u001b[0m     \u001b[1;32mtry\u001b[0m\u001b[1;33m:\u001b[0m\u001b[1;33m\u001b[0m\u001b[1;33m\u001b[0m\u001b[0m\n\u001b[1;32m--> 673\u001b[1;33m       _result = pywrap_tfe.TFE_Py_FastPathExecute(\n\u001b[0m\u001b[0;32m    674\u001b[0m         _ctx, \"BiasAdd\", name, value, bias, \"data_format\", data_format)\n\u001b[0;32m    675\u001b[0m       \u001b[1;32mreturn\u001b[0m \u001b[0m_result\u001b[0m\u001b[1;33m\u001b[0m\u001b[1;33m\u001b[0m\u001b[0m\n",
      "\u001b[1;31mKeyboardInterrupt\u001b[0m: "
     ]
    }
   ],
   "source": [
    "complete_loop2(autoencoder,dqn_solver,100)"
   ]
  },
  {
   "cell_type": "code",
   "execution_count": 91,
   "metadata": {},
   "outputs": [
    {
     "name": "stdout",
     "output_type": "stream",
     "text": [
      "epoch: 0, total reward: -20000.0\n"
     ]
    },
    {
     "name": "stderr",
     "output_type": "stream",
     "text": [
      "100%|██████████| 500/500 [00:25<00:00, 19.83it/s]\n"
     ]
    },
    {
     "name": "stdout",
     "output_type": "stream",
     "text": [
      "epoch: 1, total reward: -20000.0\n"
     ]
    },
    {
     "name": "stderr",
     "output_type": "stream",
     "text": [
      "100%|██████████| 500/500 [00:25<00:00, 19.70it/s]\n"
     ]
    },
    {
     "name": "stdout",
     "output_type": "stream",
     "text": [
      "epoch: 2, total reward: -20000.0\n"
     ]
    },
    {
     "name": "stderr",
     "output_type": "stream",
     "text": [
      "100%|██████████| 500/500 [00:25<00:00, 19.67it/s]\n"
     ]
    },
    {
     "name": "stdout",
     "output_type": "stream",
     "text": [
      "epoch: 3, total reward: -20000.0\n"
     ]
    },
    {
     "name": "stderr",
     "output_type": "stream",
     "text": [
      "100%|██████████| 500/500 [00:25<00:00, 19.77it/s]\n"
     ]
    },
    {
     "name": "stdout",
     "output_type": "stream",
     "text": [
      "epoch: 4, total reward: -20000.0\n"
     ]
    },
    {
     "name": "stderr",
     "output_type": "stream",
     "text": [
      "100%|██████████| 500/500 [00:25<00:00, 19.80it/s]\n"
     ]
    },
    {
     "name": "stdout",
     "output_type": "stream",
     "text": [
      "epoch: 5, total reward: -20000.0\n"
     ]
    },
    {
     "name": "stderr",
     "output_type": "stream",
     "text": [
      "100%|██████████| 500/500 [00:25<00:00, 19.73it/s]\n"
     ]
    },
    {
     "name": "stdout",
     "output_type": "stream",
     "text": [
      "epoch: 6, total reward: -20000.0\n"
     ]
    },
    {
     "name": "stderr",
     "output_type": "stream",
     "text": [
      "100%|██████████| 500/500 [00:25<00:00, 19.83it/s]\n"
     ]
    },
    {
     "name": "stdout",
     "output_type": "stream",
     "text": [
      "epoch: 7, total reward: -20000.0\n"
     ]
    },
    {
     "name": "stderr",
     "output_type": "stream",
     "text": [
      "100%|██████████| 500/500 [00:25<00:00, 19.88it/s]\n"
     ]
    },
    {
     "name": "stdout",
     "output_type": "stream",
     "text": [
      "epoch: 8, total reward: -20000.0\n"
     ]
    },
    {
     "name": "stderr",
     "output_type": "stream",
     "text": [
      "100%|██████████| 500/500 [00:25<00:00, 19.78it/s]\n"
     ]
    },
    {
     "name": "stdout",
     "output_type": "stream",
     "text": [
      "epoch: 9, total reward: -20000.0\n"
     ]
    },
    {
     "name": "stderr",
     "output_type": "stream",
     "text": [
      "100%|██████████| 500/500 [00:24<00:00, 20.01it/s]\n"
     ]
    },
    {
     "name": "stdout",
     "output_type": "stream",
     "text": [
      "epoch: 10, total reward: -20000.0\n"
     ]
    },
    {
     "name": "stderr",
     "output_type": "stream",
     "text": [
      "100%|██████████| 500/500 [00:25<00:00, 19.80it/s]\n"
     ]
    },
    {
     "name": "stdout",
     "output_type": "stream",
     "text": [
      "epoch: 11, total reward: -20000.0\n"
     ]
    },
    {
     "name": "stderr",
     "output_type": "stream",
     "text": [
      "100%|██████████| 500/500 [00:25<00:00, 19.89it/s]\n"
     ]
    },
    {
     "name": "stdout",
     "output_type": "stream",
     "text": [
      "epoch: 12, total reward: -20000.0\n"
     ]
    },
    {
     "name": "stderr",
     "output_type": "stream",
     "text": [
      "100%|██████████| 500/500 [00:25<00:00, 19.90it/s]\n"
     ]
    },
    {
     "name": "stdout",
     "output_type": "stream",
     "text": [
      "epoch: 13, total reward: -20000.0\n"
     ]
    },
    {
     "name": "stderr",
     "output_type": "stream",
     "text": [
      "100%|██████████| 500/500 [00:25<00:00, 19.85it/s]\n"
     ]
    },
    {
     "name": "stdout",
     "output_type": "stream",
     "text": [
      "epoch: 14, total reward: -20000.0\n"
     ]
    },
    {
     "name": "stderr",
     "output_type": "stream",
     "text": [
      "100%|██████████| 500/500 [00:25<00:00, 19.89it/s]\n"
     ]
    },
    {
     "name": "stdout",
     "output_type": "stream",
     "text": [
      "epoch: 15, total reward: -20000.0\n"
     ]
    },
    {
     "name": "stderr",
     "output_type": "stream",
     "text": [
      "100%|██████████| 500/500 [00:25<00:00, 19.82it/s]\n"
     ]
    },
    {
     "name": "stdout",
     "output_type": "stream",
     "text": [
      "epoch: 16, total reward: -20000.0\n"
     ]
    },
    {
     "name": "stderr",
     "output_type": "stream",
     "text": [
      "100%|██████████| 500/500 [00:25<00:00, 19.84it/s]\n"
     ]
    },
    {
     "name": "stdout",
     "output_type": "stream",
     "text": [
      "epoch: 17, total reward: -20000.0\n"
     ]
    },
    {
     "name": "stderr",
     "output_type": "stream",
     "text": [
      "100%|██████████| 500/500 [00:25<00:00, 19.87it/s]\n"
     ]
    },
    {
     "name": "stdout",
     "output_type": "stream",
     "text": [
      "epoch: 18, total reward: -20000.0\n"
     ]
    },
    {
     "name": "stderr",
     "output_type": "stream",
     "text": [
      "100%|██████████| 500/500 [00:25<00:00, 19.84it/s]\n"
     ]
    },
    {
     "name": "stdout",
     "output_type": "stream",
     "text": [
      "epoch: 19, total reward: -20000.0\n"
     ]
    },
    {
     "name": "stderr",
     "output_type": "stream",
     "text": [
      "100%|██████████| 500/500 [00:25<00:00, 19.91it/s]\n"
     ]
    },
    {
     "name": "stdout",
     "output_type": "stream",
     "text": [
      "epoch: 20, total reward: -20000.0\n"
     ]
    },
    {
     "name": "stderr",
     "output_type": "stream",
     "text": [
      "100%|██████████| 500/500 [00:25<00:00, 19.82it/s]\n"
     ]
    },
    {
     "name": "stdout",
     "output_type": "stream",
     "text": [
      "epoch: 21, total reward: -20000.0\n"
     ]
    },
    {
     "name": "stderr",
     "output_type": "stream",
     "text": [
      "100%|██████████| 500/500 [00:25<00:00, 19.89it/s]\n"
     ]
    },
    {
     "name": "stdout",
     "output_type": "stream",
     "text": [
      "epoch: 22, total reward: -20000.0\n"
     ]
    },
    {
     "name": "stderr",
     "output_type": "stream",
     "text": [
      "100%|██████████| 500/500 [00:25<00:00, 19.75it/s]\n"
     ]
    },
    {
     "name": "stdout",
     "output_type": "stream",
     "text": [
      "epoch: 23, total reward: -20000.0\n"
     ]
    },
    {
     "name": "stderr",
     "output_type": "stream",
     "text": [
      "100%|██████████| 500/500 [00:25<00:00, 19.87it/s]\n"
     ]
    },
    {
     "name": "stdout",
     "output_type": "stream",
     "text": [
      "epoch: 24, total reward: -20000.0\n"
     ]
    },
    {
     "name": "stderr",
     "output_type": "stream",
     "text": [
      "100%|██████████| 500/500 [00:25<00:00, 19.78it/s]\n"
     ]
    },
    {
     "name": "stdout",
     "output_type": "stream",
     "text": [
      "epoch: 25, total reward: -20000.0\n"
     ]
    },
    {
     "name": "stderr",
     "output_type": "stream",
     "text": [
      "100%|██████████| 500/500 [00:25<00:00, 19.93it/s]\n"
     ]
    },
    {
     "name": "stdout",
     "output_type": "stream",
     "text": [
      "epoch: 26, total reward: -20000.0\n"
     ]
    },
    {
     "name": "stderr",
     "output_type": "stream",
     "text": [
      "100%|██████████| 500/500 [00:25<00:00, 19.88it/s]\n"
     ]
    },
    {
     "name": "stdout",
     "output_type": "stream",
     "text": [
      "epoch: 27, total reward: -20000.0\n"
     ]
    },
    {
     "name": "stderr",
     "output_type": "stream",
     "text": [
      "100%|██████████| 500/500 [00:25<00:00, 19.79it/s]\n"
     ]
    },
    {
     "name": "stdout",
     "output_type": "stream",
     "text": [
      "epoch: 28, total reward: -20000.0\n"
     ]
    },
    {
     "name": "stderr",
     "output_type": "stream",
     "text": [
      "100%|██████████| 500/500 [00:25<00:00, 19.78it/s]\n"
     ]
    },
    {
     "name": "stdout",
     "output_type": "stream",
     "text": [
      "epoch: 29, total reward: -20000.0\n"
     ]
    },
    {
     "name": "stderr",
     "output_type": "stream",
     "text": [
      "100%|██████████| 500/500 [00:25<00:00, 19.80it/s]\n"
     ]
    },
    {
     "name": "stdout",
     "output_type": "stream",
     "text": [
      "epoch: 30, total reward: -20000.0\n"
     ]
    },
    {
     "name": "stderr",
     "output_type": "stream",
     "text": [
      "100%|██████████| 500/500 [00:25<00:00, 19.68it/s]\n"
     ]
    },
    {
     "name": "stdout",
     "output_type": "stream",
     "text": [
      "epoch: 31, total reward: -20000.0\n"
     ]
    },
    {
     "name": "stderr",
     "output_type": "stream",
     "text": [
      "100%|██████████| 500/500 [00:25<00:00, 19.83it/s]\n"
     ]
    },
    {
     "name": "stdout",
     "output_type": "stream",
     "text": [
      "epoch: 32, total reward: -20000.0\n"
     ]
    },
    {
     "name": "stderr",
     "output_type": "stream",
     "text": [
      "100%|██████████| 500/500 [00:25<00:00, 19.79it/s]\n"
     ]
    },
    {
     "name": "stdout",
     "output_type": "stream",
     "text": [
      "epoch: 33, total reward: -20000.0\n"
     ]
    },
    {
     "name": "stderr",
     "output_type": "stream",
     "text": [
      "100%|██████████| 500/500 [00:25<00:00, 19.91it/s]\n"
     ]
    },
    {
     "name": "stdout",
     "output_type": "stream",
     "text": [
      "epoch: 34, total reward: -20000.0\n"
     ]
    },
    {
     "name": "stderr",
     "output_type": "stream",
     "text": [
      "100%|██████████| 500/500 [00:25<00:00, 19.80it/s]\n"
     ]
    },
    {
     "name": "stdout",
     "output_type": "stream",
     "text": [
      "epoch: 35, total reward: -20000.0\n"
     ]
    },
    {
     "name": "stderr",
     "output_type": "stream",
     "text": [
      "100%|██████████| 500/500 [00:25<00:00, 19.89it/s]\n"
     ]
    },
    {
     "name": "stdout",
     "output_type": "stream",
     "text": [
      "epoch: 36, total reward: -20000.0\n"
     ]
    },
    {
     "name": "stderr",
     "output_type": "stream",
     "text": [
      "100%|██████████| 500/500 [00:25<00:00, 19.76it/s]\n"
     ]
    },
    {
     "name": "stdout",
     "output_type": "stream",
     "text": [
      "epoch: 37, total reward: -20000.0\n"
     ]
    },
    {
     "name": "stderr",
     "output_type": "stream",
     "text": [
      "100%|██████████| 500/500 [00:25<00:00, 19.89it/s]\n"
     ]
    },
    {
     "name": "stdout",
     "output_type": "stream",
     "text": [
      "epoch: 38, total reward: -20000.0\n"
     ]
    },
    {
     "name": "stderr",
     "output_type": "stream",
     "text": [
      "100%|██████████| 500/500 [00:25<00:00, 19.85it/s]\n"
     ]
    },
    {
     "name": "stdout",
     "output_type": "stream",
     "text": [
      "epoch: 39, total reward: -20000.0\n"
     ]
    },
    {
     "name": "stderr",
     "output_type": "stream",
     "text": [
      "100%|██████████| 500/500 [00:25<00:00, 19.88it/s]\n"
     ]
    },
    {
     "name": "stdout",
     "output_type": "stream",
     "text": [
      "epoch: 40, total reward: -20000.0\n"
     ]
    },
    {
     "name": "stderr",
     "output_type": "stream",
     "text": [
      "100%|██████████| 500/500 [00:25<00:00, 19.90it/s]\n"
     ]
    },
    {
     "name": "stdout",
     "output_type": "stream",
     "text": [
      "epoch: 41, total reward: -20000.0\n"
     ]
    },
    {
     "name": "stderr",
     "output_type": "stream",
     "text": [
      "100%|██████████| 500/500 [00:25<00:00, 19.84it/s]\n"
     ]
    },
    {
     "name": "stdout",
     "output_type": "stream",
     "text": [
      "epoch: 42, total reward: -20000.0\n"
     ]
    },
    {
     "name": "stderr",
     "output_type": "stream",
     "text": [
      "100%|██████████| 500/500 [00:25<00:00, 19.85it/s]\n"
     ]
    },
    {
     "name": "stdout",
     "output_type": "stream",
     "text": [
      "epoch: 43, total reward: -20000.0\n"
     ]
    },
    {
     "name": "stderr",
     "output_type": "stream",
     "text": [
      "100%|██████████| 500/500 [00:25<00:00, 19.78it/s]\n"
     ]
    },
    {
     "name": "stdout",
     "output_type": "stream",
     "text": [
      "epoch: 44, total reward: -20000.0\n"
     ]
    },
    {
     "name": "stderr",
     "output_type": "stream",
     "text": [
      "100%|██████████| 500/500 [00:25<00:00, 19.83it/s]\n"
     ]
    },
    {
     "name": "stdout",
     "output_type": "stream",
     "text": [
      "epoch: 45, total reward: -20000.0\n"
     ]
    },
    {
     "name": "stderr",
     "output_type": "stream",
     "text": [
      "100%|██████████| 500/500 [00:25<00:00, 19.74it/s]\n"
     ]
    },
    {
     "name": "stdout",
     "output_type": "stream",
     "text": [
      "epoch: 46, total reward: -20000.0\n"
     ]
    },
    {
     "name": "stderr",
     "output_type": "stream",
     "text": [
      "100%|██████████| 500/500 [00:25<00:00, 19.76it/s]\n"
     ]
    },
    {
     "name": "stdout",
     "output_type": "stream",
     "text": [
      "epoch: 47, total reward: -20000.0\n"
     ]
    },
    {
     "name": "stderr",
     "output_type": "stream",
     "text": [
      "100%|██████████| 500/500 [00:25<00:00, 19.88it/s]\n"
     ]
    },
    {
     "name": "stdout",
     "output_type": "stream",
     "text": [
      "epoch: 48, total reward: -20000.0\n"
     ]
    },
    {
     "name": "stderr",
     "output_type": "stream",
     "text": [
      "100%|██████████| 500/500 [00:25<00:00, 19.81it/s]\n"
     ]
    },
    {
     "name": "stdout",
     "output_type": "stream",
     "text": [
      "epoch: 49, total reward: -20000.0\n"
     ]
    },
    {
     "name": "stderr",
     "output_type": "stream",
     "text": [
      "100%|██████████| 500/500 [00:25<00:00, 19.87it/s]\n"
     ]
    },
    {
     "name": "stdout",
     "output_type": "stream",
     "text": [
      "epoch: 50, total reward: -20000.0\n"
     ]
    },
    {
     "name": "stderr",
     "output_type": "stream",
     "text": [
      "100%|██████████| 500/500 [00:25<00:00, 19.84it/s]\n"
     ]
    },
    {
     "name": "stdout",
     "output_type": "stream",
     "text": [
      "epoch: 51, total reward: -20000.0\n"
     ]
    },
    {
     "name": "stderr",
     "output_type": "stream",
     "text": [
      "100%|██████████| 500/500 [00:25<00:00, 19.88it/s]\n"
     ]
    },
    {
     "name": "stdout",
     "output_type": "stream",
     "text": [
      "epoch: 52, total reward: -20000.0\n"
     ]
    },
    {
     "name": "stderr",
     "output_type": "stream",
     "text": [
      "100%|██████████| 500/500 [00:25<00:00, 19.87it/s]\n"
     ]
    },
    {
     "name": "stdout",
     "output_type": "stream",
     "text": [
      "epoch: 53, total reward: -20000.0\n"
     ]
    },
    {
     "name": "stderr",
     "output_type": "stream",
     "text": [
      "100%|██████████| 500/500 [00:25<00:00, 19.78it/s]\n"
     ]
    },
    {
     "name": "stdout",
     "output_type": "stream",
     "text": [
      "epoch: 54, total reward: -20000.0\n"
     ]
    },
    {
     "name": "stderr",
     "output_type": "stream",
     "text": [
      "100%|██████████| 500/500 [00:25<00:00, 19.76it/s]\n"
     ]
    },
    {
     "name": "stdout",
     "output_type": "stream",
     "text": [
      "epoch: 55, total reward: -20000.0\n"
     ]
    },
    {
     "name": "stderr",
     "output_type": "stream",
     "text": [
      "100%|██████████| 500/500 [00:25<00:00, 19.75it/s]\n"
     ]
    },
    {
     "name": "stdout",
     "output_type": "stream",
     "text": [
      "epoch: 56, total reward: -20000.0\n"
     ]
    },
    {
     "name": "stderr",
     "output_type": "stream",
     "text": [
      "100%|██████████| 500/500 [00:25<00:00, 19.80it/s]\n"
     ]
    },
    {
     "name": "stdout",
     "output_type": "stream",
     "text": [
      "epoch: 57, total reward: -20000.0\n"
     ]
    },
    {
     "name": "stderr",
     "output_type": "stream",
     "text": [
      "100%|██████████| 500/500 [00:25<00:00, 19.79it/s]\n"
     ]
    },
    {
     "name": "stdout",
     "output_type": "stream",
     "text": [
      "epoch: 58, total reward: -20000.0\n"
     ]
    },
    {
     "name": "stderr",
     "output_type": "stream",
     "text": [
      "100%|██████████| 500/500 [00:25<00:00, 19.72it/s]\n"
     ]
    },
    {
     "name": "stdout",
     "output_type": "stream",
     "text": [
      "epoch: 59, total reward: -20000.0\n"
     ]
    },
    {
     "name": "stderr",
     "output_type": "stream",
     "text": [
      "100%|██████████| 500/500 [00:25<00:00, 19.89it/s]\n"
     ]
    },
    {
     "name": "stdout",
     "output_type": "stream",
     "text": [
      "epoch: 60, total reward: -20000.0\n"
     ]
    },
    {
     "name": "stderr",
     "output_type": "stream",
     "text": [
      "100%|██████████| 500/500 [00:25<00:00, 19.86it/s]\n"
     ]
    },
    {
     "name": "stdout",
     "output_type": "stream",
     "text": [
      "epoch: 61, total reward: -20000.0\n"
     ]
    },
    {
     "name": "stderr",
     "output_type": "stream",
     "text": [
      "100%|██████████| 500/500 [00:25<00:00, 19.79it/s]\n"
     ]
    },
    {
     "name": "stdout",
     "output_type": "stream",
     "text": [
      "epoch: 62, total reward: -20000.0\n"
     ]
    },
    {
     "name": "stderr",
     "output_type": "stream",
     "text": [
      "100%|██████████| 500/500 [00:25<00:00, 19.86it/s]\n"
     ]
    },
    {
     "name": "stdout",
     "output_type": "stream",
     "text": [
      "epoch: 63, total reward: -20000.0\n"
     ]
    },
    {
     "name": "stderr",
     "output_type": "stream",
     "text": [
      "100%|██████████| 500/500 [00:25<00:00, 19.86it/s]\n"
     ]
    },
    {
     "name": "stdout",
     "output_type": "stream",
     "text": [
      "epoch: 64, total reward: -20000.0\n"
     ]
    },
    {
     "name": "stderr",
     "output_type": "stream",
     "text": [
      "100%|██████████| 500/500 [00:25<00:00, 19.86it/s]\n"
     ]
    },
    {
     "name": "stdout",
     "output_type": "stream",
     "text": [
      "epoch: 65, total reward: -20000.0\n"
     ]
    },
    {
     "name": "stderr",
     "output_type": "stream",
     "text": [
      "100%|██████████| 500/500 [00:25<00:00, 19.88it/s]\n"
     ]
    },
    {
     "name": "stdout",
     "output_type": "stream",
     "text": [
      "epoch: 66, total reward: -20000.0\n"
     ]
    },
    {
     "name": "stderr",
     "output_type": "stream",
     "text": [
      "100%|██████████| 500/500 [00:25<00:00, 19.80it/s]\n"
     ]
    },
    {
     "name": "stdout",
     "output_type": "stream",
     "text": [
      "epoch: 67, total reward: -20000.0\n"
     ]
    },
    {
     "name": "stderr",
     "output_type": "stream",
     "text": [
      "100%|██████████| 500/500 [00:25<00:00, 19.79it/s]\n"
     ]
    },
    {
     "name": "stdout",
     "output_type": "stream",
     "text": [
      "epoch: 68, total reward: -20000.0\n"
     ]
    },
    {
     "name": "stderr",
     "output_type": "stream",
     "text": [
      "100%|██████████| 500/500 [00:25<00:00, 19.80it/s]\n"
     ]
    },
    {
     "name": "stdout",
     "output_type": "stream",
     "text": [
      "epoch: 69, total reward: -20000.0\n"
     ]
    },
    {
     "name": "stderr",
     "output_type": "stream",
     "text": [
      "100%|██████████| 500/500 [00:25<00:00, 19.79it/s]\n"
     ]
    },
    {
     "name": "stdout",
     "output_type": "stream",
     "text": [
      "epoch: 70, total reward: -20000.0\n"
     ]
    },
    {
     "name": "stderr",
     "output_type": "stream",
     "text": [
      "100%|██████████| 500/500 [00:25<00:00, 19.80it/s]\n"
     ]
    },
    {
     "name": "stdout",
     "output_type": "stream",
     "text": [
      "epoch: 71, total reward: -20000.0\n"
     ]
    },
    {
     "name": "stderr",
     "output_type": "stream",
     "text": [
      "100%|██████████| 500/500 [00:25<00:00, 19.90it/s]\n"
     ]
    },
    {
     "name": "stdout",
     "output_type": "stream",
     "text": [
      "epoch: 72, total reward: -20000.0\n"
     ]
    },
    {
     "name": "stderr",
     "output_type": "stream",
     "text": [
      "100%|██████████| 500/500 [00:25<00:00, 19.86it/s]\n"
     ]
    },
    {
     "name": "stdout",
     "output_type": "stream",
     "text": [
      "epoch: 73, total reward: -20000.0\n"
     ]
    },
    {
     "name": "stderr",
     "output_type": "stream",
     "text": [
      "100%|██████████| 500/500 [00:25<00:00, 19.90it/s]\n"
     ]
    },
    {
     "name": "stdout",
     "output_type": "stream",
     "text": [
      "epoch: 74, total reward: -20000.0\n"
     ]
    },
    {
     "name": "stderr",
     "output_type": "stream",
     "text": [
      "100%|██████████| 500/500 [00:25<00:00, 19.88it/s]\n"
     ]
    },
    {
     "name": "stdout",
     "output_type": "stream",
     "text": [
      "epoch: 75, total reward: -20000.0\n"
     ]
    },
    {
     "name": "stderr",
     "output_type": "stream",
     "text": [
      "100%|██████████| 500/500 [00:25<00:00, 19.78it/s]\n"
     ]
    },
    {
     "name": "stdout",
     "output_type": "stream",
     "text": [
      "epoch: 76, total reward: -20000.0\n"
     ]
    },
    {
     "name": "stderr",
     "output_type": "stream",
     "text": [
      "100%|██████████| 500/500 [00:25<00:00, 19.87it/s]\n"
     ]
    },
    {
     "name": "stdout",
     "output_type": "stream",
     "text": [
      "epoch: 77, total reward: -20000.0\n"
     ]
    },
    {
     "name": "stderr",
     "output_type": "stream",
     "text": [
      "100%|██████████| 500/500 [00:25<00:00, 19.86it/s]\n"
     ]
    },
    {
     "name": "stdout",
     "output_type": "stream",
     "text": [
      "epoch: 78, total reward: -20000.0\n"
     ]
    },
    {
     "name": "stderr",
     "output_type": "stream",
     "text": [
      "100%|██████████| 500/500 [00:25<00:00, 19.57it/s]\n"
     ]
    },
    {
     "name": "stdout",
     "output_type": "stream",
     "text": [
      "epoch: 79, total reward: -20000.0\n"
     ]
    },
    {
     "name": "stderr",
     "output_type": "stream",
     "text": [
      "100%|██████████| 500/500 [00:25<00:00, 19.92it/s]\n"
     ]
    },
    {
     "name": "stdout",
     "output_type": "stream",
     "text": [
      "epoch: 80, total reward: -20000.0\n"
     ]
    },
    {
     "name": "stderr",
     "output_type": "stream",
     "text": [
      "100%|██████████| 500/500 [00:25<00:00, 19.88it/s]\n"
     ]
    },
    {
     "name": "stdout",
     "output_type": "stream",
     "text": [
      "epoch: 81, total reward: -20000.0\n"
     ]
    },
    {
     "name": "stderr",
     "output_type": "stream",
     "text": [
      "100%|██████████| 500/500 [00:25<00:00, 19.79it/s]\n"
     ]
    },
    {
     "name": "stdout",
     "output_type": "stream",
     "text": [
      "epoch: 82, total reward: -20000.0\n"
     ]
    },
    {
     "name": "stderr",
     "output_type": "stream",
     "text": [
      "100%|██████████| 500/500 [00:25<00:00, 19.84it/s]\n"
     ]
    },
    {
     "name": "stdout",
     "output_type": "stream",
     "text": [
      "epoch: 83, total reward: -20000.0\n"
     ]
    },
    {
     "name": "stderr",
     "output_type": "stream",
     "text": [
      "100%|██████████| 500/500 [00:25<00:00, 19.88it/s]\n"
     ]
    },
    {
     "name": "stdout",
     "output_type": "stream",
     "text": [
      "epoch: 84, total reward: -20000.0\n"
     ]
    },
    {
     "name": "stderr",
     "output_type": "stream",
     "text": [
      "100%|██████████| 500/500 [00:25<00:00, 19.81it/s]\n"
     ]
    },
    {
     "name": "stdout",
     "output_type": "stream",
     "text": [
      "epoch: 85, total reward: -20000.0\n"
     ]
    },
    {
     "name": "stderr",
     "output_type": "stream",
     "text": [
      "100%|██████████| 500/500 [00:25<00:00, 19.81it/s]\n"
     ]
    },
    {
     "name": "stdout",
     "output_type": "stream",
     "text": [
      "epoch: 86, total reward: -20000.0\n"
     ]
    },
    {
     "name": "stderr",
     "output_type": "stream",
     "text": [
      "100%|██████████| 500/500 [00:25<00:00, 19.88it/s]\n"
     ]
    },
    {
     "name": "stdout",
     "output_type": "stream",
     "text": [
      "epoch: 87, total reward: -20000.0\n"
     ]
    },
    {
     "name": "stderr",
     "output_type": "stream",
     "text": [
      "100%|██████████| 500/500 [00:25<00:00, 19.79it/s]\n"
     ]
    },
    {
     "name": "stdout",
     "output_type": "stream",
     "text": [
      "epoch: 88, total reward: -20000.0\n"
     ]
    },
    {
     "name": "stderr",
     "output_type": "stream",
     "text": [
      "100%|██████████| 500/500 [00:25<00:00, 19.76it/s]\n"
     ]
    },
    {
     "name": "stdout",
     "output_type": "stream",
     "text": [
      "epoch: 89, total reward: -20000.0\n"
     ]
    },
    {
     "name": "stderr",
     "output_type": "stream",
     "text": [
      "100%|██████████| 500/500 [00:25<00:00, 19.87it/s]\n"
     ]
    },
    {
     "name": "stdout",
     "output_type": "stream",
     "text": [
      "epoch: 90, total reward: -20000.0\n"
     ]
    },
    {
     "name": "stderr",
     "output_type": "stream",
     "text": [
      "100%|██████████| 500/500 [00:25<00:00, 19.84it/s]\n"
     ]
    },
    {
     "name": "stdout",
     "output_type": "stream",
     "text": [
      "epoch: 91, total reward: -20000.0\n"
     ]
    },
    {
     "name": "stderr",
     "output_type": "stream",
     "text": [
      "100%|██████████| 500/500 [00:25<00:00, 19.76it/s]\n"
     ]
    },
    {
     "name": "stdout",
     "output_type": "stream",
     "text": [
      "epoch: 92, total reward: -20000.0\n"
     ]
    },
    {
     "name": "stderr",
     "output_type": "stream",
     "text": [
      "100%|██████████| 500/500 [00:25<00:00, 19.88it/s]\n"
     ]
    },
    {
     "name": "stdout",
     "output_type": "stream",
     "text": [
      "epoch: 93, total reward: -20000.0\n"
     ]
    },
    {
     "name": "stderr",
     "output_type": "stream",
     "text": [
      "100%|██████████| 500/500 [00:25<00:00, 19.90it/s]\n"
     ]
    },
    {
     "name": "stdout",
     "output_type": "stream",
     "text": [
      "epoch: 94, total reward: -20000.0\n"
     ]
    },
    {
     "name": "stderr",
     "output_type": "stream",
     "text": [
      "100%|██████████| 500/500 [00:25<00:00, 19.77it/s]\n"
     ]
    },
    {
     "name": "stdout",
     "output_type": "stream",
     "text": [
      "epoch: 95, total reward: -20000.0\n"
     ]
    },
    {
     "name": "stderr",
     "output_type": "stream",
     "text": [
      "100%|██████████| 500/500 [00:25<00:00, 19.74it/s]\n"
     ]
    },
    {
     "name": "stdout",
     "output_type": "stream",
     "text": [
      "epoch: 96, total reward: -20000.0\n"
     ]
    },
    {
     "name": "stderr",
     "output_type": "stream",
     "text": [
      "100%|██████████| 500/500 [00:25<00:00, 19.84it/s]\n"
     ]
    },
    {
     "name": "stdout",
     "output_type": "stream",
     "text": [
      "epoch: 97, total reward: -20000.0\n"
     ]
    },
    {
     "name": "stderr",
     "output_type": "stream",
     "text": [
      "100%|██████████| 500/500 [00:25<00:00, 19.84it/s]\n"
     ]
    },
    {
     "name": "stdout",
     "output_type": "stream",
     "text": [
      "epoch: 98, total reward: -20000.0\n"
     ]
    },
    {
     "name": "stderr",
     "output_type": "stream",
     "text": [
      "100%|██████████| 500/500 [00:25<00:00, 19.77it/s]\n"
     ]
    },
    {
     "name": "stdout",
     "output_type": "stream",
     "text": [
      "epoch: 99, total reward: -20000.0\n"
     ]
    },
    {
     "name": "stderr",
     "output_type": "stream",
     "text": [
      "100%|██████████| 500/500 [00:25<00:00, 19.85it/s]\n"
     ]
    },
    {
     "name": "stdout",
     "output_type": "stream",
     "text": [
      "epoch: 100, total reward: -20000.0\n"
     ]
    },
    {
     "name": "stderr",
     "output_type": "stream",
     "text": [
      "100%|██████████| 500/500 [00:25<00:00, 19.86it/s]\n"
     ]
    },
    {
     "name": "stdout",
     "output_type": "stream",
     "text": [
      "epoch: 101, total reward: -20000.0\n"
     ]
    },
    {
     "name": "stderr",
     "output_type": "stream",
     "text": [
      "100%|██████████| 500/500 [00:25<00:00, 19.45it/s]\n"
     ]
    },
    {
     "name": "stdout",
     "output_type": "stream",
     "text": [
      "epoch: 102, total reward: -20000.0\n"
     ]
    },
    {
     "name": "stderr",
     "output_type": "stream",
     "text": [
      "100%|██████████| 500/500 [00:25<00:00, 19.82it/s]\n"
     ]
    },
    {
     "name": "stdout",
     "output_type": "stream",
     "text": [
      "epoch: 103, total reward: -20000.0\n"
     ]
    },
    {
     "name": "stderr",
     "output_type": "stream",
     "text": [
      "100%|██████████| 500/500 [00:25<00:00, 19.84it/s]\n"
     ]
    },
    {
     "name": "stdout",
     "output_type": "stream",
     "text": [
      "epoch: 104, total reward: -20000.0\n"
     ]
    },
    {
     "name": "stderr",
     "output_type": "stream",
     "text": [
      "100%|██████████| 500/500 [00:24<00:00, 20.01it/s]\n"
     ]
    },
    {
     "name": "stdout",
     "output_type": "stream",
     "text": [
      "epoch: 105, total reward: -20000.0\n"
     ]
    },
    {
     "name": "stderr",
     "output_type": "stream",
     "text": [
      "100%|██████████| 500/500 [00:25<00:00, 19.88it/s]\n"
     ]
    },
    {
     "name": "stdout",
     "output_type": "stream",
     "text": [
      "epoch: 106, total reward: -20000.0\n"
     ]
    },
    {
     "name": "stderr",
     "output_type": "stream",
     "text": [
      "100%|██████████| 500/500 [00:25<00:00, 19.87it/s]\n"
     ]
    },
    {
     "ename": "KeyboardInterrupt",
     "evalue": "",
     "output_type": "error",
     "traceback": [
      "\u001b[1;31m---------------------------------------------------------------------------\u001b[0m",
      "\u001b[1;31mKeyboardInterrupt\u001b[0m                         Traceback (most recent call last)",
      "\u001b[1;32m~\\AppData\\Local\\Temp/ipykernel_17916/1092769244.py\u001b[0m in \u001b[0;36m<module>\u001b[1;34m\u001b[0m\n\u001b[0;32m      1\u001b[0m \u001b[1;32mfor\u001b[0m \u001b[0mepoch\u001b[0m \u001b[1;32min\u001b[0m \u001b[0mrange\u001b[0m\u001b[1;33m(\u001b[0m\u001b[1;36m150\u001b[0m\u001b[1;33m)\u001b[0m\u001b[1;33m:\u001b[0m\u001b[1;33m\u001b[0m\u001b[1;33m\u001b[0m\u001b[0m\n\u001b[1;32m----> 2\u001b[1;33m         \u001b[0mS_series\u001b[0m\u001b[1;33m,\u001b[0m\u001b[0mO_series\u001b[0m\u001b[1;33m,\u001b[0m\u001b[0mU_series\u001b[0m\u001b[1;33m,\u001b[0m\u001b[0mR_series\u001b[0m\u001b[1;33m,\u001b[0m\u001b[0mO_predicted_series\u001b[0m\u001b[1;33m,\u001b[0m\u001b[0mDone_series\u001b[0m\u001b[1;33m=\u001b[0m\u001b[0mdata_collection\u001b[0m\u001b[1;33m(\u001b[0m\u001b[1;36m100\u001b[0m\u001b[1;33m,\u001b[0m\u001b[0mdqn_solver\u001b[0m\u001b[1;33m,\u001b[0m\u001b[0mautoencoder\u001b[0m\u001b[1;33m)\u001b[0m\u001b[1;33m\u001b[0m\u001b[1;33m\u001b[0m\u001b[0m\n\u001b[0m\u001b[0;32m      3\u001b[0m         \u001b[0mprint\u001b[0m\u001b[1;33m(\u001b[0m\u001b[1;34m\"epoch: {}, total reward: {}\"\u001b[0m\u001b[1;33m.\u001b[0m\u001b[0mformat\u001b[0m\u001b[1;33m(\u001b[0m\u001b[0mepoch\u001b[0m\u001b[1;33m,\u001b[0m \u001b[0msum\u001b[0m\u001b[1;33m(\u001b[0m\u001b[0mR_series\u001b[0m\u001b[1;33m)\u001b[0m\u001b[1;33m)\u001b[0m\u001b[1;33m)\u001b[0m\u001b[1;33m\u001b[0m\u001b[1;33m\u001b[0m\u001b[0m\n\u001b[0;32m      4\u001b[0m         \u001b[0mrewards_storage\u001b[0m\u001b[1;33m.\u001b[0m\u001b[0mappend\u001b[0m\u001b[1;33m(\u001b[0m\u001b[0msum\u001b[0m\u001b[1;33m(\u001b[0m\u001b[0mR_series\u001b[0m\u001b[1;33m)\u001b[0m\u001b[1;33m)\u001b[0m\u001b[1;33m\u001b[0m\u001b[1;33m\u001b[0m\u001b[0m\n\u001b[0;32m      5\u001b[0m         \u001b[0mdqn_training\u001b[0m\u001b[1;33m(\u001b[0m\u001b[0mdqn_solver\u001b[0m\u001b[1;33m,\u001b[0m\u001b[1;36m500\u001b[0m\u001b[1;33m,\u001b[0m\u001b[0mS_series\u001b[0m\u001b[1;33m,\u001b[0m\u001b[0mU_series\u001b[0m\u001b[1;33m,\u001b[0m\u001b[0mR_series\u001b[0m\u001b[1;33m,\u001b[0m\u001b[0mDone_series\u001b[0m\u001b[1;33m)\u001b[0m\u001b[1;33m\u001b[0m\u001b[1;33m\u001b[0m\u001b[0m\n",
      "\u001b[1;32m~\\AppData\\Local\\Temp/ipykernel_17916/1105289164.py\u001b[0m in \u001b[0;36mdata_collection\u001b[1;34m(total_episodes, dqn_solver, autoencoder)\u001b[0m\n\u001b[0;32m     37\u001b[0m             \u001b[0ms\u001b[0m\u001b[1;33m=\u001b[0m\u001b[0mnp\u001b[0m\u001b[1;33m.\u001b[0m\u001b[0mreshape\u001b[0m\u001b[1;33m(\u001b[0m\u001b[0ms\u001b[0m\u001b[1;33m,\u001b[0m\u001b[1;33m(\u001b[0m\u001b[1;36m1\u001b[0m\u001b[1;33m,\u001b[0m\u001b[0mstate_space\u001b[0m\u001b[1;33m)\u001b[0m\u001b[1;33m)\u001b[0m\u001b[1;33m\u001b[0m\u001b[1;33m\u001b[0m\u001b[0m\n\u001b[0;32m     38\u001b[0m             \u001b[0mS_series\u001b[0m\u001b[1;33m.\u001b[0m\u001b[0mappend\u001b[0m\u001b[1;33m(\u001b[0m\u001b[0ms\u001b[0m\u001b[1;33m)\u001b[0m\u001b[1;33m\u001b[0m\u001b[1;33m\u001b[0m\u001b[0m\n\u001b[1;32m---> 39\u001b[1;33m             \u001b[0maction\u001b[0m\u001b[1;33m=\u001b[0m\u001b[0mdqn_solver\u001b[0m\u001b[1;33m.\u001b[0m\u001b[0mact\u001b[0m\u001b[1;33m(\u001b[0m\u001b[0ms\u001b[0m\u001b[1;33m)\u001b[0m\u001b[1;33m\u001b[0m\u001b[1;33m\u001b[0m\u001b[0m\n\u001b[0m\u001b[0;32m     40\u001b[0m \u001b[1;33m\u001b[0m\u001b[0m\n\u001b[0;32m     41\u001b[0m             \u001b[0mobs\u001b[0m\u001b[1;33m,\u001b[0m \u001b[0mreward\u001b[0m\u001b[1;33m,\u001b[0m \u001b[0mdone\u001b[0m\u001b[1;33m,\u001b[0m \u001b[0minfo\u001b[0m \u001b[1;33m,\u001b[0m\u001b[0m_\u001b[0m\u001b[1;33m=\u001b[0m \u001b[0menv\u001b[0m\u001b[1;33m.\u001b[0m\u001b[0mstep\u001b[0m\u001b[1;33m(\u001b[0m\u001b[0mint\u001b[0m\u001b[1;33m(\u001b[0m\u001b[0maction\u001b[0m\u001b[1;33m)\u001b[0m\u001b[1;33m)\u001b[0m\u001b[1;33m\u001b[0m\u001b[1;33m\u001b[0m\u001b[0m\n",
      "\u001b[1;32m~\\AppData\\Local\\Temp/ipykernel_17916/670580147.py\u001b[0m in \u001b[0;36mact\u001b[1;34m(self, states)\u001b[0m\n\u001b[0;32m     74\u001b[0m \u001b[1;31m#             states=np.array(states)\u001b[0m\u001b[1;33m\u001b[0m\u001b[1;33m\u001b[0m\u001b[1;33m\u001b[0m\u001b[0m\n\u001b[0;32m     75\u001b[0m             \u001b[1;31m#print(states.shape)\u001b[0m\u001b[1;33m\u001b[0m\u001b[1;33m\u001b[0m\u001b[1;33m\u001b[0m\u001b[0m\n\u001b[1;32m---> 76\u001b[1;33m             \u001b[0maction\u001b[0m \u001b[1;33m=\u001b[0m \u001b[0mnp\u001b[0m\u001b[1;33m.\u001b[0m\u001b[0margmax\u001b[0m\u001b[1;33m(\u001b[0m\u001b[0mnp\u001b[0m\u001b[1;33m.\u001b[0m\u001b[0marray\u001b[0m\u001b[1;33m(\u001b[0m\u001b[0mself\u001b[0m\u001b[1;33m.\u001b[0m\u001b[0mmodel\u001b[0m\u001b[1;33m.\u001b[0m\u001b[0mQpolicy\u001b[0m\u001b[1;33m.\u001b[0m\u001b[0mpredict_on_batch\u001b[0m\u001b[1;33m(\u001b[0m\u001b[0mstates\u001b[0m\u001b[1;33m)\u001b[0m\u001b[1;33m)\u001b[0m\u001b[1;33m)\u001b[0m\u001b[1;33m\u001b[0m\u001b[1;33m\u001b[0m\u001b[0m\n\u001b[0m\u001b[0;32m     77\u001b[0m \u001b[1;33m\u001b[0m\u001b[0m\n\u001b[0;32m     78\u001b[0m         \u001b[1;32mreturn\u001b[0m \u001b[0maction\u001b[0m\u001b[1;33m\u001b[0m\u001b[1;33m\u001b[0m\u001b[0m\n",
      "\u001b[1;32mc:\\Users\\prati\\AppData\\Local\\Programs\\Python\\Python39\\lib\\site-packages\\tensorflow\\python\\keras\\engine\\training.py\u001b[0m in \u001b[0;36mpredict_on_batch\u001b[1;34m(self, x)\u001b[0m\n\u001b[0;32m   1914\u001b[0m       \u001b[0miterator\u001b[0m \u001b[1;33m=\u001b[0m \u001b[0mdata_adapter\u001b[0m\u001b[1;33m.\u001b[0m\u001b[0msingle_batch_iterator\u001b[0m\u001b[1;33m(\u001b[0m\u001b[0mself\u001b[0m\u001b[1;33m.\u001b[0m\u001b[0mdistribute_strategy\u001b[0m\u001b[1;33m,\u001b[0m \u001b[0mx\u001b[0m\u001b[1;33m)\u001b[0m\u001b[1;33m\u001b[0m\u001b[1;33m\u001b[0m\u001b[0m\n\u001b[0;32m   1915\u001b[0m       \u001b[0mself\u001b[0m\u001b[1;33m.\u001b[0m\u001b[0mpredict_function\u001b[0m \u001b[1;33m=\u001b[0m \u001b[0mself\u001b[0m\u001b[1;33m.\u001b[0m\u001b[0mmake_predict_function\u001b[0m\u001b[1;33m(\u001b[0m\u001b[1;33m)\u001b[0m\u001b[1;33m\u001b[0m\u001b[1;33m\u001b[0m\u001b[0m\n\u001b[1;32m-> 1916\u001b[1;33m       \u001b[0moutputs\u001b[0m \u001b[1;33m=\u001b[0m \u001b[0mself\u001b[0m\u001b[1;33m.\u001b[0m\u001b[0mpredict_function\u001b[0m\u001b[1;33m(\u001b[0m\u001b[0miterator\u001b[0m\u001b[1;33m)\u001b[0m\u001b[1;33m\u001b[0m\u001b[1;33m\u001b[0m\u001b[0m\n\u001b[0m\u001b[0;32m   1917\u001b[0m     \u001b[1;32mreturn\u001b[0m \u001b[0mtf_utils\u001b[0m\u001b[1;33m.\u001b[0m\u001b[0msync_to_numpy_or_python_type\u001b[0m\u001b[1;33m(\u001b[0m\u001b[0moutputs\u001b[0m\u001b[1;33m)\u001b[0m\u001b[1;33m\u001b[0m\u001b[1;33m\u001b[0m\u001b[0m\n\u001b[0;32m   1918\u001b[0m \u001b[1;33m\u001b[0m\u001b[0m\n",
      "\u001b[1;32mc:\\Users\\prati\\AppData\\Local\\Programs\\Python\\Python39\\lib\\site-packages\\tensorflow\\python\\eager\\def_function.py\u001b[0m in \u001b[0;36m__call__\u001b[1;34m(self, *args, **kwds)\u001b[0m\n\u001b[0;32m    887\u001b[0m \u001b[1;33m\u001b[0m\u001b[0m\n\u001b[0;32m    888\u001b[0m       \u001b[1;32mwith\u001b[0m \u001b[0mOptionalXlaContext\u001b[0m\u001b[1;33m(\u001b[0m\u001b[0mself\u001b[0m\u001b[1;33m.\u001b[0m\u001b[0m_jit_compile\u001b[0m\u001b[1;33m)\u001b[0m\u001b[1;33m:\u001b[0m\u001b[1;33m\u001b[0m\u001b[1;33m\u001b[0m\u001b[0m\n\u001b[1;32m--> 889\u001b[1;33m         \u001b[0mresult\u001b[0m \u001b[1;33m=\u001b[0m \u001b[0mself\u001b[0m\u001b[1;33m.\u001b[0m\u001b[0m_call\u001b[0m\u001b[1;33m(\u001b[0m\u001b[1;33m*\u001b[0m\u001b[0margs\u001b[0m\u001b[1;33m,\u001b[0m \u001b[1;33m**\u001b[0m\u001b[0mkwds\u001b[0m\u001b[1;33m)\u001b[0m\u001b[1;33m\u001b[0m\u001b[1;33m\u001b[0m\u001b[0m\n\u001b[0m\u001b[0;32m    890\u001b[0m \u001b[1;33m\u001b[0m\u001b[0m\n\u001b[0;32m    891\u001b[0m       \u001b[0mnew_tracing_count\u001b[0m \u001b[1;33m=\u001b[0m \u001b[0mself\u001b[0m\u001b[1;33m.\u001b[0m\u001b[0mexperimental_get_tracing_count\u001b[0m\u001b[1;33m(\u001b[0m\u001b[1;33m)\u001b[0m\u001b[1;33m\u001b[0m\u001b[1;33m\u001b[0m\u001b[0m\n",
      "\u001b[1;32mc:\\Users\\prati\\AppData\\Local\\Programs\\Python\\Python39\\lib\\site-packages\\tensorflow\\python\\eager\\def_function.py\u001b[0m in \u001b[0;36m_call\u001b[1;34m(self, *args, **kwds)\u001b[0m\n\u001b[0;32m    922\u001b[0m       \u001b[1;31m# In this case we have not created variables on the first call. So we can\u001b[0m\u001b[1;33m\u001b[0m\u001b[1;33m\u001b[0m\u001b[1;33m\u001b[0m\u001b[0m\n\u001b[0;32m    923\u001b[0m       \u001b[1;31m# run the first trace but we should fail if variables are created.\u001b[0m\u001b[1;33m\u001b[0m\u001b[1;33m\u001b[0m\u001b[1;33m\u001b[0m\u001b[0m\n\u001b[1;32m--> 924\u001b[1;33m       \u001b[0mresults\u001b[0m \u001b[1;33m=\u001b[0m \u001b[0mself\u001b[0m\u001b[1;33m.\u001b[0m\u001b[0m_stateful_fn\u001b[0m\u001b[1;33m(\u001b[0m\u001b[1;33m*\u001b[0m\u001b[0margs\u001b[0m\u001b[1;33m,\u001b[0m \u001b[1;33m**\u001b[0m\u001b[0mkwds\u001b[0m\u001b[1;33m)\u001b[0m\u001b[1;33m\u001b[0m\u001b[1;33m\u001b[0m\u001b[0m\n\u001b[0m\u001b[0;32m    925\u001b[0m       \u001b[1;32mif\u001b[0m \u001b[0mself\u001b[0m\u001b[1;33m.\u001b[0m\u001b[0m_created_variables\u001b[0m\u001b[1;33m:\u001b[0m\u001b[1;33m\u001b[0m\u001b[1;33m\u001b[0m\u001b[0m\n\u001b[0;32m    926\u001b[0m         raise ValueError(\"Creating variables on a non-first call to a function\"\n",
      "\u001b[1;32mc:\\Users\\prati\\AppData\\Local\\Programs\\Python\\Python39\\lib\\site-packages\\tensorflow\\python\\eager\\function.py\u001b[0m in \u001b[0;36m__call__\u001b[1;34m(self, *args, **kwargs)\u001b[0m\n\u001b[0;32m   3021\u001b[0m       (graph_function,\n\u001b[0;32m   3022\u001b[0m        filtered_flat_args) = self._maybe_define_function(args, kwargs)\n\u001b[1;32m-> 3023\u001b[1;33m     return graph_function._call_flat(\n\u001b[0m\u001b[0;32m   3024\u001b[0m         filtered_flat_args, captured_inputs=graph_function.captured_inputs)  # pylint: disable=protected-access\n\u001b[0;32m   3025\u001b[0m \u001b[1;33m\u001b[0m\u001b[0m\n",
      "\u001b[1;32mc:\\Users\\prati\\AppData\\Local\\Programs\\Python\\Python39\\lib\\site-packages\\tensorflow\\python\\eager\\function.py\u001b[0m in \u001b[0;36m_call_flat\u001b[1;34m(self, args, captured_inputs, cancellation_manager)\u001b[0m\n\u001b[0;32m   1958\u001b[0m         and executing_eagerly):\n\u001b[0;32m   1959\u001b[0m       \u001b[1;31m# No tape is watching; skip to running the function.\u001b[0m\u001b[1;33m\u001b[0m\u001b[1;33m\u001b[0m\u001b[1;33m\u001b[0m\u001b[0m\n\u001b[1;32m-> 1960\u001b[1;33m       return self._build_call_outputs(self._inference_function.call(\n\u001b[0m\u001b[0;32m   1961\u001b[0m           ctx, args, cancellation_manager=cancellation_manager))\n\u001b[0;32m   1962\u001b[0m     forward_backward = self._select_forward_and_backward_functions(\n",
      "\u001b[1;32mc:\\Users\\prati\\AppData\\Local\\Programs\\Python\\Python39\\lib\\site-packages\\tensorflow\\python\\eager\\function.py\u001b[0m in \u001b[0;36mcall\u001b[1;34m(self, ctx, args, cancellation_manager)\u001b[0m\n\u001b[0;32m    589\u001b[0m       \u001b[1;32mwith\u001b[0m \u001b[0m_InterpolateFunctionError\u001b[0m\u001b[1;33m(\u001b[0m\u001b[0mself\u001b[0m\u001b[1;33m)\u001b[0m\u001b[1;33m:\u001b[0m\u001b[1;33m\u001b[0m\u001b[1;33m\u001b[0m\u001b[0m\n\u001b[0;32m    590\u001b[0m         \u001b[1;32mif\u001b[0m \u001b[0mcancellation_manager\u001b[0m \u001b[1;32mis\u001b[0m \u001b[1;32mNone\u001b[0m\u001b[1;33m:\u001b[0m\u001b[1;33m\u001b[0m\u001b[1;33m\u001b[0m\u001b[0m\n\u001b[1;32m--> 591\u001b[1;33m           outputs = execute.execute(\n\u001b[0m\u001b[0;32m    592\u001b[0m               \u001b[0mstr\u001b[0m\u001b[1;33m(\u001b[0m\u001b[0mself\u001b[0m\u001b[1;33m.\u001b[0m\u001b[0msignature\u001b[0m\u001b[1;33m.\u001b[0m\u001b[0mname\u001b[0m\u001b[1;33m)\u001b[0m\u001b[1;33m,\u001b[0m\u001b[1;33m\u001b[0m\u001b[1;33m\u001b[0m\u001b[0m\n\u001b[0;32m    593\u001b[0m               \u001b[0mnum_outputs\u001b[0m\u001b[1;33m=\u001b[0m\u001b[0mself\u001b[0m\u001b[1;33m.\u001b[0m\u001b[0m_num_outputs\u001b[0m\u001b[1;33m,\u001b[0m\u001b[1;33m\u001b[0m\u001b[1;33m\u001b[0m\u001b[0m\n",
      "\u001b[1;32mc:\\Users\\prati\\AppData\\Local\\Programs\\Python\\Python39\\lib\\site-packages\\tensorflow\\python\\eager\\execute.py\u001b[0m in \u001b[0;36mquick_execute\u001b[1;34m(op_name, num_outputs, inputs, attrs, ctx, name)\u001b[0m\n\u001b[0;32m     57\u001b[0m   \u001b[1;32mtry\u001b[0m\u001b[1;33m:\u001b[0m\u001b[1;33m\u001b[0m\u001b[1;33m\u001b[0m\u001b[0m\n\u001b[0;32m     58\u001b[0m     \u001b[0mctx\u001b[0m\u001b[1;33m.\u001b[0m\u001b[0mensure_initialized\u001b[0m\u001b[1;33m(\u001b[0m\u001b[1;33m)\u001b[0m\u001b[1;33m\u001b[0m\u001b[1;33m\u001b[0m\u001b[0m\n\u001b[1;32m---> 59\u001b[1;33m     tensors = pywrap_tfe.TFE_Py_Execute(ctx._handle, device_name, op_name,\n\u001b[0m\u001b[0;32m     60\u001b[0m                                         inputs, attrs, num_outputs)\n\u001b[0;32m     61\u001b[0m   \u001b[1;32mexcept\u001b[0m \u001b[0mcore\u001b[0m\u001b[1;33m.\u001b[0m\u001b[0m_NotOkStatusException\u001b[0m \u001b[1;32mas\u001b[0m \u001b[0me\u001b[0m\u001b[1;33m:\u001b[0m\u001b[1;33m\u001b[0m\u001b[1;33m\u001b[0m\u001b[0m\n",
      "\u001b[1;31mKeyboardInterrupt\u001b[0m: "
     ]
    }
   ],
   "source": [
    "for epoch in range(150):\n",
    "        S_series,O_series,U_series,R_series,O_predicted_series,Done_series=data_collection(100,dqn_solver,autoencoder)\n",
    "        print(\"epoch: {}, total reward: {}\".format(epoch, sum(R_series)))\n",
    "        rewards_storage.append(sum(R_series))\n",
    "        dqn_training(dqn_solver,500,S_series,U_series,R_series,Done_series)\n",
    "        dqn_solver.decrement_epsilon()"
   ]
  },
  {
   "cell_type": "code",
   "execution_count": 46,
   "metadata": {},
   "outputs": [
    {
     "data": {
      "text/plain": [
       "209"
      ]
     },
     "execution_count": 46,
     "metadata": {},
     "output_type": "execute_result"
    }
   ],
   "source": [
    "len(rewards_storage)"
   ]
  },
  {
   "cell_type": "code",
   "execution_count": 47,
   "metadata": {},
   "outputs": [],
   "source": [
    "df=pd.DataFrame(rewards_storage)\n",
    "df.to_csv('main_algo_rwards_15_06.csv')"
   ]
  },
  {
   "cell_type": "code",
   "execution_count": 88,
   "metadata": {},
   "outputs": [
    {
     "data": {
      "text/plain": [
       "0.16562303420562907"
      ]
     },
     "execution_count": 88,
     "metadata": {},
     "output_type": "execute_result"
    }
   ],
   "source": [
    "dqn_solver.epsilon"
   ]
  },
  {
   "cell_type": "code",
   "execution_count": 87,
   "metadata": {},
   "outputs": [
    {
     "data": {
      "text/plain": [
       "[<tf.Variable 'dense_14/kernel:0' shape=(2, 512) dtype=float32, numpy=\n",
       " array([[-0.00252096,  0.03848692, -0.02190778, ...,  0.09136443,\n",
       "          0.0293721 , -0.03295858],\n",
       "        [ 0.03701446,  0.01326066, -0.01747512, ..., -0.00778788,\n",
       "         -0.06749691,  0.00432175]], dtype=float32)>,\n",
       " <tf.Variable 'dense_14/bias:0' shape=(512,) dtype=float32, numpy=\n",
       " array([ 0.0392588 ,  0.08111331,  0.03930321,  0.08249678,  0.08852978,\n",
       "         0.1003061 ,  0.09508841,  0.02759516, -0.02136076, -0.04557455,\n",
       "         0.10039402,  0.07909303,  0.0409503 ,  0.01677742,  0.09302708,\n",
       "         0.06248408,  0.09295896,  0.08565139, -0.08353998,  0.1049431 ,\n",
       "        -0.01742033,  0.07916331, -0.02780224, -0.07138257,  0.0801153 ,\n",
       "         0.09020024,  0.09227141,  0.08081558,  0.10063373,  0.09541281,\n",
       "         0.04669924, -0.08452012,  0.07728814,  0.08680708,  0.07750688,\n",
       "         0.09010346,  0.02011451,  0.05711263,  0.06628156,  0.05659118,\n",
       "         0.08171239,  0.00779219,  0.08488383,  0.0904838 ,  0.08313057,\n",
       "         0.09482424,  0.10801889,  0.04080018,  0.03517825, -0.01365631,\n",
       "         0.08800666,  0.07783987,  0.0851718 ,  0.08914021,  0.08518287,\n",
       "         0.08037739,  0.1007425 ,  0.09620389,  0.07929439, -0.0534816 ,\n",
       "         0.0898051 ,  0.10214185,  0.07705214,  0.08716276,  0.08277134,\n",
       "         0.10496953,  0.07694031,  0.08875734,  0.03269808,  0.09940004,\n",
       "         0.08710845,  0.09178764,  0.10476021,  0.09887234,  0.09633425,\n",
       "         0.10571358,  0.09301665,  0.07941081,  0.08158715,  0.07720836,\n",
       "         0.08944249,  0.06720149,  0.10947438,  0.09980895,  0.08400494,\n",
       "         0.08615255, -0.03311158, -0.01164035,  0.07921899, -0.03695981,\n",
       "         0.06609962,  0.04972914,  0.07078936,  0.05024303,  0.08553614,\n",
       "         0.04328595,  0.02325584,  0.09273497,  0.02365371,  0.10614993,\n",
       "        -0.04728372,  0.0327417 ,  0.09328087,  0.10734292,  0.07806915,\n",
       "         0.08065172, -0.06557459, -0.07951668,  0.0931415 ,  0.06487088,\n",
       "         0.09198347,  0.08102721,  0.09219506,  0.05912353,  0.01586504,\n",
       "         0.09383859,  0.02125646,  0.07221299,  0.09353628,  0.0888531 ,\n",
       "         0.09879674,  0.07203041,  0.09503946,  0.05510215,  0.08992533,\n",
       "         0.10014706,  0.06898906,  0.05997053,  0.07727426,  0.04259354,\n",
       "         0.06815811,  0.06091607, -0.04541536,  0.09809454,  0.08956614,\n",
       "         0.0622078 ,  0.01315764,  0.08968189,  0.06734329,  0.08587347,\n",
       "         0.09499487,  0.08564277,  0.04225507,  0.09813707,  0.08483652,\n",
       "         0.02956724,  0.07997487,  0.08646256,  0.09075744,  0.07702109,\n",
       "        -0.04545163,  0.07895008,  0.08329722,  0.01931172,  0.05479921,\n",
       "         0.05105233,  0.02512196, -0.03384375,  0.09336272, -0.07029171,\n",
       "         0.08249461,  0.08354143,  0.09751179,  0.03252124,  0.08726114,\n",
       "         0.08425099,  0.05651239,  0.02210033,  0.05587912,  0.08189841,\n",
       "         0.07728437, -0.03557975,  0.10256684,  0.07783961,  0.09544741,\n",
       "         0.07034975,  0.09586327,  0.07854622,  0.03507888,  0.08569321,\n",
       "         0.06874992,  0.08552848,  0.10046019,  0.08720063,  0.08409848,\n",
       "         0.09003741,  0.03029428,  0.06930151,  0.09811401,  0.09177623,\n",
       "         0.09806979,  0.08154486,  0.07538042,  0.09670148,  0.10131502,\n",
       "         0.10139062,  0.10304333,  0.08225803,  0.08338475,  0.02288445,\n",
       "         0.10172937,  0.04657579,  0.08947366,  0.01805971,  0.07499158,\n",
       "         0.07263205, -0.06055699,  0.09045219,  0.088674  , -0.05502046,\n",
       "         0.10644533,  0.0951837 ,  0.09383221,  0.07522877,  0.07584728,\n",
       "         0.11221214,  0.10063687,  0.08269663,  0.08501446,  0.09668364,\n",
       "        -0.05873766,  0.09639413,  0.00816022,  0.0631723 ,  0.06525227,\n",
       "         0.08899494,  0.07031848,  0.07042899,  0.08029593,  0.07589128,\n",
       "         0.05453098,  0.09482577,  0.09500381,  0.0933581 ,  0.07995635,\n",
       "         0.08975814, -0.06303041,  0.08190323,  0.10041364,  0.05875768,\n",
       "         0.09095544, -0.03740146,  0.06725263,  0.10106231, -0.05377682,\n",
       "         0.09367672,  0.09430774, -0.00217028,  0.09316324,  0.08525403,\n",
       "         0.02019666, -0.02746134,  0.1036623 ,  0.03135331,  0.09766013,\n",
       "        -0.07707032,  0.00894517,  0.11317308,  0.07320074,  0.11381735,\n",
       "         0.10037541,  0.10315531,  0.06823988,  0.08774525,  0.10304642,\n",
       "        -0.03519453,  0.08691695,  0.08706983,  0.10539295,  0.06776135,\n",
       "         0.02679192,  0.09053529,  0.08408877,  0.09015542,  0.05768104,\n",
       "         0.09753988,  0.0208518 ,  0.07314796,  0.07925216,  0.08815461,\n",
       "         0.10397408,  0.0930432 ,  0.05699479,  0.09081801,  0.0815495 ,\n",
       "         0.08082106,  0.09536469,  0.10326768,  0.09440689,  0.06367819,\n",
       "        -0.03517165,  0.07138569,  0.09369363, -0.08379024,  0.09284608,\n",
       "         0.08970436, -0.01902208,  0.04518034,  0.07516192,  0.08220336,\n",
       "         0.05315977, -0.08536752,  0.05797385,  0.08277382,  0.08585188,\n",
       "         0.09228566,  0.07974235,  0.10269892,  0.0551182 , -0.03574739,\n",
       "         0.07707933,  0.07296812,  0.0901833 ,  0.04149466,  0.10053982,\n",
       "         0.09271793,  0.0832145 ,  0.07325549,  0.07232575,  0.0456008 ,\n",
       "         0.07050444,  0.10469148,  0.01143082,  0.1009266 ,  0.06230031,\n",
       "         0.06619817,  0.08750545,  0.01886665,  0.0772239 ,  0.11137775,\n",
       "         0.02208365,  0.06290413,  0.08209129,  0.08455795,  0.06594643,\n",
       "         0.08984131,  0.1009959 ,  0.10720296,  0.08436835,  0.08445384,\n",
       "         0.09277003,  0.09285858, -0.003725  ,  0.05766981,  0.07449515,\n",
       "         0.10287148,  0.01409798,  0.07657098,  0.08623943, -0.05394106,\n",
       "        -0.05616178,  0.09460116,  0.10017192,  0.07215939,  0.06811374,\n",
       "         0.08715687, -0.04834183,  0.07959194,  0.09140064, -0.081578  ,\n",
       "         0.08086029,  0.07468284,  0.0491318 ,  0.10563403,  0.06507528,\n",
       "         0.00645342,  0.1015049 ,  0.09381707,  0.10288358,  0.10247058,\n",
       "         0.0206264 ,  0.06204714,  0.00074003,  0.07176547,  0.00754369,\n",
       "         0.07871584,  0.08829843,  0.06262261,  0.05378471,  0.09475039,\n",
       "         0.06374281,  0.04590061,  0.01734593,  0.0803664 ,  0.07965399,\n",
       "         0.08805688,  0.06772809,  0.07937261,  0.08004361,  0.08387871,\n",
       "         0.09882225,  0.06064231,  0.09516289,  0.09006112,  0.08491829,\n",
       "         0.0918509 ,  0.09358883,  0.08595052,  0.02527975,  0.09395656,\n",
       "         0.05330738,  0.07359833,  0.07337066,  0.09579025, -0.02291225,\n",
       "         0.01808683, -0.00710843,  0.08690087,  0.10166918,  0.08676764,\n",
       "         0.06858286,  0.07665977,  0.09487808,  0.09087589, -0.06201608,\n",
       "         0.08321787,  0.06245267,  0.0872937 ,  0.09015576,  0.09162004,\n",
       "         0.08909684,  0.09729508,  0.08540433,  0.09297555,  0.09652292,\n",
       "         0.08926888,  0.10163169,  0.10571145,  0.08403687,  0.08623782,\n",
       "         0.05639387, -0.07914582, -0.03955111, -0.02280825,  0.08179828,\n",
       "         0.10594483,  0.04690658, -0.03647345,  0.02922316,  0.08695554,\n",
       "         0.10669833,  0.06198948,  0.0356443 , -0.09408901,  0.08083756,\n",
       "         0.08828671,  0.08422727,  0.09107762,  0.05213705,  0.08006854,\n",
       "         0.06449298,  0.1102379 ,  0.06733934,  0.09064335, -0.05705345,\n",
       "         0.01876691,  0.0788892 ,  0.09357598, -0.08246193,  0.05990851,\n",
       "         0.07721055,  0.09126949,  0.08690243,  0.08627593,  0.09547878,\n",
       "         0.05370202,  0.10694426,  0.09016514,  0.08545348, -0.01352942,\n",
       "         0.02215425,  0.08502753,  0.08269297,  0.07920872,  0.08635599,\n",
       "         0.05260662,  0.09674588,  0.08411295,  0.06096631,  0.04413424,\n",
       "         0.06144314,  0.07259171,  0.10301354,  0.06179854,  0.10808531,\n",
       "         0.05831826, -0.04810016,  0.02133028,  0.07316821,  0.08920985,\n",
       "         0.09135798,  0.0220139 , -0.05635464,  0.09197813,  0.07955722,\n",
       "         0.05671634,  0.08604212,  0.09677397, -0.0909988 ,  0.08788633,\n",
       "         0.10502914, -0.04414857,  0.0429833 ,  0.098825  , -0.04413572,\n",
       "         0.08033088,  0.05656149,  0.10511859,  0.0994038 ,  0.0583844 ,\n",
       "         0.01770175,  0.08590514], dtype=float32)>,\n",
       " <tf.Variable 'dense_15/kernel:0' shape=(512, 256) dtype=float32, numpy=\n",
       " array([[-0.00728317,  0.04580459,  0.00985062, ...,  0.00441415,\n",
       "         -0.02365022,  0.0084704 ],\n",
       "        [-0.03798765, -0.02342544, -0.0153811 , ...,  0.02480587,\n",
       "          0.04252134, -0.01320472],\n",
       "        [ 0.05844679, -0.03186242, -0.0247391 , ...,  0.05574944,\n",
       "         -0.05484999,  0.08810278],\n",
       "        ...,\n",
       "        [-0.05583144,  0.00624913,  0.07731073, ...,  0.0075999 ,\n",
       "          0.01945859, -0.06473821],\n",
       "        [-0.05565049,  0.01472759, -0.11627226, ..., -0.07272702,\n",
       "         -0.11365976, -0.09913955],\n",
       "        [-0.04745639, -0.0300446 ,  0.06750628, ...,  0.0731497 ,\n",
       "          0.05296636, -0.03051286]], dtype=float32)>,\n",
       " <tf.Variable 'dense_15/bias:0' shape=(256,) dtype=float32, numpy=\n",
       " array([ 8.96697417e-02, -5.04815020e-03,  9.67589393e-02,  9.58277360e-02,\n",
       "         6.45302758e-02,  8.73225480e-02, -2.30956753e-03, -2.42393743e-02,\n",
       "         9.86040756e-02,  9.05946791e-02, -1.92812625e-02,  8.13705400e-02,\n",
       "         9.26096886e-02, -1.11778616e-03,  9.45912078e-02,  2.85385586e-02,\n",
       "         0.00000000e+00,  9.42922011e-02,  9.47750807e-02,  9.69181806e-02,\n",
       "         8.05047378e-02,  0.00000000e+00,  8.67530778e-02,  9.69633460e-02,\n",
       "        -6.08171755e-03, -2.06849445e-02,  0.00000000e+00,  9.07849818e-02,\n",
       "         9.42853466e-02,  8.82530212e-02, -2.19526957e-03,  8.99664015e-02,\n",
       "        -1.71073503e-03,  8.41615945e-02,  9.54774246e-02,  5.59233278e-02,\n",
       "        -2.66004726e-03, -3.88057786e-03,  8.54682997e-02, -1.57323712e-03,\n",
       "         9.13429707e-02, -1.80502646e-02,  8.60191807e-02, -3.12670204e-03,\n",
       "         9.03033689e-02, -1.11799338e-03, -2.33080667e-02,  9.53655541e-02,\n",
       "         9.52252299e-02, -1.11694308e-03,  9.67325047e-02, -2.63919774e-02,\n",
       "        -1.56052262e-02,  0.00000000e+00,  8.11191648e-02,  9.45452601e-02,\n",
       "        -3.02198017e-03,  8.76866207e-02,  8.32461938e-02,  9.68572348e-02,\n",
       "         0.00000000e+00,  8.12193677e-02, -2.76497274e-04,  1.01875551e-01,\n",
       "        -1.55194551e-02,  9.49480981e-02,  8.97064507e-02, -2.79575493e-02,\n",
       "         9.73777398e-02,  0.00000000e+00,  9.44593251e-02,  7.61698931e-02,\n",
       "         0.00000000e+00,  0.00000000e+00,  8.84990990e-02,  9.43620354e-02,\n",
       "        -1.16928192e-02,  9.72344950e-02,  8.92097205e-02, -2.50190478e-02,\n",
       "         7.46168643e-02,  9.63627025e-02,  9.28222016e-02,  9.74891484e-02,\n",
       "         9.80487764e-02, -1.79244415e-03,  9.33697447e-02, -4.29834425e-03,\n",
       "        -1.26014883e-03,  8.83705094e-02,  9.38477442e-02,  9.50553417e-02,\n",
       "        -5.60494047e-03,  9.11579505e-02, -2.64693405e-02, -1.69974938e-02,\n",
       "         0.00000000e+00, -2.34959857e-03, -1.03207054e-02,  8.53076354e-02,\n",
       "         8.88577700e-02,  9.44513381e-02,  8.93123671e-02,  9.76629481e-02,\n",
       "         9.30427983e-02, -2.06873249e-02, -2.97415513e-03,  0.00000000e+00,\n",
       "        -1.67650648e-03,  9.60226804e-02, -2.86866762e-02,  0.00000000e+00,\n",
       "         9.45303887e-02,  9.95317623e-02,  9.72316414e-02, -1.25611713e-03,\n",
       "         9.26463231e-02, -3.29189026e-03,  9.71179977e-02,  6.38997033e-02,\n",
       "         0.00000000e+00,  9.16110426e-02,  9.57233608e-02,  9.60326418e-02,\n",
       "        -4.92083607e-03, -2.06395541e-03,  9.46034864e-02, -1.24511272e-02,\n",
       "         1.00677691e-01, -2.29404774e-02,  9.44741964e-02,  8.49883184e-02,\n",
       "         9.63968858e-02,  8.96633938e-02, -1.26931956e-03,  9.32662711e-02,\n",
       "         9.25455317e-02, -1.11678068e-03, -1.19335940e-02,  9.48743224e-02,\n",
       "        -3.16035375e-03,  9.11660343e-02,  8.88809115e-02,  9.78401899e-02,\n",
       "         9.67762992e-02, -1.93813741e-02,  9.36792344e-02,  8.81092176e-02,\n",
       "        -6.11985009e-03, -4.59623430e-03,  9.67271402e-02, -2.66278302e-03,\n",
       "         9.28346366e-02,  0.00000000e+00,  9.54973698e-02, -1.96390543e-02,\n",
       "         8.80027264e-02, -1.11796998e-03, -2.25708261e-02, -1.96468476e-02,\n",
       "        -3.21578458e-02,  7.86638185e-02,  9.13893357e-02,  9.58276391e-02,\n",
       "         9.65960845e-02, -2.55657779e-03,  1.00955762e-01,  9.63918194e-02,\n",
       "         9.81201082e-02,  8.27692375e-02,  8.32410529e-02,  8.94247890e-02,\n",
       "         3.02668996e-02, -2.43843626e-02, -2.58027692e-03,  9.19832066e-02,\n",
       "        -8.06168467e-03,  9.19098482e-02, -3.41675151e-03, -5.60966553e-03,\n",
       "         9.18988436e-02, -2.71080364e-03, -1.28727071e-02,  9.42537785e-02,\n",
       "         9.51182097e-02,  9.51485112e-02,  7.68443644e-02,  9.56531242e-02,\n",
       "         8.70051235e-02,  9.42284837e-02,  9.70538035e-02,  9.02390480e-02,\n",
       "         8.19494501e-02,  9.69939604e-02,  8.26845393e-02, -4.74295020e-03,\n",
       "         0.00000000e+00, -2.57669557e-02,  9.19795781e-02,  9.95347500e-02,\n",
       "        -2.97597293e-02,  8.71170983e-02,  9.27291065e-02, -3.89466248e-03,\n",
       "         9.53474268e-02,  8.73097032e-02,  9.51503888e-02,  8.68899599e-02,\n",
       "         9.71499756e-02,  9.13024247e-02,  9.36757550e-02,  9.20074210e-02,\n",
       "         9.34114829e-02, -5.55383926e-03,  6.64068386e-02, -8.28293804e-03,\n",
       "        -3.97364609e-03,  9.43244845e-02,  9.56011191e-02,  1.00891247e-01,\n",
       "         6.56218901e-02, -2.48935190e-03,  0.00000000e+00, -4.50028805e-03,\n",
       "        -2.45931614e-02,  0.00000000e+00,  9.40953940e-02,  9.17294398e-02,\n",
       "         0.00000000e+00, -2.50867079e-03,  9.11125243e-02, -2.33024210e-02,\n",
       "         9.05751213e-02, -1.80204026e-02,  9.77260023e-02,  9.62914899e-02,\n",
       "         6.80990517e-02,  9.64124128e-02,  8.71086344e-02,  1.00203127e-01,\n",
       "         8.90419185e-02,  9.37314704e-02, -7.79444212e-03,  9.26946253e-02,\n",
       "         3.55628282e-02,  3.26451845e-05, -1.44529054e-02,  4.07460555e-02,\n",
       "         9.25931036e-02,  8.04943889e-02,  6.95076361e-02, -1.69975385e-02,\n",
       "        -2.82365326e-02, -1.62878614e-02,  9.71333086e-02,  1.00750335e-01],\n",
       "       dtype=float32)>,\n",
       " <tf.Variable 'dense_16/kernel:0' shape=(256, 128) dtype=float32, numpy=\n",
       " array([[ 0.02653966, -0.12143664,  0.12312833, ...,  0.09363437,\n",
       "         -0.04744235,  0.09777571],\n",
       "        [ 0.03397309, -0.03291382, -0.01996566, ..., -0.09438364,\n",
       "          0.08919226, -0.11029287],\n",
       "        [-0.11056877, -0.00629189, -0.01214549, ..., -0.02876316,\n",
       "          0.17033523,  0.11733881],\n",
       "        ...,\n",
       "        [-0.04520638, -0.03413103,  0.00206298, ...,  0.09955987,\n",
       "         -0.0015239 ,  0.09611187],\n",
       "        [-0.11858744, -0.04885604,  0.07130009, ...,  0.07627778,\n",
       "          0.07011708, -0.10695753],\n",
       "        [ 0.09000131, -0.06295231,  0.00711534, ..., -0.02921975,\n",
       "          0.17999116, -0.08022793]], dtype=float32)>,\n",
       " <tf.Variable 'dense_16/bias:0' shape=(128,) dtype=float32, numpy=\n",
       " array([-0.00088379, -0.00316144, -0.00290256, -0.0128987 , -0.00175671,\n",
       "         0.04896002,  0.06072835,  0.11089065,  0.09244955,  0.07980333,\n",
       "        -0.00577595,  0.02325107, -0.00111783, -0.00318483,  0.07858687,\n",
       "        -0.00916503, -0.00507191,  0.00588057,  0.11266668, -0.01065951,\n",
       "         0.10539287, -0.00121602,  0.11486365, -0.00111802,  0.11279761,\n",
       "        -0.00458217,  0.09531583,  0.        , -0.00369544, -0.00223501,\n",
       "         0.1122988 ,  0.11464965,  0.08841012,  0.08304141,  0.09745838,\n",
       "         0.10643223,  0.10392874, -0.00422806, -0.00109078,  0.05360416,\n",
       "         0.11457621,  0.08164336,  0.01614981, -0.00145656, -0.00111793,\n",
       "         0.        ,  0.00111789,  0.09400697,  0.08099233,  0.11290023,\n",
       "         0.03965602,  0.10669342, -0.00130415,  0.11239231, -0.00473435,\n",
       "         0.10514963, -0.00057287, -0.00172959, -0.00111796,  0.07115337,\n",
       "         0.08417524,  0.10472429,  0.08669613,  0.10966778,  0.03969296,\n",
       "         0.06710647, -0.00339628,  0.10941926, -0.01087693,  0.11424468,\n",
       "         0.09154711,  0.1137046 ,  0.1012757 ,  0.11269761,  0.0815163 ,\n",
       "         0.        ,  0.10883868, -0.00909578,  0.04117561, -0.00534692,\n",
       "        -0.00918501,  0.10136552,  0.09287181,  0.11535429,  0.05336087,\n",
       "        -0.0016275 , -0.00190521, -0.00795902, -0.00426221,  0.07939064,\n",
       "        -0.02391515,  0.00155752, -0.00243877, -0.0027508 , -0.01831614,\n",
       "        -0.01496335, -0.002054  , -0.00968882,  0.00111753, -0.00324618,\n",
       "        -0.02398074,  0.11351803,  0.11130111,  0.05762232,  0.05296655,\n",
       "         0.06380545,  0.        , -0.00111774,  0.        ,  0.10216334,\n",
       "        -0.00078508,  0.        , -0.00319103,  0.08477114, -0.00541824,\n",
       "         0.11546507,  0.01579198, -0.00137804,  0.00111799, -0.02021687,\n",
       "        -0.00393799,  0.        ,  0.08373395, -0.00281156,  0.11407139,\n",
       "        -0.00164741,  0.11245699,  0.02293006], dtype=float32)>,\n",
       " <tf.Variable 'dense_17/kernel:0' shape=(128, 3) dtype=float32, numpy=\n",
       " array([[ 0.08349522, -0.06102386,  0.05646889],\n",
       "        [ 0.0194321 ,  0.17383505, -0.08256405],\n",
       "        [ 0.09936511,  0.16674057,  0.07083697],\n",
       "        [ 0.05576647,  0.06509913, -0.24506299],\n",
       "        [ 0.02746553,  0.08587457, -0.17235449],\n",
       "        [-0.15883541,  0.12919372, -0.21888684],\n",
       "        [-0.0820639 , -0.09887337,  0.05077649],\n",
       "        [-0.20465393, -0.08078001, -0.04460322],\n",
       "        [-0.00197292, -0.15336592, -0.03311726],\n",
       "        [-0.18565552, -0.12849128,  0.08348915],\n",
       "        [-0.08215303, -0.08059494,  0.20140922],\n",
       "        [ 0.10261451, -0.11643519, -0.01758352],\n",
       "        [ 0.11823352, -0.20923097, -0.01496068],\n",
       "        [ 0.11709725,  0.0862212 , -0.03947318],\n",
       "        [ 0.01717331, -0.08470417, -0.07608898],\n",
       "        [ 0.09057341, -0.16218318,  0.19561346],\n",
       "        [ 0.00491167,  0.20285837, -0.0372624 ],\n",
       "        [-0.09134896, -0.1230109 ,  0.06956823],\n",
       "        [-0.22595195, -0.18994617, -0.19137256],\n",
       "        [-0.14280471,  0.02181805,  0.11145306],\n",
       "        [-0.20419933, -0.03601876, -0.25194842],\n",
       "        [-0.18487206,  0.15888157,  0.1632393 ],\n",
       "        [-0.1955414 , -0.09826283, -0.12749374],\n",
       "        [ 0.18698402,  0.12132164,  0.00859816],\n",
       "        [-0.21328142, -0.22303829, -0.19291592],\n",
       "        [ 0.1657016 ,  0.20003639, -0.05530109],\n",
       "        [-0.0436301 , -0.03001226, -0.20652114],\n",
       "        [ 0.03886716, -0.17860466,  0.06961416],\n",
       "        [ 0.11148351,  0.15298039, -0.12237636],\n",
       "        [-0.0328273 ,  0.10342028,  0.07123585],\n",
       "        [-0.15534818, -0.21510567, -0.20932472],\n",
       "        [-0.21028498, -0.16296269, -0.04009093],\n",
       "        [-0.0966761 , -0.20656277,  0.05084872],\n",
       "        [-0.05117986,  0.00119499, -0.14791001],\n",
       "        [-0.00899467, -0.094316  , -0.09505403],\n",
       "        [-0.17640671, -0.07060778, -0.01921978],\n",
       "        [-0.06180875, -0.0924039 , -0.17829345],\n",
       "        [-0.07712246,  0.13090298,  0.07897092],\n",
       "        [-0.08077554,  0.20774998, -0.01156185],\n",
       "        [-0.1611791 ,  0.1169497 , -0.2324564 ],\n",
       "        [-0.2176976 , -0.18391332, -0.0602147 ],\n",
       "        [-0.04647018, -0.2179247 ,  0.04334517],\n",
       "        [ 0.11366118,  0.00870424, -0.0714528 ],\n",
       "        [ 0.1723364 , -0.15856259,  0.02284851],\n",
       "        [ 0.04091494,  0.09946202, -0.00096972],\n",
       "        [ 0.19585858,  0.13068216, -0.16134158],\n",
       "        [ 0.1300501 , -0.20721003,  0.05227593],\n",
       "        [-0.20083424, -0.00258663, -0.07020692],\n",
       "        [ 0.1200785 , -0.24231628, -0.23198889],\n",
       "        [-0.2036944 , -0.24059898, -0.03980915],\n",
       "        [-0.12019761,  0.05240699, -0.0816499 ],\n",
       "        [-0.22750634, -0.04621732, -0.22194496],\n",
       "        [ 0.00259433, -0.08670302,  0.18669252],\n",
       "        [-0.23448193, -0.09702436, -0.15811566],\n",
       "        [-0.15407008,  0.19693594,  0.09885269],\n",
       "        [-0.0595105 , -0.11733889, -0.15931904],\n",
       "        [-0.08858784,  0.10722208,  0.01873505],\n",
       "        [ 0.09543875,  0.08284865,  0.05752414],\n",
       "        [ 0.11937848, -0.19116773,  0.14108793],\n",
       "        [-0.0662555 ,  0.03875402, -0.20791227],\n",
       "        [ 0.05337462, -0.10702462, -0.24340028],\n",
       "        [-0.22607474, -0.01211987, -0.17146568],\n",
       "        [ 0.02191484, -0.06253613, -0.22042048],\n",
       "        [-0.08341616, -0.24474634, -0.23553835],\n",
       "        [-0.07993356, -0.16284512,  0.1417194 ],\n",
       "        [ 0.06113785, -0.0519559 , -0.23353028],\n",
       "        [ 0.20534307,  0.15552472, -0.09387153],\n",
       "        [-0.11958545, -0.14661579, -0.17051011],\n",
       "        [-0.19989134,  0.00099036,  0.20300911],\n",
       "        [-0.20117149, -0.2349629 , -0.18193059],\n",
       "        [-0.06353695, -0.17219579,  0.02259856],\n",
       "        [-0.20354462, -0.21091798, -0.12411605],\n",
       "        [-0.15229332, -0.0171985 , -0.1960475 ],\n",
       "        [-0.18788789, -0.24490343, -0.06298399],\n",
       "        [-0.1631654 , -0.16554527,  0.09000441],\n",
       "        [ 0.06180285, -0.18279393, -0.07776514],\n",
       "        [-0.17767084, -0.08256016, -0.23355553],\n",
       "        [-0.06676579, -0.00677825,  0.15556712],\n",
       "        [-0.13662577,  0.15719627, -0.2524045 ],\n",
       "        [ 0.1823058 ,  0.11333065,  0.15438554],\n",
       "        [-0.23313996,  0.03010369,  0.18422726],\n",
       "        [-0.05933231, -0.24092598,  0.00347988],\n",
       "        [-0.0972407 , -0.24826938,  0.05430347],\n",
       "        [-0.23726529, -0.2648361 , -0.19480287],\n",
       "        [ 0.04114603,  0.00711773, -0.22483642],\n",
       "        [ 0.02348424,  0.03702835,  0.17688301],\n",
       "        [-0.01749833,  0.19429594,  0.07607479],\n",
       "        [-0.12608992,  0.04191763,  0.13784494],\n",
       "        [ 0.19777463,  0.07203795,  0.17543961],\n",
       "        [-0.1545603 ,  0.04008454, -0.18197772],\n",
       "        [ 0.21773036,  0.1141715 ,  0.20805143],\n",
       "        [ 0.01014226,  0.17957471, -0.19074874],\n",
       "        [ 0.08033048,  0.14552182, -0.02873484],\n",
       "        [ 0.11494522,  0.14405066,  0.14787072],\n",
       "        [ 0.18328822, -0.05326576,  0.19849221],\n",
       "        [ 0.23662128,  0.05384235,  0.190132  ],\n",
       "        [ 0.05711416,  0.03382146,  0.17301539],\n",
       "        [-0.07744031,  0.01070941,  0.2027317 ],\n",
       "        [-0.05296136,  0.19751348,  0.20323338],\n",
       "        [ 0.20227262,  0.0931406 ,  0.07557306],\n",
       "        [ 0.14939258, -0.00838258,  0.16662806],\n",
       "        [-0.10080832, -0.19288266, -0.13344583],\n",
       "        [-0.08918482, -0.15689102, -0.14134096],\n",
       "        [-0.16493875,  0.09145681, -0.2022745 ],\n",
       "        [ 0.1744435 , -0.06485791, -0.23182423],\n",
       "        [-0.21311581,  0.03370123, -0.05462966],\n",
       "        [ 0.1045994 , -0.01884019, -0.09552223],\n",
       "        [ 0.12490447, -0.07201947,  0.17143157],\n",
       "        [-0.00849223,  0.07575057, -0.18197615],\n",
       "        [-0.11651463, -0.0345001 , -0.0770403 ],\n",
       "        [-0.03304769, -0.05429862,  0.15809713],\n",
       "        [ 0.10586284, -0.02881296, -0.16929449],\n",
       "        [ 0.03202122,  0.07769572,  0.1950769 ],\n",
       "        [-0.00276238, -0.07290828, -0.02440711],\n",
       "        [ 0.16825667,  0.17103203,  0.17556804],\n",
       "        [-0.24762754, -0.20608924, -0.11454031],\n",
       "        [ 0.03679733,  0.00922808, -0.09466309],\n",
       "        [ 0.13752829, -0.10645904,  0.19667141],\n",
       "        [ 0.05395494, -0.1289849 , -0.10598442],\n",
       "        [-0.14076513,  0.1796577 ,  0.15205525],\n",
       "        [ 0.1240015 ,  0.06858921, -0.17260514],\n",
       "        [-0.07986726,  0.00748757,  0.06545646],\n",
       "        [ 0.09906565, -0.21780917, -0.21968606],\n",
       "        [ 0.09324495,  0.16776185,  0.05182931],\n",
       "        [-0.18854657, -0.22459203, -0.0720081 ],\n",
       "        [ 0.0135157 ,  0.14437632,  0.03194692],\n",
       "        [-0.19691151, -0.15654115, -0.08710894],\n",
       "        [-0.17338656,  0.09338317, -0.04101286]], dtype=float32)>,\n",
       " <tf.Variable 'dense_17/bias:0' shape=(3,) dtype=float32, numpy=array([-0.11095191, -0.11166017, -0.10230648], dtype=float32)>]"
      ]
     },
     "execution_count": 87,
     "metadata": {},
     "output_type": "execute_result"
    }
   ],
   "source": [
    "dqn_solver.model.Qpolicy.weights"
   ]
  },
  {
   "cell_type": "code",
   "execution_count": null,
   "metadata": {},
   "outputs": [],
   "source": [
    "# x=tf.concat((S_series[3-1],O_series[3],U_series[3-1]),axis=1)\n",
    "# print(x)"
   ]
  },
  {
   "cell_type": "code",
   "execution_count": null,
   "metadata": {},
   "outputs": [],
   "source": [
    "# print(loss(autoencoder,x,O_series[4],U_series[3]))"
   ]
  },
  {
   "cell_type": "code",
   "execution_count": null,
   "metadata": {},
   "outputs": [],
   "source": [
    "#plt.plot(rewards_storage)"
   ]
  },
  {
   "cell_type": "code",
   "execution_count": null,
   "metadata": {},
   "outputs": [],
   "source": [
    "for i,val in enumerate(rewards_storage):\n",
    "    if (val>10000):\n",
    "        print(\"{} , {}\".format(i,val))"
   ]
  },
  {
   "cell_type": "code",
   "execution_count": null,
   "metadata": {},
   "outputs": [],
   "source": [
    "# y=rewards_storage\n",
    "# x=[float(i) for i in range (1,len(rewards_storage)+1)]\n",
    "# x=np.array(x)\n",
    "# m,b=np.polyfit(x,y,1)\n",
    "# plt.plot(rewards_storage)\n",
    "# plt.plot(x,m*x+b)"
   ]
  },
  {
   "cell_type": "code",
   "execution_count": null,
   "metadata": {},
   "outputs": [],
   "source": [
    "df=pd.DataFrame(rewards_storage)\n",
    "df.to_csv('rewards_final_main.csv')"
   ]
  },
  {
   "cell_type": "code",
   "execution_count": null,
   "metadata": {},
   "outputs": [],
   "source": [
    "# df_avg=df.rolling(window=10).mean()\n",
    "# plt.plot(df_avg)"
   ]
  },
  {
   "cell_type": "code",
   "execution_count": 89,
   "metadata": {},
   "outputs": [],
   "source": [
    "plt.rcParams['figure.figsize']=[20,10]"
   ]
  },
  {
   "cell_type": "code",
   "execution_count": 90,
   "metadata": {},
   "outputs": [
    {
     "ename": "NameError",
     "evalue": "name 'O_series' is not defined",
     "output_type": "error",
     "traceback": [
      "\u001b[1;31m---------------------------------------------------------------------------\u001b[0m",
      "\u001b[1;31mNameError\u001b[0m                                 Traceback (most recent call last)",
      "\u001b[1;32m~\\AppData\\Local\\Temp/ipykernel_17916/1001949645.py\u001b[0m in \u001b[0;36m<module>\u001b[1;34m\u001b[0m\n\u001b[1;32m----> 1\u001b[1;33m \u001b[0mt1\u001b[0m\u001b[1;33m=\u001b[0m\u001b[1;33m[\u001b[0m\u001b[0mx\u001b[0m\u001b[1;33m[\u001b[0m\u001b[1;36m0\u001b[0m\u001b[1;33m]\u001b[0m\u001b[1;33m[\u001b[0m\u001b[1;36m0\u001b[0m\u001b[1;33m]\u001b[0m \u001b[1;32mfor\u001b[0m \u001b[0mx\u001b[0m \u001b[1;32min\u001b[0m \u001b[0mO_series\u001b[0m\u001b[1;33m[\u001b[0m\u001b[1;36m0\u001b[0m\u001b[1;33m:\u001b[0m\u001b[1;36m1000\u001b[0m\u001b[1;33m]\u001b[0m\u001b[1;33m]\u001b[0m\u001b[1;33m\u001b[0m\u001b[1;33m\u001b[0m\u001b[0m\n\u001b[0m\u001b[0;32m      2\u001b[0m \u001b[0mt2\u001b[0m\u001b[1;33m=\u001b[0m\u001b[1;33m[\u001b[0m\u001b[0mx\u001b[0m\u001b[1;33m[\u001b[0m\u001b[1;36m0\u001b[0m\u001b[1;33m]\u001b[0m\u001b[1;33m[\u001b[0m\u001b[1;36m0\u001b[0m\u001b[1;33m]\u001b[0m \u001b[1;32mfor\u001b[0m \u001b[0mx\u001b[0m \u001b[1;32min\u001b[0m \u001b[0mO_predicted_series\u001b[0m\u001b[1;33m[\u001b[0m\u001b[1;36m0\u001b[0m\u001b[1;33m:\u001b[0m\u001b[1;36m1000\u001b[0m\u001b[1;33m]\u001b[0m\u001b[1;33m]\u001b[0m\u001b[1;33m\u001b[0m\u001b[1;33m\u001b[0m\u001b[0m\n\u001b[0;32m      3\u001b[0m \u001b[0mplt\u001b[0m\u001b[1;33m.\u001b[0m\u001b[0mplot\u001b[0m\u001b[1;33m(\u001b[0m\u001b[0mt1\u001b[0m\u001b[1;33m)\u001b[0m\u001b[1;33m\u001b[0m\u001b[1;33m\u001b[0m\u001b[0m\n\u001b[0;32m      4\u001b[0m \u001b[0mplt\u001b[0m\u001b[1;33m.\u001b[0m\u001b[0mplot\u001b[0m\u001b[1;33m(\u001b[0m\u001b[0mt2\u001b[0m\u001b[1;33m)\u001b[0m\u001b[1;33m\u001b[0m\u001b[1;33m\u001b[0m\u001b[0m\n",
      "\u001b[1;31mNameError\u001b[0m: name 'O_series' is not defined"
     ]
    }
   ],
   "source": [
    "t1=[x[0][0] for x in O_series[0:1000]]\n",
    "t2=[x[0][0] for x in O_predicted_series[0:1000]]\n",
    "plt.plot(t1)\n",
    "plt.plot(t2)"
   ]
  },
  {
   "cell_type": "code",
   "execution_count": null,
   "metadata": {},
   "outputs": [],
   "source": []
  }
 ],
 "metadata": {
  "kernelspec": {
   "display_name": "Python 3 (ipykernel)",
   "language": "python",
   "name": "python3"
  },
  "language_info": {
   "codemirror_mode": {
    "name": "ipython",
    "version": 3
   },
   "file_extension": ".py",
   "mimetype": "text/x-python",
   "name": "python",
   "nbconvert_exporter": "python",
   "pygments_lexer": "ipython3",
   "version": "3.9.6"
  },
  "vscode": {
   "interpreter": {
    "hash": "0ef4eba0bef179de2f7a9543a17afda401074cec081dd552282a874e9ff31d3f"
   }
  }
 },
 "nbformat": 4,
 "nbformat_minor": 2
}
